{
  "nbformat": 4,
  "nbformat_minor": 0,
  "metadata": {
    "colab": {
      "provenance": [],
      "gpuType": "V28",
      "authorship_tag": "ABX9TyND8VVZGwDisauexlKrJnjL",
      "include_colab_link": true
    },
    "kernelspec": {
      "name": "python3",
      "display_name": "Python 3"
    },
    "language_info": {
      "name": "python"
    },
    "accelerator": "TPU"
  },
  "cells": [
    {
      "cell_type": "markdown",
      "metadata": {
        "id": "view-in-github",
        "colab_type": "text"
      },
      "source": [
        "<a href=\"https://colab.research.google.com/github/sidkatiyar09/Applied-Machine-Learning/blob/main/Project_Credit_Card_fraud_Detection_using_deep_learning.ipynb\" target=\"_parent\"><img src=\"https://colab.research.google.com/assets/colab-badge.svg\" alt=\"Open In Colab\"/></a>"
      ]
    },
    {
      "cell_type": "code",
      "source": [
        "!pip install tensorflow"
      ],
      "metadata": {
        "colab": {
          "base_uri": "https://localhost:8080/"
        },
        "collapsed": true,
        "id": "rVDWvZbWnthl",
        "outputId": "6b72cd07-c538-4792-a234-ca253ede9a0e"
      },
      "execution_count": null,
      "outputs": [
        {
          "output_type": "stream",
          "name": "stdout",
          "text": [
            "Requirement already satisfied: tensorflow in /usr/local/lib/python3.11/dist-packages (2.19.0)\n",
            "Requirement already satisfied: absl-py>=1.0.0 in /usr/local/lib/python3.11/dist-packages (from tensorflow) (1.4.0)\n",
            "Requirement already satisfied: astunparse>=1.6.0 in /usr/local/lib/python3.11/dist-packages (from tensorflow) (1.6.3)\n",
            "Requirement already satisfied: flatbuffers>=24.3.25 in /usr/local/lib/python3.11/dist-packages (from tensorflow) (25.2.10)\n",
            "Requirement already satisfied: gast!=0.5.0,!=0.5.1,!=0.5.2,>=0.2.1 in /usr/local/lib/python3.11/dist-packages (from tensorflow) (0.6.0)\n",
            "Requirement already satisfied: google-pasta>=0.1.1 in /usr/local/lib/python3.11/dist-packages (from tensorflow) (0.2.0)\n",
            "Requirement already satisfied: libclang>=13.0.0 in /usr/local/lib/python3.11/dist-packages (from tensorflow) (18.1.1)\n",
            "Requirement already satisfied: opt-einsum>=2.3.2 in /usr/local/lib/python3.11/dist-packages (from tensorflow) (3.4.0)\n",
            "Requirement already satisfied: packaging in /usr/local/lib/python3.11/dist-packages (from tensorflow) (25.0)\n",
            "Requirement already satisfied: protobuf!=4.21.0,!=4.21.1,!=4.21.2,!=4.21.3,!=4.21.4,!=4.21.5,<6.0.0dev,>=3.20.3 in /usr/local/lib/python3.11/dist-packages (from tensorflow) (5.29.5)\n",
            "Requirement already satisfied: requests<3,>=2.21.0 in /usr/local/lib/python3.11/dist-packages (from tensorflow) (2.32.3)\n",
            "Requirement already satisfied: setuptools in /usr/local/lib/python3.11/dist-packages (from tensorflow) (75.2.0)\n",
            "Requirement already satisfied: six>=1.12.0 in /usr/local/lib/python3.11/dist-packages (from tensorflow) (1.17.0)\n",
            "Requirement already satisfied: termcolor>=1.1.0 in /usr/local/lib/python3.11/dist-packages (from tensorflow) (3.1.0)\n",
            "Requirement already satisfied: typing-extensions>=3.6.6 in /usr/local/lib/python3.11/dist-packages (from tensorflow) (4.14.0)\n",
            "Requirement already satisfied: wrapt>=1.11.0 in /usr/local/lib/python3.11/dist-packages (from tensorflow) (1.17.2)\n",
            "Requirement already satisfied: grpcio<2.0,>=1.24.3 in /usr/local/lib/python3.11/dist-packages (from tensorflow) (1.72.1)\n",
            "Requirement already satisfied: tensorboard~=2.19.0 in /usr/local/lib/python3.11/dist-packages (from tensorflow) (2.19.0)\n",
            "Requirement already satisfied: keras>=3.5.0 in /usr/local/lib/python3.11/dist-packages (from tensorflow) (3.8.0)\n",
            "Requirement already satisfied: numpy<2.2.0,>=1.26.0 in /usr/local/lib/python3.11/dist-packages (from tensorflow) (2.0.2)\n",
            "Requirement already satisfied: h5py>=3.11.0 in /usr/local/lib/python3.11/dist-packages (from tensorflow) (3.13.0)\n",
            "Requirement already satisfied: ml-dtypes<1.0.0,>=0.5.1 in /usr/local/lib/python3.11/dist-packages (from tensorflow) (0.5.1)\n",
            "Requirement already satisfied: tensorflow-io-gcs-filesystem>=0.23.1 in /usr/local/lib/python3.11/dist-packages (from tensorflow) (0.37.1)\n",
            "Requirement already satisfied: wheel<1.0,>=0.23.0 in /usr/local/lib/python3.11/dist-packages (from astunparse>=1.6.0->tensorflow) (0.45.1)\n",
            "Requirement already satisfied: rich in /usr/local/lib/python3.11/dist-packages (from keras>=3.5.0->tensorflow) (14.0.0)\n",
            "Requirement already satisfied: namex in /usr/local/lib/python3.11/dist-packages (from keras>=3.5.0->tensorflow) (0.1.0)\n",
            "Requirement already satisfied: optree in /usr/local/lib/python3.11/dist-packages (from keras>=3.5.0->tensorflow) (0.16.0)\n",
            "Requirement already satisfied: charset-normalizer<4,>=2 in /usr/local/lib/python3.11/dist-packages (from requests<3,>=2.21.0->tensorflow) (3.4.2)\n",
            "Requirement already satisfied: idna<4,>=2.5 in /usr/local/lib/python3.11/dist-packages (from requests<3,>=2.21.0->tensorflow) (3.10)\n",
            "Requirement already satisfied: urllib3<3,>=1.21.1 in /usr/local/lib/python3.11/dist-packages (from requests<3,>=2.21.0->tensorflow) (2.4.0)\n",
            "Requirement already satisfied: certifi>=2017.4.17 in /usr/local/lib/python3.11/dist-packages (from requests<3,>=2.21.0->tensorflow) (2025.4.26)\n",
            "Requirement already satisfied: markdown>=2.6.8 in /usr/lib/python3/dist-packages (from tensorboard~=2.19.0->tensorflow) (3.3.6)\n",
            "Requirement already satisfied: tensorboard-data-server<0.8.0,>=0.7.0 in /usr/local/lib/python3.11/dist-packages (from tensorboard~=2.19.0->tensorflow) (0.7.2)\n",
            "Requirement already satisfied: werkzeug>=1.0.1 in /usr/local/lib/python3.11/dist-packages (from tensorboard~=2.19.0->tensorflow) (3.1.3)\n",
            "Requirement already satisfied: MarkupSafe>=2.1.1 in /usr/local/lib/python3.11/dist-packages (from werkzeug>=1.0.1->tensorboard~=2.19.0->tensorflow) (3.0.2)\n",
            "Requirement already satisfied: markdown-it-py>=2.2.0 in /usr/local/lib/python3.11/dist-packages (from rich->keras>=3.5.0->tensorflow) (3.0.0)\n",
            "Requirement already satisfied: pygments<3.0.0,>=2.13.0 in /usr/local/lib/python3.11/dist-packages (from rich->keras>=3.5.0->tensorflow) (2.19.1)\n",
            "Requirement already satisfied: mdurl~=0.1 in /usr/local/lib/python3.11/dist-packages (from markdown-it-py>=2.2.0->rich->keras>=3.5.0->tensorflow) (0.1.2)\n"
          ]
        }
      ]
    },
    {
      "cell_type": "code",
      "execution_count": null,
      "metadata": {
        "id": "fyg0HlZvS6MO"
      },
      "outputs": [],
      "source": [
        "import tensorflow\n",
        "\n",
        "# from tensorflow.keras.models import Sequential\n",
        "from tensorflow.keras.layers import Dense, Dropout, Activation, Flatten\n",
        "from tensorflow.keras.layers import Conv2D, MaxPooling2D"
      ]
    },
    {
      "cell_type": "code",
      "source": [
        "from google.colab import drive\n",
        "drive.mount('/content/drive')"
      ],
      "metadata": {
        "id": "DieSwxR4TEkk",
        "colab": {
          "base_uri": "https://localhost:8080/"
        },
        "outputId": "e23094c7-65af-46b1-8655-473d120a22b5"
      },
      "execution_count": null,
      "outputs": [
        {
          "output_type": "stream",
          "name": "stdout",
          "text": [
            "Drive already mounted at /content/drive; to attempt to forcibly remount, call drive.mount(\"/content/drive\", force_remount=True).\n"
          ]
        }
      ]
    },
    {
      "cell_type": "code",
      "source": [
        "import pandas as pd\n",
        "import numpy as np\n",
        "import matplotlib.pyplot as plt\n",
        "import os\n",
        "# import cv2"
      ],
      "metadata": {
        "id": "ziqQfl9pU0qz"
      },
      "execution_count": null,
      "outputs": []
    },
    {
      "cell_type": "code",
      "source": [
        "ccdf=pd.read_csv('/content/drive/MyDrive/PYTHON-DEMO/projects_private/creditcard.csv')"
      ],
      "metadata": {
        "id": "zsV8URlwU8HR"
      },
      "execution_count": null,
      "outputs": []
    },
    {
      "cell_type": "code",
      "source": [
        "ccdf.head()"
      ],
      "metadata": {
        "colab": {
          "base_uri": "https://localhost:8080/",
          "height": 255
        },
        "id": "y-CUuwO4VCCp",
        "outputId": "b25dc882-2dcb-45ff-d731-279bea6857cb"
      },
      "execution_count": null,
      "outputs": [
        {
          "output_type": "execute_result",
          "data": {
            "text/plain": [
              "   Time        V1        V2        V3        V4        V5        V6        V7  \\\n",
              "0   0.0 -1.359807 -0.072781  2.536347  1.378155 -0.338321  0.462388  0.239599   \n",
              "1   0.0  1.191857  0.266151  0.166480  0.448154  0.060018 -0.082361 -0.078803   \n",
              "2   1.0 -1.358354 -1.340163  1.773209  0.379780 -0.503198  1.800499  0.791461   \n",
              "3   1.0 -0.966272 -0.185226  1.792993 -0.863291 -0.010309  1.247203  0.237609   \n",
              "4   2.0 -1.158233  0.877737  1.548718  0.403034 -0.407193  0.095921  0.592941   \n",
              "\n",
              "         V8        V9  ...       V21       V22       V23       V24       V25  \\\n",
              "0  0.098698  0.363787  ... -0.018307  0.277838 -0.110474  0.066928  0.128539   \n",
              "1  0.085102 -0.255425  ... -0.225775 -0.638672  0.101288 -0.339846  0.167170   \n",
              "2  0.247676 -1.514654  ...  0.247998  0.771679  0.909412 -0.689281 -0.327642   \n",
              "3  0.377436 -1.387024  ... -0.108300  0.005274 -0.190321 -1.175575  0.647376   \n",
              "4 -0.270533  0.817739  ... -0.009431  0.798278 -0.137458  0.141267 -0.206010   \n",
              "\n",
              "        V26       V27       V28  Amount  Class  \n",
              "0 -0.189115  0.133558 -0.021053  149.62      0  \n",
              "1  0.125895 -0.008983  0.014724    2.69      0  \n",
              "2 -0.139097 -0.055353 -0.059752  378.66      0  \n",
              "3 -0.221929  0.062723  0.061458  123.50      0  \n",
              "4  0.502292  0.219422  0.215153   69.99      0  \n",
              "\n",
              "[5 rows x 31 columns]"
            ],
            "text/html": [
              "\n",
              "  <div id=\"df-e6f9f5b6-fe7f-4071-a7e0-7003fdc41025\" class=\"colab-df-container\">\n",
              "    <div>\n",
              "<style scoped>\n",
              "    .dataframe tbody tr th:only-of-type {\n",
              "        vertical-align: middle;\n",
              "    }\n",
              "\n",
              "    .dataframe tbody tr th {\n",
              "        vertical-align: top;\n",
              "    }\n",
              "\n",
              "    .dataframe thead th {\n",
              "        text-align: right;\n",
              "    }\n",
              "</style>\n",
              "<table border=\"1\" class=\"dataframe\">\n",
              "  <thead>\n",
              "    <tr style=\"text-align: right;\">\n",
              "      <th></th>\n",
              "      <th>Time</th>\n",
              "      <th>V1</th>\n",
              "      <th>V2</th>\n",
              "      <th>V3</th>\n",
              "      <th>V4</th>\n",
              "      <th>V5</th>\n",
              "      <th>V6</th>\n",
              "      <th>V7</th>\n",
              "      <th>V8</th>\n",
              "      <th>V9</th>\n",
              "      <th>...</th>\n",
              "      <th>V21</th>\n",
              "      <th>V22</th>\n",
              "      <th>V23</th>\n",
              "      <th>V24</th>\n",
              "      <th>V25</th>\n",
              "      <th>V26</th>\n",
              "      <th>V27</th>\n",
              "      <th>V28</th>\n",
              "      <th>Amount</th>\n",
              "      <th>Class</th>\n",
              "    </tr>\n",
              "  </thead>\n",
              "  <tbody>\n",
              "    <tr>\n",
              "      <th>0</th>\n",
              "      <td>0.0</td>\n",
              "      <td>-1.359807</td>\n",
              "      <td>-0.072781</td>\n",
              "      <td>2.536347</td>\n",
              "      <td>1.378155</td>\n",
              "      <td>-0.338321</td>\n",
              "      <td>0.462388</td>\n",
              "      <td>0.239599</td>\n",
              "      <td>0.098698</td>\n",
              "      <td>0.363787</td>\n",
              "      <td>...</td>\n",
              "      <td>-0.018307</td>\n",
              "      <td>0.277838</td>\n",
              "      <td>-0.110474</td>\n",
              "      <td>0.066928</td>\n",
              "      <td>0.128539</td>\n",
              "      <td>-0.189115</td>\n",
              "      <td>0.133558</td>\n",
              "      <td>-0.021053</td>\n",
              "      <td>149.62</td>\n",
              "      <td>0</td>\n",
              "    </tr>\n",
              "    <tr>\n",
              "      <th>1</th>\n",
              "      <td>0.0</td>\n",
              "      <td>1.191857</td>\n",
              "      <td>0.266151</td>\n",
              "      <td>0.166480</td>\n",
              "      <td>0.448154</td>\n",
              "      <td>0.060018</td>\n",
              "      <td>-0.082361</td>\n",
              "      <td>-0.078803</td>\n",
              "      <td>0.085102</td>\n",
              "      <td>-0.255425</td>\n",
              "      <td>...</td>\n",
              "      <td>-0.225775</td>\n",
              "      <td>-0.638672</td>\n",
              "      <td>0.101288</td>\n",
              "      <td>-0.339846</td>\n",
              "      <td>0.167170</td>\n",
              "      <td>0.125895</td>\n",
              "      <td>-0.008983</td>\n",
              "      <td>0.014724</td>\n",
              "      <td>2.69</td>\n",
              "      <td>0</td>\n",
              "    </tr>\n",
              "    <tr>\n",
              "      <th>2</th>\n",
              "      <td>1.0</td>\n",
              "      <td>-1.358354</td>\n",
              "      <td>-1.340163</td>\n",
              "      <td>1.773209</td>\n",
              "      <td>0.379780</td>\n",
              "      <td>-0.503198</td>\n",
              "      <td>1.800499</td>\n",
              "      <td>0.791461</td>\n",
              "      <td>0.247676</td>\n",
              "      <td>-1.514654</td>\n",
              "      <td>...</td>\n",
              "      <td>0.247998</td>\n",
              "      <td>0.771679</td>\n",
              "      <td>0.909412</td>\n",
              "      <td>-0.689281</td>\n",
              "      <td>-0.327642</td>\n",
              "      <td>-0.139097</td>\n",
              "      <td>-0.055353</td>\n",
              "      <td>-0.059752</td>\n",
              "      <td>378.66</td>\n",
              "      <td>0</td>\n",
              "    </tr>\n",
              "    <tr>\n",
              "      <th>3</th>\n",
              "      <td>1.0</td>\n",
              "      <td>-0.966272</td>\n",
              "      <td>-0.185226</td>\n",
              "      <td>1.792993</td>\n",
              "      <td>-0.863291</td>\n",
              "      <td>-0.010309</td>\n",
              "      <td>1.247203</td>\n",
              "      <td>0.237609</td>\n",
              "      <td>0.377436</td>\n",
              "      <td>-1.387024</td>\n",
              "      <td>...</td>\n",
              "      <td>-0.108300</td>\n",
              "      <td>0.005274</td>\n",
              "      <td>-0.190321</td>\n",
              "      <td>-1.175575</td>\n",
              "      <td>0.647376</td>\n",
              "      <td>-0.221929</td>\n",
              "      <td>0.062723</td>\n",
              "      <td>0.061458</td>\n",
              "      <td>123.50</td>\n",
              "      <td>0</td>\n",
              "    </tr>\n",
              "    <tr>\n",
              "      <th>4</th>\n",
              "      <td>2.0</td>\n",
              "      <td>-1.158233</td>\n",
              "      <td>0.877737</td>\n",
              "      <td>1.548718</td>\n",
              "      <td>0.403034</td>\n",
              "      <td>-0.407193</td>\n",
              "      <td>0.095921</td>\n",
              "      <td>0.592941</td>\n",
              "      <td>-0.270533</td>\n",
              "      <td>0.817739</td>\n",
              "      <td>...</td>\n",
              "      <td>-0.009431</td>\n",
              "      <td>0.798278</td>\n",
              "      <td>-0.137458</td>\n",
              "      <td>0.141267</td>\n",
              "      <td>-0.206010</td>\n",
              "      <td>0.502292</td>\n",
              "      <td>0.219422</td>\n",
              "      <td>0.215153</td>\n",
              "      <td>69.99</td>\n",
              "      <td>0</td>\n",
              "    </tr>\n",
              "  </tbody>\n",
              "</table>\n",
              "<p>5 rows × 31 columns</p>\n",
              "</div>\n",
              "    <div class=\"colab-df-buttons\">\n",
              "\n",
              "  <div class=\"colab-df-container\">\n",
              "    <button class=\"colab-df-convert\" onclick=\"convertToInteractive('df-e6f9f5b6-fe7f-4071-a7e0-7003fdc41025')\"\n",
              "            title=\"Convert this dataframe to an interactive table.\"\n",
              "            style=\"display:none;\">\n",
              "\n",
              "  <svg xmlns=\"http://www.w3.org/2000/svg\" height=\"24px\" viewBox=\"0 -960 960 960\">\n",
              "    <path d=\"M120-120v-720h720v720H120Zm60-500h600v-160H180v160Zm220 220h160v-160H400v160Zm0 220h160v-160H400v160ZM180-400h160v-160H180v160Zm440 0h160v-160H620v160ZM180-180h160v-160H180v160Zm440 0h160v-160H620v160Z\"/>\n",
              "  </svg>\n",
              "    </button>\n",
              "\n",
              "  <style>\n",
              "    .colab-df-container {\n",
              "      display:flex;\n",
              "      gap: 12px;\n",
              "    }\n",
              "\n",
              "    .colab-df-convert {\n",
              "      background-color: #E8F0FE;\n",
              "      border: none;\n",
              "      border-radius: 50%;\n",
              "      cursor: pointer;\n",
              "      display: none;\n",
              "      fill: #1967D2;\n",
              "      height: 32px;\n",
              "      padding: 0 0 0 0;\n",
              "      width: 32px;\n",
              "    }\n",
              "\n",
              "    .colab-df-convert:hover {\n",
              "      background-color: #E2EBFA;\n",
              "      box-shadow: 0px 1px 2px rgba(60, 64, 67, 0.3), 0px 1px 3px 1px rgba(60, 64, 67, 0.15);\n",
              "      fill: #174EA6;\n",
              "    }\n",
              "\n",
              "    .colab-df-buttons div {\n",
              "      margin-bottom: 4px;\n",
              "    }\n",
              "\n",
              "    [theme=dark] .colab-df-convert {\n",
              "      background-color: #3B4455;\n",
              "      fill: #D2E3FC;\n",
              "    }\n",
              "\n",
              "    [theme=dark] .colab-df-convert:hover {\n",
              "      background-color: #434B5C;\n",
              "      box-shadow: 0px 1px 3px 1px rgba(0, 0, 0, 0.15);\n",
              "      filter: drop-shadow(0px 1px 2px rgba(0, 0, 0, 0.3));\n",
              "      fill: #FFFFFF;\n",
              "    }\n",
              "  </style>\n",
              "\n",
              "    <script>\n",
              "      const buttonEl =\n",
              "        document.querySelector('#df-e6f9f5b6-fe7f-4071-a7e0-7003fdc41025 button.colab-df-convert');\n",
              "      buttonEl.style.display =\n",
              "        google.colab.kernel.accessAllowed ? 'block' : 'none';\n",
              "\n",
              "      async function convertToInteractive(key) {\n",
              "        const element = document.querySelector('#df-e6f9f5b6-fe7f-4071-a7e0-7003fdc41025');\n",
              "        const dataTable =\n",
              "          await google.colab.kernel.invokeFunction('convertToInteractive',\n",
              "                                                    [key], {});\n",
              "        if (!dataTable) return;\n",
              "\n",
              "        const docLinkHtml = 'Like what you see? Visit the ' +\n",
              "          '<a target=\"_blank\" href=https://colab.research.google.com/notebooks/data_table.ipynb>data table notebook</a>'\n",
              "          + ' to learn more about interactive tables.';\n",
              "        element.innerHTML = '';\n",
              "        dataTable['output_type'] = 'display_data';\n",
              "        await google.colab.output.renderOutput(dataTable, element);\n",
              "        const docLink = document.createElement('div');\n",
              "        docLink.innerHTML = docLinkHtml;\n",
              "        element.appendChild(docLink);\n",
              "      }\n",
              "    </script>\n",
              "  </div>\n",
              "\n",
              "\n",
              "    <div id=\"df-6b35b020-1315-481b-9f51-417fdcb6438f\">\n",
              "      <button class=\"colab-df-quickchart\" onclick=\"quickchart('df-6b35b020-1315-481b-9f51-417fdcb6438f')\"\n",
              "                title=\"Suggest charts\"\n",
              "                style=\"display:none;\">\n",
              "\n",
              "<svg xmlns=\"http://www.w3.org/2000/svg\" height=\"24px\"viewBox=\"0 0 24 24\"\n",
              "     width=\"24px\">\n",
              "    <g>\n",
              "        <path d=\"M19 3H5c-1.1 0-2 .9-2 2v14c0 1.1.9 2 2 2h14c1.1 0 2-.9 2-2V5c0-1.1-.9-2-2-2zM9 17H7v-7h2v7zm4 0h-2V7h2v10zm4 0h-2v-4h2v4z\"/>\n",
              "    </g>\n",
              "</svg>\n",
              "      </button>\n",
              "\n",
              "<style>\n",
              "  .colab-df-quickchart {\n",
              "      --bg-color: #E8F0FE;\n",
              "      --fill-color: #1967D2;\n",
              "      --hover-bg-color: #E2EBFA;\n",
              "      --hover-fill-color: #174EA6;\n",
              "      --disabled-fill-color: #AAA;\n",
              "      --disabled-bg-color: #DDD;\n",
              "  }\n",
              "\n",
              "  [theme=dark] .colab-df-quickchart {\n",
              "      --bg-color: #3B4455;\n",
              "      --fill-color: #D2E3FC;\n",
              "      --hover-bg-color: #434B5C;\n",
              "      --hover-fill-color: #FFFFFF;\n",
              "      --disabled-bg-color: #3B4455;\n",
              "      --disabled-fill-color: #666;\n",
              "  }\n",
              "\n",
              "  .colab-df-quickchart {\n",
              "    background-color: var(--bg-color);\n",
              "    border: none;\n",
              "    border-radius: 50%;\n",
              "    cursor: pointer;\n",
              "    display: none;\n",
              "    fill: var(--fill-color);\n",
              "    height: 32px;\n",
              "    padding: 0;\n",
              "    width: 32px;\n",
              "  }\n",
              "\n",
              "  .colab-df-quickchart:hover {\n",
              "    background-color: var(--hover-bg-color);\n",
              "    box-shadow: 0 1px 2px rgba(60, 64, 67, 0.3), 0 1px 3px 1px rgba(60, 64, 67, 0.15);\n",
              "    fill: var(--button-hover-fill-color);\n",
              "  }\n",
              "\n",
              "  .colab-df-quickchart-complete:disabled,\n",
              "  .colab-df-quickchart-complete:disabled:hover {\n",
              "    background-color: var(--disabled-bg-color);\n",
              "    fill: var(--disabled-fill-color);\n",
              "    box-shadow: none;\n",
              "  }\n",
              "\n",
              "  .colab-df-spinner {\n",
              "    border: 2px solid var(--fill-color);\n",
              "    border-color: transparent;\n",
              "    border-bottom-color: var(--fill-color);\n",
              "    animation:\n",
              "      spin 1s steps(1) infinite;\n",
              "  }\n",
              "\n",
              "  @keyframes spin {\n",
              "    0% {\n",
              "      border-color: transparent;\n",
              "      border-bottom-color: var(--fill-color);\n",
              "      border-left-color: var(--fill-color);\n",
              "    }\n",
              "    20% {\n",
              "      border-color: transparent;\n",
              "      border-left-color: var(--fill-color);\n",
              "      border-top-color: var(--fill-color);\n",
              "    }\n",
              "    30% {\n",
              "      border-color: transparent;\n",
              "      border-left-color: var(--fill-color);\n",
              "      border-top-color: var(--fill-color);\n",
              "      border-right-color: var(--fill-color);\n",
              "    }\n",
              "    40% {\n",
              "      border-color: transparent;\n",
              "      border-right-color: var(--fill-color);\n",
              "      border-top-color: var(--fill-color);\n",
              "    }\n",
              "    60% {\n",
              "      border-color: transparent;\n",
              "      border-right-color: var(--fill-color);\n",
              "    }\n",
              "    80% {\n",
              "      border-color: transparent;\n",
              "      border-right-color: var(--fill-color);\n",
              "      border-bottom-color: var(--fill-color);\n",
              "    }\n",
              "    90% {\n",
              "      border-color: transparent;\n",
              "      border-bottom-color: var(--fill-color);\n",
              "    }\n",
              "  }\n",
              "</style>\n",
              "\n",
              "      <script>\n",
              "        async function quickchart(key) {\n",
              "          const quickchartButtonEl =\n",
              "            document.querySelector('#' + key + ' button');\n",
              "          quickchartButtonEl.disabled = true;  // To prevent multiple clicks.\n",
              "          quickchartButtonEl.classList.add('colab-df-spinner');\n",
              "          try {\n",
              "            const charts = await google.colab.kernel.invokeFunction(\n",
              "                'suggestCharts', [key], {});\n",
              "          } catch (error) {\n",
              "            console.error('Error during call to suggestCharts:', error);\n",
              "          }\n",
              "          quickchartButtonEl.classList.remove('colab-df-spinner');\n",
              "          quickchartButtonEl.classList.add('colab-df-quickchart-complete');\n",
              "        }\n",
              "        (() => {\n",
              "          let quickchartButtonEl =\n",
              "            document.querySelector('#df-6b35b020-1315-481b-9f51-417fdcb6438f button');\n",
              "          quickchartButtonEl.style.display =\n",
              "            google.colab.kernel.accessAllowed ? 'block' : 'none';\n",
              "        })();\n",
              "      </script>\n",
              "    </div>\n",
              "\n",
              "    </div>\n",
              "  </div>\n"
            ],
            "application/vnd.google.colaboratory.intrinsic+json": {
              "type": "dataframe",
              "variable_name": "ccdf"
            }
          },
          "metadata": {},
          "execution_count": 14
        }
      ]
    },
    {
      "cell_type": "code",
      "source": [
        "x=ccdf.drop(columns=['Class','Time'],axis=1)\n",
        "y=ccdf['Class']"
      ],
      "metadata": {
        "id": "m0sGhOR1VEzP"
      },
      "execution_count": null,
      "outputs": []
    },
    {
      "cell_type": "code",
      "source": [
        "x"
      ],
      "metadata": {
        "colab": {
          "base_uri": "https://localhost:8080/"
        },
        "collapsed": true,
        "id": "ZJ5W-LWqVYhC",
        "outputId": "e8e019e8-c15a-4991-981b-80c62ecd23f2"
      },
      "execution_count": null,
      "outputs": [
        {
          "output_type": "execute_result",
          "data": {
            "text/plain": [
              "               V1         V2        V3        V4        V5        V6  \\\n",
              "0       -1.359807  -0.072781  2.536347  1.378155 -0.338321  0.462388   \n",
              "1        1.191857   0.266151  0.166480  0.448154  0.060018 -0.082361   \n",
              "2       -1.358354  -1.340163  1.773209  0.379780 -0.503198  1.800499   \n",
              "3       -0.966272  -0.185226  1.792993 -0.863291 -0.010309  1.247203   \n",
              "4       -1.158233   0.877737  1.548718  0.403034 -0.407193  0.095921   \n",
              "...           ...        ...       ...       ...       ...       ...   \n",
              "284802 -11.881118  10.071785 -9.834783 -2.066656 -5.364473 -2.606837   \n",
              "284803  -0.732789  -0.055080  2.035030 -0.738589  0.868229  1.058415   \n",
              "284804   1.919565  -0.301254 -3.249640 -0.557828  2.630515  3.031260   \n",
              "284805  -0.240440   0.530483  0.702510  0.689799 -0.377961  0.623708   \n",
              "284806  -0.533413  -0.189733  0.703337 -0.506271 -0.012546 -0.649617   \n",
              "\n",
              "              V7        V8        V9       V10  ...       V20       V21  \\\n",
              "0       0.239599  0.098698  0.363787  0.090794  ...  0.251412 -0.018307   \n",
              "1      -0.078803  0.085102 -0.255425 -0.166974  ... -0.069083 -0.225775   \n",
              "2       0.791461  0.247676 -1.514654  0.207643  ...  0.524980  0.247998   \n",
              "3       0.237609  0.377436 -1.387024 -0.054952  ... -0.208038 -0.108300   \n",
              "4       0.592941 -0.270533  0.817739  0.753074  ...  0.408542 -0.009431   \n",
              "...          ...       ...       ...       ...  ...       ...       ...   \n",
              "284802 -4.918215  7.305334  1.914428  4.356170  ...  1.475829  0.213454   \n",
              "284803  0.024330  0.294869  0.584800 -0.975926  ...  0.059616  0.214205   \n",
              "284804 -0.296827  0.708417  0.432454 -0.484782  ...  0.001396  0.232045   \n",
              "284805 -0.686180  0.679145  0.392087 -0.399126  ...  0.127434  0.265245   \n",
              "284806  1.577006 -0.414650  0.486180 -0.915427  ...  0.382948  0.261057   \n",
              "\n",
              "             V22       V23       V24       V25       V26       V27       V28  \\\n",
              "0       0.277838 -0.110474  0.066928  0.128539 -0.189115  0.133558 -0.021053   \n",
              "1      -0.638672  0.101288 -0.339846  0.167170  0.125895 -0.008983  0.014724   \n",
              "2       0.771679  0.909412 -0.689281 -0.327642 -0.139097 -0.055353 -0.059752   \n",
              "3       0.005274 -0.190321 -1.175575  0.647376 -0.221929  0.062723  0.061458   \n",
              "4       0.798278 -0.137458  0.141267 -0.206010  0.502292  0.219422  0.215153   \n",
              "...          ...       ...       ...       ...       ...       ...       ...   \n",
              "284802  0.111864  1.014480 -0.509348  1.436807  0.250034  0.943651  0.823731   \n",
              "284803  0.924384  0.012463 -1.016226 -0.606624 -0.395255  0.068472 -0.053527   \n",
              "284804  0.578229 -0.037501  0.640134  0.265745 -0.087371  0.004455 -0.026561   \n",
              "284805  0.800049 -0.163298  0.123205 -0.569159  0.546668  0.108821  0.104533   \n",
              "284806  0.643078  0.376777  0.008797 -0.473649 -0.818267 -0.002415  0.013649   \n",
              "\n",
              "        Amount  \n",
              "0       149.62  \n",
              "1         2.69  \n",
              "2       378.66  \n",
              "3       123.50  \n",
              "4        69.99  \n",
              "...        ...  \n",
              "284802    0.77  \n",
              "284803   24.79  \n",
              "284804   67.88  \n",
              "284805   10.00  \n",
              "284806  217.00  \n",
              "\n",
              "[284807 rows x 29 columns]"
            ],
            "text/html": [
              "\n",
              "  <div id=\"df-19103613-7f2c-440b-86eb-c1d886f5799a\" class=\"colab-df-container\">\n",
              "    <div>\n",
              "<style scoped>\n",
              "    .dataframe tbody tr th:only-of-type {\n",
              "        vertical-align: middle;\n",
              "    }\n",
              "\n",
              "    .dataframe tbody tr th {\n",
              "        vertical-align: top;\n",
              "    }\n",
              "\n",
              "    .dataframe thead th {\n",
              "        text-align: right;\n",
              "    }\n",
              "</style>\n",
              "<table border=\"1\" class=\"dataframe\">\n",
              "  <thead>\n",
              "    <tr style=\"text-align: right;\">\n",
              "      <th></th>\n",
              "      <th>V1</th>\n",
              "      <th>V2</th>\n",
              "      <th>V3</th>\n",
              "      <th>V4</th>\n",
              "      <th>V5</th>\n",
              "      <th>V6</th>\n",
              "      <th>V7</th>\n",
              "      <th>V8</th>\n",
              "      <th>V9</th>\n",
              "      <th>V10</th>\n",
              "      <th>...</th>\n",
              "      <th>V20</th>\n",
              "      <th>V21</th>\n",
              "      <th>V22</th>\n",
              "      <th>V23</th>\n",
              "      <th>V24</th>\n",
              "      <th>V25</th>\n",
              "      <th>V26</th>\n",
              "      <th>V27</th>\n",
              "      <th>V28</th>\n",
              "      <th>Amount</th>\n",
              "    </tr>\n",
              "  </thead>\n",
              "  <tbody>\n",
              "    <tr>\n",
              "      <th>0</th>\n",
              "      <td>-1.359807</td>\n",
              "      <td>-0.072781</td>\n",
              "      <td>2.536347</td>\n",
              "      <td>1.378155</td>\n",
              "      <td>-0.338321</td>\n",
              "      <td>0.462388</td>\n",
              "      <td>0.239599</td>\n",
              "      <td>0.098698</td>\n",
              "      <td>0.363787</td>\n",
              "      <td>0.090794</td>\n",
              "      <td>...</td>\n",
              "      <td>0.251412</td>\n",
              "      <td>-0.018307</td>\n",
              "      <td>0.277838</td>\n",
              "      <td>-0.110474</td>\n",
              "      <td>0.066928</td>\n",
              "      <td>0.128539</td>\n",
              "      <td>-0.189115</td>\n",
              "      <td>0.133558</td>\n",
              "      <td>-0.021053</td>\n",
              "      <td>149.62</td>\n",
              "    </tr>\n",
              "    <tr>\n",
              "      <th>1</th>\n",
              "      <td>1.191857</td>\n",
              "      <td>0.266151</td>\n",
              "      <td>0.166480</td>\n",
              "      <td>0.448154</td>\n",
              "      <td>0.060018</td>\n",
              "      <td>-0.082361</td>\n",
              "      <td>-0.078803</td>\n",
              "      <td>0.085102</td>\n",
              "      <td>-0.255425</td>\n",
              "      <td>-0.166974</td>\n",
              "      <td>...</td>\n",
              "      <td>-0.069083</td>\n",
              "      <td>-0.225775</td>\n",
              "      <td>-0.638672</td>\n",
              "      <td>0.101288</td>\n",
              "      <td>-0.339846</td>\n",
              "      <td>0.167170</td>\n",
              "      <td>0.125895</td>\n",
              "      <td>-0.008983</td>\n",
              "      <td>0.014724</td>\n",
              "      <td>2.69</td>\n",
              "    </tr>\n",
              "    <tr>\n",
              "      <th>2</th>\n",
              "      <td>-1.358354</td>\n",
              "      <td>-1.340163</td>\n",
              "      <td>1.773209</td>\n",
              "      <td>0.379780</td>\n",
              "      <td>-0.503198</td>\n",
              "      <td>1.800499</td>\n",
              "      <td>0.791461</td>\n",
              "      <td>0.247676</td>\n",
              "      <td>-1.514654</td>\n",
              "      <td>0.207643</td>\n",
              "      <td>...</td>\n",
              "      <td>0.524980</td>\n",
              "      <td>0.247998</td>\n",
              "      <td>0.771679</td>\n",
              "      <td>0.909412</td>\n",
              "      <td>-0.689281</td>\n",
              "      <td>-0.327642</td>\n",
              "      <td>-0.139097</td>\n",
              "      <td>-0.055353</td>\n",
              "      <td>-0.059752</td>\n",
              "      <td>378.66</td>\n",
              "    </tr>\n",
              "    <tr>\n",
              "      <th>3</th>\n",
              "      <td>-0.966272</td>\n",
              "      <td>-0.185226</td>\n",
              "      <td>1.792993</td>\n",
              "      <td>-0.863291</td>\n",
              "      <td>-0.010309</td>\n",
              "      <td>1.247203</td>\n",
              "      <td>0.237609</td>\n",
              "      <td>0.377436</td>\n",
              "      <td>-1.387024</td>\n",
              "      <td>-0.054952</td>\n",
              "      <td>...</td>\n",
              "      <td>-0.208038</td>\n",
              "      <td>-0.108300</td>\n",
              "      <td>0.005274</td>\n",
              "      <td>-0.190321</td>\n",
              "      <td>-1.175575</td>\n",
              "      <td>0.647376</td>\n",
              "      <td>-0.221929</td>\n",
              "      <td>0.062723</td>\n",
              "      <td>0.061458</td>\n",
              "      <td>123.50</td>\n",
              "    </tr>\n",
              "    <tr>\n",
              "      <th>4</th>\n",
              "      <td>-1.158233</td>\n",
              "      <td>0.877737</td>\n",
              "      <td>1.548718</td>\n",
              "      <td>0.403034</td>\n",
              "      <td>-0.407193</td>\n",
              "      <td>0.095921</td>\n",
              "      <td>0.592941</td>\n",
              "      <td>-0.270533</td>\n",
              "      <td>0.817739</td>\n",
              "      <td>0.753074</td>\n",
              "      <td>...</td>\n",
              "      <td>0.408542</td>\n",
              "      <td>-0.009431</td>\n",
              "      <td>0.798278</td>\n",
              "      <td>-0.137458</td>\n",
              "      <td>0.141267</td>\n",
              "      <td>-0.206010</td>\n",
              "      <td>0.502292</td>\n",
              "      <td>0.219422</td>\n",
              "      <td>0.215153</td>\n",
              "      <td>69.99</td>\n",
              "    </tr>\n",
              "    <tr>\n",
              "      <th>...</th>\n",
              "      <td>...</td>\n",
              "      <td>...</td>\n",
              "      <td>...</td>\n",
              "      <td>...</td>\n",
              "      <td>...</td>\n",
              "      <td>...</td>\n",
              "      <td>...</td>\n",
              "      <td>...</td>\n",
              "      <td>...</td>\n",
              "      <td>...</td>\n",
              "      <td>...</td>\n",
              "      <td>...</td>\n",
              "      <td>...</td>\n",
              "      <td>...</td>\n",
              "      <td>...</td>\n",
              "      <td>...</td>\n",
              "      <td>...</td>\n",
              "      <td>...</td>\n",
              "      <td>...</td>\n",
              "      <td>...</td>\n",
              "      <td>...</td>\n",
              "    </tr>\n",
              "    <tr>\n",
              "      <th>284802</th>\n",
              "      <td>-11.881118</td>\n",
              "      <td>10.071785</td>\n",
              "      <td>-9.834783</td>\n",
              "      <td>-2.066656</td>\n",
              "      <td>-5.364473</td>\n",
              "      <td>-2.606837</td>\n",
              "      <td>-4.918215</td>\n",
              "      <td>7.305334</td>\n",
              "      <td>1.914428</td>\n",
              "      <td>4.356170</td>\n",
              "      <td>...</td>\n",
              "      <td>1.475829</td>\n",
              "      <td>0.213454</td>\n",
              "      <td>0.111864</td>\n",
              "      <td>1.014480</td>\n",
              "      <td>-0.509348</td>\n",
              "      <td>1.436807</td>\n",
              "      <td>0.250034</td>\n",
              "      <td>0.943651</td>\n",
              "      <td>0.823731</td>\n",
              "      <td>0.77</td>\n",
              "    </tr>\n",
              "    <tr>\n",
              "      <th>284803</th>\n",
              "      <td>-0.732789</td>\n",
              "      <td>-0.055080</td>\n",
              "      <td>2.035030</td>\n",
              "      <td>-0.738589</td>\n",
              "      <td>0.868229</td>\n",
              "      <td>1.058415</td>\n",
              "      <td>0.024330</td>\n",
              "      <td>0.294869</td>\n",
              "      <td>0.584800</td>\n",
              "      <td>-0.975926</td>\n",
              "      <td>...</td>\n",
              "      <td>0.059616</td>\n",
              "      <td>0.214205</td>\n",
              "      <td>0.924384</td>\n",
              "      <td>0.012463</td>\n",
              "      <td>-1.016226</td>\n",
              "      <td>-0.606624</td>\n",
              "      <td>-0.395255</td>\n",
              "      <td>0.068472</td>\n",
              "      <td>-0.053527</td>\n",
              "      <td>24.79</td>\n",
              "    </tr>\n",
              "    <tr>\n",
              "      <th>284804</th>\n",
              "      <td>1.919565</td>\n",
              "      <td>-0.301254</td>\n",
              "      <td>-3.249640</td>\n",
              "      <td>-0.557828</td>\n",
              "      <td>2.630515</td>\n",
              "      <td>3.031260</td>\n",
              "      <td>-0.296827</td>\n",
              "      <td>0.708417</td>\n",
              "      <td>0.432454</td>\n",
              "      <td>-0.484782</td>\n",
              "      <td>...</td>\n",
              "      <td>0.001396</td>\n",
              "      <td>0.232045</td>\n",
              "      <td>0.578229</td>\n",
              "      <td>-0.037501</td>\n",
              "      <td>0.640134</td>\n",
              "      <td>0.265745</td>\n",
              "      <td>-0.087371</td>\n",
              "      <td>0.004455</td>\n",
              "      <td>-0.026561</td>\n",
              "      <td>67.88</td>\n",
              "    </tr>\n",
              "    <tr>\n",
              "      <th>284805</th>\n",
              "      <td>-0.240440</td>\n",
              "      <td>0.530483</td>\n",
              "      <td>0.702510</td>\n",
              "      <td>0.689799</td>\n",
              "      <td>-0.377961</td>\n",
              "      <td>0.623708</td>\n",
              "      <td>-0.686180</td>\n",
              "      <td>0.679145</td>\n",
              "      <td>0.392087</td>\n",
              "      <td>-0.399126</td>\n",
              "      <td>...</td>\n",
              "      <td>0.127434</td>\n",
              "      <td>0.265245</td>\n",
              "      <td>0.800049</td>\n",
              "      <td>-0.163298</td>\n",
              "      <td>0.123205</td>\n",
              "      <td>-0.569159</td>\n",
              "      <td>0.546668</td>\n",
              "      <td>0.108821</td>\n",
              "      <td>0.104533</td>\n",
              "      <td>10.00</td>\n",
              "    </tr>\n",
              "    <tr>\n",
              "      <th>284806</th>\n",
              "      <td>-0.533413</td>\n",
              "      <td>-0.189733</td>\n",
              "      <td>0.703337</td>\n",
              "      <td>-0.506271</td>\n",
              "      <td>-0.012546</td>\n",
              "      <td>-0.649617</td>\n",
              "      <td>1.577006</td>\n",
              "      <td>-0.414650</td>\n",
              "      <td>0.486180</td>\n",
              "      <td>-0.915427</td>\n",
              "      <td>...</td>\n",
              "      <td>0.382948</td>\n",
              "      <td>0.261057</td>\n",
              "      <td>0.643078</td>\n",
              "      <td>0.376777</td>\n",
              "      <td>0.008797</td>\n",
              "      <td>-0.473649</td>\n",
              "      <td>-0.818267</td>\n",
              "      <td>-0.002415</td>\n",
              "      <td>0.013649</td>\n",
              "      <td>217.00</td>\n",
              "    </tr>\n",
              "  </tbody>\n",
              "</table>\n",
              "<p>284807 rows × 29 columns</p>\n",
              "</div>\n",
              "    <div class=\"colab-df-buttons\">\n",
              "\n",
              "  <div class=\"colab-df-container\">\n",
              "    <button class=\"colab-df-convert\" onclick=\"convertToInteractive('df-19103613-7f2c-440b-86eb-c1d886f5799a')\"\n",
              "            title=\"Convert this dataframe to an interactive table.\"\n",
              "            style=\"display:none;\">\n",
              "\n",
              "  <svg xmlns=\"http://www.w3.org/2000/svg\" height=\"24px\" viewBox=\"0 -960 960 960\">\n",
              "    <path d=\"M120-120v-720h720v720H120Zm60-500h600v-160H180v160Zm220 220h160v-160H400v160Zm0 220h160v-160H400v160ZM180-400h160v-160H180v160Zm440 0h160v-160H620v160ZM180-180h160v-160H180v160Zm440 0h160v-160H620v160Z\"/>\n",
              "  </svg>\n",
              "    </button>\n",
              "\n",
              "  <style>\n",
              "    .colab-df-container {\n",
              "      display:flex;\n",
              "      gap: 12px;\n",
              "    }\n",
              "\n",
              "    .colab-df-convert {\n",
              "      background-color: #E8F0FE;\n",
              "      border: none;\n",
              "      border-radius: 50%;\n",
              "      cursor: pointer;\n",
              "      display: none;\n",
              "      fill: #1967D2;\n",
              "      height: 32px;\n",
              "      padding: 0 0 0 0;\n",
              "      width: 32px;\n",
              "    }\n",
              "\n",
              "    .colab-df-convert:hover {\n",
              "      background-color: #E2EBFA;\n",
              "      box-shadow: 0px 1px 2px rgba(60, 64, 67, 0.3), 0px 1px 3px 1px rgba(60, 64, 67, 0.15);\n",
              "      fill: #174EA6;\n",
              "    }\n",
              "\n",
              "    .colab-df-buttons div {\n",
              "      margin-bottom: 4px;\n",
              "    }\n",
              "\n",
              "    [theme=dark] .colab-df-convert {\n",
              "      background-color: #3B4455;\n",
              "      fill: #D2E3FC;\n",
              "    }\n",
              "\n",
              "    [theme=dark] .colab-df-convert:hover {\n",
              "      background-color: #434B5C;\n",
              "      box-shadow: 0px 1px 3px 1px rgba(0, 0, 0, 0.15);\n",
              "      filter: drop-shadow(0px 1px 2px rgba(0, 0, 0, 0.3));\n",
              "      fill: #FFFFFF;\n",
              "    }\n",
              "  </style>\n",
              "\n",
              "    <script>\n",
              "      const buttonEl =\n",
              "        document.querySelector('#df-19103613-7f2c-440b-86eb-c1d886f5799a button.colab-df-convert');\n",
              "      buttonEl.style.display =\n",
              "        google.colab.kernel.accessAllowed ? 'block' : 'none';\n",
              "\n",
              "      async function convertToInteractive(key) {\n",
              "        const element = document.querySelector('#df-19103613-7f2c-440b-86eb-c1d886f5799a');\n",
              "        const dataTable =\n",
              "          await google.colab.kernel.invokeFunction('convertToInteractive',\n",
              "                                                    [key], {});\n",
              "        if (!dataTable) return;\n",
              "\n",
              "        const docLinkHtml = 'Like what you see? Visit the ' +\n",
              "          '<a target=\"_blank\" href=https://colab.research.google.com/notebooks/data_table.ipynb>data table notebook</a>'\n",
              "          + ' to learn more about interactive tables.';\n",
              "        element.innerHTML = '';\n",
              "        dataTable['output_type'] = 'display_data';\n",
              "        await google.colab.output.renderOutput(dataTable, element);\n",
              "        const docLink = document.createElement('div');\n",
              "        docLink.innerHTML = docLinkHtml;\n",
              "        element.appendChild(docLink);\n",
              "      }\n",
              "    </script>\n",
              "  </div>\n",
              "\n",
              "\n",
              "    <div id=\"df-366b9b9b-7ede-4699-8a4c-42e165001141\">\n",
              "      <button class=\"colab-df-quickchart\" onclick=\"quickchart('df-366b9b9b-7ede-4699-8a4c-42e165001141')\"\n",
              "                title=\"Suggest charts\"\n",
              "                style=\"display:none;\">\n",
              "\n",
              "<svg xmlns=\"http://www.w3.org/2000/svg\" height=\"24px\"viewBox=\"0 0 24 24\"\n",
              "     width=\"24px\">\n",
              "    <g>\n",
              "        <path d=\"M19 3H5c-1.1 0-2 .9-2 2v14c0 1.1.9 2 2 2h14c1.1 0 2-.9 2-2V5c0-1.1-.9-2-2-2zM9 17H7v-7h2v7zm4 0h-2V7h2v10zm4 0h-2v-4h2v4z\"/>\n",
              "    </g>\n",
              "</svg>\n",
              "      </button>\n",
              "\n",
              "<style>\n",
              "  .colab-df-quickchart {\n",
              "      --bg-color: #E8F0FE;\n",
              "      --fill-color: #1967D2;\n",
              "      --hover-bg-color: #E2EBFA;\n",
              "      --hover-fill-color: #174EA6;\n",
              "      --disabled-fill-color: #AAA;\n",
              "      --disabled-bg-color: #DDD;\n",
              "  }\n",
              "\n",
              "  [theme=dark] .colab-df-quickchart {\n",
              "      --bg-color: #3B4455;\n",
              "      --fill-color: #D2E3FC;\n",
              "      --hover-bg-color: #434B5C;\n",
              "      --hover-fill-color: #FFFFFF;\n",
              "      --disabled-bg-color: #3B4455;\n",
              "      --disabled-fill-color: #666;\n",
              "  }\n",
              "\n",
              "  .colab-df-quickchart {\n",
              "    background-color: var(--bg-color);\n",
              "    border: none;\n",
              "    border-radius: 50%;\n",
              "    cursor: pointer;\n",
              "    display: none;\n",
              "    fill: var(--fill-color);\n",
              "    height: 32px;\n",
              "    padding: 0;\n",
              "    width: 32px;\n",
              "  }\n",
              "\n",
              "  .colab-df-quickchart:hover {\n",
              "    background-color: var(--hover-bg-color);\n",
              "    box-shadow: 0 1px 2px rgba(60, 64, 67, 0.3), 0 1px 3px 1px rgba(60, 64, 67, 0.15);\n",
              "    fill: var(--button-hover-fill-color);\n",
              "  }\n",
              "\n",
              "  .colab-df-quickchart-complete:disabled,\n",
              "  .colab-df-quickchart-complete:disabled:hover {\n",
              "    background-color: var(--disabled-bg-color);\n",
              "    fill: var(--disabled-fill-color);\n",
              "    box-shadow: none;\n",
              "  }\n",
              "\n",
              "  .colab-df-spinner {\n",
              "    border: 2px solid var(--fill-color);\n",
              "    border-color: transparent;\n",
              "    border-bottom-color: var(--fill-color);\n",
              "    animation:\n",
              "      spin 1s steps(1) infinite;\n",
              "  }\n",
              "\n",
              "  @keyframes spin {\n",
              "    0% {\n",
              "      border-color: transparent;\n",
              "      border-bottom-color: var(--fill-color);\n",
              "      border-left-color: var(--fill-color);\n",
              "    }\n",
              "    20% {\n",
              "      border-color: transparent;\n",
              "      border-left-color: var(--fill-color);\n",
              "      border-top-color: var(--fill-color);\n",
              "    }\n",
              "    30% {\n",
              "      border-color: transparent;\n",
              "      border-left-color: var(--fill-color);\n",
              "      border-top-color: var(--fill-color);\n",
              "      border-right-color: var(--fill-color);\n",
              "    }\n",
              "    40% {\n",
              "      border-color: transparent;\n",
              "      border-right-color: var(--fill-color);\n",
              "      border-top-color: var(--fill-color);\n",
              "    }\n",
              "    60% {\n",
              "      border-color: transparent;\n",
              "      border-right-color: var(--fill-color);\n",
              "    }\n",
              "    80% {\n",
              "      border-color: transparent;\n",
              "      border-right-color: var(--fill-color);\n",
              "      border-bottom-color: var(--fill-color);\n",
              "    }\n",
              "    90% {\n",
              "      border-color: transparent;\n",
              "      border-bottom-color: var(--fill-color);\n",
              "    }\n",
              "  }\n",
              "</style>\n",
              "\n",
              "      <script>\n",
              "        async function quickchart(key) {\n",
              "          const quickchartButtonEl =\n",
              "            document.querySelector('#' + key + ' button');\n",
              "          quickchartButtonEl.disabled = true;  // To prevent multiple clicks.\n",
              "          quickchartButtonEl.classList.add('colab-df-spinner');\n",
              "          try {\n",
              "            const charts = await google.colab.kernel.invokeFunction(\n",
              "                'suggestCharts', [key], {});\n",
              "          } catch (error) {\n",
              "            console.error('Error during call to suggestCharts:', error);\n",
              "          }\n",
              "          quickchartButtonEl.classList.remove('colab-df-spinner');\n",
              "          quickchartButtonEl.classList.add('colab-df-quickchart-complete');\n",
              "        }\n",
              "        (() => {\n",
              "          let quickchartButtonEl =\n",
              "            document.querySelector('#df-366b9b9b-7ede-4699-8a4c-42e165001141 button');\n",
              "          quickchartButtonEl.style.display =\n",
              "            google.colab.kernel.accessAllowed ? 'block' : 'none';\n",
              "        })();\n",
              "      </script>\n",
              "    </div>\n",
              "\n",
              "  <div id=\"id_655906bc-5afd-45e7-b4ec-78c0f2b4c68c\">\n",
              "    <style>\n",
              "      .colab-df-generate {\n",
              "        background-color: #E8F0FE;\n",
              "        border: none;\n",
              "        border-radius: 50%;\n",
              "        cursor: pointer;\n",
              "        display: none;\n",
              "        fill: #1967D2;\n",
              "        height: 32px;\n",
              "        padding: 0 0 0 0;\n",
              "        width: 32px;\n",
              "      }\n",
              "\n",
              "      .colab-df-generate:hover {\n",
              "        background-color: #E2EBFA;\n",
              "        box-shadow: 0px 1px 2px rgba(60, 64, 67, 0.3), 0px 1px 3px 1px rgba(60, 64, 67, 0.15);\n",
              "        fill: #174EA6;\n",
              "      }\n",
              "\n",
              "      [theme=dark] .colab-df-generate {\n",
              "        background-color: #3B4455;\n",
              "        fill: #D2E3FC;\n",
              "      }\n",
              "\n",
              "      [theme=dark] .colab-df-generate:hover {\n",
              "        background-color: #434B5C;\n",
              "        box-shadow: 0px 1px 3px 1px rgba(0, 0, 0, 0.15);\n",
              "        filter: drop-shadow(0px 1px 2px rgba(0, 0, 0, 0.3));\n",
              "        fill: #FFFFFF;\n",
              "      }\n",
              "    </style>\n",
              "    <button class=\"colab-df-generate\" onclick=\"generateWithVariable('x')\"\n",
              "            title=\"Generate code using this dataframe.\"\n",
              "            style=\"display:none;\">\n",
              "\n",
              "  <svg xmlns=\"http://www.w3.org/2000/svg\" height=\"24px\"viewBox=\"0 0 24 24\"\n",
              "       width=\"24px\">\n",
              "    <path d=\"M7,19H8.4L18.45,9,17,7.55,7,17.6ZM5,21V16.75L18.45,3.32a2,2,0,0,1,2.83,0l1.4,1.43a1.91,1.91,0,0,1,.58,1.4,1.91,1.91,0,0,1-.58,1.4L9.25,21ZM18.45,9,17,7.55Zm-12,3A5.31,5.31,0,0,0,4.9,8.1,5.31,5.31,0,0,0,1,6.5,5.31,5.31,0,0,0,4.9,4.9,5.31,5.31,0,0,0,6.5,1,5.31,5.31,0,0,0,8.1,4.9,5.31,5.31,0,0,0,12,6.5,5.46,5.46,0,0,0,6.5,12Z\"/>\n",
              "  </svg>\n",
              "    </button>\n",
              "    <script>\n",
              "      (() => {\n",
              "      const buttonEl =\n",
              "        document.querySelector('#id_655906bc-5afd-45e7-b4ec-78c0f2b4c68c button.colab-df-generate');\n",
              "      buttonEl.style.display =\n",
              "        google.colab.kernel.accessAllowed ? 'block' : 'none';\n",
              "\n",
              "      buttonEl.onclick = () => {\n",
              "        google.colab.notebook.generateWithVariable('x');\n",
              "      }\n",
              "      })();\n",
              "    </script>\n",
              "  </div>\n",
              "\n",
              "    </div>\n",
              "  </div>\n"
            ],
            "application/vnd.google.colaboratory.intrinsic+json": {
              "type": "dataframe",
              "variable_name": "x"
            }
          },
          "metadata": {},
          "execution_count": 16
        }
      ]
    },
    {
      "cell_type": "code",
      "source": [
        "y"
      ],
      "metadata": {
        "id": "pBXOQkwnVeVx"
      },
      "execution_count": null,
      "outputs": []
    },
    {
      "cell_type": "markdown",
      "source": [
        "# scale features"
      ],
      "metadata": {
        "id": "bsbXosoBchbP"
      }
    },
    {
      "cell_type": "code",
      "source": [
        "from sklearn.model_selection import train_test_split\n",
        "from sklearn.preprocessing import StandardScaler\n",
        "#  Scale the features\n",
        "scaler = StandardScaler()\n",
        "X_scaled = scaler.fit_transform(x)    # Shape: (n_samples, 29)\n",
        "\n"
      ],
      "metadata": {
        "id": "80jnKRFqaUrn"
      },
      "execution_count": null,
      "outputs": []
    },
    {
      "cell_type": "markdown",
      "source": [
        "# reshaping csv file data from dim(shape(29,)) to (6,5,1) fro Conv2D"
      ],
      "metadata": {
        "id": "PC1Hg-o6cmF2"
      }
    },
    {
      "cell_type": "code",
      "source": [
        "\n",
        "# Pad to 30 features → reshape to (6, 5, 1)\n",
        "X_padded = np.pad(X_scaled, ((0, 0), (0, 1)), mode='constant')  # → (n, 30)\n",
        "X_reshaped = X_padded.reshape(-1, 6, 5, 1)                      # → (n, 6, 5, 1)"
      ],
      "metadata": {
        "id": "RBRBMQO4cOy-"
      },
      "execution_count": null,
      "outputs": []
    },
    {
      "cell_type": "markdown",
      "source": [
        "# split train test split"
      ],
      "metadata": {
        "id": "0ap2xGAka-Nv"
      }
    },
    {
      "cell_type": "code",
      "source": [
        "# Split original dataset into train and test (80/20)\n",
        "X_train_full, X_test, y_train_full, y_test = train_test_split(\n",
        "    X_reshaped, y, test_size=0.2, stratify=y, random_state=42\n",
        ")\n",
        "\n",
        "# Split train into training and validation (e.g., 80/20 again)\n",
        "X_train, X_val, y_train, y_val = train_test_split(\n",
        "    X_train_full, y_train_full, test_size=0.2, stratify=y_train_full, random_state=42\n",
        ")\n"
      ],
      "metadata": {
        "id": "UBoOvnCtcyfx"
      },
      "execution_count": null,
      "outputs": []
    },
    {
      "cell_type": "code",
      "source": [
        "# from sklearn.model_selection import train_test_split\n",
        "# xtrain,xtest,ytrain,ytest=train_test_split(x,y,test_size=0.3,stratify=y,random_state=0)"
      ],
      "metadata": {
        "id": "dlubgN9oapMO"
      },
      "execution_count": null,
      "outputs": []
    },
    {
      "cell_type": "markdown",
      "source": [
        "\n",
        "# Deep network creation and execution\n"
      ],
      "metadata": {
        "id": "XiI3PKp7a6pQ"
      }
    },
    {
      "cell_type": "code",
      "source": [
        "from tensorflow.keras import layers\n",
        "from tensorflow import keras"
      ],
      "metadata": {
        "id": "vXNDB_XoV4a0"
      },
      "execution_count": null,
      "outputs": []
    },
    {
      "cell_type": "code",
      "source": [
        "# input1= layers.Input(shape=(29,))/\n",
        "input1 = layers.Input(shape=(6, 5, 1))"
      ],
      "metadata": {
        "id": "UHHpTA5VWICg"
      },
      "execution_count": null,
      "outputs": []
    },
    {
      "cell_type": "code",
      "source": [
        "x=layers.Dense(units=512,activation='relu')(input1)"
      ],
      "metadata": {
        "id": "qg5ymxVBXFrF"
      },
      "execution_count": null,
      "outputs": []
    },
    {
      "cell_type": "code",
      "source": [
        "x=layers.Conv2D(filters=32,kernel_size=(3,3),activation='relu',padding='same',strides=(1,1))(x)\n",
        "x=layers.MaxPooling2D(pool_size=(2,2))(x)\n",
        "x=layers.BatchNormalization()(x)\n",
        "x=layers.Dropout(0.20)(x)"
      ],
      "metadata": {
        "id": "almUERRlXV94"
      },
      "execution_count": null,
      "outputs": []
    },
    {
      "cell_type": "code",
      "source": [
        "x=layers.Dense(units=256,activation='sigmoid')(x)\n",
        "x=layers.BatchNormalization()(x)\n",
        "x=layers.Dropout(0.20)(x)"
      ],
      "metadata": {
        "id": "GoocagCxXgg0"
      },
      "execution_count": null,
      "outputs": []
    },
    {
      "cell_type": "code",
      "source": [
        "x=layers.Dense(units=256,activation='sigmoid')(x)\n",
        "x=layers.BatchNormalization()(x)\n",
        "x=layers.Dropout(0.20)(x)"
      ],
      "metadata": {
        "id": "8JInDYBRXua0"
      },
      "execution_count": null,
      "outputs": []
    },
    {
      "cell_type": "code",
      "source": [
        "x=layers.Flatten()(x)\n",
        "x=layers.Dense(units=128,activation='relu')(x)\n",
        "x=layers.BatchNormalization()(x)\n",
        "x=layers.Dropout(0.20)(x)\n",
        "\n",
        "out=layers.Dense(units=1,activation='sigmoid')(x)\n",
        "\n",
        "model = keras.Model(inputs=input1,outputs=out)\n",
        "\n",
        "model.compile(optimizer=keras.optimizers.Adam(learning_rate=0.0001),\n",
        "              loss=keras.losses.BinaryCrossentropy(),\n",
        "              metrics=[keras.metrics.BinaryAccuracy()]\n",
        "            )"
      ],
      "metadata": {
        "id": "c5EvpwnSdbEw"
      },
      "execution_count": null,
      "outputs": []
    },
    {
      "cell_type": "code",
      "source": [
        "model.summary()"
      ],
      "metadata": {
        "colab": {
          "base_uri": "https://localhost:8080/",
          "height": 757
        },
        "collapsed": true,
        "id": "Yp2wBb3jesxo",
        "outputId": "c3f2951f-e66a-4584-bc9b-1d31910ca49e"
      },
      "execution_count": null,
      "outputs": [
        {
          "output_type": "display_data",
          "data": {
            "text/plain": [
              "\u001b[1mModel: \"functional\"\u001b[0m\n"
            ],
            "text/html": [
              "<pre style=\"white-space:pre;overflow-x:auto;line-height:normal;font-family:Menlo,'DejaVu Sans Mono',consolas,'Courier New',monospace\"><span style=\"font-weight: bold\">Model: \"functional\"</span>\n",
              "</pre>\n"
            ]
          },
          "metadata": {}
        },
        {
          "output_type": "display_data",
          "data": {
            "text/plain": [
              "┏━━━━━━━━━━━━━━━━━━━━━━━━━━━━━━━━━┳━━━━━━━━━━━━━━━━━━━━━━━━┳━━━━━━━━━━━━━━━┓\n",
              "┃\u001b[1m \u001b[0m\u001b[1mLayer (type)                   \u001b[0m\u001b[1m \u001b[0m┃\u001b[1m \u001b[0m\u001b[1mOutput Shape          \u001b[0m\u001b[1m \u001b[0m┃\u001b[1m \u001b[0m\u001b[1m      Param #\u001b[0m\u001b[1m \u001b[0m┃\n",
              "┡━━━━━━━━━━━━━━━━━━━━━━━━━━━━━━━━━╇━━━━━━━━━━━━━━━━━━━━━━━━╇━━━━━━━━━━━━━━━┩\n",
              "│ input_layer (\u001b[38;5;33mInputLayer\u001b[0m)        │ (\u001b[38;5;45mNone\u001b[0m, \u001b[38;5;34m6\u001b[0m, \u001b[38;5;34m5\u001b[0m, \u001b[38;5;34m1\u001b[0m)        │             \u001b[38;5;34m0\u001b[0m │\n",
              "├─────────────────────────────────┼────────────────────────┼───────────────┤\n",
              "│ dense (\u001b[38;5;33mDense\u001b[0m)                   │ (\u001b[38;5;45mNone\u001b[0m, \u001b[38;5;34m6\u001b[0m, \u001b[38;5;34m5\u001b[0m, \u001b[38;5;34m512\u001b[0m)      │         \u001b[38;5;34m1,024\u001b[0m │\n",
              "├─────────────────────────────────┼────────────────────────┼───────────────┤\n",
              "│ conv2d (\u001b[38;5;33mConv2D\u001b[0m)                 │ (\u001b[38;5;45mNone\u001b[0m, \u001b[38;5;34m6\u001b[0m, \u001b[38;5;34m5\u001b[0m, \u001b[38;5;34m32\u001b[0m)       │       \u001b[38;5;34m147,488\u001b[0m │\n",
              "├─────────────────────────────────┼────────────────────────┼───────────────┤\n",
              "│ max_pooling2d (\u001b[38;5;33mMaxPooling2D\u001b[0m)    │ (\u001b[38;5;45mNone\u001b[0m, \u001b[38;5;34m3\u001b[0m, \u001b[38;5;34m2\u001b[0m, \u001b[38;5;34m32\u001b[0m)       │             \u001b[38;5;34m0\u001b[0m │\n",
              "├─────────────────────────────────┼────────────────────────┼───────────────┤\n",
              "│ batch_normalization             │ (\u001b[38;5;45mNone\u001b[0m, \u001b[38;5;34m3\u001b[0m, \u001b[38;5;34m2\u001b[0m, \u001b[38;5;34m32\u001b[0m)       │           \u001b[38;5;34m128\u001b[0m │\n",
              "│ (\u001b[38;5;33mBatchNormalization\u001b[0m)            │                        │               │\n",
              "├─────────────────────────────────┼────────────────────────┼───────────────┤\n",
              "│ dropout (\u001b[38;5;33mDropout\u001b[0m)               │ (\u001b[38;5;45mNone\u001b[0m, \u001b[38;5;34m3\u001b[0m, \u001b[38;5;34m2\u001b[0m, \u001b[38;5;34m32\u001b[0m)       │             \u001b[38;5;34m0\u001b[0m │\n",
              "├─────────────────────────────────┼────────────────────────┼───────────────┤\n",
              "│ dense_1 (\u001b[38;5;33mDense\u001b[0m)                 │ (\u001b[38;5;45mNone\u001b[0m, \u001b[38;5;34m3\u001b[0m, \u001b[38;5;34m2\u001b[0m, \u001b[38;5;34m256\u001b[0m)      │         \u001b[38;5;34m8,448\u001b[0m │\n",
              "├─────────────────────────────────┼────────────────────────┼───────────────┤\n",
              "│ batch_normalization_1           │ (\u001b[38;5;45mNone\u001b[0m, \u001b[38;5;34m3\u001b[0m, \u001b[38;5;34m2\u001b[0m, \u001b[38;5;34m256\u001b[0m)      │         \u001b[38;5;34m1,024\u001b[0m │\n",
              "│ (\u001b[38;5;33mBatchNormalization\u001b[0m)            │                        │               │\n",
              "├─────────────────────────────────┼────────────────────────┼───────────────┤\n",
              "│ dropout_1 (\u001b[38;5;33mDropout\u001b[0m)             │ (\u001b[38;5;45mNone\u001b[0m, \u001b[38;5;34m3\u001b[0m, \u001b[38;5;34m2\u001b[0m, \u001b[38;5;34m256\u001b[0m)      │             \u001b[38;5;34m0\u001b[0m │\n",
              "├─────────────────────────────────┼────────────────────────┼───────────────┤\n",
              "│ dense_2 (\u001b[38;5;33mDense\u001b[0m)                 │ (\u001b[38;5;45mNone\u001b[0m, \u001b[38;5;34m3\u001b[0m, \u001b[38;5;34m2\u001b[0m, \u001b[38;5;34m256\u001b[0m)      │        \u001b[38;5;34m65,792\u001b[0m │\n",
              "├─────────────────────────────────┼────────────────────────┼───────────────┤\n",
              "│ batch_normalization_2           │ (\u001b[38;5;45mNone\u001b[0m, \u001b[38;5;34m3\u001b[0m, \u001b[38;5;34m2\u001b[0m, \u001b[38;5;34m256\u001b[0m)      │         \u001b[38;5;34m1,024\u001b[0m │\n",
              "│ (\u001b[38;5;33mBatchNormalization\u001b[0m)            │                        │               │\n",
              "├─────────────────────────────────┼────────────────────────┼───────────────┤\n",
              "│ dropout_2 (\u001b[38;5;33mDropout\u001b[0m)             │ (\u001b[38;5;45mNone\u001b[0m, \u001b[38;5;34m3\u001b[0m, \u001b[38;5;34m2\u001b[0m, \u001b[38;5;34m256\u001b[0m)      │             \u001b[38;5;34m0\u001b[0m │\n",
              "├─────────────────────────────────┼────────────────────────┼───────────────┤\n",
              "│ flatten (\u001b[38;5;33mFlatten\u001b[0m)               │ (\u001b[38;5;45mNone\u001b[0m, \u001b[38;5;34m1536\u001b[0m)           │             \u001b[38;5;34m0\u001b[0m │\n",
              "├─────────────────────────────────┼────────────────────────┼───────────────┤\n",
              "│ dense_3 (\u001b[38;5;33mDense\u001b[0m)                 │ (\u001b[38;5;45mNone\u001b[0m, \u001b[38;5;34m128\u001b[0m)            │       \u001b[38;5;34m196,736\u001b[0m │\n",
              "├─────────────────────────────────┼────────────────────────┼───────────────┤\n",
              "│ batch_normalization_3           │ (\u001b[38;5;45mNone\u001b[0m, \u001b[38;5;34m128\u001b[0m)            │           \u001b[38;5;34m512\u001b[0m │\n",
              "│ (\u001b[38;5;33mBatchNormalization\u001b[0m)            │                        │               │\n",
              "├─────────────────────────────────┼────────────────────────┼───────────────┤\n",
              "│ dropout_3 (\u001b[38;5;33mDropout\u001b[0m)             │ (\u001b[38;5;45mNone\u001b[0m, \u001b[38;5;34m128\u001b[0m)            │             \u001b[38;5;34m0\u001b[0m │\n",
              "├─────────────────────────────────┼────────────────────────┼───────────────┤\n",
              "│ dense_4 (\u001b[38;5;33mDense\u001b[0m)                 │ (\u001b[38;5;45mNone\u001b[0m, \u001b[38;5;34m1\u001b[0m)              │           \u001b[38;5;34m129\u001b[0m │\n",
              "└─────────────────────────────────┴────────────────────────┴───────────────┘\n"
            ],
            "text/html": [
              "<pre style=\"white-space:pre;overflow-x:auto;line-height:normal;font-family:Menlo,'DejaVu Sans Mono',consolas,'Courier New',monospace\">┏━━━━━━━━━━━━━━━━━━━━━━━━━━━━━━━━━┳━━━━━━━━━━━━━━━━━━━━━━━━┳━━━━━━━━━━━━━━━┓\n",
              "┃<span style=\"font-weight: bold\"> Layer (type)                    </span>┃<span style=\"font-weight: bold\"> Output Shape           </span>┃<span style=\"font-weight: bold\">       Param # </span>┃\n",
              "┡━━━━━━━━━━━━━━━━━━━━━━━━━━━━━━━━━╇━━━━━━━━━━━━━━━━━━━━━━━━╇━━━━━━━━━━━━━━━┩\n",
              "│ input_layer (<span style=\"color: #0087ff; text-decoration-color: #0087ff\">InputLayer</span>)        │ (<span style=\"color: #00d7ff; text-decoration-color: #00d7ff\">None</span>, <span style=\"color: #00af00; text-decoration-color: #00af00\">6</span>, <span style=\"color: #00af00; text-decoration-color: #00af00\">5</span>, <span style=\"color: #00af00; text-decoration-color: #00af00\">1</span>)        │             <span style=\"color: #00af00; text-decoration-color: #00af00\">0</span> │\n",
              "├─────────────────────────────────┼────────────────────────┼───────────────┤\n",
              "│ dense (<span style=\"color: #0087ff; text-decoration-color: #0087ff\">Dense</span>)                   │ (<span style=\"color: #00d7ff; text-decoration-color: #00d7ff\">None</span>, <span style=\"color: #00af00; text-decoration-color: #00af00\">6</span>, <span style=\"color: #00af00; text-decoration-color: #00af00\">5</span>, <span style=\"color: #00af00; text-decoration-color: #00af00\">512</span>)      │         <span style=\"color: #00af00; text-decoration-color: #00af00\">1,024</span> │\n",
              "├─────────────────────────────────┼────────────────────────┼───────────────┤\n",
              "│ conv2d (<span style=\"color: #0087ff; text-decoration-color: #0087ff\">Conv2D</span>)                 │ (<span style=\"color: #00d7ff; text-decoration-color: #00d7ff\">None</span>, <span style=\"color: #00af00; text-decoration-color: #00af00\">6</span>, <span style=\"color: #00af00; text-decoration-color: #00af00\">5</span>, <span style=\"color: #00af00; text-decoration-color: #00af00\">32</span>)       │       <span style=\"color: #00af00; text-decoration-color: #00af00\">147,488</span> │\n",
              "├─────────────────────────────────┼────────────────────────┼───────────────┤\n",
              "│ max_pooling2d (<span style=\"color: #0087ff; text-decoration-color: #0087ff\">MaxPooling2D</span>)    │ (<span style=\"color: #00d7ff; text-decoration-color: #00d7ff\">None</span>, <span style=\"color: #00af00; text-decoration-color: #00af00\">3</span>, <span style=\"color: #00af00; text-decoration-color: #00af00\">2</span>, <span style=\"color: #00af00; text-decoration-color: #00af00\">32</span>)       │             <span style=\"color: #00af00; text-decoration-color: #00af00\">0</span> │\n",
              "├─────────────────────────────────┼────────────────────────┼───────────────┤\n",
              "│ batch_normalization             │ (<span style=\"color: #00d7ff; text-decoration-color: #00d7ff\">None</span>, <span style=\"color: #00af00; text-decoration-color: #00af00\">3</span>, <span style=\"color: #00af00; text-decoration-color: #00af00\">2</span>, <span style=\"color: #00af00; text-decoration-color: #00af00\">32</span>)       │           <span style=\"color: #00af00; text-decoration-color: #00af00\">128</span> │\n",
              "│ (<span style=\"color: #0087ff; text-decoration-color: #0087ff\">BatchNormalization</span>)            │                        │               │\n",
              "├─────────────────────────────────┼────────────────────────┼───────────────┤\n",
              "│ dropout (<span style=\"color: #0087ff; text-decoration-color: #0087ff\">Dropout</span>)               │ (<span style=\"color: #00d7ff; text-decoration-color: #00d7ff\">None</span>, <span style=\"color: #00af00; text-decoration-color: #00af00\">3</span>, <span style=\"color: #00af00; text-decoration-color: #00af00\">2</span>, <span style=\"color: #00af00; text-decoration-color: #00af00\">32</span>)       │             <span style=\"color: #00af00; text-decoration-color: #00af00\">0</span> │\n",
              "├─────────────────────────────────┼────────────────────────┼───────────────┤\n",
              "│ dense_1 (<span style=\"color: #0087ff; text-decoration-color: #0087ff\">Dense</span>)                 │ (<span style=\"color: #00d7ff; text-decoration-color: #00d7ff\">None</span>, <span style=\"color: #00af00; text-decoration-color: #00af00\">3</span>, <span style=\"color: #00af00; text-decoration-color: #00af00\">2</span>, <span style=\"color: #00af00; text-decoration-color: #00af00\">256</span>)      │         <span style=\"color: #00af00; text-decoration-color: #00af00\">8,448</span> │\n",
              "├─────────────────────────────────┼────────────────────────┼───────────────┤\n",
              "│ batch_normalization_1           │ (<span style=\"color: #00d7ff; text-decoration-color: #00d7ff\">None</span>, <span style=\"color: #00af00; text-decoration-color: #00af00\">3</span>, <span style=\"color: #00af00; text-decoration-color: #00af00\">2</span>, <span style=\"color: #00af00; text-decoration-color: #00af00\">256</span>)      │         <span style=\"color: #00af00; text-decoration-color: #00af00\">1,024</span> │\n",
              "│ (<span style=\"color: #0087ff; text-decoration-color: #0087ff\">BatchNormalization</span>)            │                        │               │\n",
              "├─────────────────────────────────┼────────────────────────┼───────────────┤\n",
              "│ dropout_1 (<span style=\"color: #0087ff; text-decoration-color: #0087ff\">Dropout</span>)             │ (<span style=\"color: #00d7ff; text-decoration-color: #00d7ff\">None</span>, <span style=\"color: #00af00; text-decoration-color: #00af00\">3</span>, <span style=\"color: #00af00; text-decoration-color: #00af00\">2</span>, <span style=\"color: #00af00; text-decoration-color: #00af00\">256</span>)      │             <span style=\"color: #00af00; text-decoration-color: #00af00\">0</span> │\n",
              "├─────────────────────────────────┼────────────────────────┼───────────────┤\n",
              "│ dense_2 (<span style=\"color: #0087ff; text-decoration-color: #0087ff\">Dense</span>)                 │ (<span style=\"color: #00d7ff; text-decoration-color: #00d7ff\">None</span>, <span style=\"color: #00af00; text-decoration-color: #00af00\">3</span>, <span style=\"color: #00af00; text-decoration-color: #00af00\">2</span>, <span style=\"color: #00af00; text-decoration-color: #00af00\">256</span>)      │        <span style=\"color: #00af00; text-decoration-color: #00af00\">65,792</span> │\n",
              "├─────────────────────────────────┼────────────────────────┼───────────────┤\n",
              "│ batch_normalization_2           │ (<span style=\"color: #00d7ff; text-decoration-color: #00d7ff\">None</span>, <span style=\"color: #00af00; text-decoration-color: #00af00\">3</span>, <span style=\"color: #00af00; text-decoration-color: #00af00\">2</span>, <span style=\"color: #00af00; text-decoration-color: #00af00\">256</span>)      │         <span style=\"color: #00af00; text-decoration-color: #00af00\">1,024</span> │\n",
              "│ (<span style=\"color: #0087ff; text-decoration-color: #0087ff\">BatchNormalization</span>)            │                        │               │\n",
              "├─────────────────────────────────┼────────────────────────┼───────────────┤\n",
              "│ dropout_2 (<span style=\"color: #0087ff; text-decoration-color: #0087ff\">Dropout</span>)             │ (<span style=\"color: #00d7ff; text-decoration-color: #00d7ff\">None</span>, <span style=\"color: #00af00; text-decoration-color: #00af00\">3</span>, <span style=\"color: #00af00; text-decoration-color: #00af00\">2</span>, <span style=\"color: #00af00; text-decoration-color: #00af00\">256</span>)      │             <span style=\"color: #00af00; text-decoration-color: #00af00\">0</span> │\n",
              "├─────────────────────────────────┼────────────────────────┼───────────────┤\n",
              "│ flatten (<span style=\"color: #0087ff; text-decoration-color: #0087ff\">Flatten</span>)               │ (<span style=\"color: #00d7ff; text-decoration-color: #00d7ff\">None</span>, <span style=\"color: #00af00; text-decoration-color: #00af00\">1536</span>)           │             <span style=\"color: #00af00; text-decoration-color: #00af00\">0</span> │\n",
              "├─────────────────────────────────┼────────────────────────┼───────────────┤\n",
              "│ dense_3 (<span style=\"color: #0087ff; text-decoration-color: #0087ff\">Dense</span>)                 │ (<span style=\"color: #00d7ff; text-decoration-color: #00d7ff\">None</span>, <span style=\"color: #00af00; text-decoration-color: #00af00\">128</span>)            │       <span style=\"color: #00af00; text-decoration-color: #00af00\">196,736</span> │\n",
              "├─────────────────────────────────┼────────────────────────┼───────────────┤\n",
              "│ batch_normalization_3           │ (<span style=\"color: #00d7ff; text-decoration-color: #00d7ff\">None</span>, <span style=\"color: #00af00; text-decoration-color: #00af00\">128</span>)            │           <span style=\"color: #00af00; text-decoration-color: #00af00\">512</span> │\n",
              "│ (<span style=\"color: #0087ff; text-decoration-color: #0087ff\">BatchNormalization</span>)            │                        │               │\n",
              "├─────────────────────────────────┼────────────────────────┼───────────────┤\n",
              "│ dropout_3 (<span style=\"color: #0087ff; text-decoration-color: #0087ff\">Dropout</span>)             │ (<span style=\"color: #00d7ff; text-decoration-color: #00d7ff\">None</span>, <span style=\"color: #00af00; text-decoration-color: #00af00\">128</span>)            │             <span style=\"color: #00af00; text-decoration-color: #00af00\">0</span> │\n",
              "├─────────────────────────────────┼────────────────────────┼───────────────┤\n",
              "│ dense_4 (<span style=\"color: #0087ff; text-decoration-color: #0087ff\">Dense</span>)                 │ (<span style=\"color: #00d7ff; text-decoration-color: #00d7ff\">None</span>, <span style=\"color: #00af00; text-decoration-color: #00af00\">1</span>)              │           <span style=\"color: #00af00; text-decoration-color: #00af00\">129</span> │\n",
              "└─────────────────────────────────┴────────────────────────┴───────────────┘\n",
              "</pre>\n"
            ]
          },
          "metadata": {}
        },
        {
          "output_type": "display_data",
          "data": {
            "text/plain": [
              "\u001b[1m Total params: \u001b[0m\u001b[38;5;34m422,305\u001b[0m (1.61 MB)\n"
            ],
            "text/html": [
              "<pre style=\"white-space:pre;overflow-x:auto;line-height:normal;font-family:Menlo,'DejaVu Sans Mono',consolas,'Courier New',monospace\"><span style=\"font-weight: bold\"> Total params: </span><span style=\"color: #00af00; text-decoration-color: #00af00\">422,305</span> (1.61 MB)\n",
              "</pre>\n"
            ]
          },
          "metadata": {}
        },
        {
          "output_type": "display_data",
          "data": {
            "text/plain": [
              "\u001b[1m Trainable params: \u001b[0m\u001b[38;5;34m420,961\u001b[0m (1.61 MB)\n"
            ],
            "text/html": [
              "<pre style=\"white-space:pre;overflow-x:auto;line-height:normal;font-family:Menlo,'DejaVu Sans Mono',consolas,'Courier New',monospace\"><span style=\"font-weight: bold\"> Trainable params: </span><span style=\"color: #00af00; text-decoration-color: #00af00\">420,961</span> (1.61 MB)\n",
              "</pre>\n"
            ]
          },
          "metadata": {}
        },
        {
          "output_type": "display_data",
          "data": {
            "text/plain": [
              "\u001b[1m Non-trainable params: \u001b[0m\u001b[38;5;34m1,344\u001b[0m (5.25 KB)\n"
            ],
            "text/html": [
              "<pre style=\"white-space:pre;overflow-x:auto;line-height:normal;font-family:Menlo,'DejaVu Sans Mono',consolas,'Courier New',monospace\"><span style=\"font-weight: bold\"> Non-trainable params: </span><span style=\"color: #00af00; text-decoration-color: #00af00\">1,344</span> (5.25 KB)\n",
              "</pre>\n"
            ]
          },
          "metadata": {}
        }
      ]
    },
    {
      "cell_type": "code",
      "source": [
        "history=model.fit(x=X_train,y=y_train,batch_size=512,epochs=10,validation_data=(X_val,y_val),verbose=1)"
      ],
      "metadata": {
        "colab": {
          "base_uri": "https://localhost:8080/"
        },
        "id": "qamqY-XoeA5S",
        "outputId": "2e63ec9d-8eb7-4e51-ef08-3c8aed7e99a9"
      },
      "execution_count": null,
      "outputs": [
        {
          "output_type": "stream",
          "name": "stdout",
          "text": [
            "Epoch 1/10\n",
            "\u001b[1m357/357\u001b[0m \u001b[32m━━━━━━━━━━━━━━━━━━━━\u001b[0m\u001b[37m\u001b[0m \u001b[1m320s\u001b[0m 896ms/step - binary_accuracy: 0.6219 - loss: 0.6729 - val_binary_accuracy: 0.9992 - val_loss: 0.3731\n",
            "Epoch 2/10\n",
            "\u001b[1m357/357\u001b[0m \u001b[32m━━━━━━━━━━━━━━━━━━━━\u001b[0m\u001b[37m\u001b[0m \u001b[1m319s\u001b[0m 894ms/step - binary_accuracy: 0.8636 - loss: 0.4362 - val_binary_accuracy: 0.9993 - val_loss: 0.2459\n",
            "Epoch 3/10\n",
            "\u001b[1m357/357\u001b[0m \u001b[32m━━━━━━━━━━━━━━━━━━━━\u001b[0m\u001b[37m\u001b[0m \u001b[1m321s\u001b[0m 898ms/step - binary_accuracy: 0.9656 - loss: 0.2574 - val_binary_accuracy: 0.9993 - val_loss: 0.1218\n",
            "Epoch 4/10\n",
            "\u001b[1m357/357\u001b[0m \u001b[32m━━━━━━━━━━━━━━━━━━━━\u001b[0m\u001b[37m\u001b[0m \u001b[1m317s\u001b[0m 889ms/step - binary_accuracy: 0.9900 - loss: 0.1428 - val_binary_accuracy: 0.9992 - val_loss: 0.0643\n",
            "Epoch 5/10\n",
            "\u001b[1m357/357\u001b[0m \u001b[32m━━━━━━━━━━━━━━━━━━━━\u001b[0m\u001b[37m\u001b[0m \u001b[1m317s\u001b[0m 888ms/step - binary_accuracy: 0.9953 - loss: 0.0822 - val_binary_accuracy: 0.9993 - val_loss: 0.0380\n",
            "Epoch 6/10\n",
            "\u001b[1m357/357\u001b[0m \u001b[32m━━━━━━━━━━━━━━━━━━━━\u001b[0m\u001b[37m\u001b[0m \u001b[1m317s\u001b[0m 888ms/step - binary_accuracy: 0.9971 - loss: 0.0508 - val_binary_accuracy: 0.9993 - val_loss: 0.0250\n",
            "Epoch 7/10\n",
            "\u001b[1m357/357\u001b[0m \u001b[32m━━━━━━━━━━━━━━━━━━━━\u001b[0m\u001b[37m\u001b[0m \u001b[1m316s\u001b[0m 886ms/step - binary_accuracy: 0.9979 - loss: 0.0338 - val_binary_accuracy: 0.9993 - val_loss: 0.0169\n",
            "Epoch 8/10\n",
            "\u001b[1m357/357\u001b[0m \u001b[32m━━━━━━━━━━━━━━━━━━━━\u001b[0m\u001b[37m\u001b[0m \u001b[1m314s\u001b[0m 878ms/step - binary_accuracy: 0.9984 - loss: 0.0242 - val_binary_accuracy: 0.9993 - val_loss: 0.0129\n",
            "Epoch 9/10\n",
            "\u001b[1m357/357\u001b[0m \u001b[32m━━━━━━━━━━━━━━━━━━━━\u001b[0m\u001b[37m\u001b[0m \u001b[1m312s\u001b[0m 874ms/step - binary_accuracy: 0.9986 - loss: 0.0184 - val_binary_accuracy: 0.9993 - val_loss: 0.0100\n",
            "Epoch 10/10\n",
            "\u001b[1m357/357\u001b[0m \u001b[32m━━━━━━━━━━━━━━━━━━━━\u001b[0m\u001b[37m\u001b[0m \u001b[1m312s\u001b[0m 875ms/step - binary_accuracy: 0.9989 - loss: 0.0136 - val_binary_accuracy: 0.9993 - val_loss: 0.0083\n"
          ]
        }
      ]
    },
    {
      "cell_type": "markdown",
      "source": [
        "# training accuracy"
      ],
      "metadata": {
        "id": "qiec9RP14u8M"
      }
    },
    {
      "cell_type": "code",
      "source": [
        "print(\"\\n model training accuracy \\n using binary_accuracy as metrics\\n \\n\",history.history['binary_accuracy'])"
      ],
      "metadata": {
        "colab": {
          "base_uri": "https://localhost:8080/"
        },
        "id": "BtamzhYs4cI1",
        "outputId": "f2789e04-8b38-434c-d076-73fc25c05ac5"
      },
      "execution_count": null,
      "outputs": [
        {
          "output_type": "stream",
          "name": "stdout",
          "text": [
            "\n",
            " model training accuracy \n",
            " using binary_accuracy as metrics\n",
            " \n",
            " [0.6867333054542542, 0.898582398891449, 0.9746373891830444, 0.9915896654129028, 0.9958689212799072, 0.9972843527793884, 0.9980030059814453, 0.9984967708587646, 0.9986448884010315, 0.9988643527030945]\n"
          ]
        }
      ]
    },
    {
      "cell_type": "markdown",
      "source": [
        "# validation accuracy"
      ],
      "metadata": {
        "id": "cdn9cq7Y4xnR"
      }
    },
    {
      "cell_type": "code",
      "source": [
        "print(\"\\n model validation accuracy \\n using binary_accuracy as metrics\\n \\n\",history.history['val_binary_accuracy'])"
      ],
      "metadata": {
        "colab": {
          "base_uri": "https://localhost:8080/"
        },
        "id": "9HgNIt-x40R8",
        "outputId": "0e284945-2d19-4090-a0ab-f620451c9920"
      },
      "execution_count": null,
      "outputs": [
        {
          "output_type": "stream",
          "name": "stdout",
          "text": [
            "\n",
            " model validation accuracy \n",
            " using binary_accuracy as metrics\n",
            " \n",
            " [0.999210000038147, 0.9993197321891785, 0.9992538690567017, 0.9992319345474243, 0.9993197321891785, 0.9993416666984558, 0.9992977976799011, 0.9993197321891785, 0.9993416666984558, 0.9993416666984558]\n"
          ]
        }
      ]
    },
    {
      "cell_type": "markdown",
      "source": [
        "# **predict**\n",
        "  and\n",
        "\n",
        "# **evaluate**  "
      ],
      "metadata": {
        "id": "85SJRDPH46xV"
      }
    },
    {
      "cell_type": "code",
      "source": [
        "predict =model.predict(X_test)\n",
        "loss, accuracy= model.evaluate(X_test,y_test)"
      ],
      "metadata": {
        "colab": {
          "base_uri": "https://localhost:8080/"
        },
        "id": "UYL28xv3gtLW",
        "outputId": "98b9c25a-4111-4f82-f9c4-01ff9d7b82f0"
      },
      "execution_count": null,
      "outputs": [
        {
          "output_type": "stream",
          "name": "stdout",
          "text": [
            "\u001b[1m1781/1781\u001b[0m \u001b[32m━━━━━━━━━━━━━━━━━━━━\u001b[0m\u001b[37m\u001b[0m \u001b[1m33s\u001b[0m 19ms/step\n",
            "\u001b[1m1781/1781\u001b[0m \u001b[32m━━━━━━━━━━━━━━━━━━━━\u001b[0m\u001b[37m\u001b[0m \u001b[1m32s\u001b[0m 18ms/step - binary_accuracy: 0.9993 - loss: 0.0083\n"
          ]
        }
      ]
    },
    {
      "cell_type": "code",
      "source": [
        "print(\"model.Evaluate  loss and accuracy \")\n",
        "print(\"\\n Accuracy =\",accuracy)\n",
        "\n",
        "print(\"\\n Loss = \",loss)"
      ],
      "metadata": {
        "colab": {
          "base_uri": "https://localhost:8080/"
        },
        "id": "FPhyLIzh4GB6",
        "outputId": "68eff93f-df24-4cc5-bcf0-0f48f3c5def9"
      },
      "execution_count": null,
      "outputs": [
        {
          "output_type": "stream",
          "name": "stdout",
          "text": [
            "model.Evaluate  loss and accuracy \n",
            "\n",
            " Accuracy = 0.9992626905441284\n",
            "\n",
            " Loss =  0.00845449510961771\n"
          ]
        }
      ]
    },
    {
      "cell_type": "markdown",
      "source": [
        "# saveing model"
      ],
      "metadata": {
        "id": "0IkNzFgy2HrN"
      }
    },
    {
      "cell_type": "code",
      "source": [
        "model.save('/content/drive/MyDrive/PYTHON-DEMO/projects_private/creditcard_model.h5')\n"
      ],
      "metadata": {
        "colab": {
          "base_uri": "https://localhost:8080/"
        },
        "id": "DB_rhbyp2HJq",
        "outputId": "c3e08f3a-fa34-4ff1-a7e8-2ebf027d8c2a"
      },
      "execution_count": null,
      "outputs": [
        {
          "output_type": "stream",
          "name": "stderr",
          "text": [
            "WARNING:absl:You are saving your model as an HDF5 file via `model.save()` or `keras.saving.save_model(model)`. This file format is considered legacy. We recommend using instead the native Keras format, e.g. `model.save('my_model.keras')` or `keras.saving.save_model(model, 'my_model.keras')`. \n"
          ]
        }
      ]
    },
    {
      "cell_type": "code",
      "source": [],
      "metadata": {
        "id": "InkPtR672O-b"
      },
      "execution_count": null,
      "outputs": []
    },
    {
      "cell_type": "markdown",
      "source": [
        "# plot accuracy vs val\n",
        "\n",
        "#**calculating epochs**"
      ],
      "metadata": {
        "id": "CX0t7Jp3gTDO"
      }
    },
    {
      "cell_type": "code",
      "source": [
        "epochs=range(1,len(history.history['binary_accuracy'])+1)\n",
        "# epochs=range(0,history.params['epochs'])\n",
        "\n",
        "accuracy1=history.history['binary_accuracy']\n",
        "val_accuracy=history.history['val_binary_accuracy']\n",
        "loss1=history.history['loss']\n",
        "val_loss=history.history['val_loss']"
      ],
      "metadata": {
        "id": "HLMLuqC6dgCn"
      },
      "execution_count": null,
      "outputs": []
    },
    {
      "cell_type": "code",
      "source": [
        "\n",
        "plt.plot(epochs,accuracy,\"--\",label='training accuracy')\n",
        "# plt.plot(epochs,val_accuracy,'*',label='validation accuracy')\n",
        "plt.plot(epochs,val_accuracy,label='validation accuracy')\n",
        "plt.xlabel('epochs')\n",
        "plt.ylabel('accuracy')\n",
        "plt.legend()\n",
        "plt.show()"
      ],
      "metadata": {
        "colab": {
          "base_uri": "https://localhost:8080/",
          "height": 449
        },
        "id": "tT0qzKJt1_OK",
        "outputId": "1d6bb765-6464-4f96-d78c-11d3f504412e"
      },
      "execution_count": null,
      "outputs": [
        {
          "output_type": "display_data",
          "data": {
            "text/plain": [
              "<Figure size 640x480 with 1 Axes>"
            ],
            "image/png": "[encoded data removed]"
          },
          "metadata": {}
        }
      ]
    },
    {
      "cell_type": "code",
      "source": [
        "plt.plot(epochs,binart)"
      ],
      "metadata": {
        "id": "sb1q6_Vx5gEQ"
      },
      "execution_count": null,
      "outputs": []
    },
    {
      "cell_type": "markdown",
      "source": [
        "#since model.evaluate() returns 2 values i.e loss and accuracy #**ploting evaluated accuracy is not possible**\n",
        "using model.evaluate() method"
      ],
      "metadata": {
        "id": "O9Ev4MD55En7"
      }
    },
    {
      "cell_type": "code",
      "source": [
        "# epochs=range(1,len(history.history['loss'])+1)"
      ],
      "metadata": {
        "id": "pLvqkbRo5PPC"
      },
      "execution_count": null,
      "outputs": []
    },
    {
      "cell_type": "code",
      "source": [
        "# plt.plot(epochs,loss)"
      ],
      "metadata": {
        "id": "OyU-j-lG3_DG"
      },
      "execution_count": null,
      "outputs": []
    },
    {
      "cell_type": "code",
      "source": [
        "# x=layers.Dense"
      ],
      "metadata": {
        "id": "JvhgCf8XXR7M"
      },
      "execution_count": null,
      "outputs": []
    },
    {
      "cell_type": "markdown",
      "source": [
        "# **confusion matrix**"
      ],
      "metadata": {
        "id": "yobkaw3Y86MP"
      }
    },
    {
      "cell_type": "code",
      "source": [
        "from sklearn.metrics import confusion_matrix as cmd"
      ],
      "metadata": {
        "id": "1PUlakXV85CO"
      },
      "execution_count": null,
      "outputs": []
    },
    {
      "cell_type": "code",
      "source": [
        "from sklearn.metrics import ConfusionMatrixDisplay  as cmd"
      ],
      "metadata": {
        "id": "2zlvwCM-AKbY"
      },
      "execution_count": null,
      "outputs": []
    },
    {
      "cell_type": "code",
      "source": [
        "from sklearn.metrics import classification_report"
      ],
      "metadata": {
        "id": "HtYqwm9F93Fi"
      },
      "execution_count": null,
      "outputs": []
    },
    {
      "cell_type": "code",
      "source": [
        "from plotly.offline import iplot\n",
        "import plotly.graph_objs as go\n",
        "import plotly.express as px\n",
        "import seaborn as sns\n",
        "sns.reset_orig()"
      ],
      "metadata": {
        "id": "gf2RW8mo9DV3"
      },
      "execution_count": null,
      "outputs": []
    },
    {
      "cell_type": "markdown",
      "source": [
        "# **values greater than 0.05**"
      ],
      "metadata": {
        "id": "dl4WGzGX9qlV"
      }
    },
    {
      "cell_type": "code",
      "source": [
        "y_pred= predict.round(8)>0.5\n",
        "y_pred"
      ],
      "metadata": {
        "colab": {
          "base_uri": "https://localhost:8080/"
        },
        "id": "tA83Z2u89FyY",
        "outputId": "336678d1-aad4-46f2-b620-89b02d745107"
      },
      "execution_count": null,
      "outputs": [
        {
          "output_type": "execute_result",
          "data": {
            "text/plain": [
              "array([[False],\n",
              "       [False],\n",
              "       [False],\n",
              "       ...,\n",
              "       [False],\n",
              "       [False],\n",
              "       [False]])"
            ]
          },
          "metadata": {},
          "execution_count": 98
        }
      ]
    },
    {
      "cell_type": "code",
      "source": [
        "label1=['non-fraud','fraud']\n",
        "cmat=confusion_matrix(y_test,y_pred)"
      ],
      "metadata": {
        "id": "sBeXJtEP9e83"
      },
      "execution_count": null,
      "outputs": []
    },
    {
      "cell_type": "code",
      "source": [
        "from sklearn.metrics import confusion_matrix, ConfusionMatrixDisplay\n",
        "ConfusionMatrixDisplay(cmat,display_labels=label1).plot(cmap='Blues')\n",
        "\n",
        "\n",
        "# # Compute the confusion matrix\n",
        "# cmat = confusion_matrix(y_test, y_pred)\n",
        "\n",
        "# # Display the confusion matrix\n",
        "# ConfusionMatrixDisplay(confusion_matrix=cmat, display_labels=['Not Fraud', 'Fraud']).plot(cmap='Blues')\n"
      ],
      "metadata": {
        "colab": {
          "base_uri": "https://localhost:8080/",
          "height": 466
        },
        "id": "8GApLsF3-jen",
        "outputId": "80642118-12d9-48bd-8544-75fc59b89c9b"
      },
      "execution_count": null,
      "outputs": [
        {
          "output_type": "execute_result",
          "data": {
            "text/plain": [
              "<sklearn.metrics._plot.confusion_matrix.ConfusionMatrixDisplay at 0x7fdeb83c1fd0>"
            ]
          },
          "metadata": {},
          "execution_count": 125
        },
        {
          "output_type": "display_data",
          "data": {
            "text/plain": [
              "<Figure size 640x480 with 2 Axes>"
            ],
            "image/png": "[encoded data removed]"
          },
          "metadata": {}
        }
      ]
    },
    {
      "cell_type": "code",
      "source": [
        "# # cmd.from_predictions(y_test,y_pred,display_labels=label1,cmap='berlin',colorbar=True)\n",
        "# # Update cell text to bold and black\n",
        "# # for text_obj in cmd.ax_.texts:\n",
        "# #     text_obj.set_fontweight('bold')\n",
        "# #     text_obj.set_color('black')\n",
        "\n",
        "# # plt.show()\n",
        "# text_obj.set_fontsize(12)\n",
        "# text_obj.set_family('monospace')  # or 'sans-serif'\n"
      ],
      "metadata": {
        "id": "QG5ZqsdcAjzN"
      },
      "execution_count": null,
      "outputs": []
    },
    {
      "cell_type": "code",
      "source": [
        "from sklearn.metrics import ConfusionMatrixDisplay\n",
        "import matplotlib.pyplot as plt\n",
        "\n",
        "# Create confusion matrix display and store the object\n",
        "disp = ConfusionMatrixDisplay.from_predictions(\n",
        "    y_test,\n",
        "    y_pred,\n",
        "    display_labels=label1,         # e.g. ['Not Fraud', 'Fraud']\n",
        "    cmap='Accent',                  # 'berlin' is not valid; use a valid matplotlib colormap\n",
        "    colorbar=True\n",
        ")\n",
        "\n",
        "# Update each text object in the confusion matrix to be bold and black\n",
        "for text_obj in disp.ax_.texts:\n",
        "    text_obj.set_fontweight('bold')\n",
        "    text_obj.set_color('black')\n",
        "\n",
        "plt.show()\n"
      ],
      "metadata": {
        "colab": {
          "base_uri": "https://localhost:8080/",
          "height": 449
        },
        "id": "zHKM_gyfBlA8",
        "outputId": "5d850d55-582d-4a9d-f375-863949512580"
      },
      "execution_count": null,
      "outputs": [
        {
          "output_type": "display_data",
          "data": {
            "text/plain": [
              "<Figure size 640x480 with 2 Axes>"
            ],
            "image/png": "[encoded data removed]"
          },
          "metadata": {}
        }
      ]
    },
    {
      "cell_type": "markdown",
      "source": [
        "# **non fraud %**\n",
        "# **true positive**\n",
        "## actual legitinmate transactions %"
      ],
      "metadata": {
        "id": "H8vS_ZqCCV1o"
      }
    },
    {
      "cell_type": "markdown",
      "source": [
        "![image.png](data:image/png;base64,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)"
      ],
      "metadata": {
        "id": "Ax9iXkK2CUNQ"
      }
    },
    {
      "cell_type": "code",
      "source": [
        "#true +ve\n",
        "non_fraud=56844/confusion_matrix(y_test,y_pred)[0].sum()\n",
        "true_positive=non_fraud\n",
        "true_positive"
      ],
      "metadata": {
        "colab": {
          "base_uri": "https://localhost:8080/"
        },
        "id": "eTPld2jTB-iH",
        "outputId": "d1dc798a-c455-46cb-a51c-f8a5476dcdfa"
      },
      "execution_count": null,
      "outputs": [
        {
          "output_type": "execute_result",
          "data": {
            "text/plain": [
              "np.float64(0.9996482836240855)"
            ]
          },
          "metadata": {},
          "execution_count": 154
        }
      ]
    },
    {
      "cell_type": "code",
      "source": [
        "print(classification_report(y_test,y_pred,labels=[1,0]))"
      ],
      "metadata": {
        "colab": {
          "base_uri": "https://localhost:8080/"
        },
        "id": "4USZsls3CLXa",
        "outputId": "27dfcce6-972e-4b06-bdc5-1bb33224209a"
      },
      "execution_count": null,
      "outputs": [
        {
          "output_type": "stream",
          "name": "stdout",
          "text": [
            "              precision    recall  f1-score   support\n",
            "\n",
            "           1       0.79      0.78      0.78        98\n",
            "           0       1.00      1.00      1.00     56864\n",
            "\n",
            "    accuracy                           1.00     56962\n",
            "   macro avg       0.90      0.89      0.89     56962\n",
            "weighted avg       1.00      1.00      1.00     56962\n",
            "\n"
          ]
        }
      ]
    }
  ]
}