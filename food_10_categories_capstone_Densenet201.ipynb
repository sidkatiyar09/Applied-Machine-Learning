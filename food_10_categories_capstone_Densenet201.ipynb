{
  "cells": [
    {
      "cell_type": "markdown",
      "metadata": {
        "id": "view-in-github",
        "colab_type": "text"
      },
      "source": [
        "<a href=\"https://colab.research.google.com/github/sidkatiyar09/Applied-Machine-Learning/blob/main/food_10_categories_capstone_Densenet201.ipynb\" target=\"_parent\"><img src=\"https://colab.research.google.com/assets/colab-badge.svg\" alt=\"Open In Colab\"/></a>"
      ]
    },
    {
      "cell_type": "code",
      "execution_count": 2,
      "metadata": {
        "colab": {
          "base_uri": "https://localhost:8080/"
        },
        "id": "YSR8As2rv9Hv",
        "outputId": "e432a5bf-7de1-4e59-f42b-24e2c8ac9f2f"
      },
      "outputs": [
        {
          "output_type": "stream",
          "name": "stdout",
          "text": [
            "Mounted at /content/drive\n"
          ]
        }
      ],
      "source": [
        "from google.colab import drive\n",
        "drive.mount('/content/drive')"
      ]
    },
    {
      "cell_type": "code",
      "source": [
        "!pip install tensorflow\n",
        "# # !pip install keras.image.ImageDataGenerator\n",
        "# # !pip install tensorflow opencv-python -q\n",
        "# !pip install plotly\n"
      ],
      "metadata": {
        "colab": {
          "base_uri": "https://localhost:8080/"
        },
        "collapsed": true,
        "id": "0MT-fzVoZfpy",
        "outputId": "6b3a9f13-1855-43f1-ab42-a9fcc8fa5094"
      },
      "execution_count": 4,
      "outputs": [
        {
          "output_type": "stream",
          "name": "stdout",
          "text": [
            "Collecting tensorflow\n",
            "  Downloading tensorflow-2.19.0-cp311-cp311-manylinux_2_17_x86_64.manylinux2014_x86_64.whl.metadata (4.1 kB)\n",
            "Requirement already satisfied: absl-py>=1.0.0 in /usr/local/lib/python3.11/dist-packages (from tensorflow) (1.4.0)\n",
            "Collecting astunparse>=1.6.0 (from tensorflow)\n",
            "  Downloading astunparse-1.6.3-py2.py3-none-any.whl.metadata (4.4 kB)\n",
            "Collecting flatbuffers>=24.3.25 (from tensorflow)\n",
            "  Downloading flatbuffers-25.2.10-py2.py3-none-any.whl.metadata (875 bytes)\n",
            "Requirement already satisfied: gast!=0.5.0,!=0.5.1,!=0.5.2,>=0.2.1 in /usr/local/lib/python3.11/dist-packages (from tensorflow) (0.6.0)\n",
            "Collecting google-pasta>=0.1.1 (from tensorflow)\n",
            "  Downloading google_pasta-0.2.0-py3-none-any.whl.metadata (814 bytes)\n",
            "Collecting libclang>=13.0.0 (from tensorflow)\n",
            "  Downloading libclang-18.1.1-py2.py3-none-manylinux2010_x86_64.whl.metadata (5.2 kB)\n",
            "Requirement already satisfied: opt-einsum>=2.3.2 in /usr/local/lib/python3.11/dist-packages (from tensorflow) (3.4.0)\n",
            "Requirement already satisfied: packaging in /usr/local/lib/python3.11/dist-packages (from tensorflow) (25.0)\n",
            "Requirement already satisfied: protobuf!=4.21.0,!=4.21.1,!=4.21.2,!=4.21.3,!=4.21.4,!=4.21.5,<6.0.0dev,>=3.20.3 in /usr/local/lib/python3.11/dist-packages (from tensorflow) (5.29.5)\n",
            "Requirement already satisfied: requests<3,>=2.21.0 in /usr/local/lib/python3.11/dist-packages (from tensorflow) (2.32.3)\n",
            "Requirement already satisfied: setuptools in /usr/local/lib/python3.11/dist-packages (from tensorflow) (75.2.0)\n",
            "Requirement already satisfied: six>=1.12.0 in /usr/local/lib/python3.11/dist-packages (from tensorflow) (1.17.0)\n",
            "Requirement already satisfied: termcolor>=1.1.0 in /usr/local/lib/python3.11/dist-packages (from tensorflow) (3.1.0)\n",
            "Requirement already satisfied: typing-extensions>=3.6.6 in /usr/local/lib/python3.11/dist-packages (from tensorflow) (4.14.0)\n",
            "Requirement already satisfied: wrapt>=1.11.0 in /usr/local/lib/python3.11/dist-packages (from tensorflow) (1.17.2)\n",
            "Requirement already satisfied: grpcio<2.0,>=1.24.3 in /usr/local/lib/python3.11/dist-packages (from tensorflow) (1.72.1)\n",
            "Collecting tensorboard~=2.19.0 (from tensorflow)\n",
            "  Downloading tensorboard-2.19.0-py3-none-any.whl.metadata (1.8 kB)\n",
            "Requirement already satisfied: keras>=3.5.0 in /usr/local/lib/python3.11/dist-packages (from tensorflow) (3.8.0)\n",
            "Requirement already satisfied: numpy<2.2.0,>=1.26.0 in /usr/local/lib/python3.11/dist-packages (from tensorflow) (2.0.2)\n",
            "Requirement already satisfied: h5py>=3.11.0 in /usr/local/lib/python3.11/dist-packages (from tensorflow) (3.13.0)\n",
            "Requirement already satisfied: ml-dtypes<1.0.0,>=0.5.1 in /usr/local/lib/python3.11/dist-packages (from tensorflow) (0.5.1)\n",
            "Collecting tensorflow-io-gcs-filesystem>=0.23.1 (from tensorflow)\n",
            "  Downloading tensorflow_io_gcs_filesystem-0.37.1-cp311-cp311-manylinux_2_17_x86_64.manylinux2014_x86_64.whl.metadata (14 kB)\n",
            "Collecting wheel<1.0,>=0.23.0 (from astunparse>=1.6.0->tensorflow)\n",
            "  Downloading wheel-0.45.1-py3-none-any.whl.metadata (2.3 kB)\n",
            "Requirement already satisfied: rich in /usr/local/lib/python3.11/dist-packages (from keras>=3.5.0->tensorflow) (14.0.0)\n",
            "Requirement already satisfied: namex in /usr/local/lib/python3.11/dist-packages (from keras>=3.5.0->tensorflow) (0.1.0)\n",
            "Requirement already satisfied: optree in /usr/local/lib/python3.11/dist-packages (from keras>=3.5.0->tensorflow) (0.16.0)\n",
            "Requirement already satisfied: charset-normalizer<4,>=2 in /usr/local/lib/python3.11/dist-packages (from requests<3,>=2.21.0->tensorflow) (3.4.2)\n",
            "Requirement already satisfied: idna<4,>=2.5 in /usr/local/lib/python3.11/dist-packages (from requests<3,>=2.21.0->tensorflow) (3.10)\n",
            "Requirement already satisfied: urllib3<3,>=1.21.1 in /usr/local/lib/python3.11/dist-packages (from requests<3,>=2.21.0->tensorflow) (2.4.0)\n",
            "Requirement already satisfied: certifi>=2017.4.17 in /usr/local/lib/python3.11/dist-packages (from requests<3,>=2.21.0->tensorflow) (2025.4.26)\n",
            "Requirement already satisfied: markdown>=2.6.8 in /usr/lib/python3/dist-packages (from tensorboard~=2.19.0->tensorflow) (3.3.6)\n",
            "Collecting tensorboard-data-server<0.8.0,>=0.7.0 (from tensorboard~=2.19.0->tensorflow)\n",
            "  Downloading tensorboard_data_server-0.7.2-py3-none-manylinux_2_31_x86_64.whl.metadata (1.1 kB)\n",
            "Collecting werkzeug>=1.0.1 (from tensorboard~=2.19.0->tensorflow)\n",
            "  Downloading werkzeug-3.1.3-py3-none-any.whl.metadata (3.7 kB)\n",
            "Requirement already satisfied: MarkupSafe>=2.1.1 in /usr/local/lib/python3.11/dist-packages (from werkzeug>=1.0.1->tensorboard~=2.19.0->tensorflow) (3.0.2)\n",
            "Requirement already satisfied: markdown-it-py>=2.2.0 in /usr/local/lib/python3.11/dist-packages (from rich->keras>=3.5.0->tensorflow) (3.0.0)\n",
            "Requirement already satisfied: pygments<3.0.0,>=2.13.0 in /usr/local/lib/python3.11/dist-packages (from rich->keras>=3.5.0->tensorflow) (2.19.1)\n",
            "Requirement already satisfied: mdurl~=0.1 in /usr/local/lib/python3.11/dist-packages (from markdown-it-py>=2.2.0->rich->keras>=3.5.0->tensorflow) (0.1.2)\n",
            "Downloading tensorflow-2.19.0-cp311-cp311-manylinux_2_17_x86_64.manylinux2014_x86_64.whl (644.9 MB)\n",
            "\u001b[2K   \u001b[90m━━━━━━━━━━━━━━━━━━━━━━━━━━━━━━━━━━━━━━━\u001b[0m \u001b[32m644.9/644.9 MB\u001b[0m \u001b[31m777.4 kB/s\u001b[0m eta \u001b[36m0:00:00\u001b[0m\n",
            "\u001b[?25hDownloading astunparse-1.6.3-py2.py3-none-any.whl (12 kB)\n",
            "Downloading flatbuffers-25.2.10-py2.py3-none-any.whl (30 kB)\n",
            "Downloading google_pasta-0.2.0-py3-none-any.whl (57 kB)\n",
            "\u001b[2K   \u001b[90m━━━━━━━━━━━━━━━━━━━━━━━━━━━━━━━━━━━━━━━━\u001b[0m \u001b[32m57.5/57.5 kB\u001b[0m \u001b[31m4.9 MB/s\u001b[0m eta \u001b[36m0:00:00\u001b[0m\n",
            "\u001b[?25hDownloading libclang-18.1.1-py2.py3-none-manylinux2010_x86_64.whl (24.5 MB)\n",
            "\u001b[2K   \u001b[90m━━━━━━━━━━━━━━━━━━━━━━━━━━━━━━━━━━━━━━━━\u001b[0m \u001b[32m24.5/24.5 MB\u001b[0m \u001b[31m73.1 MB/s\u001b[0m eta \u001b[36m0:00:00\u001b[0m\n",
            "\u001b[?25hDownloading tensorboard-2.19.0-py3-none-any.whl (5.5 MB)\n",
            "\u001b[2K   \u001b[90m━━━━━━━━━━━━━━━━━━━━━━━━━━━━━━━━━━━━━━━━\u001b[0m \u001b[32m5.5/5.5 MB\u001b[0m \u001b[31m91.1 MB/s\u001b[0m eta \u001b[36m0:00:00\u001b[0m\n",
            "\u001b[?25hDownloading tensorflow_io_gcs_filesystem-0.37.1-cp311-cp311-manylinux_2_17_x86_64.manylinux2014_x86_64.whl (5.1 MB)\n",
            "\u001b[2K   \u001b[90m━━━━━━━━━━━━━━━━━━━━━━━━━━━━━━━━━━━━━━━━\u001b[0m \u001b[32m5.1/5.1 MB\u001b[0m \u001b[31m79.4 MB/s\u001b[0m eta \u001b[36m0:00:00\u001b[0m\n",
            "\u001b[?25hDownloading tensorboard_data_server-0.7.2-py3-none-manylinux_2_31_x86_64.whl (6.6 MB)\n",
            "\u001b[2K   \u001b[90m━━━━━━━━━━━━━━━━━━━━━━━━━━━━━━━━━━━━━━━━\u001b[0m \u001b[32m6.6/6.6 MB\u001b[0m \u001b[31m82.2 MB/s\u001b[0m eta \u001b[36m0:00:00\u001b[0m\n",
            "\u001b[?25hDownloading werkzeug-3.1.3-py3-none-any.whl (224 kB)\n",
            "\u001b[2K   \u001b[90m━━━━━━━━━━━━━━━━━━━━━━━━━━━━━━━━━━━━━━━━\u001b[0m \u001b[32m224.5/224.5 kB\u001b[0m \u001b[31m10.7 MB/s\u001b[0m eta \u001b[36m0:00:00\u001b[0m\n",
            "\u001b[?25hDownloading wheel-0.45.1-py3-none-any.whl (72 kB)\n",
            "\u001b[2K   \u001b[90m━━━━━━━━━━━━━━━━━━━━━━━━━━━━━━━━━━━━━━━━\u001b[0m \u001b[32m72.5/72.5 kB\u001b[0m \u001b[31m6.0 MB/s\u001b[0m eta \u001b[36m0:00:00\u001b[0m\n",
            "\u001b[?25hInstalling collected packages: libclang, flatbuffers, wheel, werkzeug, tensorflow-io-gcs-filesystem, tensorboard-data-server, google-pasta, tensorboard, astunparse, tensorflow\n",
            "Successfully installed astunparse-1.6.3 flatbuffers-25.2.10 google-pasta-0.2.0 libclang-18.1.1 tensorboard-2.19.0 tensorboard-data-server-0.7.2 tensorflow-2.19.0 tensorflow-io-gcs-filesystem-0.37.1 werkzeug-3.1.3 wheel-0.45.1\n"
          ]
        }
      ]
    },
    {
      "cell_type": "code",
      "source": [
        "import plotly.express as px\n",
        "from keras.applications.densenet import DenseNet201\n",
        "from keras.applications.densenet import preprocess_input\n",
        "import numpy as np\n",
        "import tensorflow as tf\n",
        "from tensorflow.keras.preprocessing import image\n",
        "from keras import layers\n",
        "from sklearn.manifold import TSNE"
      ],
      "metadata": {
        "id": "MXrLDDx78eOS"
      },
      "execution_count": 5,
      "outputs": []
    },
    {
      "cell_type": "code",
      "source": [
        "\n",
        "import tensorflow as tf\n",
        "\n",
        "from tensorflow.keras.layers import GlobalAveragePooling2D, Dense\n",
        "from tensorflow.keras.models import Model\n",
        "from tensorflow.keras.preprocessing import image_dataset_from_directory\n",
        "import matplotlib.pyplot as plt\n",
        "from keras import layers\n",
        "from keras import Sequential\n",
        "import keras\n",
        "from keras.utils import image_dataset_from_directory\n",
        "from tensorflow.keras.preprocessing.image import ImageDataGenerator\n",
        "from tensorflow import keras\n",
        "\n",
        "#Loading DATASET\n",
        "\n",
        "DATA_DIR = \"/content/drive/MyDrive/Capstone project 2/food_subset/\"\n",
        "BATCH_SIZE = 64\n",
        "IMG_SIZE = (299, 299)"
      ],
      "metadata": {
        "id": "9UgQYzj8Vvag"
      },
      "execution_count": 6,
      "outputs": []
    },
    {
      "cell_type": "code",
      "source": [
        "train_datagen= ImageDataGenerator(\n",
        "    rescale=1./255,\n",
        "    validation_split=0.2,\n",
        "    rotation_range=20,\n",
        "    width_shift_range=0.2,\n",
        "    height_shift_range=0.2,\n",
        "    shear_range=0.2,\n",
        "    zoom_range=0.2,\n",
        "    fill_mode='nearest'\n",
        ")"
      ],
      "metadata": {
        "id": "onXtUGC48gQ9"
      },
      "execution_count": 7,
      "outputs": []
    },
    {
      "cell_type": "code",
      "source": [
        "train_ds=train_datagen.flow_from_directory(\n",
        "    DATA_DIR+'/train',\n",
        "    target_size=IMG_SIZE,\n",
        "    batch_size=BATCH_SIZE,\n",
        "    class_mode='binary',\n",
        "    subset='training'\n",
        "\n",
        ")\n",
        "val_ds=train_datagen.flow_from_directory(\n",
        "    DATA_DIR+'/train',\n",
        "    target_size=IMG_SIZE,\n",
        "\n",
        "    batch_size=BATCH_SIZE,\n",
        "    # validation_split=0.2,\n",
        "    subset='validation',\n",
        "   class_mode='binary'\n",
        "\n",
        ")"
      ],
      "metadata": {
        "colab": {
          "base_uri": "https://localhost:8080/"
        },
        "id": "aoY-0Gi18bD3",
        "outputId": "80e63937-6efb-4513-88b5-9be5961a6883"
      },
      "execution_count": 8,
      "outputs": [
        {
          "output_type": "stream",
          "name": "stdout",
          "text": [
            "Found 5609 images belonging to 10 classes.\n",
            "Found 1401 images belonging to 10 classes.\n"
          ]
        }
      ]
    },
    {
      "cell_type": "code",
      "source": [
        "test_datagen= ImageDataGenerator(rescale=1/255.0)\n",
        "\n",
        "test_ds=test_datagen.flow_from_directory(\n",
        "    DATA_DIR +'/test',\n",
        "    target_size=IMG_SIZE,\n",
        "    batch_size=BATCH_SIZE\n",
        ")"
      ],
      "metadata": {
        "colab": {
          "base_uri": "https://localhost:8080/"
        },
        "id": "741gqH7eAdCc",
        "outputId": "1f6a6737-1ad0-4705-8357-bd95cce68d20"
      },
      "execution_count": 9,
      "outputs": [
        {
          "output_type": "stream",
          "name": "stdout",
          "text": [
            "Found 1502 images belonging to 10 classes.\n"
          ]
        }
      ]
    },
    {
      "cell_type": "code",
      "source": [
        "class_names = train_ds.class_indices\n",
        "class_names"
      ],
      "metadata": {
        "colab": {
          "base_uri": "https://localhost:8080/"
        },
        "id": "Tg3XUuXMxrNN",
        "outputId": "3bedebaa-a930-45fa-bc65-16d9a92c3651"
      },
      "execution_count": 10,
      "outputs": [
        {
          "output_type": "execute_result",
          "data": {
            "text/plain": [
              "{'apple_pie': 0,\n",
              " 'caesar_salad': 1,\n",
              " 'chicken_curry': 2,\n",
              " 'french_fries': 3,\n",
              " 'fried_rice': 4,\n",
              " 'hamburger': 5,\n",
              " 'ice_cream': 6,\n",
              " 'pizza': 7,\n",
              " 'spaghetti_bolognese': 8,\n",
              " 'sushi': 9}"
            ]
          },
          "metadata": {},
          "execution_count": 10
        }
      ]
    },
    {
      "cell_type": "code",
      "source": [
        "train_ds.class_indices"
      ],
      "metadata": {
        "colab": {
          "base_uri": "https://localhost:8080/"
        },
        "id": "684qRLUSyzqd",
        "outputId": "a69d2db5-90a5-426b-b058-b7ba3f3974ba"
      },
      "execution_count": 11,
      "outputs": [
        {
          "output_type": "execute_result",
          "data": {
            "text/plain": [
              "{'apple_pie': 0,\n",
              " 'caesar_salad': 1,\n",
              " 'chicken_curry': 2,\n",
              " 'french_fries': 3,\n",
              " 'fried_rice': 4,\n",
              " 'hamburger': 5,\n",
              " 'ice_cream': 6,\n",
              " 'pizza': 7,\n",
              " 'spaghetti_bolognese': 8,\n",
              " 'sushi': 9}"
            ]
          },
          "metadata": {},
          "execution_count": 11
        }
      ]
    },
    {
      "cell_type": "markdown",
      "source": [
        "#class imbalance\n",
        "checking for imbalance dataset"
      ],
      "metadata": {
        "id": "53HwuAQjpxVm"
      }
    },
    {
      "cell_type": "code",
      "source": [
        "from collections import Counter\n",
        "Counter(train_ds.labels)"
      ],
      "metadata": {
        "colab": {
          "base_uri": "https://localhost:8080/"
        },
        "id": "rIFhh78PptUo",
        "outputId": "5e181cb9-9d33-4a2a-e4fc-2507c811cb98"
      },
      "execution_count": 12,
      "outputs": [
        {
          "output_type": "execute_result",
          "data": {
            "text/plain": [
              "Counter({np.int32(0): 560,\n",
              "         np.int32(1): 560,\n",
              "         np.int32(2): 560,\n",
              "         np.int32(3): 565,\n",
              "         np.int32(4): 560,\n",
              "         np.int32(5): 564,\n",
              "         np.int32(6): 560,\n",
              "         np.int32(7): 560,\n",
              "         np.int32(8): 560,\n",
              "         np.int32(9): 560})"
            ]
          },
          "metadata": {},
          "execution_count": 12
        }
      ]
    },
    {
      "cell_type": "code",
      "source": [
        "train_ds.class_indices"
      ],
      "metadata": {
        "colab": {
          "base_uri": "https://localhost:8080/"
        },
        "id": "Xtlnw-gurmLc",
        "outputId": "7f18c904-6360-4111-bbb6-cbf1961ef0c1"
      },
      "execution_count": 13,
      "outputs": [
        {
          "output_type": "execute_result",
          "data": {
            "text/plain": [
              "{'apple_pie': 0,\n",
              " 'caesar_salad': 1,\n",
              " 'chicken_curry': 2,\n",
              " 'french_fries': 3,\n",
              " 'fried_rice': 4,\n",
              " 'hamburger': 5,\n",
              " 'ice_cream': 6,\n",
              " 'pizza': 7,\n",
              " 'spaghetti_bolognese': 8,\n",
              " 'sushi': 9}"
            ]
          },
          "metadata": {},
          "execution_count": 13
        }
      ]
    },
    {
      "cell_type": "code",
      "source": [
        "from sklearn.utils import class_weight\n",
        "import numpy as np"
      ],
      "metadata": {
        "id": "21jyWpCvqE3e"
      },
      "execution_count": 14,
      "outputs": []
    },
    {
      "cell_type": "code",
      "source": [
        "labels=Counter(train_ds.labels)\n",
        "\n",
        "y = np.array(train_ds.labels)  # Assuming `train_ds.labels` is available\n",
        "weights = class_weight.compute_class_weight(class_weight='balanced', classes=np.unique(y), y=y)\n",
        "class_weight_dict = dict(enumerate(weights))\n",
        "class_weight_dict"
      ],
      "metadata": {
        "id": "K-EyAIiZqIbp",
        "colab": {
          "base_uri": "https://localhost:8080/"
        },
        "outputId": "e1dfed78-5bec-43dc-bcbd-767d854c9864"
      },
      "execution_count": 15,
      "outputs": [
        {
          "output_type": "execute_result",
          "data": {
            "text/plain": [
              "{0: np.float64(1.001607142857143),\n",
              " 1: np.float64(1.001607142857143),\n",
              " 2: np.float64(1.001607142857143),\n",
              " 3: np.float64(0.9927433628318584),\n",
              " 4: np.float64(1.001607142857143),\n",
              " 5: np.float64(0.9945035460992908),\n",
              " 6: np.float64(1.001607142857143),\n",
              " 7: np.float64(1.001607142857143),\n",
              " 8: np.float64(1.001607142857143),\n",
              " 9: np.float64(1.001607142857143)}"
            ]
          },
          "metadata": {},
          "execution_count": 15
        }
      ]
    },
    {
      "cell_type": "code",
      "source": [
        "class_weight_dict\n"
      ],
      "metadata": {
        "colab": {
          "base_uri": "https://localhost:8080/"
        },
        "id": "uibL4ClJr4aX",
        "outputId": "4269c659-3bfb-45c3-8d0f-a41cdda2df60"
      },
      "execution_count": 16,
      "outputs": [
        {
          "output_type": "execute_result",
          "data": {
            "text/plain": [
              "{0: np.float64(1.001607142857143),\n",
              " 1: np.float64(1.001607142857143),\n",
              " 2: np.float64(1.001607142857143),\n",
              " 3: np.float64(0.9927433628318584),\n",
              " 4: np.float64(1.001607142857143),\n",
              " 5: np.float64(0.9945035460992908),\n",
              " 6: np.float64(1.001607142857143),\n",
              " 7: np.float64(1.001607142857143),\n",
              " 8: np.float64(1.001607142857143),\n",
              " 9: np.float64(1.001607142857143)}"
            ]
          },
          "metadata": {},
          "execution_count": 16
        }
      ]
    },
    {
      "cell_type": "markdown",
      "source": [
        "# densenet201\n"
      ],
      "metadata": {
        "id": "6o54JdABp7_m"
      }
    },
    {
      "cell_type": "markdown",
      "source": [
        "# scaling\n"
      ],
      "metadata": {
        "id": "tlfTX_-VqBJe"
      }
    },
    {
      "cell_type": "markdown",
      "source": [
        "# base model DEnsenet201"
      ],
      "metadata": {
        "id": "o7NoXzrv2wWo"
      }
    },
    {
      "cell_type": "code",
      "source": [
        "base_model = DenseNet201(include_top=False, weights=\"imagenet\",  input_shape=(299, 299, 3))\n",
        "# base_model.trainable = False"
      ],
      "metadata": {
        "id": "kqPG1Ijkpw3Z",
        "colab": {
          "base_uri": "https://localhost:8080/"
        },
        "outputId": "adc76ed6-3a7b-4545-a832-45e9f33111d1"
      },
      "execution_count": 17,
      "outputs": [
        {
          "output_type": "stream",
          "name": "stdout",
          "text": [
            "Downloading data from https://storage.googleapis.com/tensorflow/keras-applications/densenet/densenet201_weights_tf_dim_ordering_tf_kernels_notop.h5\n",
            "\u001b[1m74836368/74836368\u001b[0m \u001b[32m━━━━━━━━━━━━━━━━━━━━\u001b[0m\u001b[37m\u001b[0m \u001b[1m0s\u001b[0m 0us/step\n"
          ]
        }
      ]
    },
    {
      "cell_type": "markdown",
      "source": [
        "#fine tuning"
      ],
      "metadata": {
        "id": "lYFv8s_voLxs"
      }
    },
    {
      "cell_type": "code",
      "source": [
        "base_model.trainable=True"
      ],
      "metadata": {
        "id": "MRFX_bB5oKK-"
      },
      "execution_count": 18,
      "outputs": []
    },
    {
      "cell_type": "code",
      "source": [
        "#freezing all layers\n",
        "# except last 50\n",
        "for layers in base_model.layers[ :-50]:\n",
        "    layers.trainable=False"
      ],
      "metadata": {
        "id": "CERItRp7oRPz"
      },
      "execution_count": 19,
      "outputs": []
    },
    {
      "cell_type": "markdown",
      "source": [
        "# Transfer learning"
      ],
      "metadata": {
        "id": "vrff50516Pc-"
      }
    },
    {
      "cell_type": "code",
      "source": [
        "train_feature=base_model.predict(train_ds)\n",
        "val_feature=base_model.predict(val_ds)\n",
        "test_feature=base_model.predict(test_ds)"
      ],
      "metadata": {
        "colab": {
          "base_uri": "https://localhost:8080/"
        },
        "id": "sQbYgND25jus",
        "outputId": "aa547c5f-115d-485d-e6ad-292d53a1f07d"
      },
      "execution_count": 20,
      "outputs": [
        {
          "metadata": {
            "tags": null
          },
          "name": "stderr",
          "output_type": "stream",
          "text": [
            "/usr/local/lib/python3.11/dist-packages/keras/src/trainers/data_adapters/py_dataset_adapter.py:121: UserWarning: Your `PyDataset` class should call `super().__init__(**kwargs)` in its constructor. `**kwargs` can include `workers`, `use_multiprocessing`, `max_queue_size`. Do not pass these arguments to `fit()`, as they will be ignored.\n",
            "  self._warn_if_super_not_called()\n"
          ]
        },
        {
          "output_type": "stream",
          "name": "stdout",
          "text": [
            "\u001b[1m88/88\u001b[0m \u001b[32m━━━━━━━━━━━━━━━━━━━━\u001b[0m\u001b[37m\u001b[0m \u001b[1m1396s\u001b[0m 16s/step\n",
            "\u001b[1m22/22\u001b[0m \u001b[32m━━━━━━━━━━━━━━━━━━━━\u001b[0m\u001b[37m\u001b[0m \u001b[1m1642s\u001b[0m 78s/step\n",
            "\u001b[1m24/24\u001b[0m \u001b[32m━━━━━━━━━━━━━━━━━━━━\u001b[0m\u001b[37m\u001b[0m \u001b[1m1727s\u001b[0m 75s/step\n"
          ]
        }
      ]
    },
    {
      "cell_type": "code",
      "source": [
        "train_labels=train_ds.labels\n",
        "val_labels=val_ds.labels\n",
        "test_labels=test_ds.labels"
      ],
      "metadata": {
        "id": "pBwWFpZyMKTh"
      },
      "execution_count": 22,
      "outputs": []
    },
    {
      "cell_type": "code",
      "source": [
        "train_feature.shape"
      ],
      "metadata": {
        "colab": {
          "base_uri": "https://localhost:8080/"
        },
        "id": "oyfhCsoHLdvN",
        "outputId": "3217457b-1f97-4e23-9875-2e22a0fe99c4"
      },
      "execution_count": 21,
      "outputs": [
        {
          "output_type": "execute_result",
          "data": {
            "text/plain": [
              "(5609, 9, 9, 1920)"
            ]
          },
          "metadata": {},
          "execution_count": 21
        }
      ]
    },
    {
      "cell_type": "code",
      "source": [
        "train_labels.shape"
      ],
      "metadata": {
        "colab": {
          "base_uri": "https://localhost:8080/"
        },
        "id": "qI4HuK0zLgH2",
        "outputId": "3b1500ad-a2a0-471f-f29a-4f683c9b87ae"
      },
      "execution_count": 23,
      "outputs": [
        {
          "output_type": "execute_result",
          "data": {
            "text/plain": [
              "(5609,)"
            ]
          },
          "metadata": {},
          "execution_count": 23
        }
      ]
    },
    {
      "cell_type": "code",
      "source": [
        "test_feature.shape"
      ],
      "metadata": {
        "colab": {
          "base_uri": "https://localhost:8080/"
        },
        "id": "FiiPUlpiL8oK",
        "outputId": "97be68e5-6211-4f98-8d3c-e27fa782d2db"
      },
      "execution_count": 24,
      "outputs": [
        {
          "output_type": "execute_result",
          "data": {
            "text/plain": [
              "(1502, 9, 9, 1920)"
            ]
          },
          "metadata": {},
          "execution_count": 24
        }
      ]
    },
    {
      "cell_type": "code",
      "source": [
        "train_feature.shape"
      ],
      "metadata": {
        "colab": {
          "base_uri": "https://localhost:8080/"
        },
        "id": "6ZFCL2lVMHD6",
        "outputId": "e0e9407a-1704-4ce6-f435-5c95a4acc5b0"
      },
      "execution_count": 25,
      "outputs": [
        {
          "data": {
            "text/plain": [
              "(5609, 9, 9, 1920)"
            ]
          },
          "execution_count": 25,
          "metadata": {},
          "output_type": "execute_result"
        }
      ]
    },
    {
      "cell_type": "markdown",
      "source": [
        "# pooling block"
      ],
      "metadata": {
        "id": "R6mgkAyX-myI"
      }
    },
    {
      "cell_type": "code",
      "source": [
        "from tensorflow.keras.layers import GlobalAveragePooling2D\n",
        "\n",
        "# Apply GlobalAveragePooling2D to the feature maps converting\n",
        "pooling = GlobalAveragePooling2D()\n",
        "train_feature_pooled = pooling(train_feature)\n",
        "val_feature_pooled = pooling(val_feature)\n",
        "test_feature_pooled = pooling(test_feature)\n",
        "train_feature_pooled.shape\n"
      ],
      "metadata": {
        "id": "xZOGS20i2zHr",
        "colab": {
          "base_uri": "https://localhost:8080/"
        },
        "outputId": "0856576d-3108-4603-9edf-1b8f6bd60b69"
      },
      "execution_count": 26,
      "outputs": [
        {
          "output_type": "execute_result",
          "data": {
            "text/plain": [
              "TensorShape([5609, 1920])"
            ]
          },
          "metadata": {},
          "execution_count": 26
        }
      ]
    },
    {
      "cell_type": "markdown",
      "source": [
        "# **PCA**"
      ],
      "metadata": {
        "id": "H9-8Km00aI88"
      }
    },
    {
      "cell_type": "code",
      "source": [
        "from sklearn.decomposition import IncrementalPCA\n",
        "# incrementPCA =IncrementalPCA(n_components=1920)\n",
        "incrementPCA = IncrementalPCA(n_components=256)"
      ],
      "metadata": {
        "id": "dCiKHKXkX41X"
      },
      "execution_count": 27,
      "outputs": []
    },
    {
      "cell_type": "code",
      "source": [
        "# Apply PCA on the pooled features\n",
        "incrementPCA.fit(train_feature_pooled)\n"
      ],
      "metadata": {
        "colab": {
          "base_uri": "https://localhost:8080/",
          "height": 80
        },
        "id": "k6xz0QBha2I6",
        "outputId": "65b692ce-1f7b-4aa0-eba0-e698ea751383"
      },
      "execution_count": 28,
      "outputs": [
        {
          "output_type": "execute_result",
          "data": {
            "text/plain": [
              "IncrementalPCA(n_components=256)"
            ],
            "text/html": [
              "<style>#sk-container-id-1 {\n",
              "  /* Definition of color scheme common for light and dark mode */\n",
              "  --sklearn-color-text: #000;\n",
              "  --sklearn-color-text-muted: #666;\n",
              "  --sklearn-color-line: gray;\n",
              "  /* Definition of color scheme for unfitted estimators */\n",
              "  --sklearn-color-unfitted-level-0: #fff5e6;\n",
              "  --sklearn-color-unfitted-level-1: #f6e4d2;\n",
              "  --sklearn-color-unfitted-level-2: #ffe0b3;\n",
              "  --sklearn-color-unfitted-level-3: chocolate;\n",
              "  /* Definition of color scheme for fitted estimators */\n",
              "  --sklearn-color-fitted-level-0: #f0f8ff;\n",
              "  --sklearn-color-fitted-level-1: #d4ebff;\n",
              "  --sklearn-color-fitted-level-2: #b3dbfd;\n",
              "  --sklearn-color-fitted-level-3: cornflowerblue;\n",
              "\n",
              "  /* Specific color for light theme */\n",
              "  --sklearn-color-text-on-default-background: var(--sg-text-color, var(--theme-code-foreground, var(--jp-content-font-color1, black)));\n",
              "  --sklearn-color-background: var(--sg-background-color, var(--theme-background, var(--jp-layout-color0, white)));\n",
              "  --sklearn-color-border-box: var(--sg-text-color, var(--theme-code-foreground, var(--jp-content-font-color1, black)));\n",
              "  --sklearn-color-icon: #696969;\n",
              "\n",
              "  @media (prefers-color-scheme: dark) {\n",
              "    /* Redefinition of color scheme for dark theme */\n",
              "    --sklearn-color-text-on-default-background: var(--sg-text-color, var(--theme-code-foreground, var(--jp-content-font-color1, white)));\n",
              "    --sklearn-color-background: var(--sg-background-color, var(--theme-background, var(--jp-layout-color0, #111)));\n",
              "    --sklearn-color-border-box: var(--sg-text-color, var(--theme-code-foreground, var(--jp-content-font-color1, white)));\n",
              "    --sklearn-color-icon: #878787;\n",
              "  }\n",
              "}\n",
              "\n",
              "#sk-container-id-1 {\n",
              "  color: var(--sklearn-color-text);\n",
              "}\n",
              "\n",
              "#sk-container-id-1 pre {\n",
              "  padding: 0;\n",
              "}\n",
              "\n",
              "#sk-container-id-1 input.sk-hidden--visually {\n",
              "  border: 0;\n",
              "  clip: rect(1px 1px 1px 1px);\n",
              "  clip: rect(1px, 1px, 1px, 1px);\n",
              "  height: 1px;\n",
              "  margin: -1px;\n",
              "  overflow: hidden;\n",
              "  padding: 0;\n",
              "  position: absolute;\n",
              "  width: 1px;\n",
              "}\n",
              "\n",
              "#sk-container-id-1 div.sk-dashed-wrapped {\n",
              "  border: 1px dashed var(--sklearn-color-line);\n",
              "  margin: 0 0.4em 0.5em 0.4em;\n",
              "  box-sizing: border-box;\n",
              "  padding-bottom: 0.4em;\n",
              "  background-color: var(--sklearn-color-background);\n",
              "}\n",
              "\n",
              "#sk-container-id-1 div.sk-container {\n",
              "  /* jupyter's `normalize.less` sets `[hidden] { display: none; }`\n",
              "     but bootstrap.min.css set `[hidden] { display: none !important; }`\n",
              "     so we also need the `!important` here to be able to override the\n",
              "     default hidden behavior on the sphinx rendered scikit-learn.org.\n",
              "     See: https://github.com/scikit-learn/scikit-learn/issues/21755 */\n",
              "  display: inline-block !important;\n",
              "  position: relative;\n",
              "}\n",
              "\n",
              "#sk-container-id-1 div.sk-text-repr-fallback {\n",
              "  display: none;\n",
              "}\n",
              "\n",
              "div.sk-parallel-item,\n",
              "div.sk-serial,\n",
              "div.sk-item {\n",
              "  /* draw centered vertical line to link estimators */\n",
              "  background-image: linear-gradient(var(--sklearn-color-text-on-default-background), var(--sklearn-color-text-on-default-background));\n",
              "  background-size: 2px 100%;\n",
              "  background-repeat: no-repeat;\n",
              "  background-position: center center;\n",
              "}\n",
              "\n",
              "/* Parallel-specific style estimator block */\n",
              "\n",
              "#sk-container-id-1 div.sk-parallel-item::after {\n",
              "  content: \"\";\n",
              "  width: 100%;\n",
              "  border-bottom: 2px solid var(--sklearn-color-text-on-default-background);\n",
              "  flex-grow: 1;\n",
              "}\n",
              "\n",
              "#sk-container-id-1 div.sk-parallel {\n",
              "  display: flex;\n",
              "  align-items: stretch;\n",
              "  justify-content: center;\n",
              "  background-color: var(--sklearn-color-background);\n",
              "  position: relative;\n",
              "}\n",
              "\n",
              "#sk-container-id-1 div.sk-parallel-item {\n",
              "  display: flex;\n",
              "  flex-direction: column;\n",
              "}\n",
              "\n",
              "#sk-container-id-1 div.sk-parallel-item:first-child::after {\n",
              "  align-self: flex-end;\n",
              "  width: 50%;\n",
              "}\n",
              "\n",
              "#sk-container-id-1 div.sk-parallel-item:last-child::after {\n",
              "  align-self: flex-start;\n",
              "  width: 50%;\n",
              "}\n",
              "\n",
              "#sk-container-id-1 div.sk-parallel-item:only-child::after {\n",
              "  width: 0;\n",
              "}\n",
              "\n",
              "/* Serial-specific style estimator block */\n",
              "\n",
              "#sk-container-id-1 div.sk-serial {\n",
              "  display: flex;\n",
              "  flex-direction: column;\n",
              "  align-items: center;\n",
              "  background-color: var(--sklearn-color-background);\n",
              "  padding-right: 1em;\n",
              "  padding-left: 1em;\n",
              "}\n",
              "\n",
              "\n",
              "/* Toggleable style: style used for estimator/Pipeline/ColumnTransformer box that is\n",
              "clickable and can be expanded/collapsed.\n",
              "- Pipeline and ColumnTransformer use this feature and define the default style\n",
              "- Estimators will overwrite some part of the style using the `sk-estimator` class\n",
              "*/\n",
              "\n",
              "/* Pipeline and ColumnTransformer style (default) */\n",
              "\n",
              "#sk-container-id-1 div.sk-toggleable {\n",
              "  /* Default theme specific background. It is overwritten whether we have a\n",
              "  specific estimator or a Pipeline/ColumnTransformer */\n",
              "  background-color: var(--sklearn-color-background);\n",
              "}\n",
              "\n",
              "/* Toggleable label */\n",
              "#sk-container-id-1 label.sk-toggleable__label {\n",
              "  cursor: pointer;\n",
              "  display: flex;\n",
              "  width: 100%;\n",
              "  margin-bottom: 0;\n",
              "  padding: 0.5em;\n",
              "  box-sizing: border-box;\n",
              "  text-align: center;\n",
              "  align-items: start;\n",
              "  justify-content: space-between;\n",
              "  gap: 0.5em;\n",
              "}\n",
              "\n",
              "#sk-container-id-1 label.sk-toggleable__label .caption {\n",
              "  font-size: 0.6rem;\n",
              "  font-weight: lighter;\n",
              "  color: var(--sklearn-color-text-muted);\n",
              "}\n",
              "\n",
              "#sk-container-id-1 label.sk-toggleable__label-arrow:before {\n",
              "  /* Arrow on the left of the label */\n",
              "  content: \"▸\";\n",
              "  float: left;\n",
              "  margin-right: 0.25em;\n",
              "  color: var(--sklearn-color-icon);\n",
              "}\n",
              "\n",
              "#sk-container-id-1 label.sk-toggleable__label-arrow:hover:before {\n",
              "  color: var(--sklearn-color-text);\n",
              "}\n",
              "\n",
              "/* Toggleable content - dropdown */\n",
              "\n",
              "#sk-container-id-1 div.sk-toggleable__content {\n",
              "  max-height: 0;\n",
              "  max-width: 0;\n",
              "  overflow: hidden;\n",
              "  text-align: left;\n",
              "  /* unfitted */\n",
              "  background-color: var(--sklearn-color-unfitted-level-0);\n",
              "}\n",
              "\n",
              "#sk-container-id-1 div.sk-toggleable__content.fitted {\n",
              "  /* fitted */\n",
              "  background-color: var(--sklearn-color-fitted-level-0);\n",
              "}\n",
              "\n",
              "#sk-container-id-1 div.sk-toggleable__content pre {\n",
              "  margin: 0.2em;\n",
              "  border-radius: 0.25em;\n",
              "  color: var(--sklearn-color-text);\n",
              "  /* unfitted */\n",
              "  background-color: var(--sklearn-color-unfitted-level-0);\n",
              "}\n",
              "\n",
              "#sk-container-id-1 div.sk-toggleable__content.fitted pre {\n",
              "  /* unfitted */\n",
              "  background-color: var(--sklearn-color-fitted-level-0);\n",
              "}\n",
              "\n",
              "#sk-container-id-1 input.sk-toggleable__control:checked~div.sk-toggleable__content {\n",
              "  /* Expand drop-down */\n",
              "  max-height: 200px;\n",
              "  max-width: 100%;\n",
              "  overflow: auto;\n",
              "}\n",
              "\n",
              "#sk-container-id-1 input.sk-toggleable__control:checked~label.sk-toggleable__label-arrow:before {\n",
              "  content: \"▾\";\n",
              "}\n",
              "\n",
              "/* Pipeline/ColumnTransformer-specific style */\n",
              "\n",
              "#sk-container-id-1 div.sk-label input.sk-toggleable__control:checked~label.sk-toggleable__label {\n",
              "  color: var(--sklearn-color-text);\n",
              "  background-color: var(--sklearn-color-unfitted-level-2);\n",
              "}\n",
              "\n",
              "#sk-container-id-1 div.sk-label.fitted input.sk-toggleable__control:checked~label.sk-toggleable__label {\n",
              "  background-color: var(--sklearn-color-fitted-level-2);\n",
              "}\n",
              "\n",
              "/* Estimator-specific style */\n",
              "\n",
              "/* Colorize estimator box */\n",
              "#sk-container-id-1 div.sk-estimator input.sk-toggleable__control:checked~label.sk-toggleable__label {\n",
              "  /* unfitted */\n",
              "  background-color: var(--sklearn-color-unfitted-level-2);\n",
              "}\n",
              "\n",
              "#sk-container-id-1 div.sk-estimator.fitted input.sk-toggleable__control:checked~label.sk-toggleable__label {\n",
              "  /* fitted */\n",
              "  background-color: var(--sklearn-color-fitted-level-2);\n",
              "}\n",
              "\n",
              "#sk-container-id-1 div.sk-label label.sk-toggleable__label,\n",
              "#sk-container-id-1 div.sk-label label {\n",
              "  /* The background is the default theme color */\n",
              "  color: var(--sklearn-color-text-on-default-background);\n",
              "}\n",
              "\n",
              "/* On hover, darken the color of the background */\n",
              "#sk-container-id-1 div.sk-label:hover label.sk-toggleable__label {\n",
              "  color: var(--sklearn-color-text);\n",
              "  background-color: var(--sklearn-color-unfitted-level-2);\n",
              "}\n",
              "\n",
              "/* Label box, darken color on hover, fitted */\n",
              "#sk-container-id-1 div.sk-label.fitted:hover label.sk-toggleable__label.fitted {\n",
              "  color: var(--sklearn-color-text);\n",
              "  background-color: var(--sklearn-color-fitted-level-2);\n",
              "}\n",
              "\n",
              "/* Estimator label */\n",
              "\n",
              "#sk-container-id-1 div.sk-label label {\n",
              "  font-family: monospace;\n",
              "  font-weight: bold;\n",
              "  display: inline-block;\n",
              "  line-height: 1.2em;\n",
              "}\n",
              "\n",
              "#sk-container-id-1 div.sk-label-container {\n",
              "  text-align: center;\n",
              "}\n",
              "\n",
              "/* Estimator-specific */\n",
              "#sk-container-id-1 div.sk-estimator {\n",
              "  font-family: monospace;\n",
              "  border: 1px dotted var(--sklearn-color-border-box);\n",
              "  border-radius: 0.25em;\n",
              "  box-sizing: border-box;\n",
              "  margin-bottom: 0.5em;\n",
              "  /* unfitted */\n",
              "  background-color: var(--sklearn-color-unfitted-level-0);\n",
              "}\n",
              "\n",
              "#sk-container-id-1 div.sk-estimator.fitted {\n",
              "  /* fitted */\n",
              "  background-color: var(--sklearn-color-fitted-level-0);\n",
              "}\n",
              "\n",
              "/* on hover */\n",
              "#sk-container-id-1 div.sk-estimator:hover {\n",
              "  /* unfitted */\n",
              "  background-color: var(--sklearn-color-unfitted-level-2);\n",
              "}\n",
              "\n",
              "#sk-container-id-1 div.sk-estimator.fitted:hover {\n",
              "  /* fitted */\n",
              "  background-color: var(--sklearn-color-fitted-level-2);\n",
              "}\n",
              "\n",
              "/* Specification for estimator info (e.g. \"i\" and \"?\") */\n",
              "\n",
              "/* Common style for \"i\" and \"?\" */\n",
              "\n",
              ".sk-estimator-doc-link,\n",
              "a:link.sk-estimator-doc-link,\n",
              "a:visited.sk-estimator-doc-link {\n",
              "  float: right;\n",
              "  font-size: smaller;\n",
              "  line-height: 1em;\n",
              "  font-family: monospace;\n",
              "  background-color: var(--sklearn-color-background);\n",
              "  border-radius: 1em;\n",
              "  height: 1em;\n",
              "  width: 1em;\n",
              "  text-decoration: none !important;\n",
              "  margin-left: 0.5em;\n",
              "  text-align: center;\n",
              "  /* unfitted */\n",
              "  border: var(--sklearn-color-unfitted-level-1) 1pt solid;\n",
              "  color: var(--sklearn-color-unfitted-level-1);\n",
              "}\n",
              "\n",
              ".sk-estimator-doc-link.fitted,\n",
              "a:link.sk-estimator-doc-link.fitted,\n",
              "a:visited.sk-estimator-doc-link.fitted {\n",
              "  /* fitted */\n",
              "  border: var(--sklearn-color-fitted-level-1) 1pt solid;\n",
              "  color: var(--sklearn-color-fitted-level-1);\n",
              "}\n",
              "\n",
              "/* On hover */\n",
              "div.sk-estimator:hover .sk-estimator-doc-link:hover,\n",
              ".sk-estimator-doc-link:hover,\n",
              "div.sk-label-container:hover .sk-estimator-doc-link:hover,\n",
              ".sk-estimator-doc-link:hover {\n",
              "  /* unfitted */\n",
              "  background-color: var(--sklearn-color-unfitted-level-3);\n",
              "  color: var(--sklearn-color-background);\n",
              "  text-decoration: none;\n",
              "}\n",
              "\n",
              "div.sk-estimator.fitted:hover .sk-estimator-doc-link.fitted:hover,\n",
              ".sk-estimator-doc-link.fitted:hover,\n",
              "div.sk-label-container:hover .sk-estimator-doc-link.fitted:hover,\n",
              ".sk-estimator-doc-link.fitted:hover {\n",
              "  /* fitted */\n",
              "  background-color: var(--sklearn-color-fitted-level-3);\n",
              "  color: var(--sklearn-color-background);\n",
              "  text-decoration: none;\n",
              "}\n",
              "\n",
              "/* Span, style for the box shown on hovering the info icon */\n",
              ".sk-estimator-doc-link span {\n",
              "  display: none;\n",
              "  z-index: 9999;\n",
              "  position: relative;\n",
              "  font-weight: normal;\n",
              "  right: .2ex;\n",
              "  padding: .5ex;\n",
              "  margin: .5ex;\n",
              "  width: min-content;\n",
              "  min-width: 20ex;\n",
              "  max-width: 50ex;\n",
              "  color: var(--sklearn-color-text);\n",
              "  box-shadow: 2pt 2pt 4pt #999;\n",
              "  /* unfitted */\n",
              "  background: var(--sklearn-color-unfitted-level-0);\n",
              "  border: .5pt solid var(--sklearn-color-unfitted-level-3);\n",
              "}\n",
              "\n",
              ".sk-estimator-doc-link.fitted span {\n",
              "  /* fitted */\n",
              "  background: var(--sklearn-color-fitted-level-0);\n",
              "  border: var(--sklearn-color-fitted-level-3);\n",
              "}\n",
              "\n",
              ".sk-estimator-doc-link:hover span {\n",
              "  display: block;\n",
              "}\n",
              "\n",
              "/* \"?\"-specific style due to the `<a>` HTML tag */\n",
              "\n",
              "#sk-container-id-1 a.estimator_doc_link {\n",
              "  float: right;\n",
              "  font-size: 1rem;\n",
              "  line-height: 1em;\n",
              "  font-family: monospace;\n",
              "  background-color: var(--sklearn-color-background);\n",
              "  border-radius: 1rem;\n",
              "  height: 1rem;\n",
              "  width: 1rem;\n",
              "  text-decoration: none;\n",
              "  /* unfitted */\n",
              "  color: var(--sklearn-color-unfitted-level-1);\n",
              "  border: var(--sklearn-color-unfitted-level-1) 1pt solid;\n",
              "}\n",
              "\n",
              "#sk-container-id-1 a.estimator_doc_link.fitted {\n",
              "  /* fitted */\n",
              "  border: var(--sklearn-color-fitted-level-1) 1pt solid;\n",
              "  color: var(--sklearn-color-fitted-level-1);\n",
              "}\n",
              "\n",
              "/* On hover */\n",
              "#sk-container-id-1 a.estimator_doc_link:hover {\n",
              "  /* unfitted */\n",
              "  background-color: var(--sklearn-color-unfitted-level-3);\n",
              "  color: var(--sklearn-color-background);\n",
              "  text-decoration: none;\n",
              "}\n",
              "\n",
              "#sk-container-id-1 a.estimator_doc_link.fitted:hover {\n",
              "  /* fitted */\n",
              "  background-color: var(--sklearn-color-fitted-level-3);\n",
              "}\n",
              "</style><div id=\"sk-container-id-1\" class=\"sk-top-container\"><div class=\"sk-text-repr-fallback\"><pre>IncrementalPCA(n_components=256)</pre><b>In a Jupyter environment, please rerun this cell to show the HTML representation or trust the notebook. <br />On GitHub, the HTML representation is unable to render, please try loading this page with nbviewer.org.</b></div><div class=\"sk-container\" hidden><div class=\"sk-item\"><div class=\"sk-estimator fitted sk-toggleable\"><input class=\"sk-toggleable__control sk-hidden--visually\" id=\"sk-estimator-id-1\" type=\"checkbox\" checked><label for=\"sk-estimator-id-1\" class=\"sk-toggleable__label fitted sk-toggleable__label-arrow\"><div><div>IncrementalPCA</div></div><div><a class=\"sk-estimator-doc-link fitted\" rel=\"noreferrer\" target=\"_blank\" href=\"https://scikit-learn.org/1.6/modules/generated/sklearn.decomposition.IncrementalPCA.html\">?<span>Documentation for IncrementalPCA</span></a><span class=\"sk-estimator-doc-link fitted\">i<span>Fitted</span></span></div></label><div class=\"sk-toggleable__content fitted\"><pre>IncrementalPCA(n_components=256)</pre></div> </div></div></div></div>"
            ]
          },
          "metadata": {},
          "execution_count": 28
        }
      ]
    },
    {
      "cell_type": "code",
      "source": [
        "# Transform the pooled features using PCA\n",
        "train_pca=incrementPCA.transform(train_feature_pooled)\n",
        "val_pca=incrementPCA.transform(val_feature_pooled)\n",
        "test_pca=incrementPCA.transform(test_feature_pooled)\n",
        "train_pca.shape\n"
      ],
      "metadata": {
        "id": "Nmlk_h7-zIb_",
        "colab": {
          "base_uri": "https://localhost:8080/"
        },
        "outputId": "f5cedc25-d4f2-42db-ac09-def8b427d6c4"
      },
      "execution_count": 29,
      "outputs": [
        {
          "output_type": "execute_result",
          "data": {
            "text/plain": [
              "(5609, 256)"
            ]
          },
          "metadata": {},
          "execution_count": 29
        }
      ]
    },
    {
      "cell_type": "code",
      "source": [
        "test_pca.shape"
      ],
      "metadata": {
        "colab": {
          "base_uri": "https://localhost:8080/"
        },
        "id": "2Snr-rrdjj3D",
        "outputId": "d24b6c48-2bc6-4adc-96a4-c7139dcaf960"
      },
      "execution_count": null,
      "outputs": [
        {
          "output_type": "execute_result",
          "data": {
            "text/plain": [
              "(600, 256)"
            ]
          },
          "metadata": {},
          "execution_count": 54
        }
      ]
    },
    {
      "cell_type": "code",
      "source": [
        "val_pca.shape"
      ],
      "metadata": {
        "colab": {
          "base_uri": "https://localhost:8080/"
        },
        "id": "fLwSc4RJhKs5",
        "outputId": "5eef0c70-0978-458d-ec01-08637365d634"
      },
      "execution_count": null,
      "outputs": [
        {
          "output_type": "execute_result",
          "data": {
            "text/plain": [
              "(120, 256)"
            ]
          },
          "metadata": {},
          "execution_count": 50
        }
      ]
    },
    {
      "cell_type": "markdown",
      "source": [
        "# visual representation of extracted and pca transformed features\n",
        "# using TSNE"
      ],
      "metadata": {
        "id": "Pa5qC8DApHRH"
      }
    },
    {
      "cell_type": "markdown",
      "source": [
        "#binary classifier"
      ],
      "metadata": {
        "id": "HpjRZsSv-tZY"
      }
    },
    {
      "cell_type": "code",
      "source": [
        "train_labels=train_ds.labels\n",
        "val_labels=val_ds.labels\n",
        "\n",
        "# Input is now feature maps, not raw images\n",
        "feature_input = layers.Input(shape=(256,))\n",
        "# x = GlobalAveragePooling2D()(feature_input)\n",
        "x = Dense(256, activation='relu')(feature_input)\n",
        "x = layers.Dropout(0.5)(x)\n",
        "x = Dense(128, activation='relu')(x)\n",
        "x = layers.Dropout(0.5)(x)\n",
        "output = Dense(1, activation='sigmoid')(x)\n",
        "\n",
        "model = Model(inputs=feature_input, outputs=output)"
      ],
      "metadata": {
        "id": "VKOGBf0tmkGx"
      },
      "execution_count": null,
      "outputs": []
    },
    {
      "cell_type": "code",
      "source": [
        "model.compile(optimizer='rmsprop', loss='binary_crossentropy', metrics=['accuracy'])\n",
        "# model.fit(train_feature, train_labels, validation_data=(val_feature, val_labels), epochs=10,callbacks=[callback1])"
      ],
      "metadata": {
        "id": "N6c_6CqruYhp"
      },
      "execution_count": null,
      "outputs": []
    },
    {
      "cell_type": "markdown",
      "source": [
        "#saving model via callback modelcheckpoint"
      ],
      "metadata": {
        "id": "pBhTrIvME7Bn"
      }
    },
    {
      "cell_type": "code",
      "source": [
        "from keras.callbacks import ModelCheckpoint\n",
        "\n",
        "callback1=ModelCheckpoint(\n",
        "    filepath='/content/drive/MyDrive/Capstone project 2/densenet201.h5',\n",
        "    monitor='val_accuracy',\n",
        "    save_best_only=True,\n",
        "    save_weights_only=False,\n",
        "    mode='max' ,#mode='auto' chooses max for when monitor=val_accuracy monitoring only accuracy,\n",
        "               #when monitor = loss we or it chooses mode= min\n",
        "    save_freq='epoch',\n",
        "    verbose=1\n",
        ")\n"
      ],
      "metadata": {
        "id": "IO5eE5k7BB-S"
      },
      "execution_count": null,
      "outputs": []
    },
    {
      "cell_type": "markdown",
      "source": [
        "#saving the trained model"
      ],
      "metadata": {
        "id": "PGu3sSthuy47"
      }
    },
    {
      "cell_type": "code",
      "source": [
        "# saved a trial\n",
        "model.save('Denenet201.h5')\n",
        "model.save('/content/drive/MyDrive/Capstone project 2/densenet201.h5')"
      ],
      "metadata": {
        "id": "7CLfH9at5Q7-"
      },
      "execution_count": null,
      "outputs": []
    },
    {
      "cell_type": "markdown",
      "source": [
        "#training"
      ],
      "metadata": {
        "id": "sipVclL4FCAv"
      }
    },
    {
      "cell_type": "code",
      "source": [
        "from keras.callbacks import EarlyStopping"
      ],
      "metadata": {
        "id": "2FDOSxanmHln"
      },
      "execution_count": null,
      "outputs": []
    },
    {
      "cell_type": "code",
      "source": [
        "earlystop1= EarlyStopping(monitor='val_accuracy',patience=3,mode='max',restore_best_weights=True)"
      ],
      "metadata": {
        "id": "RTijxV1CmMBC"
      },
      "execution_count": null,
      "outputs": []
    },
    {
      "cell_type": "code",
      "source": [
        "EPOCHS = 10\n",
        "history = model.fit(train_pca,train_labels, validation_data=(val_pca,val_labels), epochs=40,callbacks=[callback1],class_weight=class_weight_dict)"
      ],
      "metadata": {
        "id": "dqLJa2vt5P9-",
        "collapsed": true,
        "colab": {
          "base_uri": "https://localhost:8080/"
        },
        "outputId": "43de027e-fd79-431f-8c69-5ad2e8ca36c5"
      },
      "execution_count": null,
      "outputs": [
        {
          "output_type": "stream",
          "name": "stdout",
          "text": [
            "Epoch 1/40\n",
            "\u001b[1m 1/15\u001b[0m \u001b[32m━\u001b[0m\u001b[37m━━━━━━━━━━━━━━━━━━━\u001b[0m \u001b[1m10s\u001b[0m 748ms/step - accuracy: 0.2188 - loss: 1.1788\n",
            "Epoch 1: val_accuracy improved from -inf to 0.52500, saving model to /content/drive/MyDrive/Capstone project 2/densenet201.h5\n"
          ]
        },
        {
          "output_type": "stream",
          "name": "stderr",
          "text": [
            "WARNING:absl:You are saving your model as an HDF5 file via `model.save()` or `keras.saving.save_model(model)`. This file format is considered legacy. We recommend using instead the native Keras format, e.g. `model.save('my_model.keras')` or `keras.saving.save_model(model, 'my_model.keras')`. \n"
          ]
        },
        {
          "output_type": "stream",
          "name": "stdout",
          "text": [
            "\b\b\b\b\b\b\b\b\b\b\b\b\b\b\b\b\b\b\b\b\b\b\b\b\b\b\b\b\b\b\b\b\b\b\b\b\b\b\b\b\b\b\b\b\b\b\b\b\b\b\b\b\b\b\b\b\b\b\b\b\b\b\b\b\b\b\b\b\b\b\b\b\b\b\b\r\u001b[1m15/15\u001b[0m \u001b[32m━━━━━━━━━━━━━━━━━━━━\u001b[0m\u001b[37m\u001b[0m \u001b[1m1s\u001b[0m 36ms/step - accuracy: 0.4600 - loss: 0.8741 - val_accuracy: 0.5250 - val_loss: 0.6942\n",
            "Epoch 2/40\n",
            "\u001b[1m 1/15\u001b[0m \u001b[32m━\u001b[0m\u001b[37m━━━━━━━━━━━━━━━━━━━\u001b[0m \u001b[1m0s\u001b[0m 39ms/step - accuracy: 0.5312 - loss: 0.7413\n",
            "Epoch 2: val_accuracy improved from 0.52500 to 0.54167, saving model to /content/drive/MyDrive/Capstone project 2/densenet201.h5\n"
          ]
        },
        {
          "output_type": "stream",
          "name": "stderr",
          "text": [
            "WARNING:absl:You are saving your model as an HDF5 file via `model.save()` or `keras.saving.save_model(model)`. This file format is considered legacy. We recommend using instead the native Keras format, e.g. `model.save('my_model.keras')` or `keras.saving.save_model(model, 'my_model.keras')`. \n"
          ]
        },
        {
          "output_type": "stream",
          "name": "stdout",
          "text": [
            "\b\b\b\b\b\b\b\b\b\b\b\b\b\b\b\b\b\b\b\b\b\b\b\b\b\b\b\b\b\b\b\b\b\b\b\b\b\b\b\b\b\b\b\b\b\b\b\b\b\b\b\b\b\b\b\b\b\b\b\b\b\b\b\b\b\b\b\b\b\b\b\b\b\r\u001b[1m15/15\u001b[0m \u001b[32m━━━━━━━━━━━━━━━━━━━━\u001b[0m\u001b[37m\u001b[0m \u001b[1m0s\u001b[0m 11ms/step - accuracy: 0.5379 - loss: 0.7368 - val_accuracy: 0.5417 - val_loss: 0.6851\n",
            "Epoch 3/40\n",
            "\u001b[1m 1/15\u001b[0m \u001b[32m━\u001b[0m\u001b[37m━━━━━━━━━━━━━━━━━━━\u001b[0m \u001b[1m0s\u001b[0m 39ms/step - accuracy: 0.5000 - loss: 0.7448\n",
            "Epoch 3: val_accuracy did not improve from 0.54167\n",
            "\u001b[1m15/15\u001b[0m \u001b[32m━━━━━━━━━━━━━━━━━━━━\u001b[0m\u001b[37m\u001b[0m \u001b[1m0s\u001b[0m 9ms/step - accuracy: 0.5924 - loss: 0.6981 - val_accuracy: 0.5167 - val_loss: 0.6906\n",
            "Epoch 4/40\n",
            "\u001b[1m 1/15\u001b[0m \u001b[32m━\u001b[0m\u001b[37m━━━━━━━━━━━━━━━━━━━\u001b[0m \u001b[1m0s\u001b[0m 40ms/step - accuracy: 0.5938 - loss: 0.7577\n",
            "Epoch 4: val_accuracy did not improve from 0.54167\n",
            "\u001b[1m15/15\u001b[0m \u001b[32m━━━━━━━━━━━━━━━━━━━━\u001b[0m\u001b[37m\u001b[0m \u001b[1m0s\u001b[0m 9ms/step - accuracy: 0.6502 - loss: 0.6555 - val_accuracy: 0.4833 - val_loss: 0.7074\n",
            "Epoch 5/40\n",
            "\u001b[1m 1/15\u001b[0m \u001b[32m━\u001b[0m\u001b[37m━━━━━━━━━━━━━━━━━━━\u001b[0m \u001b[1m0s\u001b[0m 41ms/step - accuracy: 0.5938 - loss: 0.6753\n",
            "Epoch 5: val_accuracy improved from 0.54167 to 0.61667, saving model to /content/drive/MyDrive/Capstone project 2/densenet201.h5\n"
          ]
        },
        {
          "output_type": "stream",
          "name": "stderr",
          "text": [
            "WARNING:absl:You are saving your model as an HDF5 file via `model.save()` or `keras.saving.save_model(model)`. This file format is considered legacy. We recommend using instead the native Keras format, e.g. `model.save('my_model.keras')` or `keras.saving.save_model(model, 'my_model.keras')`. \n"
          ]
        },
        {
          "output_type": "stream",
          "name": "stdout",
          "text": [
            "\b\b\b\b\b\b\b\b\b\b\b\b\b\b\b\b\b\b\b\b\b\b\b\b\b\b\b\b\b\b\b\b\b\b\b\b\b\b\b\b\b\b\b\b\b\b\b\b\b\b\b\b\b\b\b\b\b\b\b\b\b\b\b\b\b\b\b\b\b\b\b\b\b\r\u001b[1m15/15\u001b[0m \u001b[32m━━━━━━━━━━━━━━━━━━━━\u001b[0m\u001b[37m\u001b[0m \u001b[1m0s\u001b[0m 11ms/step - accuracy: 0.6453 - loss: 0.6622 - val_accuracy: 0.6167 - val_loss: 0.6717\n",
            "Epoch 6/40\n",
            "\u001b[1m14/15\u001b[0m \u001b[32m━━━━━━━━━━━━━━━━━━\u001b[0m\u001b[37m━━\u001b[0m \u001b[1m0s\u001b[0m 5ms/step - accuracy: 0.7198 - loss: 0.5755 \n",
            "Epoch 6: val_accuracy did not improve from 0.61667\n",
            "\u001b[1m15/15\u001b[0m \u001b[32m━━━━━━━━━━━━━━━━━━━━\u001b[0m\u001b[37m\u001b[0m \u001b[1m0s\u001b[0m 12ms/step - accuracy: 0.7199 - loss: 0.5736 - val_accuracy: 0.5083 - val_loss: 0.7113\n",
            "Epoch 7/40\n",
            "\u001b[1m 1/15\u001b[0m \u001b[32m━\u001b[0m\u001b[37m━━━━━━━━━━━━━━━━━━━\u001b[0m \u001b[1m0s\u001b[0m 40ms/step - accuracy: 0.8125 - loss: 0.4668\n",
            "Epoch 7: val_accuracy did not improve from 0.61667\n",
            "\u001b[1m15/15\u001b[0m \u001b[32m━━━━━━━━━━━━━━━━━━━━\u001b[0m\u001b[37m\u001b[0m \u001b[1m0s\u001b[0m 9ms/step - accuracy: 0.7569 - loss: 0.5200 - val_accuracy: 0.5417 - val_loss: 0.7121\n",
            "Epoch 8/40\n",
            "\u001b[1m 1/15\u001b[0m \u001b[32m━\u001b[0m\u001b[37m━━━━━━━━━━━━━━━━━━━\u001b[0m \u001b[1m0s\u001b[0m 40ms/step - accuracy: 0.8438 - loss: 0.3558\n",
            "Epoch 8: val_accuracy did not improve from 0.61667\n",
            "\u001b[1m15/15\u001b[0m \u001b[32m━━━━━━━━━━━━━━━━━━━━\u001b[0m\u001b[37m\u001b[0m \u001b[1m0s\u001b[0m 9ms/step - accuracy: 0.7866 - loss: 0.4567 - val_accuracy: 0.5667 - val_loss: 0.7287\n",
            "Epoch 9/40\n",
            "\u001b[1m 1/15\u001b[0m \u001b[32m━\u001b[0m\u001b[37m━━━━━━━━━━━━━━━━━━━\u001b[0m \u001b[1m0s\u001b[0m 39ms/step - accuracy: 0.8438 - loss: 0.3270\n",
            "Epoch 9: val_accuracy did not improve from 0.61667\n",
            "\u001b[1m15/15\u001b[0m \u001b[32m━━━━━━━━━━━━━━━━━━━━\u001b[0m\u001b[37m\u001b[0m \u001b[1m0s\u001b[0m 9ms/step - accuracy: 0.8067 - loss: 0.3910 - val_accuracy: 0.5500 - val_loss: 0.7391\n",
            "Epoch 10/40\n",
            "\u001b[1m 1/15\u001b[0m \u001b[32m━\u001b[0m\u001b[37m━━━━━━━━━━━━━━━━━━━\u001b[0m \u001b[1m0s\u001b[0m 38ms/step - accuracy: 0.9375 - loss: 0.3204\n",
            "Epoch 10: val_accuracy did not improve from 0.61667\n",
            "\u001b[1m15/15\u001b[0m \u001b[32m━━━━━━━━━━━━━━━━━━━━\u001b[0m\u001b[37m\u001b[0m \u001b[1m0s\u001b[0m 8ms/step - accuracy: 0.8713 - loss: 0.3473 - val_accuracy: 0.5667 - val_loss: 0.7604\n",
            "Epoch 11/40\n",
            "\u001b[1m 1/15\u001b[0m \u001b[32m━\u001b[0m\u001b[37m━━━━━━━━━━━━━━━━━━━\u001b[0m \u001b[1m0s\u001b[0m 40ms/step - accuracy: 0.9375 - loss: 0.2897\n",
            "Epoch 11: val_accuracy did not improve from 0.61667\n",
            "\u001b[1m15/15\u001b[0m \u001b[32m━━━━━━━━━━━━━━━━━━━━\u001b[0m\u001b[37m\u001b[0m \u001b[1m0s\u001b[0m 9ms/step - accuracy: 0.9058 - loss: 0.3030 - val_accuracy: 0.5583 - val_loss: 0.8095\n",
            "Epoch 12/40\n",
            "\u001b[1m 1/15\u001b[0m \u001b[32m━\u001b[0m\u001b[37m━━━━━━━━━━━━━━━━━━━\u001b[0m \u001b[1m0s\u001b[0m 41ms/step - accuracy: 0.8750 - loss: 0.2749\n",
            "Epoch 12: val_accuracy did not improve from 0.61667\n",
            "\u001b[1m15/15\u001b[0m \u001b[32m━━━━━━━━━━━━━━━━━━━━\u001b[0m\u001b[37m\u001b[0m \u001b[1m0s\u001b[0m 9ms/step - accuracy: 0.9030 - loss: 0.2713 - val_accuracy: 0.5417 - val_loss: 0.8610\n",
            "Epoch 13/40\n",
            "\u001b[1m 1/15\u001b[0m \u001b[32m━\u001b[0m\u001b[37m━━━━━━━━━━━━━━━━━━━\u001b[0m \u001b[1m0s\u001b[0m 38ms/step - accuracy: 0.9062 - loss: 0.1877\n",
            "Epoch 13: val_accuracy did not improve from 0.61667\n",
            "\u001b[1m15/15\u001b[0m \u001b[32m━━━━━━━━━━━━━━━━━━━━\u001b[0m\u001b[37m\u001b[0m \u001b[1m0s\u001b[0m 8ms/step - accuracy: 0.8818 - loss: 0.2573 - val_accuracy: 0.5583 - val_loss: 0.9115\n",
            "Epoch 14/40\n",
            "\u001b[1m 1/15\u001b[0m \u001b[32m━\u001b[0m\u001b[37m━━━━━━━━━━━━━━━━━━━\u001b[0m \u001b[1m0s\u001b[0m 40ms/step - accuracy: 0.9375 - loss: 0.2465\n",
            "Epoch 14: val_accuracy did not improve from 0.61667\n",
            "\u001b[1m15/15\u001b[0m \u001b[32m━━━━━━━━━━━━━━━━━━━━\u001b[0m\u001b[37m\u001b[0m \u001b[1m0s\u001b[0m 8ms/step - accuracy: 0.9174 - loss: 0.2191 - val_accuracy: 0.5833 - val_loss: 0.9511\n",
            "Epoch 15/40\n",
            "\u001b[1m 1/15\u001b[0m \u001b[32m━\u001b[0m\u001b[37m━━━━━━━━━━━━━━━━━━━\u001b[0m \u001b[1m0s\u001b[0m 65ms/step - accuracy: 0.9688 - loss: 0.1456\n",
            "Epoch 15: val_accuracy did not improve from 0.61667\n",
            "\u001b[1m15/15\u001b[0m \u001b[32m━━━━━━━━━━━━━━━━━━━━\u001b[0m\u001b[37m\u001b[0m \u001b[1m0s\u001b[0m 9ms/step - accuracy: 0.9317 - loss: 0.1789 - val_accuracy: 0.5667 - val_loss: 1.0138\n",
            "Epoch 16/40\n",
            "\u001b[1m 1/15\u001b[0m \u001b[32m━\u001b[0m\u001b[37m━━━━━━━━━━━━━━━━━━━\u001b[0m \u001b[1m0s\u001b[0m 39ms/step - accuracy: 0.9375 - loss: 0.2192\n",
            "Epoch 16: val_accuracy did not improve from 0.61667\n",
            "\u001b[1m15/15\u001b[0m \u001b[32m━━━━━━━━━━━━━━━━━━━━\u001b[0m\u001b[37m\u001b[0m \u001b[1m0s\u001b[0m 8ms/step - accuracy: 0.9313 - loss: 0.1733 - val_accuracy: 0.5417 - val_loss: 1.0892\n",
            "Epoch 17/40\n",
            "\u001b[1m 1/15\u001b[0m \u001b[32m━\u001b[0m\u001b[37m━━━━━━━━━━━━━━━━━━━\u001b[0m \u001b[1m0s\u001b[0m 40ms/step - accuracy: 0.9688 - loss: 0.0735\n",
            "Epoch 17: val_accuracy did not improve from 0.61667\n",
            "\u001b[1m15/15\u001b[0m \u001b[32m━━━━━━━━━━━━━━━━━━━━\u001b[0m\u001b[37m\u001b[0m \u001b[1m0s\u001b[0m 9ms/step - accuracy: 0.9640 - loss: 0.1133 - val_accuracy: 0.5500 - val_loss: 1.1669\n",
            "Epoch 18/40\n",
            "\u001b[1m 1/15\u001b[0m \u001b[32m━\u001b[0m\u001b[37m━━━━━━━━━━━━━━━━━━━\u001b[0m \u001b[1m0s\u001b[0m 40ms/step - accuracy: 0.9375 - loss: 0.1085\n",
            "Epoch 18: val_accuracy did not improve from 0.61667\n",
            "\u001b[1m15/15\u001b[0m \u001b[32m━━━━━━━━━━━━━━━━━━━━\u001b[0m\u001b[37m\u001b[0m \u001b[1m0s\u001b[0m 9ms/step - accuracy: 0.9664 - loss: 0.1008 - val_accuracy: 0.5583 - val_loss: 1.2341\n",
            "Epoch 19/40\n",
            "\u001b[1m 1/15\u001b[0m \u001b[32m━\u001b[0m\u001b[37m━━━━━━━━━━━━━━━━━━━\u001b[0m \u001b[1m0s\u001b[0m 39ms/step - accuracy: 1.0000 - loss: 0.0591\n",
            "Epoch 19: val_accuracy did not improve from 0.61667\n",
            "\u001b[1m15/15\u001b[0m \u001b[32m━━━━━━━━━━━━━━━━━━━━\u001b[0m\u001b[37m\u001b[0m \u001b[1m0s\u001b[0m 8ms/step - accuracy: 0.9340 - loss: 0.1443 - val_accuracy: 0.5667 - val_loss: 1.2856\n",
            "Epoch 20/40\n",
            "\u001b[1m 1/15\u001b[0m \u001b[32m━\u001b[0m\u001b[37m━━━━━━━━━━━━━━━━━━━\u001b[0m \u001b[1m0s\u001b[0m 53ms/step - accuracy: 0.9375 - loss: 0.1462\n",
            "Epoch 20: val_accuracy did not improve from 0.61667\n",
            "\u001b[1m15/15\u001b[0m \u001b[32m━━━━━━━━━━━━━━━━━━━━\u001b[0m\u001b[37m\u001b[0m \u001b[1m0s\u001b[0m 9ms/step - accuracy: 0.9588 - loss: 0.1009 - val_accuracy: 0.5417 - val_loss: 1.3731\n",
            "Epoch 21/40\n",
            "\u001b[1m 1/15\u001b[0m \u001b[32m━\u001b[0m\u001b[37m━━━━━━━━━━━━━━━━━━━\u001b[0m \u001b[1m0s\u001b[0m 41ms/step - accuracy: 0.9688 - loss: 0.0811\n",
            "Epoch 21: val_accuracy did not improve from 0.61667\n",
            "\u001b[1m15/15\u001b[0m \u001b[32m━━━━━━━━━━━━━━━━━━━━\u001b[0m\u001b[37m\u001b[0m \u001b[1m0s\u001b[0m 8ms/step - accuracy: 0.9706 - loss: 0.0715 - val_accuracy: 0.5583 - val_loss: 1.4642\n",
            "Epoch 22/40\n",
            "\u001b[1m 1/15\u001b[0m \u001b[32m━\u001b[0m\u001b[37m━━━━━━━━━━━━━━━━━━━\u001b[0m \u001b[1m0s\u001b[0m 64ms/step - accuracy: 0.9688 - loss: 0.0807\n",
            "Epoch 22: val_accuracy did not improve from 0.61667\n",
            "\u001b[1m15/15\u001b[0m \u001b[32m━━━━━━━━━━━━━━━━━━━━\u001b[0m\u001b[37m\u001b[0m \u001b[1m0s\u001b[0m 9ms/step - accuracy: 0.9596 - loss: 0.0932 - val_accuracy: 0.5417 - val_loss: 1.4897\n",
            "Epoch 23/40\n",
            "\u001b[1m 1/15\u001b[0m \u001b[32m━\u001b[0m\u001b[37m━━━━━━━━━━━━━━━━━━━\u001b[0m \u001b[1m0s\u001b[0m 39ms/step - accuracy: 0.9375 - loss: 0.0700\n",
            "Epoch 23: val_accuracy did not improve from 0.61667\n",
            "\u001b[1m15/15\u001b[0m \u001b[32m━━━━━━━━━━━━━━━━━━━━\u001b[0m\u001b[37m\u001b[0m \u001b[1m0s\u001b[0m 9ms/step - accuracy: 0.9719 - loss: 0.0642 - val_accuracy: 0.5583 - val_loss: 1.5536\n",
            "Epoch 24/40\n",
            "\u001b[1m 1/15\u001b[0m \u001b[32m━\u001b[0m\u001b[37m━━━━━━━━━━━━━━━━━━━\u001b[0m \u001b[1m0s\u001b[0m 40ms/step - accuracy: 0.9688 - loss: 0.0454\n",
            "Epoch 24: val_accuracy did not improve from 0.61667\n",
            "\u001b[1m15/15\u001b[0m \u001b[32m━━━━━━━━━━━━━━━━━━━━\u001b[0m\u001b[37m\u001b[0m \u001b[1m0s\u001b[0m 9ms/step - accuracy: 0.9833 - loss: 0.0467 - val_accuracy: 0.5667 - val_loss: 1.6607\n",
            "Epoch 25/40\n",
            "\u001b[1m 1/15\u001b[0m \u001b[32m━\u001b[0m\u001b[37m━━━━━━━━━━━━━━━━━━━\u001b[0m \u001b[1m0s\u001b[0m 38ms/step - accuracy: 1.0000 - loss: 0.0361\n",
            "Epoch 25: val_accuracy did not improve from 0.61667\n",
            "\u001b[1m15/15\u001b[0m \u001b[32m━━━━━━━━━━━━━━━━━━━━\u001b[0m\u001b[37m\u001b[0m \u001b[1m0s\u001b[0m 8ms/step - accuracy: 0.9903 - loss: 0.0471 - val_accuracy: 0.5583 - val_loss: 1.7303\n",
            "Epoch 26/40\n",
            "\u001b[1m 1/15\u001b[0m \u001b[32m━\u001b[0m\u001b[37m━━━━━━━━━━━━━━━━━━━\u001b[0m \u001b[1m0s\u001b[0m 39ms/step - accuracy: 1.0000 - loss: 0.0366\n",
            "Epoch 26: val_accuracy did not improve from 0.61667\n",
            "\u001b[1m15/15\u001b[0m \u001b[32m━━━━━━━━━━━━━━━━━━━━\u001b[0m\u001b[37m\u001b[0m \u001b[1m0s\u001b[0m 8ms/step - accuracy: 0.9810 - loss: 0.0508 - val_accuracy: 0.5583 - val_loss: 1.7946\n",
            "Epoch 27/40\n",
            "\u001b[1m 1/15\u001b[0m \u001b[32m━\u001b[0m\u001b[37m━━━━━━━━━━━━━━━━━━━\u001b[0m \u001b[1m0s\u001b[0m 39ms/step - accuracy: 1.0000 - loss: 0.0273\n",
            "Epoch 27: val_accuracy did not improve from 0.61667\n",
            "\u001b[1m15/15\u001b[0m \u001b[32m━━━━━━━━━━━━━━━━━━━━\u001b[0m\u001b[37m\u001b[0m \u001b[1m0s\u001b[0m 8ms/step - accuracy: 0.9889 - loss: 0.0388 - val_accuracy: 0.5667 - val_loss: 1.9065\n",
            "Epoch 28/40\n",
            "\u001b[1m15/15\u001b[0m \u001b[32m━━━━━━━━━━━━━━━━━━━━\u001b[0m\u001b[37m\u001b[0m \u001b[1m0s\u001b[0m 4ms/step - accuracy: 0.9904 - loss: 0.0282 \n",
            "Epoch 28: val_accuracy did not improve from 0.61667\n",
            "\u001b[1m15/15\u001b[0m \u001b[32m━━━━━━━━━━━━━━━━━━━━\u001b[0m\u001b[37m\u001b[0m \u001b[1m0s\u001b[0m 10ms/step - accuracy: 0.9905 - loss: 0.0283 - val_accuracy: 0.5583 - val_loss: 1.9462\n",
            "Epoch 29/40\n",
            "\u001b[1m 1/15\u001b[0m \u001b[32m━\u001b[0m\u001b[37m━━━━━━━━━━━━━━━━━━━\u001b[0m \u001b[1m0s\u001b[0m 37ms/step - accuracy: 1.0000 - loss: 0.0274\n",
            "Epoch 29: val_accuracy did not improve from 0.61667\n",
            "\u001b[1m15/15\u001b[0m \u001b[32m━━━━━━━━━━━━━━━━━━━━\u001b[0m\u001b[37m\u001b[0m \u001b[1m0s\u001b[0m 8ms/step - accuracy: 0.9939 - loss: 0.0247 - val_accuracy: 0.5667 - val_loss: 2.0074\n",
            "Epoch 30/40\n",
            "\u001b[1m 1/15\u001b[0m \u001b[32m━\u001b[0m\u001b[37m━━━━━━━━━━━━━━━━━━━\u001b[0m \u001b[1m0s\u001b[0m 40ms/step - accuracy: 1.0000 - loss: 0.0139\n",
            "Epoch 30: val_accuracy did not improve from 0.61667\n",
            "\u001b[1m15/15\u001b[0m \u001b[32m━━━━━━━━━━━━━━━━━━━━\u001b[0m\u001b[37m\u001b[0m \u001b[1m0s\u001b[0m 9ms/step - accuracy: 0.9882 - loss: 0.0262 - val_accuracy: 0.5500 - val_loss: 2.1188\n",
            "Epoch 31/40\n",
            "\u001b[1m 1/15\u001b[0m \u001b[32m━\u001b[0m\u001b[37m━━━━━━━━━━━━━━━━━━━\u001b[0m \u001b[1m0s\u001b[0m 39ms/step - accuracy: 1.0000 - loss: 0.0074\n",
            "Epoch 31: val_accuracy did not improve from 0.61667\n",
            "\u001b[1m15/15\u001b[0m \u001b[32m━━━━━━━━━━━━━━━━━━━━\u001b[0m\u001b[37m\u001b[0m \u001b[1m0s\u001b[0m 8ms/step - accuracy: 0.9962 - loss: 0.0159 - val_accuracy: 0.5667 - val_loss: 2.1610\n",
            "Epoch 32/40\n",
            "\u001b[1m 1/15\u001b[0m \u001b[32m━\u001b[0m\u001b[37m━━━━━━━━━━━━━━━━━━━\u001b[0m \u001b[1m0s\u001b[0m 39ms/step - accuracy: 0.9375 - loss: 0.1643\n",
            "Epoch 32: val_accuracy did not improve from 0.61667\n",
            "\u001b[1m15/15\u001b[0m \u001b[32m━━━━━━━━━━━━━━━━━━━━\u001b[0m\u001b[37m\u001b[0m \u001b[1m0s\u001b[0m 8ms/step - accuracy: 0.9824 - loss: 0.0486 - val_accuracy: 0.5667 - val_loss: 2.2118\n",
            "Epoch 33/40\n",
            "\u001b[1m 1/15\u001b[0m \u001b[32m━\u001b[0m\u001b[37m━━━━━━━━━━━━━━━━━━━\u001b[0m \u001b[1m0s\u001b[0m 38ms/step - accuracy: 1.0000 - loss: 0.0176\n",
            "Epoch 33: val_accuracy did not improve from 0.61667\n",
            "\u001b[1m15/15\u001b[0m \u001b[32m━━━━━━━━━━━━━━━━━━━━\u001b[0m\u001b[37m\u001b[0m \u001b[1m0s\u001b[0m 8ms/step - accuracy: 0.9963 - loss: 0.0116 - val_accuracy: 0.5750 - val_loss: 2.2539\n",
            "Epoch 34/40\n",
            "\u001b[1m 1/15\u001b[0m \u001b[32m━\u001b[0m\u001b[37m━━━━━━━━━━━━━━━━━━━\u001b[0m \u001b[1m0s\u001b[0m 68ms/step - accuracy: 0.9688 - loss: 0.1204\n",
            "Epoch 34: val_accuracy did not improve from 0.61667\n",
            "\u001b[1m15/15\u001b[0m \u001b[32m━━━━━━━━━━━━━━━━━━━━\u001b[0m\u001b[37m\u001b[0m \u001b[1m0s\u001b[0m 9ms/step - accuracy: 0.9911 - loss: 0.0336 - val_accuracy: 0.5917 - val_loss: 2.3078\n",
            "Epoch 35/40\n",
            "\u001b[1m 1/15\u001b[0m \u001b[32m━\u001b[0m\u001b[37m━━━━━━━━━━━━━━━━━━━\u001b[0m \u001b[1m0s\u001b[0m 38ms/step - accuracy: 1.0000 - loss: 0.0048\n",
            "Epoch 35: val_accuracy did not improve from 0.61667\n",
            "\u001b[1m15/15\u001b[0m \u001b[32m━━━━━━━━━━━━━━━━━━━━\u001b[0m\u001b[37m\u001b[0m \u001b[1m0s\u001b[0m 8ms/step - accuracy: 1.0000 - loss: 0.0065 - val_accuracy: 0.5750 - val_loss: 2.3330\n",
            "Epoch 36/40\n",
            "\u001b[1m 1/15\u001b[0m \u001b[32m━\u001b[0m\u001b[37m━━━━━━━━━━━━━━━━━━━\u001b[0m \u001b[1m0s\u001b[0m 38ms/step - accuracy: 0.9688 - loss: 0.0342\n",
            "Epoch 36: val_accuracy did not improve from 0.61667\n",
            "\u001b[1m15/15\u001b[0m \u001b[32m━━━━━━━━━━━━━━━━━━━━\u001b[0m\u001b[37m\u001b[0m \u001b[1m0s\u001b[0m 8ms/step - accuracy: 0.9917 - loss: 0.0170 - val_accuracy: 0.5917 - val_loss: 2.4147\n",
            "Epoch 37/40\n",
            "\u001b[1m 1/15\u001b[0m \u001b[32m━\u001b[0m\u001b[37m━━━━━━━━━━━━━━━━━━━\u001b[0m \u001b[1m0s\u001b[0m 38ms/step - accuracy: 1.0000 - loss: 7.7949e-04\n",
            "Epoch 37: val_accuracy did not improve from 0.61667\n",
            "\u001b[1m15/15\u001b[0m \u001b[32m━━━━━━━━━━━━━━━━━━━━\u001b[0m\u001b[37m\u001b[0m \u001b[1m0s\u001b[0m 8ms/step - accuracy: 0.9963 - loss: 0.0094 - val_accuracy: 0.5833 - val_loss: 2.4469\n",
            "Epoch 38/40\n",
            "\u001b[1m 1/15\u001b[0m \u001b[32m━\u001b[0m\u001b[37m━━━━━━━━━━━━━━━━━━━\u001b[0m \u001b[1m0s\u001b[0m 38ms/step - accuracy: 1.0000 - loss: 0.0076\n",
            "Epoch 38: val_accuracy did not improve from 0.61667\n",
            "\u001b[1m15/15\u001b[0m \u001b[32m━━━━━━━━━━━━━━━━━━━━\u001b[0m\u001b[37m\u001b[0m \u001b[1m0s\u001b[0m 8ms/step - accuracy: 0.9942 - loss: 0.0149 - val_accuracy: 0.5833 - val_loss: 2.4187\n",
            "Epoch 39/40\n",
            "\u001b[1m 1/15\u001b[0m \u001b[32m━\u001b[0m\u001b[37m━━━━━━━━━━━━━━━━━━━\u001b[0m \u001b[1m0s\u001b[0m 42ms/step - accuracy: 1.0000 - loss: 3.0619e-04\n",
            "Epoch 39: val_accuracy did not improve from 0.61667\n",
            "\u001b[1m15/15\u001b[0m \u001b[32m━━━━━━━━━━━━━━━━━━━━\u001b[0m\u001b[37m\u001b[0m \u001b[1m0s\u001b[0m 9ms/step - accuracy: 0.9848 - loss: 0.0316 - val_accuracy: 0.6083 - val_loss: 2.3925\n",
            "Epoch 40/40\n",
            "\u001b[1m 1/15\u001b[0m \u001b[32m━\u001b[0m\u001b[37m━━━━━━━━━━━━━━━━━━━\u001b[0m \u001b[1m0s\u001b[0m 40ms/step - accuracy: 1.0000 - loss: 0.0017\n",
            "Epoch 40: val_accuracy did not improve from 0.61667\n",
            "\u001b[1m15/15\u001b[0m \u001b[32m━━━━━━━━━━━━━━━━━━━━\u001b[0m\u001b[37m\u001b[0m \u001b[1m0s\u001b[0m 9ms/step - accuracy: 0.9997 - loss: 0.0050 - val_accuracy: 0.6000 - val_loss: 2.4886\n"
          ]
        }
      ]
    },
    {
      "cell_type": "markdown",
      "source": [
        "# evaluate\n",
        "\n",
        "Data Augmented\n",
        "![image.png](data:image/png;base64,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)"
      ],
      "metadata": {
        "id": "MfsGBp-w6CMd"
      }
    },
    {
      "cell_type": "markdown",
      "source": [
        "\n",
        "# EVALUATE ON TEST SET\n"
      ],
      "metadata": {
        "id": "lgJwPGRBKHK4"
      }
    },
    {
      "cell_type": "code",
      "source": [
        "test_labels=test_ds.labels\n",
        "test_loss, test_accuracy = model.evaluate(test_pca,test_labels)\n",
        "print(f\"Test Accuracy: {test_accuracy:.4f}\")"
      ],
      "metadata": {
        "id": "Z0cZAgOmExaX",
        "colab": {
          "base_uri": "https://localhost:8080/"
        },
        "outputId": "31c01d2b-d319-441b-f76d-06ab7cb2e48c"
      },
      "execution_count": null,
      "outputs": [
        {
          "output_type": "stream",
          "name": "stdout",
          "text": [
            "\u001b[1m19/19\u001b[0m \u001b[32m━━━━━━━━━━━━━━━━━━━━\u001b[0m\u001b[37m\u001b[0m \u001b[1m0s\u001b[0m 3ms/step - accuracy: 0.4106 - loss: 4.5349 \n",
            "Test Accuracy: 0.6017\n"
          ]
        }
      ]
    },
    {
      "cell_type": "markdown",
      "source": [
        "#data not augmnted\n",
        "![image.png](data:image/png;base64,iVBORw0KGgoAAAANSUhEUgAABkMAAAHJCAYAAAA2I046AAAAAXNSR0IArs4c6QAAAARnQU1BAACxjwv8YQUAAAAJcEhZcwAADsMAAA7DAcdvqGQAAP+lSURBVHhe7N15XBT1/wfw1y6gHCpe4IGioKJ5ISqZKZb3gXeeoaZGh1+1Mi0trNS07NBSMy1NyyPS8BbvI29TFFFDvPAWFERBYEEW5veHy/x2ZnaXa5djeT0fj3k82M/nM8PufGY+O/t5z3w+KkEQBBAREREREREREREREVkptTyBiIiIiIiIiIiIiIjImjAYQkREREREREREREREVo3BECIiIiIiIiIiIiIismoMhhARERERERERERERkVVjMISIiIiIiIiIiIiIiKwagyFERERERERERERERGTVGAwhIiIiIiIiIiIiIiKrxmAIERERERERERERERFZNQZDiIiIiIiIiIiIiIjIqjEYQkREREREREREREREVo3BECIiIiIiIiIiIiIismoMhhARERERERERERERkVVjMISIiIiIiIiIiIiIiKwagyFERERERERERERERGTVGAwhIiIiIiIiIiIiIiKrxmAIERERERERERERERFZNQZDiIiIiIiIiIiIiIjIqjEYQkREREREREREREREVo3BECIiIiIiIiIiIiIismoMhhARERERERERERERkVVjMISIiIiIiIiIiIiIiKwagyFERERERERERERERGTVGAwhIiIiIiIiIiIiIiKrxmAIERERERERERERERFZNQZDiIiIiIiIiIiIiIjIqjEYQkREREREREREREREVo3BECIiIiIiIiIiIiIismoMhlipCxcu4IUXXkDdunXFZfLkyfJiREREeZaSkoKhQ4dKvmNefvllPHz4UF6UiIiIiIiIiKhYYDCEiIiIiIiIiIiIiIisGoMhRERERERERERERERk1RgMISIiIiIiIiIiIiIiq8ZgCBERERERERERERERWTUGQ6hI7du3TzIBb926dbFkyRJ5MSpBlixZoqjTffv2yYsRWRW2ZURERERERERExRuDIUREREREREREREREZNUYDCEiIiIiIiIiIiIiIqvGYAgREREREREREREREVk1BkOIiIiIiIiIiIiIiMiqMRhCRERERERERERERERWTSUIgiBPpOIpMzMTN27cwJkzZ3DhwgVkZmaiQoUKaNmyJVq0aAFXV1eoVCoAwIULFzBkyBBoNBpx/ddeew3z5s3T22LupKenIyoqClFRUeL/BYDGjRujQYMGaNasGZycnOSr5cq+ffsQGBgoSZs6dSrGjRsnScsrrVaL6OhoREZG4ty5c0hPTwcA1KlTB02aNEHTpk1RqVIl+WpFJvv9/vvvv4iMjAQAsW5btWqFqlWrylfJt/T0dISHh+Pq1avi/ypbtixatWqF5s2bo1atWrCxsZGvlmtLlizBN998I0lbvnw5unTpIkkrDI8fP8bFixfx33//4datW4Dus7Zo0QKNGzeGp6cnbG1t5auVGHlpEywhMzMTd+/exfnz53HmzBmkp6fDxsYGzZo1Q6tWreDh4ZHjsZTdvpw/f15x7FvqM1jifLNUWwa9c/bcuXPicezq6orWrVubvS2Lj4/HmTNncPbsWSQlJYn16ePjIzlfUlJSMHbsWPz777/iujVr1sTmzZvh6uqqt0UiIiIiIiIiouKBwZASIDMzE6GhoZgxYwYSEhLk2aJ69eph2rRp6NSpEyIjIwscDLl69Sq++uorHDp0CFlZWfJsCW9vbwQFBcHX19dox6WhzsLcym2nYkxMDBYsWICQkBBotVp5tkSdOnXw0UcfoWfPnjl22BbE5MmTsWHDBvF1mzZtsGLFCjg5OSE5ORkrV67E4sWLkZaWJllPX+PGjTFjxgyT+9cUQRBw+fJlfP311zh06JA8W8Le3h6jR4/GO++8k2Mnq6HAR25ZKkCSmZmJnTt3Yv78+YiOjpZnS6jVagwaNAiTJk1CjRo15NkGPXz4EP3798f9+/fFtLyeWwUNVqalpeGvv/7CwoULTbYJ8mNcfiya+p+G3mN2neX2/1euXBnvv/8+AgICFEGnmJgY/PDDDwgJCTHZvlSuXBkzZsyAv79/rs5T+We0xPlWGG0ZdG3w7Nmzczxnc9P+5uTq1av4+OOPER4eLs8S2dvbY/z48RgzZgxUKhWDIURERERERERUohTrYbLS0tIwY8YM7Nq1S56VZ7t27cKMGTNMdoAVR3FxcRg1ahTee+89k52OAHD9+nW89dZbmDp1KlJTU+XZuZacnIzJkyeja9euOHjwoMmOymwREREYMmQIPvroowL97/xKS0vDggUL0LZtW/z11185BkIA4NatW5gwYQJGjRqFuLg4ebbFxMTEQKPRICIiAl27dsW8efNyPC6zg1vLly9HXuOXycnJmDJlCnr06JFjpyp0+3Lp0qXw9fXF+vXrxSeBSoKoqCh069YNEyZMyDEQAgBZWVlYv349/Pz8sGHDhjzv26IQExOD119/PcfgKPSO8ffffx+JiYm5Oi9M0Wq1uHbtGvz9/XP1/xMSEvDFF1/gzTffxNOnTwFdYG7Dhg3w8/PD+vXrc2xfEhIS8N5772HixIniNvKisM83c0hNTcWMGTPQtWvXXJ2zBWl/tVotFi1ahK5du5oMhEDXNsybNw/9+vXDtWvX5NlERERERERERMVasQ2GpKWl4YsvvsDvv/+OCRMmFCggsmvXLkyYMAG///47vvjiixw7woqLe/fuYfDgwTh27Jg8y6SQkBC88847+fqc2R2t+ndW50VISAjeeuutfHVa5tfTp0/x4Ycf4ocffpBn5cqxY8cwePBg3Lt3T55lEVqtFnv27MGwYcMQExMjzzbp66+/ztO5cO/ePQwcODBf9anVavHxxx/j888/L3AnemE4cOAABgwYgOvXr8uzcqTVajF58mT88ssvRdL5nVv37t3D8OHDcfbsWXmWSdu3b8eIESNw6dIleVaerF+/HgMHDszzPj506BC++uorPHv2DMuXL8fkyZPzfEzt2LEDX331VZ7XK8zzzRyePHmCN998E7///rs8K0d5bX+1Wi0+++wzo08HGXP9+nUMHjwY58+fl2cRERERERERERVbxXKYrGfPniEoKAh///23mGZra4uffvoJPXr0kJTNSXYgRL8DbfDgwZgzZw7KlCkjKVucPH36FO+++67BQIi9vT38/f3h5+eHMmXK4NmzZzhy5AhCQ0NNBkBMDYmDHP7nK6+8gpEjR6JJkyawsbFBSkoKjh49iuXLl4tj2OubOHEiPvzwQ8mQLZGRkVi9erWk3N27d3HkyBFJWrNmzdC0aVNJWvfu3fHqq69K0qDXmRccHCzPgre3N0aPHo0XX3wRdnZ2yMjIwKlTp/D7778jIiJCXhz+/v5YsGCBYjifgpIP2wMAKpVK0uneuHFj9O3bF+7u7gCA//77D9u3bze4b728vBAcHIwqVarIsyTu3buHMWPG4MqVK/IsNG7cGMOHD0fz5s3h6uqKa9eu4dixY1izZg2Sk5PlxREQEICZM2cq9s0///yD3bt3S9IuXryICxcuSNL8/PxQq1YtSdrIkSPRuHFjSVp+RUREYOTIkUhKSpKk29vbY/jw4ejfv784DFZMTAw2b96M4OBgxfliZ2eHtWvX4sUXX5Sk6yuqYbJMnZ+WaBMMvUd9arUabdq0Qa9evcRj8fbt29i6das4D4c+lUoFf39/7NixQ/I0SPaxqL+NHTt2GOxoV6vV+OOPP+Dn5yfPEhXG+WaJtgw51PErr7yCQYMGoWnTpnj27BnOnTuHTZs24eTJk/KiGD58OL788kvF+apPEAT88ssvmDt3rjwL0A0v1rt3b/Fzm9pH2ThMFhEREREREREVZ8UyGAIjQYy8BkTMsY2isnbtWgQFBcmT8eabb+Kjjz6Cvb29PAtpaWlYuXIlvvvuO4NDz5jq+ISR+R/q1auHxYsXo1GjRpL0bJmZmVi2bJmiQ6169er4+++/Ubt2bUm6nKGx9/Mypv6uXbswbtw4SUdn5cqVsWDBArRv397g+PmCIGDHjh14//33JceGnZ0d1q1bh5YtW0rKF5Shztls3t7e+P7779GgQQN5ljic0Mcff6yoz2XLlqFr166SNH3GgkQ57Zu0tDT88ssviqdsVCoVFi1ahN69e0vSDTF0HFlqfhAYmcgZuuN95syZKFeunCQ925MnTzBx4kRFB3afPn3www8/GO1ILqpgyLJlyzBnzhx5ssXaBEPvMVvXrl0xa9Yso/OsREVF4e2338bt27flWaKc2hZj28ipforifIMZ2jJBEDBr1iysXLlSkt64cWMsWLDA4HsGgKNHj+J///ufJBCYm6DRlStXMGzYMMVQZ82bN8fPP/+sCF5C9x5PnDiByZMnG3zKhsEQIiIiIiIiIirOiu0wWT169MBPP/0k6fDSarW5HjKrJAdCYmJisGzZMnkypk2bhunTpxvs9ITu7vBx48Zh8eLFUKvzVrUJCQnYuHGjJM3V1RW//fab0c5KALCxsUFgYCCGDh0qSY+NjVV0Mptbeno61q1bJwmE2NnZYenSpfDz8zPY2Q+9O9QnT54sSc/IyMDWrVslaZY0YMAABAcHG+3kVKlUeO211zBlyhR5Fvbt2ydPkjhx4gTWrVsnSXN3dxfnxzC2b+zt7fHee+9h2rRpknRBEPD9998b7AAtauHh4Th16pQkzd/fH998843RQAgAVKxYEd9++y3q1q0rST9y5Ahu3rwpSStq8fHx+Ouvv+TJFm0TjBk+fDiWLFliNBACAI0aNcKiRYtQoUIFeRYAoG7duli1apXJtsXYNs6ePYv4+HhJWm5Y8nwzh9OnT2PNmjWStLp162LZsmVG3zMAtG/fHsuXL4ednZ2YlpWVhWXLlhl9Kkir1eK3335TBELatWuHtWvXGgyEQLePXn75ZYSEhCjOGyIiIiIiIiKi4s48vWMWkt+ASEkOhADAwYMHFZ2x/v7+CAwMNNqJra9Hjx4YP368PNmkO3fu4M6dO5K0wYMH56rDy9bWFiNGjICDg4Mk/cyZM5LX5paQkKCYA6FLly65frJjwIABcHNzk6RdunQJKSkpkjRLePHFFzFr1iw4OjrKsyRUKhV69+4NFxcXSfrNmzeNvs+0tDQsW7ZMcne7Wq3GJ598gvr160vKGqJSqRAYGIhBgwZJ0m/evIk9e/ZI0oqDiIgISUDM1tYWo0ePNvrkgL4aNWooAnlPnjxRnH9F7ejRo4p5Ojp37ozRo0fnuk0w1MmfV3Xr1sV7772Xq33bvHlz9O/fX54MtVqNL7/8UnHuGdK8eXN069ZNkvbo0SM8ePBAkpYTS55v5qDVarF69WpkZGSIaXZ2dvj2229ztZ98fX0xYsQISdqJEycMDlcG3eeRD2/n6uqKOXPmoHz58pJ0Q9zc3PDtt99KAjBERERERERERMVdsQ6GIB8BkZIeCElPT8fevXslaXZ2dnjzzTdz1QEJXYdet27dFMEJU+zs7DBgwAAMHz5cXPz9/eXFjKpRo4aiAzE2NhapqamSNHPKzMxEz549Je956NChud5PFSpUUAR7YmJiDA4LZE4qlQrjx4/PVacjAFSpUgWenp6SNFPvMzIyEidOnJCk9ezZM8dhfvTZ2tri7bffRuXKlSXpmzZtyvXkzIWlatWqkmPgrbfeQsOGDeXFjHrhhRfkScUqGKLVahUd13Z2dnjnnXeMPhEip1KpMGDAAFSvXl2elSetWrUy+USIvuynCOR8fX1zHbBUqVSKsmlpaYiLi5OkmWLp880crl+/jkOHDknSevToofjsxqhUKvTp00cSnMjIyFAMHZft1KlTePLkiSTt9ddfV7SHpjRp0iTX74+IiIiIiIiIqDgo9sEQ5CEgUtIDIQDw4MEDXLx4UZLWsmXLPHXu5kfjxo3x9ddfS5a8TG7t4OCg6CTVarWSO/bNrVatWvjiiy8k79nYxMSGODo6KjqHtVqtYr4Ac7O3t1cEGUzJ6/s8fPiw5A5zlUqFIUOG5DpIlK1Bgwbo1KmTJO3ixYuIioqSpBW1oUOHSo6BqVOnKoZWMqVKlSqKwKH+/itqcXFxCA8Pl6S1bNkSTZo0kaTlxMbGxmxDZeVWuXLlFE+utG7dGk5OTpI0Uwo6/4SlzzdzOHDggGTOD5VKhUGDBuXpnK1Xr54isHf+/HnJ9yF0n0U+hKGDgwM6d+4sSSMiIiIiIiIisjaF2zNWADkFRKwhEAIAt2/fVoyHn9fOQ7IuKpUq152i6enpiIiIkKTVrFkzX8E0lUqF7t27S9K0Wq1i+2RZd+/eLbFtgrOzs+LpFVPzuBQHeTnfzEGr1eL8+fOStPycs87Ozoq5Ra5duyYJsgBAUlISrl27Jklr0KAB3N3dJWlERERERERERNamxARDYCIgMm7cOIwbN67EB0KgC4bIn6Zo1qyZ5DWRMU+fPlXMLeHl5YVKlSpJ0nKrVq1aik73q1evSl6TZSUmJiru7mebYD0MBSfq1q2bp6ebssmH93r69CnS09MlaQkJCYphxjw8PPL1/4iIiIiIiIiISpISFQyBkYCIIAiKCZRLYiAEuo5Pffb29orhpwqLIAi4e/cu/vzzT7z11lt46aWX4Onpibp16yqWJk2aGB2fvrDFx8dj06ZNeP/999GhQwfUr19f8X6zlw0bNshXL9FSU1MVcxtUrlwZZcuWlaTlVpUqVeDs7CxJe/jwoaKDtbjJvtv+hx9+QP/+/dGyZUtF3Wcvffr0Ueyz4kQefLK1tUWVKlUkaVRypaenK+bh+ffff9G5c2e0bds2T8vixYsl20lMTFQ8VaTRaBTnr5eXl2I4MyIiIiIiIiIia1PigiEwEhDJVpIDIQCQnJwsea1SqQp9nP/MzExs374dr776Ktq3b49PP/0Ue/fuRWxsrEXHzS8IQRBw6tQp9OvXD61bt8akSZOwZcsW3L59W3FXvTVLTExUHEP169eXvM4LJycn1K5dW5KWmppabPdpcnIy5s6di6ZNm6Jv375YsGABzp07h4SEBHnREsvOzk4x9BSVXPHx8YoguFarRUxMTJ6X1NRUyXYMSUtLU8yJU9jfMURERERERERERaHE9oAYCoiU9EAIAMTGxsqTCtXdu3cxePBgTJgwAbdu3ZJnF0tPnjzBhAkTMGTIEM5nUUoJgoD9+/fjpZdewtKlS5GWliYvQkRGhl0jIiIiIiIiIioNSmwwBLKAiDUEQgCgevXq8qRCc+/ePYwYMQJnz56VZ6FKlSro168fvvnmG/z8889YvXo1Tpw4gVOnTuHUqVP4559/4OPjI1/N4p4+fYrx48cjNDRUngVHR0d07doVX375JX7++WcsX74cx44dE9/zqVOn0KtXL/lqVALt2rULb731luKpGOiGAHrzzTexaNEi/Pzzz9iyZYvkGFi1ahWftKBSw9nZ2eBTlURERERERERE1q5EB0OgC4gsXboUS5cuLfGBEAAoV66c5LUgCIUyNFVaWho+//xz3Lx5U5Lu7e2NXbt2ISwsDAsWLMDQoUPRq1cv+Pn5oUaNGnB1dYWrqytcXFxQpkwZybqWJggC5s+fj2PHjknS69Spg9WrV+PChQtYtmwZRo4ciV69eqFLly5wc3MT37OrqyscHBwk65Z0zs7OimNIXqd5kZKSgjt37kjSHB0di1Vn6pUrVxAUFKQ4T9544w2Eh4djz549+Oyzz9CnTx/06tUL3t7ekmOgUqVKJWq+hIyMDD75YkVsbW0Vw1S99tpruHnzZoGXS5cuoVmzZpJt29vbw87OTpImP3eIiIiIiIiIiKxRiQ+GAECXLl3QpUsXeXKJJJ+sOi0tDXFxcZI0S/j3339x4MABSVrv3r0RHByMRo0aFcvO4itXrigmQG/RogVCQkLg5+cHGxsbSV5p4OjoqAjwFGTC86SkJMU8BAWZkN3cBEHAmjVrJHOCqFQqfPPNN5gxYwYqVaokKV8SNWjQQPJaq9Xi0aNHkjQquapUqaJo9y05L4+Dg4Pi/I2Ojpa8JiIiIiIiIiKyRlYRDLEm7u7uisDD5cuXJa8t4eDBgxAEQXxdoUIFTJw4EY6OjpJyxcmZM2eQlJQkvlapVJg0aRJcXFwk5UqT8uXLo169epK0K1eu4PHjx5K03Lpx4waePHkiSXvhhRckr4vS48ePceLECUman58f+vXrpziPSioXFxfFMF4XLlyQvKaSy8nJCW5ubpK0a9euSdo2c6pcubKijbx9+zZSUlIkaURERERERERE1obBkGLG3d0dVatWlaT9+++/Fh0WJyUlBZcuXZKkNWzYELVq1ZKkFTdnzpyRvK5WrRq8vLwkaaVN2bJl4e3tLUm7f/9+vgJqgiDgyJEjkjRbW1vF9ovSvXv3cPfuXUlamzZtFMGDkqxatWqoUqWKJC0sLIyd11bCyckJTZo0kaRdu3bNYgGvChUqoH79+pK0y5cvK84jIiIiIiIiIiJrw2BIMVOzZk20bt1aknbixAlERkZK0ixNPoZ9TrRaLTQajTy5UKnV6jwNjaXVahVDQFmDDh06SOYEEAQB69evz/OwO7du3cKuXbskaU2bNkWjRo0kacVNXo/dtLQ0ZGRkyJONKlu2rCJgack766tWrYrmzZtL0s6ePZvnAFdePycVnnbt2kle5/eczQ1bW1t0795dkpaUlISdO3dK0oiIiIiIiIiIrE3eeg3J4mxtbdGrVy9JWkZGBn777bdcd4wJgoCNGzcWKDgRHR2d63kJBEFAcHAwzp8/L8/KkaEhgPLr4cOHuHXrljzZqL1792L37t3y5BKvcePGaNu2rSRt586dOHjwoCTNFK1Wi2XLluHhw4eS9AEDBqB8+fKSNDkPDw95UqE6f/58rs+Vp0+f4scff8x1eegmoJY/qZGXO+sFQcCePXtyfX6aq01YuXJlocw/VFoVpC3z8fFRDG+3c+dO7N27V5KWE0EQsH37dixZssTksdGqVStUr15dkvbnn3/i5s2bkjRTzp49i9OnT8uTiYiIiIiIiIiKLQZDiqGXX35ZMdxTaGgoli9fLpnXwxBBELBhwwb88ccf8iyjHB0dFR1jcXFx2L59e47/LzMzEytXrsS3334rz8oVtVqtmNshOTlZ8toYT09PyWutVot169aZ7ASEbh/t3bsXH374IbKysuTZJZ69vT3eeustyRMSWVlZmDNnTq46OwVBwObNmxEcHCxJr1u3Lrp16yZJM8TW1laelOs6zauqVasqJp/+559/cPHiRUmaIU+ePMFHH32EY8eOybNMKlu2LBo3bixJS0pKytX5IggCQkNDsXjxYnmWSQVtE0JDQ/PUJlDeFaQtq1q1KsaOHStJy8rKwtSpUxERESFJNya77X/vvffwzTffYMKECYr5frLVqlULPXv2lKQ9fPgQQUFBePr0qSTdkGvXriEoKMgq208iIiIiIiIisl4MhhRDVapUwbhx4+TJmDt3LhYuXGh0/pC0tDQsXLgQU6ZMyVMnlUqlQpcuXeTJ+P7777F06VKj/y86OhrvvvsuZs2alaf/p8/Z2RnlypWTpIWGhuLevXuSNEPatm0rGQ4KAEJCQjBjxgyjnZAPHz7E9OnT8dZbb+X6zvySqG3bthg6dKgk7ebNmxg4cCCOHDlitAPd2DGkUqkwZcoU1KhRQ1LeEGdnZ0VA5O+//85VJ2teubi4wNfXV5Km0Wgwbtw4HD9+3ODnzMzMxN69e9GvXz/FMGC51blzZ8Wxt3jxYmzYsMHg/4SuY3zGjBmYMGFCns+XgrYJ+fmflDcFacsAoG/fvorhspKSkjBs2DBs2bIFmZmZkjx9ycnJ+OyzzyTn7a5du7Bw4UKD66lUKrzxxhtwdXWVpB87dgzvvvsuYmJiJOnZBN08QkOGDMHt27fl2URERERERERExZpKMNZzR0VKq9Vi2rRpCAkJkWfB3t4e/v7+8PPzQ5kyZfD06VMcP34cu3fvNtopCgCvvfYa5s2bJ08GdMMFvfnmmzh16pQ8C7a2tujYsaM4T8KzZ89w9OhRPHjwQF5UombNmti8ebOiw01fSkoKxo4di3///VeSXrNmTQwYMABNmjTB5cuXUbFiRYwZM0ZSxtQ+UqvVaNOmDerWrQvoOsDDwsIQHR0tLyrh4OCA9evXo1mzZvKsfJs8eTI2bNggvs7P/5BvIzf79uHDh3jrrbcM3lneuHFjDB8+HM2bN4erqyuuXbuGY8eOYf369UhISJAXR0BAAGbOnKkIchgSGxuL1157TdEJ7OXlhYEDB8LNzQ0XL16Et7e3Yvin/Dh37hyGDx9uMLhVrVo1tG/fHmXKlAEAxMfH4+DBgzk+PWTqXIEuyDB+/Hjs379fnoU6depgyJAh4nBht2/fxqFDh/Dvv/+aDEjk9D+1Wi3ef/99hIaGyrMs0iZcuHABQ4YMkexXU+UNMbSNqVOnGgzsGLNv3z4EBgZK0pYvX24wgAsD50phnW8Facuy3bt3DwEBAQaf4KpcuTLGjBkDX19feHp6IiMjAxcvXsShQ4ewceNGRT23a9cOS5cuNTms3fbt2zFx4kSDAbw2bdqgd+/eqFKlCjIzM3Hu3Dns27fP5FCEudlPRERERERERERFhcGQYuzJkycYN24cTpw4Ic/KkY+PD1JSUnDlyhUxLaeOzIiICIwcORJJSUnyrBzVq1cPZcqUwaVLl8Q0JycnhISE4IUXXpCUlVu7di2CgoLkyRLG3rupzsOcVK5cGQ0bNlTs399//x2vvvqqJK0g5B2rhdU5CwAxMTF455138jWfS7a8BEKgu3t81qxZWLlypTxLIq+d4sYIgoBffvkFc+fOlWflSrt27XDhwgXJcd+uXTssW7YMjo6OkrL6CnK+1KlTBw8fPsxzoCEuLg7jx483GLTMSV7/p6FAhqnyhhjaRl7rvaQEQ1DAtizbtWvXMHbs2AI9edG8eXP88ssvOT7JlZmZiV9++SVfwxxWrlwZrVq1ksxrktv9RERERERERERUFDhMVjFWsWJFLFmyBD169JBnmTRo0CD8+uuvqFSpkjzLJG9vb/z111+oU6eOPMuk7t2746+//kKnTp0k6SkpKbh8+bIkzRBDw8PklpubG4KDg9GyZUt5lkne3t7YsGGDYigpAFY1KXCNGjXw559/4rXXXpNn5cjW1hbffvstZs2aletACHRD8AQGBopP5ViaSqXCO++8gy+//DJP79PW1haffPIJFixYoHivV65cQXx8vCRNztvbGz/++CMcHBzkWSa1a9cOS5YsgYuLizwrRy4uLvj111/z3Cb07t0bK1asyHObQHlTkLYsW/369bFhwwZ0795dnpUrr732Gv78888cAyEAYGNjg3feeQeff/65ZI6hnNSrVw/r16/Pc7tLRERERERERFSUct/7QUWiYsWKWLx4MX766SfUrFlTni1Rr149rFixAt999x0qVaqEypUry4vkqHHjxggNDcXkyZNhb28vz5aoV68e/vzzTyxduhQuLi548cUXFRMI79+/P8chicqXL4/FixfD399fnpUr2R3+3377bY6fuXLlyli4cCE2btwIDw8PvPDCC6hQoYKkzLFjxywyv0VRKVeuHL7//nvs2rULr7zyijxbwd7eHu+++y5Onz6NIUOGwMbGRl4kR25ublizZk2hdZaqVCqMHDkSe/bsyVUnsr+/P44cOYJ33nkHVapUQYsWLST5cXFxBocXk+vUqRMOHDiQq2O3Tp06+Omnn7Bq1SrUqVMnV53VhmS3CQsXLszxeM/+nwsWLDA5XBKZR0HbsmwuLi5YunQpNm/enKtzFgBeeeUV7Nq1C99//71i7hJTbGxsMHbsWOzevRt+fn7ybAl7e3tMmTIF27ZtQ/369fN9DBMRERERERERFQUOk1WCCIKAe/fu4d9//0V4eDgyMzNRoUIFtGzZEi1atICrq6siGFEQWq0W0dHRCA8Px4ULF5CZmYmyZcvC19cXbdq0EecQMaf4+HgcOXIEZ86cET9f27Zt4e3tnau72jMzM3H37l2cP38eZ86cQXp6OmxsbODj44M2bdrAzc3NrPuoJEpPT0dUVBTOnz+PyMhIAEDZsmXRokULNG3aFB4eHvkKgBiSfcwePnwYFy5cAAC4urqibdu2aNasGZycnOSrmEVKSgouXLiAc+fOiXMcZP9fHx8flC1bVr5KgRn6n5Y8P6F3vIeFheXYJsTExGDAgAGIjY0V189pyCbKv4K2ZfoMnbPQBa+bN2+ORo0ame2Yfvr0Kc6cOYMTJ04gKSkJNjY2aNasGXx8fODp6Zmnp6+IiIiIiIiIiIoTBkOIiEoBc8zfQUREREREREREVFJxmCwiolLg+vXrkkAIdEPMERERERERERERlQYMhhARlRBPnz5FVFSUPDlHaWlp2LhxoyTNyckJDRs2lKQRERERERERERFZKwZDiIhKAK1Wi6+++goDBgzAgQMH5Nkm7du3D0eOHJGktWrVCh4eHpI0IiIiIiIiIiIia8VgCBFRMScIApYvX47g4GBoNBoEBgZi6dKl0Gq18qISgiBg7969+Oijj6A/PZRKpcLrr78Oe3t7SXkiIiIiIiIiIiJrxQnUiYiKuQcPHiAgIADXrl2TpNesWRMTJkxAt27dULVqVTFdq9Xi6tWrmD9/Pvbu3StZBwD8/f2xYMEC2NrayrOIiIiIiIiIiIisEoMhREQlQGRkJN58803ExMTIswAAarUarq6u0Gg0SExMlGeLvLy8sHLlSri5ucmziIiIiIiIiIiIrBaDIUREJcTdu3fx3nvv4ezZs/KsXGnXrh1+/PFHuLi4yLOIiIiIiIiIiIisGoMhREQlSGZmJg4cOIC5c+fi+vXr8myDypUrhxkzZqB///4cGouIiIiIiIiIiEolBkOIiEogQRBw8+ZN7N69G7t27cKVK1eQmpoK6IbMqlmzJtq0aYPhw4ejRYsWDIIQEREREREREVGpxmAIERERERERERERERFZNbU8gYiIiIiIiIiIiIiIyJowGEJERERERERERERERFaNwRAiIiIiIiIiIiIiIrJqDIYQEREREREREREREZFVYzCEiIiIiIiIiIiIiIisGoMhRERERERERERERERk1RgMISIiIiIiIiIiIiIiq8ZgCBERERERERERERERWTUGQ4iIiIiIiIiIiIiIyKoxGEJERERERERERERERFaNwRAiIiIiIiIiIiIiIrJqDIYQEREREREREREREZFVYzCEiIiIiIiIiIiIiIisGoMhRERERERERERERERk1RgMISIiIiIiIiIiIiIiq8ZgCBERERERERERERERWTUGQ4iIiIiIiIiIiIiIyKoxGEJERERERERERERERFaNwRAiIiIiIiIiIiIiIrJqDIYQEREREREREREREZFVYzCEiIiIiIiIiIiIiIisGoMhRERERERERERERERk1RgMISIiIiIiIiIiIiIiq8ZgCBERERERERERERERWTUGQ4iIiIiIiIiIiIiIyKoxGEJERERERERERERERFaNwRAiIiIiIiIiIiIiIrJqDIYQEREREREREREREZFVYzCEiIiIiIiIiIiIiIisGoMhRERERERERERERERk1RgMISIiIiIiIiIiIiIiq8ZgCBERERERERERERERWTUGQ4iIiIiIiIiIiIiIyKoxGEJERERERERERERERFaNwRAiIiIiIiIiIiIiIrJqDIYQEREREREREREREZFVYzCEiIiIiIiIiIiIiIisGoMhRERERERERERERERk1RgMISIiIiIiIiIiIiIiq8ZgCBERERERERERERERWTUGQ4iIiIiIiIiIiIiIyKoxGEJERERERERERERERFaNwRAiIiIiIiIiIiIiIrJqDIYQEREREREREREREZFVYzCEiIiIiIiIiIiIiIisGoMhRERERERERERERERk1RgMISIiIiIiIiIiIiIiq8ZgCBERERERERERERERWTWVIAiCPJGA9evXy5OIiIiIiIiIiIiIiKgE4pMhRERERERERERERERk1fhkCBERERERERERERERWTU+GUJERERERERERERERFaNwRAiIiIiIiIiIiIiIrJqDIYQEREREREREREREZFVYzCEiIiIiIiIiIiIiIisGoMhRERERERERERERERk1RgMISIiIiIiIiIiIiIiq8ZgCBERERERERERERERWTUGQ4iIiIiIiIiIiIiIyKoxGEJERERERERERERERFaNwRAiIiIiIiIiIiIiIrJqDIYQEREREREREREREZFVUwmCIMgTC0NaWpo8iYiIiIiIiIiIiIiIyOz4ZAgREREREREREREREVk1BkOIiIiIiIiIiIiIiMiqMRhCRERERERERERERERWjcEQIiIiIiIiIiIiIiKyagyGEBERERERERERERGRVWMwhIiIiIiIiIiIiIiIrBqDIUREREREREREREREZNUYDCEiIiIiIiIiIiIiIqvGYAgREREREREREREREVk1BkOIiIiIiIiIiIiIiMiqMRhCRERERERERERERERWjcEQIiIiIiIiIiIiIiKyagyGEBERERERERERERGRVWMwhIiIiIiIiIiIiIiIrBqDIUREREREREREREREZNUYDCEiIiIiIiIiIiIiIqvGYAgREREREREREREREVk1BkOIiIiIiIiIiIiIiMiqMRhCRERERERERERERERWjcEQIiIiIiIiIiIiIiKyagyGEBERERERERERERGRVWMwhIiIiIiIiIiIiIiIrBqDIUREREREREREREREZNUYDCEiIiIiIiIiIiIiIqvGYAgREREREREREREREVk1BkOIiIiIiIiIiIiIiMiqqQRBEOSJhSEtLU2eVGAnTp7EV3O/licDAEYEBGDo4CHyZLO4cvUqPp/xBVJSUuRZFv2/RERERERERERERESUM6t8MkStVqNy5cpwcXERF0cHR3kxs7G1sUHVKlXE/1W1alXY2dnJixERERERERERERERURGwyidDXF1c8O0336BK5SryIoUiVaPBzFmzEHkpkk+GEBEREREREREREREVMat8MoSISrfQ0FA4ODgYXby8vBAbGytfrVAEBgaK7yM0NFSeXeRiY2Ph5eWl2Gf6S3F831R6FPdzKDfmzZunOK/0l27duiE5OVm+WqEo7vu3OLfvREREREREVLwxGEJkZpmZmQgPD0dQUBB8fX0RHh4uL2JVEhISEBwcjD59+mD8+PHybKISoTQdx6WtjSIiIiIiIiIiAoMhZM0EQcCNGzewePFifPHFF/j888/x559/youZXVxcHIYOHYr58+cjOjpanm11Vq5cibFjx2Lfvn1IT0+XZxcJHx8f/Pnnn5Jl9uzZsLW1lRclGWdnZyxatEiy71asWAEvLy95UatSHI9jSyltbVRx5O/vr2ijPvzwQ3kxMoDtOxEREREREeUXgyFkdbKyshAREYEff/wRK1euxIMHD1BEU+NQEalZsyYGDBggWTp16oQyZcrIi5KMg4MDunfvLtl3ffr0QbVq1eRFiSifGjVqpGijXn75ZXkxMoDtOxEREREREeUXgyFkNZ49e4bjx4/j22+/xYYNG/D48WN5ESIiIiIiIiIiIiIqhRgMIatw7949zJ8/H7t27UJqaioAwN7eHp06dUK9evXkxYmIiIiIiIiIiIioFGEwhKyCi4sLqlatCgCws7NDq1atMGnSJLz66quws7OTFyciIiIiIiIiIiKiUoTBELIKZcqUgY+PDxo3bozx48ejX79+cHBwkBczu+TkZHTr1g0ODg7i4uHhgTt37gAAUlNT8fLLL0vy9RcvLy/ExsbKNyshCAJOnz6NkSNHomrVquK6NWvWxMiRI3H69Ok8zYmSkpKC4OBgdOjQQbK97G16e3tj0qRJBt9XaGio4jNMnz5dzF+7dq0iX3+ZN2+eZHslRWZmJqKiojB//nz06tULHh4eks9VtWpV9O3bF6GhocjIyJCvnqOUlBQsWbIErVq1ErdZo0YNBAUFISkpSV7cqKSkJCxYsECyHScnJ/j6+mLBggV52pa5CYKAS5cuYeLEifDy8pLsPycnJ9SrVw+9evXC33//LV/V7ArjODZnXRRk3xVGG2VuGRkZCA0NRd++fSVtVIUKFdCmTRscOnRIvopJCQkJWLBgAdq0aYMKFSpIPl/t2rXRpk0bzJo1C8nJyfJVSwy2UQWXmZmJkydPYuTIkahdu7Zk/1WoUAENGjTAkCFDcPToUfmqREREREREVEIwGEJWo1WrVhg2bBgqV64szyqxEhMTMWrUKHTo0AEhISFISUkR8x4/foyQkBB06NABI0aMyNUcKbt374anpyfGjh2L06dPS7YH3TavXLmCVatWISYmRpJXmu3atQs+Pj4ICgrCwYMHFZ3DKSkp2Lt3LwYNGoRXX30V9+7dk+SbcubMGbRo0QIffvghIiMjxfQnT55g/vz5aNWqFSIiIiTrGLJ79240aNAA06ZNk2wnKysLFy9exLRp09CgQQPs2LEjT8Ezc8g+jlu2bInly5eLHfHZsrKycP/+fRw8eBC7d++W5JVE5qyL0rbvss+HQYMGYe/evZI2KiMjA+fPn8fdu3cl6xgjCAJ++eUX1K1bF9OmTcP58+cVgYD4+HicP38ea9asKdHBELZRBXPv3j107twZHTt2REhICOLj4yX5GRkZuHv3LrZt24Z///1XkkdEREREREQlh0oo7F+cOmlpafKkAjtx8iS+mvs1XF1c8O0336BK5SryIoUiVaPBzFmzEHkpEiMCAjB08BB5ESpEf/75J6KiogAAjRo1wuuvvy4vkm9paWlYsmQJrl27JqalpKRg06ZNePbsGVQqFfr06SMO4SVXqVIlTJkyBRUrVpRnITExEcOHD8fBgwcBAA4ODggICECHDh2QkpKCnTt3YuvWrWL5jh07Ijg4GM7Oznpb+X/79+9H3759kZWVBeiGE2vfvj08PDwAAOnp6Th9+jRu3LgBOzs77Nu3Dz4+PpJtRERE4Ndff5WkhYeHIzw8HABQp04ddO7cWZKvr2/fvujevbs8uVCEh4ejS5cuSE1NRe3atXH48GFUr15dXsyg0NBQDBo0CNDVWf369dGsWTNAV0+HDx9GXFycWL5z587466+/UK5cOTEtW2BgINauXQsAmDp1Kn755Rc8efIEAODl5YW2bdsiOjoaR44cEddp3Lgxdu3aBRcXFzFN3+bNmxEQECDWrbe3N8aMGQNXV1ecO3cOwcHBYie6Wq3G2rVr0b9/f9lWjEtOTsbAgQPF9xQSEgJ/f395MYM0Gg1GjBiBHTt2iGnu7u7w8/ND2bJlAQA3btzAhQsXEB8fj4CAACxfvlxvC+ZnyePYnHVhjn1nyTbK3LZs2YKRI0eKAQu1Wo2WLVuiefPmyMzMxJkzZxAZGSnuW+RwLC5btgzvvfee+NrJyQmdOnUSz6PExESEhYXhzp07cHNzy1ObYAn67Yyfnx82btxosA0xpLS3UQVp3+Pi4tCjRw9JgKZx48bw9fWFjY0NAODChQu4du0aHj9+jNmzZ2Py5Ml6WyAiIiIiIqKSgsEQC2AwpHixZDDEkNjYWHTo0AF37tyBo6OjwaBCTgRBwMcff4yffvoJANCuXTusXbsW1apVk5S7cOEChg4dihs3bgCA0U4ajUaDoUOHYu/evQCA8ePH48svv4SDkaHEEhMT4ejomKv5VubNmycOMWSoM7a4KEhnWVRUFG7fvo2XX37ZYOdhZmYmVq9ejfHjx4udfatWrcLgwYPlRSUdjSqVCoIgoFatWvjrr7/QqlUrsdzJkycxYMAAsRNy/vz5GDdunJifLTIyEt26dcOjR4+gVquxdOlSjBgxAiqVSiyj0Wjw/fff46uvvgIA1KtXD7t27UKtWrX0tmRcQYIhe/bsQf/+/SEIAqpXr47169fD19dXXgzQ3X2dmppqNKBnSeY4js1dF5bad+Zoo8zt+vXr6NKli/hEQ0BAAObPn48KFSpIymVkZGDMmDHYsGEDYOJYfPjwIbp164bLly9DpVJh7ty5GD9+vNi5rU8QBCQmJqJ8+fIG8wtLQYIhpb2NKkj7vmTJEnz44YcAgObNm2P9+vWoU6eOvBigu3bVarUG9zEREREREREVfxwmi6gYioyMxJo1awAAHh4e+O233xSBEABo1qwZFi1aBLX6+am8evVqPHz4UF4MiYmJYkCoWrVqGD9+vNFACAA4OzvnKhBSWjRq1AjdunUz2gFmY2ODESNGYNSoUWLayZMnJWUMEQQBLVu2xD///CPpZASAl156CVOmTBFfb9q0STGMjyAIWLZsGR49egQAmDFjhqKTEbqniqZMmYJevXoBuo7nbdu2ScpYyoULF8Qhb0aNGmW0Mx+6p5WMdeanpaXhhx9+wPjx4/O15GYYn4KwRF2Ya98Vd4Ig4KeffhIDISNHjsSSJUsUgRDoPqe9vb08WeHevXvikwY+Pj4YNWqU0UCHSqVCxYoVjeaXBGyj8u/MmTPi35MmTTIaCAEAe3t7o/uYiIiIiIiIij8GQ4iKoU2bNol3277++usmO2datWqFFi1aAACuXLmCixcvyotIPHr0CLdv35YnUwHZ2trilVdeEV8nJiZK8g2pX78+goOD4ebmJs8CAPTo0UMcnujixYuKuRJu3bolDpVWs2ZNDB48WNHJmM3BwUFyF/iePXss8oSeKVFRUYo5G3JLq9Vi586dWLFiRb4W+b4zN0vXRUH2XXGnv+8qVqyI999/36zB2Nu3byvmgCiN2EblTD8ASURERERERNaHwRCiYiYlJQXHjx8HdJ1XnTp1kheRqFixIl544QVAdxeuoWCIs7MzGjVqBOg6lQMDA7F//35kZmbKi1IBlC9fXp5k0uzZs+Hu7i5PFrm5ucHT0xPQTVZ8//59Sf7ly5fFtBdffDHHIWUaNmwIR0dHQLduUlKSvIjZNWvWTOz83Lp1K6ZMmYKEhAR5sRLPEnVRWvZddHQ0YmJiAN1nNhX8zS03NzfUrl0b0E2SPmLECHZ0s40ySP+Jlx9//BHff/89UlJSJGWIiIiIiIjIOjAYQlTMPH36VDLZ8YkTJ7Bp0yaTy82bN8Xyhu4ed3BwwLRp08ROprt376J3796oW7cugoKCEBUVxcBILmVkZODOnTsIDQ1V1EN2ECu3bG1t5UkStra2cHJyAnSBLo1GI8nXD3zFxcVh27Ztivekvxw4cADPnj0DdEEx/YmoLaVjx46Su71//fVXuLm5wd/fHxs3bszV3ekAUK5cOezZswcajSZfi6F5JczJEnVhrn1X3F28eFEMUri7u5tlGCJXV1d88skn4uuIiAi8+OKLaNq0KebPn49bt25ZbWCEbVTeDB06FG3btgUAZGVl4fPPP4erqytGjBhRJE+nEBERERERkeUwGEJUzDx58kQcd12r1WL69Ol4/fXXTS7Hjh2Tb0bh5ZdfxubNm8W7eKG7Y3r+/Pnw8fGBi4sLpk6dqhjmhJ67dOkSBgwYgIoVK8LLywuDBg1S1MP8+fPlqxWIk5MTatasKU8W6d+FfezYMcX7kS/Tp0+HVquVbMPS7Ozs8PPPP+N///ufJP3AgQMICAhA9erV0b59e4SGhhoM5JUUlqiL0rLv9N+7l5eXJK8ghgwZgtWrV0vmHomOjkZQUBAaNWoEd3d3zJ8/32qetmEblT+VK1dGcHAw+vXrJ6ZlZWVhw4YN6NevHypVqoR+/frh5MmTvGmAiIiIiIiohGMwhKiYefbsmcU6g/z8/BAWFobly5crOh01Gg0WLlyIBg0a4JNPPlHc4VuabdmyBW3atMGuXbsK5U7lbJmZmUhPT5cni1JTU+VJxZKTkxPmzZuHiIgIjBw5UjEfxJkzZzBo0CC0aNFCMplxSWKpuigN+06fOScxV6lUGDRoEK5evYo5c+agRo0akvz4+HgEBQWhbt26WLx4cYnu6GYbVTDVqlVDcHAwDh8+jB49ekCtll4e79mzBx07dkTnzp1x69YtSR4RERERERGVHAyGEBUzrq6u4oS0jo6OOH78uGLIH1PL5MmT5ZuUcHBwQEBAACIiIhAbG4sVK1bA29tbUubHH3/E559/brXDyORFREQE3n33XfHu9VatWmHfvn14/PixYt+HhITIVy+QtLQ0PHr0SHwtH7Kmfv364t8BAQGK92NquXLlCqpXry7ZnqV5eXnh119/xePHj3H69GkEBgbCwcFBzI+Ojka/fv0QGRkpWa8ksHRdWPO+0yefc8IcKlSogA8//BDR0dG4desW5s6dK3lCLiMjA1OmTMGKFSsk65UUbKPMQ6VSwdfXF5s2bcKTJ09w4MABvPbaa5LAyL///ouBAwciLi5Osi4RERERERGVDAyGEBUz9vb2cHFxAXRPiWgs+ISGs7Mzhg8fjpMnT+LSpUvo3bu3mLd27VpcvnxZUr40WrVqFZ48eQIAaNeuHUJDQ9GuXTvY29vLi5pdYmIirl+/DgCoVKmSYmJpNzc38e+UlBSLPVFkbjY2NmjatCkWLVqEBw8eYMWKFeJ8No8ePcJvv/0mXwXJycno1q0bHBwc8rWEhobKN2lWhVUX+dl3xZ3+0y6PHj0yGYRNTEyUzJGUV66urnj//fdx8eJFnDp1ShIIXrJkiaRjv6RgG2V+dnZ2aNu2LdasWYOHDx9i1qxZYlAkMjISW7Zska9CREREREREJQCDIURmplarxbtjBUHI85Alzs7OaNKkCaCbM+TAgQPyIhZRt25dLFiwAO7u7oBu7pLc3KWt35Gp1WpNdmSWNCkpKbh06ZL4um/fvnB2dpaUsaT//vsPMTExAICmTZuiVq1akvyGDRuKHeGnTp0qkfO92NnZYfjw4fj000/FtOjo6EKftLigx3FR1EV+911B2yhza9q0KVQqFQDg/PnzRufwEAQBv/32W67mSMqJSqVCs2bNsGTJErHeYmNjc33Hv0ajwc8//wxvb28MHDhQ0k4UJrZRlufk5IQpU6YgICBATCuq+iYiIiIiIqKCscpgSPyjR/hwyhSMfStQXLZt3y4vZjbR0dGY8N5E8X+NnzgBV69dlRejUsLJyQl169YFdB1mp06dkhcxSaVSoWvXruLrxYsXIywsTFLGUhwdHVG1alV5skkNGzYU/z537lyuOxNLAkEQcn0n84ULFxAUFCRPzrfExER8++23Yqf84MGDUa5cOUkZT09PMXB2//59fPfddyV2Im39O8gNsbW1Rc+ePTF27Nh8LfJOWrmCHsdFWRc57Tu5grZR5taoUSPUrl0bABAVFWVw7hNBELB06VJ89tln8qwCqVixIsqXLy9PNkmr1WLq1KmYPHkyrly5gp07d6JTp06IiIiQF7U4tlGFQ6VSKeacISIiIiIiopLHKoMhWVlZSEhIQFxcnLikaiw3iac2MxPxjx6J/ys+Pr5E/tgn83BycoKvr6/4etasWTh58qSkDHTj1B8/fhzJycnyLHTu3BmtWrUCdE9o9O/fH1u2bDE6wW9mZiaioqKMDgV0//59hIWFmbxjPDMzE8uWLcPZs2cBALVr10ajRo3kxRS8vLxQrVo1AMDly5fxxRdfGBza6+7du0XSWVgQ5cqVQ7169cTXa9euxb179yRlEhISMG3aNLz00kt5HlbMWCdmSkoKJk2aJN4B365dOwwZMkReDM7Ozhg3bpz4esWKFQgMDERsbKyknL7ExETs2LFD8TksQavV4uTJk4iJiTH5pMX169cxZ84c8XX79u0VQ/zY29tj0qRJWLx4cb4W+bw4cgU9js1dF+bcd3LmaKPMqUaNGujVqxeg69yfPHmyOPQSdAGbr7/+Gh9++CGysrJQqVIlvbUNi4qKQmRkpMnvYo1Gg2+//RYPHjwAjDzZYMi1a9cUc288efIEq1atkqQVBrZRBaPRaHD8+HGjTyNlO3nyJH799VfxdceOHSX5REREREREVDKoBFO9LBZkqlOWKD/27t2LI0eOyJNz5ObmhjfeeCPHDsS8iIyMRLdu3STjz3t5eaFt27awsbHB+fPncfbsWbi5ueHw4cMGJ4kNCwtDnz59xLHgoRsWp3379vDw8AB0nUanTp3CnTt3AN0EtcuXLxfLZwsNDcWgQYMA3bjutWvXho+PD2xsbAAAN27cwNGjRyUdhwsXLsRbb70lvjZGEAR8/PHH+Omnn8Q0Ozs79OjRAy4uLkhMTMThw4cRFxeH2bNn5zjBe0E9efIE33//PR4/fixJj4+Px7Zt2yAIAsqUKYMBAwbAyclJzHdwcMDEiRMVY97v378fffv2FYcS0v9s586dE4NH0A0/lF3OWF0EBgZi7dq14msvLy90794dvr6+yMzMxP79+7FhwwaxI75WrVoICQkx2pmfkZGBDz74QDH5s7u7O/z8/FC2bFlAd1d4ZGQkUlJS4OjoiH379sHHx0eyDgD8/vvvOH36tCQtIyMDO3bsEI/nzp07K/ZT37590b17d0lacnIyBg4ciCNHjkCtVqN69epo1aqVOCdOeno6jhw5gtu3b4vrNG7cGLt27RLLFBZzHMfmrAtL7ztztFHmJH8/arUavXr1QtmyZbF//36xHRw7diyaNGki7v+QkBD4+/tLtgUA8+bNw/Tp0wEAVatWhYeHB5o1aybmZ3++7PNVrVZj69at6Ny5s1jGmPPnz6NLly54+vSpJH306NFYsmSJJM2QW7duYdGiRYpg261bt7B//34AQJUqVdCrVy/J8G2VKlXClClTULFiRb21SlcbZe72PTY2Fh06dMCdO3dgZ2eHWrVqoWXLluJQY/rnfbZevXphzZo1cHBw0NsSERERERERlQQMhpDVKE7BEADYuXMnRowYgdRU408l1a5d22RHY1RUFIYNG5bru3kDAwOxaNEiebIkGJKTChUqYPHixXjttdfEcfxzkpiYiHHjxmHTpk3yLAljncjmpN+5lRfGOt8yMjLwzTffSO6+N6Rfv36YNm0ahgwZgjt37hjtaJw4caLBdEPatGmDP/74Q9GBJ5eRkYF58+Zh5syZ8iyDKlWqhF27dqF58+byLEVHaG4Zqlv9Dv3c6NevHxYsWCA+oVHYzHEcm6suCmPfmaONMqctW7Zg5MiRRp/mmDhxImbOnIkDBw6I7VlugiE58fT0xNKlS+Hn5yfPMkij0WDEiBHYsWOHmKZWq7Fu3Tr07t1bUtaQ8PBwdOnSxeR+N8RYXZSmNsrc7Xtet/e///0Ps2bNkgRaiIiIiIiIqOSwymGyiIqDnj174r///sPUqVPh6ekpyatRowYCAwOxZcsWk52XjRo1wpkzZ8Rghnw+j0qVKsHX1xdz585FVFQUFi5cKMnP5uPjgzlz5qBjx46oVauW5G5j6A2bs2LFCkRHR2PQoEG5DoRANxTK6tWrsXHjRnTt2lXSUWRnZydu+91335WsVxLY2dkhKCgIhw8fRs+ePSWfLbsez549i+DgYEUnpSELFy5EVFQUFi1ahI4dOxqs00GDBuHgwYPYv39/jp2M0L3HadOm4caNG5gzZw6aN28uqWO1Wo06depgxIgR2LJlC6KjoxWdjJZgb2+PKVOm4M0334SXl5fis0LXwau/D02dD5ZmjuPYXHVRGPvOHG2UOfXr1w/nzp3DyJEjxX1mZ2eHnj174vDhw/jmm29yfTe+v78/Pv30U/j6+qJmzZpQq6WXO5UqVULXrl0REhKCc+fO5ToQAt1TBj///DMGDhwI6J48+eOPPwwGZQoD26j8c3Z2xpw5czB06FB4eHgohmBTq9WoV68epk6diqtXr2LevHkMhBAREREREZVgfDKEiIiIiIiIiIiIiIisGp8MISIiIiIiIiIiIiIiq8ZgCBERERERERERERERWTUGQ4iIiIiIiIiIiIiIyKpxzhAiKhK///47Tp8+LU/OFwcHB0ycODFXE/kSUf7cunULixYtgkajkWfli6+vL0aPHi1PJiIiIiIiIiKyCAZDiKhIBAYGYu3atfLkfHF0dMS+ffvg4+MjzyIiMwkPD0eXLl2Qmpoqz8qXgIAALF++XJ5MRERERERERGQRHCaLiIiIiIiIiIiIiIisGp8MISIiIiIiIiIiIiIiq8YnQ4iIiIiIiIiIiIiIyKoxGEJERERERERERERERFaNwRAiIiIiIiIiIiIiIrJqDIYQEREREREREREREZFVYzCEiIiIiIiIiIiIiIisGoMhRERERERERERERERk1RgMISIiIiIiIiIiIiIiq8ZgCBERERERERERERERWTUGQ4iIiIiIiIiIiIiIyKoxGEJERERERERERERERFaNwRAiIiIiIiIiIiIiIrJqDIYQEREREREREREREZFVYzCEiIiIiIiIqJTL0ALf/q7C4nUqCII8l4iIiIpCigaYPE+N3cdV8izKBwZDiMjqhIaGwsHBweji5eWF2NhY+WpERERkZuHh4ahSpQocHBzQrVs3JCcny4uYXXJyMrp166b4/tdf5s2bJ1+NLIB1UXJkaIGZS9X4arkaM5eq8dsmdrhYg7t372LGjBlo2rQpnJycxPOuQoUKaNy4MWbNmoW0tDT5akRUghTn71r991alShWEh4fLixS5efPmKfaX/lJY16/GaNKfB0J+3aDC6M/V2PoPv58LisEQIjPLzMxEeHg4goKC4OvrWywbe3NKSEhAcHAw+vTpg/Hjx8uziSwiIyMD//zzDyZOnIiXX37ZqoNbpa1NISIiKulK2ne3IAA/r1Php79UyMwC6tQEur2c+0dD7t69i+XLl6Ndu3ZYsGCBPNuqlJRr0IyMDMydOxcNGjTAN998g+vXryMrK0uSf+PGDRw9ehRarVaybklRUuqiNChNfQIlrX2nks++DNDyBQEOZYHkVOCD79Q4E8mASEGoBKFoHoDl3QdkKenp6Th37hzCwsKQkJCAjIwMAICDgwPq1q2Ljh07onr16vLVzCY2NhYdOnTAnTt34OjoiH379sHHx0dezGrMmzcP06dPBwAEBARg+fLl8iKF7v79+/j3338ladHR0ZgxYwa0Wi1q166Nw4cPW/Q4IMsKDw9Hly5dkJqaavX1WdraFCKyLvrttZ+fHzZu3Ihy5crJi5mVVqvF8ePH8ejRI0n64sWLcezYMQDA7NmzMXnyZEk+mV9prYuS9t295R8V3pqphiYdqO8O/DU3Ew3ryksZFxgYiLVr1wJWWp/6Sso16IIFCzBt2jTxtZ2dHXr06AEXFxcAwIULF3Dt2jU0bdq0UNplSygpdVEaFMc+AUspju17cf6uTU5OxsCBA3HkyJFis7/koqKicOnSJUlaWFgY5s+fDwCFdv1qiiAAC/9U4YslamRmAY08gA3zMuHOJi9f+GQIWY2srCycPn0a8+bNQ2hoKB48eCAGQgBAo9Hg0qVLWLp0KbZu3Vpi74ChnNWsWRMDBgyQLJ06dUKZMmXkRYmIiMjK2NraokOHDoprgbp189C7S2bBuij+zkSqMOm754EQh7LAvA+z8hQIoeLn4cOHWLlypfh69OjRePDgAdavX4/Fixdj8eLFOHz4MO7fv489e/YUaQcfERUcv2sLplGjRop99/LLL8uLFSmVCvjfUAGj+jx/niHqBjBxrhpJRTd6V4nGYAhZhYyMDKxbtw7btm0TnzoqW7YsPDw80KRJE3h4eMDOzg7QBU3CwsKwe/duFNGDUUREREREREUqKRmY9asKcY8BGzUQFJiFjr78fVTSnTp1CpcvXwYANGzYEDNnzoSDg4O8GBERlSB2tsBnb2ehWYPn39OHwlRYuUUFdmvmHYMhZBXs7OzQqFEj2NjYwNnZGcOHD8cnn3yCMWPGYOjQoRgzZgymTJmChg0biuuEh4fj9u3bku0QERERERGVBn/vVeFQ2PNxx19uIWBMPwEqDkNe4mUHQgCgbdu2cHV1leQTEVHJ5FIJmD3++fwhmVnA4nVqRN2Ul6KcMBhCVqNFixYYM2YM3n33XbzwwgtQq6WHt4ODA3r27AlnZ2cAwLNnz3DhwgVJGSIiIiIiImt39wGw5O/nY4+XdwKmvyWgAkdLsgqZmZni3/Xr15fkERFRydahlYAh3Z8/DhIT/zwgov3/Zp9ygcEQshoqlQru7u5wcnKSZ4kqV64MNzc38bV8XpG8Sk5ORrdu3eDg4CAuHh4euHPnDgAgNTUVL7/8siRff/Hy8kJsbKx8sxKCIOD06dMYOXIkqlatKq5bs2ZNjBw5EqdPn87TcF8pKSkIDg5Ghw4dJNvL3qa3tzcmTZpk8H2FhoYqPkP2RGkAsHbtWkW+/jJv3jzJ9kqajIwMhIaGom/fvoq66Nu3L3bu3Cn58ZGTgtSFIQkJCViwYAHatGmDChUqSLZXu3ZttGnTBrNmzUJycskaWDI2NhZeXl6Sz/Pyyy8jNTUVAHDnzh14eHgojrfspVu3bjl+Zo1Gg3Xr1sHPzw9OTk7iuk2aNMGMGTNyXQfZ8lsXhdGmmEtmZiaioqIwf/589OrVS1EHVatWRd++fREaGprndjYzMxMnT57EyJEjUbNmTXGbTk5OaNq0KaZMmYJLly7luu0zdu5WqFABbdq0wZdffom7d+/KVwN0TxFWqVIFDrk4lvSPVVN1ERgYCAcHB1SpUgXh4eGAXls/cOBA8ZipUKECBg4cqJjQT6441sWePXvg6Oio+JymaLVajBo1SvwfkyZNUmy3NNA/jubNmwdBELBjxw54enrCwcEBLVq0wJEjRwDdcRMSEoLatWuLeWfOnJFvUuHu3buYMWMGmjRpoqjT/LR5hrbnoGvvPvjgA2g0GvkqRpn7uqe4S0pKwoIFC9CqVStJXfj6+mLBggVISkqSrwLo9tOkSZPEdfr27Zur/Xzz5k3Uq1cPDg4OcHR0xJ49e+RFLNqmFIT+d2Ru2pXsttbBwQGhoaHybFFiYiJCQ0MxYcIEeHt7K67Jsq8FjH1PFMZ3tyXOix1HVbisu5u0W1sBvk1yt/68efMUnyF78nQAmD59uiJffzFVF9muXLmCiRMnwt3dXVwv+7jL6/W2IAi4dOkSJk6cqLiedHJyQr169dCrVy/8/fff8lUL5RrUEq5cuSJPyjdz1IU52hRL1UVu2wnIjn1jv2v1rxsDAwPF9KSkJMyfPx8NGzYUt9GwYUP8/PPPuWq7Yaa6MIfC6BPgb7Oil5aWhgMHDuDjjz9GmzZtJL8DHBwc4OnpiYkTJxr8HZAbCQkJ+PLLLyXnhKenZ57OCRSj88IQc/f3ZLO1Af43JAsulZ6/3nFEhSu35KXIFAZDqNSpUqWK+LdWqy3SxjEniYmJGDVqFDp06ICQkBCkpKSIeY8fP0ZISAg6dOiAESNG4PHjx5J1Ddm9ezc8PT0xduxYnD59WrI96LZ55coVrFq1CjExMZK80u7MmTNo0aIFBg0ahL179yrqYu/evRg4cCBeeeUVXL16VbKuIeasC0EQ8Msvv6Bu3bqYNm0azp8/r/ghER8fj/Pnz2PNmjWKi7zSLiIiAq1bt8bo0aMRFhaGrKwsMS86OhrffPMNvLy8sHjx4hzbi9JUF7t27YKPjw+CgoJw8OBBxUVcSkoK9u7di0GDBuHVV1/FvXv3JPnGXL16Fa+88go6duyIkJAQSduWlZWF69evY/HixejXrx8ePHggWdeQI0eOGD13MzIycP78eXz11VcYO3ZskdXH48ePMWLECHTo0AE7d+4Uj5mMjAzs3LkTbdq0wZYtW+SriYpjXbRq1QqNGjUCdD8Uc+pggK5D/dixY4DuBoeePXtCxfFasGXLFgwePFj8Lrh8+TLGjRuHu3fvYuHChRg5ciTi4+PFvDfeeMNop61Go8Enn3yCBg0a4JtvvkF0dLSYl12n2W3eDz/8oGi/5ExtD7r27tSpU7n+kWzu657ibvfu3WjQoAGmTZuGyMhIMT0rKwsXL17EtGnT0KBBA+zYsUOxD+XnyKFDh3D+/HlJGUNOnz6N+/fvAwC8vLzQokULeRGLtSnFUXJyMgYPHoxBgwbht99+w5UrVxTXZNnXAg0bNsSSJUsUdWFpljgvkpKB9XueHztl7ICAXgLsbOWlCl9GRgaCgoLg7e2N5cuXIy4uTszLPu4GDhyIzp0749atnHt+svddy5YtsXz5crEDM1tWVhbu37+PgwcPYvfu3ZK80s6cdVGa2hS57BsaGjRogKCgIMkw3bdv38bkyZMxbNgwJCYmStbTZ866KAn426x4mDBhAvz9/bFo0SKcP39e8f0SExOD5cuXo2XLlvjkk08U+9UYQRCwfft2NGjQAF999ZXknIiJicHkyZPRpUuXHNuB4n5emLO/xxCvOhDn+Ip7DGw+yN9MeaESCvtqTid7kmuiwrZ3717xjso6depg1KhR4uTqeZWWloYlS5bg2rVrYlpKSgo2bdqEZ8+eQaVSoU+fPqhatapkvWyVKlXClClTULFiRXkWEhMTMXz4cBw8eBDQDfMVEBCADh06ICUlBTt37sTWrVvF8h07dkRwcLA4DJjc/v370bdvX/Fiws7ODu3bt4eHhwcAID09HadPn8aNGzdgZ2eHffv2wcfHR7KNiIgI/Prrr5K08PBw8c68OnXqoHPnzpJ8fX379kX37t3lyYUiPDwcXbp0QWpqKmrXro3Dhw+jevXq8mIG7dy5EyNGjBDvPFKr1fDz80O9evWQmJiIw4cPS75869evj9DQULi7u+tt5f+Zoy70LVu2DO+995742snJCZ06dYKLiwugO5bCwsJw584duLm55emzFwdPnjzB999/L7kAi4+Px7Zt2yAIAsqUKYMBAwYYfSqsfv36GDduHOzt7eVZCAsLQ58+ffDkyRMAgKenJ9544w00aNAAN27cwNq1ayUdVHPmzMGkSZOMdtAWtC4s2aaYW2hoKAYNGgTo/m/9+vXRrFkzQPc55edF586d8ddff6FcOeNjcBw4cAABAQFifQCAi4sLOnToAGdnZyQmJuLUqVO4c+dOjuexIAhYs2YN3n33XcmPKHd3d/j5+aFs2bKIi4vDiRMnEB8fDz8/P2zcuFHx/vTbDmNlssXGxqJDhw45vr/AwECsXbsWjo6OWLlyJb755hucPXsWAFCxYkWxHd2xY4d4Z1TNmjWxf/9+1K1bV7ItFOO6mD17NubMmQMAaNmyJUJDQ00em3///TdGjRoFAPD19cW2bduMfqdZM/3jaOLEidi/fz8iIyPRrVs33L17V2yTvvzyS/z444949OgRevbsievXr4t3A69cuRLDhg2TbDcxMRHjxo3Dpk2bxLQaNWqgU6dOKFu2LM6fP4+zZ89KzhdTbV52J6P+kwX6x0hcXByOHj0qabtNnUPmvu4xJPvcg+74nDx5srxIodm8eTMCAgLE/e3t7Y0xY8bA1dUV586dQ3BwsNhxq1arsXbtWvTv31+yjcTERPTp0wenT58GAAQFBUnuzpVLS0vD8OHDsWvXLsBEeUu0KXL5qYvk5GQMHDgQR44cgaOjY47XR/r/IyQkBP7+/vIikm2q1WrUrl0brVu3Fo8r+XmhVquxbt069O7dW9yGJb+7LXVeHDytwqApajzLAFo3EbBpfhYqlpeXMmz37t2S/wndtW12Z5OPj4/Jenn77bfh7e0tT0ZGRgY++OADrFixAtDt6wEDBoj7eu/evfj777/FDrecrrc1Gg1GjBiBHTt2iGn61wAAcOPGDVy4cAHx8fEICAjA8uXL9bZg2WtQczD02wxmqA9z14U52hRL1UVu2ols8+bNE9tMY+2W/nXj66+/jtatW2PKlCliG9KyZUvxKc6IiAhxPWPtsbnrwhwMHXfm6hPgbzPzys93bTb9datXrw5fX19xv924cQNHjx6VBEDmzp2L999/X3ydTf97tnz58nj77bfxww8/5HhO9OrVC2vWrIGDg4Pe1p4rjPNCv90ydf1qiLn7e4zZe1KFYVOff5c3rS9g+8IsVCmaQ63kEYqIRqPhwqXQl9TUVGHFihXCRx99JHz00UfCmjVrFGUKuty4cUOoXbu2AEBwdHQUjh8/riiT05KamipMmDBBACAAENq1ayfcvHlTUe7UqVOCh4eHWG727NmKMhqNRkhISBC6du0qlhs/fryQkJCgKJe9xMbGCklJSYp0Q8vs2bPF7QYEBCjyi8ty/PhxwdHRUQAg1K5dW7hx44aijKElKipKso/79esn3L59W1ImOTlZWLdunbh9AEKvXr0M7mNz18WtW7eEhg0bCgAElUolfPPNN0JycrKinEZ3XMXExBjNL0lLfutTf7l9+7bQuHFjsS6CgoIU+zo5OVlYsmSJoFarBeRwTluqLszRplhiCQ8PF7Zs2SLExcUp8jQG9h0AYdWqVYpy2Yv8XKtVq5awc+dOITU1VVH28ePHwr59+4z+b41GIxw+fFhyTnp7ewtnz55VlNPozrODBw8Kjx8/VuTpH2t+fn4m/6d+XZk6LgMCAsT3ZWNjIwAQ1Gq18OWXX0rag8uXLwv169cXyy5atEixLU0xrouwsDChYsWKAnTnxJYtWxRlspenT58K/fv3F/9nUFCQokxpWfSPIycnJwGAMG3aNCE1NVU4evSo4ODgIAAQKlWqJAAQ5syZI6Smpgr79+8XbG1tBQDC6NGjJdtMTU0VZs2aJe5fR0dHYd26dYo26Pbt20K/fv3Ecmq1Wti+fbviPaampgrTpk0Ty1WpUkXYvn27wWNk79694ns2dg6Z+7rH2KJ/7uV1XXMuZ86cEapUqSLu419//VWx7xISEoRPP/1UfL/16tUTrl69qtiW/nVYy5YthZiYGEWZ7EX/nDT1fWLuNsXQkp+6iIuLE/z8/HJ8/4b+R0hIiCJfo2vD/v77b+G///5TnA/Zy7Vr14R27dqJ2/L19RViY2MV5fQXc3x3W/K8mPZjumDr80yw9XkmTPwqXZGf1yU/9SlfFi5cKG7Dw8NDCA8PV5SR18Xo0aOFp0+fKsppNBphy5YtgkqlEgAI1atXFw4fPqwok70kJSXlWKfZizmuQc21hISEiPsiv4uhc8PcdWGpNsUcdZGbdiJ70W9vjR3n+u9J//PIr0NTU1OFOXPmiPkvvPCCcPfuXcX2zF0XllrM0SfA32bmXwrSNoeEhAhnzpxR1EH28uDBA2Ho0KHi9mvWrClcunRJUU7/uzu7LqC7ZomKihLLpaamCqtXrxbr1tRvh8I4L/TbV2PXr4YWc/f3mFqu39YIXn2ef5c7v/xMOHAyTVGGi+GFw2RRqfLo0SPJXXbZQ3gUN5GRkVizZg0AwMPDA7/99huqVasmL4ZmzZph0aJF4mTxq1evxsOHD+XFkJiYiKioKABAtWrVMH78eIMR9mzOzs75flrGmgiCgJ9++gk3btwAdHfb/fLLL+IdEdlsbGzQt29f/Pbbb2Jd7Nu3z+BwFeaui3v37onHtI+PD0aNGgUbGxt5MUA3pEbFihWN5pc2ISEh4p1FI0eOxNSpUxX72sbGBm+88Qb+97//AbrhflatWmVwiIzSVheNGjVCt27djN4hY2NjgxEjRoh3+gPAyZMnJWWyabVazJ07VzzX6tevj/379+PVV181eKeXvb092rVrZ/R/JycnIygoSHyaq2PHjti9ezdeeOEFeVFAd5699NJLirsFC0NmZibs7Ozw559/YsqUKZL2wN3dHaNHjxZfHz161OCxV1zromHDhnj11VcBXXsaEhJi8P0DwLVr13Do0CFA93TMgAED5EXMKi0tDT/88APGjx+fr0X/zjVLSklJQcOGDTFu3DioVCq4ubmJdx8+fvwYrVq1wujRo6FSqeDg4IAyZcoAujvm9F26dAkLFiwAdNc/v/32G/r27atog1xcXPDLL7+gY8eOgG4ImT/++ANarVZSLjIyEkuXLgUAODo6YtOmTejcubPBY8TJyclguj5zX/cUZ4IgYNmyZXj06BEAYMaMGRgxYoRiHzk4OGDKlCno1asXAOD69evYtm2bpAwA9OjRQ7zjNDw8HKdOnZIXER0+fFi827Zdu3ZGr4PN2aYUd/b29ujduzc8PT0V50M2Nzc3fPfdd3B0dAR07VV+hrTIK0udF2nPgIv/f5Mz2vsYbpcL08OHD7F48WJA16b88ccfBo9PNzc3LFy4UBz2ePPmzbh8+bK8GADgwoUL4nfOqFGj4OvrKy8isrOzy/FpmtLCEnVRmtoUfdl3hXfr1k1xHapSqTBs2DDxTvWbN2/i5k3dJD46lqiL4oy/zYoXf39/NG7cWFEH2SpUqIDZs2ejXr16gG6IK/lwqYYIgoABAwZgx44dqFOnjpiuUqnQv39/sR0w9tuhuJ8X5u7vMcW1MuDt9Xz/pGiAS89/vlEuMBhCpYYgCDh8+LA4DqS7uzsaNGggL1YsbNq0Sfyx+vrrr0u+JORatWoljvd85coVXLx4UV5E4tGjR5JxGcm4mJgYcRiAMmXKICgoyOQPpd69e+O1114DADx79gzr16+XF5Ewd13cvn1bHDeeTEtMTERwcDCgq9s333zT6EWISqXCgAEDYGv7fDDtQ4cOISEhQV5MgnXxnK2tLV555RXxdaKR8ZCvXbsmzomhUqkwe/bsPD3GLHfq1CkcPXoU0F0kz5kzx+S5W5TUajVWrVqFfv36ybMAAE2bNhX/vn//vmK82dwqirqwtbXFwIEDxdf6w3bI6Q+n9NJLL4k/rCxFq9Vi586dWLFiRb4WY3NyWMI777wDV1dXeTIA4P3330flypXlyQo7d+4UO9/79+9vchgQZ2dnfPHFF2JgZd++fZLhISC7Thk1ahRat24tyc8rS173FDe3bt0Sry1q1qyJwYMHKwIh2RwcHDB48GDx9Z49exRDDTds2BBdu3YFdNe6O3fuVHQcQBck1h8ibeTIkSZ/nOckt22KtfDw8BA7W9LT0/M0uWt+Weq8SEoGrt15fsxVLA/UVo7mWOgOHTokdlL5+/ubHC7Ey8sLfn5+gG7opBMnTsiLKERFRSmCxNbA398fGo1GsQQEBIhlZs+ercjXX+TfB5auC2OstU3p2LEjVq1aZfA61NnZWbze0Wg0irlUiqouigJ/m5VM1atXF4e8EwQhV9+NHTt2xJIlSwyeE7a2thgwYIB4XRQWFqao25J0Xpi7v0fO1gZo3uD/r/nORhm+niQlBkOo1Dh37hwuXLgA6O4C69ixo/hDvzhJSUnB8ePHAd2XQadOneRFJCpWrCjeZSIIgsEfP87OzuIPOK1Wi8DAQOzfvz/HCcdKu6ioKPFukqZNm6JJkybyIhK2trbiHZzQ3Ykr77g0d124ubmhdu3agG7c3BEjRkjuhCPDbt26Jd6x0bRpUzRs2FBeRMLT0xM1atQAdJM8G5rQjXVhWPnyOQ9Cfu7cObEj3MfHR/JjOD8OHTok7vdu3bqJF+nF0QcffGA0EAIArq6u4t3IBVUUdfHKK6+I59f9+/cN3ump0Wgk48+//vrrRfKUTnHUsGFDMcgu17JlS7ET3JS0tDQxOAgAffr0MdrBkK1hw4ZiIO7x48eSIFZaWhrOnDkjvjb2REhuWeK6pzi7fPmyOIH5iy++iFq1asmLSDRs2FBsAy5fvoykpCRJvq2tLfr06SO+3rFjh8GnFv777z/8+++/gC4IY+ou+dzKTZtiLWxtbY3ORWAJljwvHicBybrL00oVgBouRX+dcuDAAfHvXr16iZ2chtja2koCsPrtkb5mzZqJbdPWrVsxZcoURacaKVmiLnLL2tqUqlWrYuHChQY7faF7crJmzZryZFFR1kVh42+zkimv340ODg748ssvjZ4TANCgQQPxJqDY2FjJfEIoAeeFuft7cqJ/Q8ODR8+f/qScMRhCpcL169exc+dOZGZmQqVSoU2bNuLkRcXN06dPJXdgnjhxAps2bTK56D9Sa+iuJwcHB0ybNk38MX337l307t0bdevWRVBQEKKioizWOJdk0dHR4sVSgwYNTH5pZ2vQoIF4p+XNmzcVwRBz14Wrqys++eQT8XVERARefPFFNG3aFPPnz8etW7d4wWfAnTt38PTpU0B3t+zOnTsV55X+smPHDrF8ZmamwToqzXWRkZGBO3fuIDQ0VLHvsjtzTMme/BcAmjdvXqBJBtPS0iRD1LVt29bkRXJRq1y5ssmOZB8fHzx69AgajQZ79uwxOsREtuJUF9CdF/rBnj///FNx11h0dLT4f93d3dGuXTtJviWUK1cOe/bsUdwhm9tFfietpZgKhjk5OeXq2E5JSRGDGQ4ODrl6KtbZ2VlSTn9YgaSkJPG1o6Mj3NzcxLz8sMR1T3Gm30kdFxeHbdu2KT6f/nLgwAE8e/b8l61Wq5VMcJ9NP+h4+/ZtHDt2TF4EO3bsELfTt29fk08Z6Ctom1LSPHnyBGFhYYrPum3bNjx48EBe3GIseV6kpqnEzhIbG0Bt/CuoUCQnJ+P69evi6wsXLig+m3zJvsENJj5rx44dJU9W/frrr3Bzc4O/vz82btxoNU8emJOl6kJfaWpTHBwccrxuW758ucFri8Koi+KEv82Kt+TkZPz333+Ketgk++7JiUqlEod0NEZ/2Ff5k5gl4bwwd39PTiroxaI0aYAZN23VTB+FRFbg+vXrWLduHdLS0qBSqdCuXTtxLOzi6MmTJ+JQXlqtFtOnT8frr79ucjH0o1fu5ZdfxubNm+Hp6SmmxcfHY/78+fDx8YGLiwumTp1aqEN/FHf6P5JsbW1NdlhmU6vVYjljnRbmroshQ4Zg9erVqFChgpgWHR2NoKAgNGrUCO7u7pg/fz7vhtOjf9fslStXMHbsWMV5pb+MHz9eHKrClNJWF5cuXcKAAQNQsWJFeHl5YdCgQYp9N3/+fPlqCvrnWv369SV5eaXVaiVBSEsPt1RcFMe6yNarVy/xR82xY8fEO/+y6c9j0KtXL/FOPzKPjIwM8boiNz9CoSunH2jR//GYlZUlziFSsWJFo0N45ZalrnuKq+ynQqA7H+SfTb5Mnz5dMWeLnDzouHHjRsk6jx49EucbsbW1NTk0VzZztSklgUajwc8//yzeaezn56f4rGPHjsWVK1fkq1pMYZ0Xbi4CnPI/WppZpKenS4avmT9/vuKzyZd169ZJtmGInZ0dfv75Z3FugWwHDhxAQEAAqlevjvbt2yM0NLRQOshKAkvVBUpZm2IOlqyL4oi/zYqfzMxMbNiwAd7e3nBxcUHr1q0V9fB6Pr97THFychKf6JErKeeFuft7yPxy/jVEVILJAyEtW7ZEp06dctURUFSePXuW44/e/PLz80NYWBiWL18OLy8vSZ5Go8HChQvRoEEDfPLJJ5IIPJmfOetCpVJh0KBBuHr1KubMmaPoSIyPj0dQUBDq1q2LxYsXm/VOhJIqe2JtcytNdbFlyxa0adMGu3btMhj0o8JT3OuiefPm4nBbqampCA0NFfP05zEoU6YMhg0blmMnLRUfNjY2BZ5s1JLXPcWRpb5/9IOOhw4dkjxVcObMGTEI6ePjk+Own8W9TTGnxMREDBs2DJMnTzY4vFhRKazz4nasCk8tc0jmWmZmpmIuHHNxcnLCvHnzEBERgZEjRyqGCDxz5gwGDRqEFi1aFMrwKcWdpeqiNLUp5mKpuiiuLPXdWJp+m5lTRkYGJk2ahBEjRhTqjQDI4dg3lVfcmLO/h8yv+PYIExXQpUuXFIEQf3//XA0pUZRcXV3FYUkcHR1x/PhxxfAcppbJkyfLNynh4OCAgIAAREREIDY2FitWrIC3t7ekzI8//ojPP/+cj43mg0ajEYehcHFxMTnuvbnrokKFCvjwww8RHR2NW7duYe7cuZK7ETIyMjBlyhSsWLFCsl5ppP+0gJ+fH+Li4hTnkrHl0aNHJidqQymoi4iICLz77rvinZStWrXCvn378PjxY8X+CgkJka9uknw8/ILKfoTeWpWEunBwcMDIkSPF1zt37hTv5tOfx8Db21scY5eKlvwJK2NDYSUnJ+fqzkxTLH3dU9zoP3EVEBCg+DymlitXrqB6dcOzXesHHR8/foyDBw8CuvkjQkJCxOuI4cOHmxz205JtSnGj1Wrx2WefYc+ePYDuSYLPPvsM0dHRSE1NlXzWuLg4cRLWwlCazgtHR0fJ3DkhISGKz2NqWb58uWR7hnh5eeHXX3/F48ePcfr0aQQGBorD2kJ3p3i/fv0QGRkpWa+0sURdlKY2xZwsURfFGX+bFS8///wzli1bJr5+66238N9//yE5OVmx/wMCAiTrFlRaWpo4T4j8ppuSdl6Yu7/HkAy9+yYqOwNli9+0yMUSgyFklS5cuIANGzaIgZA2bdqUiEAIdJO7u7i4ALq7wjQWjBI7Oztj+PDhOHnyJC5duoTevXuLeWvXrpWMEV4a6XfK3bhxI1edqpGRkeKdfO7u7jmOE5vN3HXh6uqK999/HxcvXsSpU6ckX7pLlizBo0ePJOVLm0qVKontQUpKikXvvrTGuli1apXYAdquXTuEhoaiXbt2JoN/pujfLXP+/PkC3fEjn4xSfw4MSzM2ZrElFee60Ofr6yvWS3h4OE6dOgUA2Lt3rxhAzqmT1pySk5PRrVs3ODg45GvRf7qluCtXrhzq1q0L6O68vH37tryIQmJiovi9Y2trC3d3dzFPrVaL7WdaWppibiy569evm7yWKczrnuJAP7Bkzu8fBwcH9OzZU3y9c+dOaDQa3Lp1C/v37wd03305DRVr7jalqAiCkOO+vXbtmtj5qlKpsGLFCnz66aeoUaNGkT+hZsnzooaLgEq6EWMeJwExcUX/WatUqSK+zs31dn7Z2NigadOmWLRoER48eIAVK1aI47o/evQIv/32m3yVUsUSdWEtbQp013mFxRJ1UZzxt1nx8ejRI/zxxx/i61mzZmHBggXw9PQs8NPAuXHv3j1xKKxatWpJrptK8nlh7v6ebFeeTwsIAKheBbC1fBVZBQZDyOqEh4dj8+bNePbsmThHSI8ePQotEKLfSSAIQp4fBXZ2dhaHL9BqtThw4IC8iEXUrVsXCxYsEDs8njx5IhnX2hj9x821Wm2+I9rFUb169VCpUiUAQFhYWI53i2k0GmzdulV83blz53wdd/mtC0NUKhWaNWuGJUuWiD/2YmNjxbstciMpKQmhoaE4evRosRlTWf8ukfx0QNetW1fsmL148WK+Lz7yIr91UdA2xdxSUlJw6dIl8XXfvn0L3IHdunVrsePp5MmTkonx8kqlUqF9+/bi6/379+Phw4eSMvl19+5do4/xZ2Rk4Kuvvsr3uZofxb0u9NWpUwd9+/YFdMdx9tMh2Xdk56aTlvKnXLlyaNasmfh6w4YNOXYy6A+r1KBBA3Fybujursx+rdFoEB4eLubJ3b59GzNnzjR5bVBU1z0FdenSJQwcOBDe3t74+eefc91Z3bBhQ/E74NSpU2YdL7pnz57id1v2/DynT58W26UuXbqYnAvIEm2KpaSmppps27ds2YK///5bnixx69YtPH78GNBdF3To0EFeJN8K+t1tyfOivCPgXv35OfnkKXAnVl4i7/R/D+T1mszW1hatW7cWX+/YsSPHNsoc7OzsMHz4cHz66adiWnR0dI43ART0GrQ4M3ddWLpNMXddmLrmCQsLww8//CBPthhz14UxgiDg/Pnz2Lp1a4G+jwraJ8DfZsXHvXv3xGOhfPny6N69e6HeIHDq1Cnxmqp169aoXLmymFdY54Wlmau/RxCAyzf/v24aeeTtvCvNGAwhqyEIAsLCwrB161ZkZGRArVajQ4cO6Nq1a6HOEeLk5CTeganRaMS7X3NLpVKha9eu4uvFixcjLCxMUsZSHB0dUbVqVXmySfodJOfOncvx4qEkqVOnjvhl++zZMyxcuNBkMGD37t3i3Zc1a9ZEly5d5EVyLT91YUrFihVRvnx5eXKObt++jXbt2mHQoEHo2rUrXnrppVzdVWxp1atXF/dPTEwM/vvvP3kRk1xdXdGmTRtAV7czZ86UTBxtSXmti4K2KeaWm7tts124cAFBQUHyZIWmTZuKTyQ8efIEH330UYHqo23btuLwIpcvX8bMmTNNnrum6A9Vcu/ePdy4cUNeBJmZmfjxxx8L/dH6klAX2VQqFYYNGyaZ0+DQoUNiR3pOnbTmZmtri549e2Ls2LH5WvQf0S8J9H/IbtmyRRyazJDExET8+OOPYkfGwIEDJXfh2dvbSwKOW7duNRgIuHfvHoYPHy6Zu8KQorzuya+IiAh06tQJO3fuxJUrVzB58mRMnTo1V+ejp6en2Ml9//59fPfdd/lun+Tq1KmDzp07A7pgwYkTJ7B3715At59HjBhh8iYNS7Qp5pTbJ/9OnjyJcePG5dhBldvPqtGN7X3kyBF5llEF/e625Hnh5AA0/v/RYXA0vOCdXC+88IL499GjRw22Caa0b99e/H7YsGEDtm/fLi9iMcaGATSmoNegxZ0568LSbYo56kL/idiwsDCD7/f69esYM2ZMgYeFzCtz1oUhgiDghx9+QJs2bTB06FA0aNAACxYsyHMgA2boE+Bvs+Ijt4HFzMxM/PHHH1i/fr08K99u3bqFRYsWAbqg09ChQxWBGEufF4XFHP09CYnARV0Mt2J5wIejDeda4fUQE1mQIAg4efIkQkNDkZmZCRsbG3Ts2BGdOnVSNJ6W5uTkBF9fX/H1rFmzcPLkSUkZ6O4iPn78OJKTk+VZ6Ny5M1q1agXoOqP69++PLVu2GP1SyszMRFRUlNFhO+7fv4+wsDCTdzplZmZi2bJlOHv2LACgdu3auRq73cvLC9WqVQN0nY5ffPGFwR9Ad+/eRUREhDy5WHNwcMD7778vBtM2btyIcePGKcbRz8zMxLp16/Dmm2+KP7zfe+898SJJn7nrIioqCpGRkSY7UjQaDb799ls8ePAA0HV25rYjb/PmzZKOrMjISCxatChfF8nmVLlyZfGRZkEQMHnyZIN3c6WkpODkyZOK/W1ra4t33nlHvJA6ePAgBg0aZHKCuLS0NOzZs0e8W1rOUnVhjjbFnMqVKycZ13ft2rW4d++epExCQgKmTZuGl156KVd3drm6umL8+PHi64MHDyIwMBA3b96UlMuWlpaGY8eOGf2sjRs3xogRI8TXK1aswJQpU5CQkCAply0xMdHgcQIAVapUQfPmzQHdj7OffvpJMiyQRqPBJ598gs8//1xvrcJREupCX5MmTcQfulFRUZg0aZLY6TBkyBCTnbTmZm9vj0mTJmHx4sX5WuTj/RZ3fn5+4hBKz549w9ChQ7F//35FW37v3j0EBgaK8000bNgQY8aMkZQBgB49eohBwr179+Knn36SXKNcuHAB/v7+OHv2LBwdHXO8KcXc1z2Wpj/sS7aQkJAcAz/Q3fE/btw48fWKFSsQGBiI2Fjjt+cnJiZix44divNbTqWbKDb72vfXX3/Fjh07AN3Qn9n72BhLtCnmJH/yb9WqVZKndgVBwPbt2+Hv76+oH0Nq164tdoDduHEDmzZtkpwTmZmZ+Oeff9C+fXt8+eWXemvmzBzf3ZY8L7q2FVBGdyP3oTMqPDT89ZhrrVu3FttwQ20CdPVz6dIlgzcVtGzZUhwyJCsrC6NGjcIvv/xi8DcFdNu6desWtm/fbvC7W6vV4uTJk4iJiVG0c/quX7+OOXPmiK/bt2+f4/BNBb0GLe7MWReWblPMURf6T8SGhobin3/+keSfOXMGPXr0yFX7bm7mrAtD4uLiFHMofPfdd5KneXKroH0C/G1WfLi5uYl1+fTpU6xZs0ayDwVBEK/z9OcDyg3BxJM0Dx48wJtvvil+RwQEBBh8YtPS50VBmbu/x5TzV1W4cut5+1XfXYCHm/HvO5JSCaauDizI1IFBlFd37tzBqlWrkJ6eLs/KUfny5fH222+b9ZHdyMhIdOvWTTLepJeXF9q2bQsbGxucP38eZ8+ehZubGw4fPmxwMsywsDD06dNH8mPOzs4O7du3h4eHB6D7cXzq1CncuXMH0H1hyC9ooLuwGzRoEKAbiqR27drw8fERHyu+ceOGYgikhQsX4q233hJfGyMIAj7++GP89NNPYpqdnR169OgBFxcXJCYm4vDhw4iLi8Ps2bMtPqHjkydP8P3334vDHmSLj4/Htm3bIAgCypQpgwEDBsDJyUnMd3BwwMSJE1GnTh3JelqtFh999BGWLl0qpqnVavj5+aFevXqSz5dt7Nix+PHHHyWPC2czd13MmzcP06dPBwBUrVoVHh4ekuFQso+17IsOtVqNrVu3ineO5uSvv/5SdIS1bNkSoaGhYkdYUdm/fz/69u0ruaBq2bIlWrRogczMTJw+fRqRkZHw8/PDxo0bFfO3CLq7oeR3obm4uKBDhw5im3Djxg2cO3dOPKZCQkLg7+8vWQcWrgtztCnmJN/3+uf8uXPnxAs76D5ndjljbRR0Pxg++OADxdMV7u7u8PPzQ9myZZGeno4TJ04gOjoatWvXNvlZExMTMXz4cLFTN1vjxo3h6+sLGxsbJCYm4vjx44iJiTF6nABAcHAwxo4dK76uWrUqunfvjrS0NOzYsUO8+O7UqRNiY2MRGRlp8v0FBgZi7dq1AFDgdrEk1IW+JUuW4MMPP5SkNWzYEHv27IGrq6skvbSKjY1Fhw4dcOfOHcVxaSovPDwcXbp0QWpqqsH6PX/+PHr16iVpR2rUqIFOnTqhbNmyijaqYsWK2LZtm2Q4gmyGvvs9PT3h5+eHCxcuiMddxYoVsWLFCgQFBeHSpUuK96zPnNc9u3fvlgxbmW3//v24dev54Mo+Pj6KCVd9fX0xevRoSZoh48aNw++//y5JK1++PPbt2ycGT03JzTkGXVApMjISKSkpcHR0xL59+xTvWS4xMRF9+vRRPDURFBQkfkeZYu42xdx1cf36dXTp0kUMHqnVavTq1QtVqlTBkSNHEB0dDejGGW/VqhW2bNkCGPnu1mg0GDFihBgwgt53a3JyMvbv3y85Hm1sbJCZmZnrujDHd7c5zwt9DxOAPu/ZIDIaKGMHrJyZhb6v5r9bwNC+rFixIjp37gxnZ2fExcXhwIEDSElJMVgX0D2N7O/vL+l0VqvVaNmypXhepaen4+TJk7hx4waysrKMtinJyckYOHAgjhw5ArVajerVq6NVq1biPCzp6ek4cuSI5Gnnxo0bY9euXWIZU+TnCfJ4DWppBb3OMGddyPdVQdsUOfn2kce6SEhIQN++fXHmzBkxzc/PDw0aNMCZM2fEjntHR0e89tprWL16NWBiv+p/F+fl+sgYc9aF3JMnT8QbF/StXLkSw4YNk6TlxNB1QV77BPjbLP/M+V1rqC6zrxcB4MCBA4iJiRHzbG1txZubDNWFfnucrWXLlujRoweaNm2KxMRE7Nq1C9u2bRPromXLlli/fr3RJ/fMeV5kP40iD6boz7lWpUoV9OrVS9K/U6lSJUyZMkXRJ2Lu/h5jBAH46Ac1fgl5Hgz55M0sfPpm/r/HSx2hiGg0Gi5czLZERUUJQUFBwkcffZTnZdasWUJsbKximwVdNm7cKDg6OgoAjC61a9cWbty4oVg3ewkPDxcaNmyoWM/YEhgYqNiGRqMRQkJCFGWNLRUqVBBWr14tpKamKrZjbImNjRUGDBig2JZ8mT17tmJdcy83btwQateurfjfOS2Ojo7C8ePHFdvTaDRCUlKSMGfOHEGtVivWky8ffPCBkJCQoNhG9mLuupg9e7ZiPWOLp6ensGfPHsU2TC2xsbFCx44dJdvJ6bgtrCU1NVWYP39+jvXi5+cnxMXFKdbP3sby5csFOzs7xXrGli1btii2oymEujBHm2KuJSkpSQgKClL8f/nSr18/4cSJE+I5GRAQoNiWfLtffPGFYjuGltx81vj4eGHkyJGKdQ0tpo6TpKQkYezYsYp19JcPPvhAuHPnjuDn5ycgh/cXEBAgrlfQdrGk1EX2cunSJaFmzZqS9YOCghTlSvOi/z0mPy5N5R0/flxsI4zV7/nz5wVvb29FHcoXT09P4ejRo4r19ZfY2FihW7duinWzl1q1aglHjx4V4uLixPNC/p7li7mue/LSHusvxvabfNm+fbviu6dz584mP5t8ycs5BkCoVKmS8O+//yq2Y2iRtwkVK1YUwsLCFOUMLeZuUyxRF8HBwYr9r7+0adNGiIqKkvzvkJAQxXY0umPOw8NDsQ39Jft67MsvvxSQwzWjfDHHd7e5zgv58tlPaYKtzzPB1ueZ0Ot/6ULCE2WZvCzXrl0TWrZsqXg/8sVYXWg0GuHmzZuK605TS7du3YT4+HjFdvTbndws/fr1E27evKnYjrHFHNegllzMcZ1hrrowd5siX8xRF0eOHBEqVqyoWCd7yf5O1P8dZ2y/6n8X53Ru53YxV10YWgy1p8Y+W06LOfoE+Nssf0tePqv+Yuw8u3nzptCuXTtFef3Fzs5O+Oqrr4Tg4GAxzVD7Hh8fb/J6Ub4MHDhQuH//vmI78sVc54X+OZuXxVjdmru/x9hyNlIj1O76/Du8Rqdnwpn/lGW4GF9MP7NORPnWs2dP/Pfff5g6dSo8PfUG5tVF1gMDA7FlyxbxEURDGjVqhDNnzojRZfmYgpUqVYKvry/mzp2LqKgoLFy4UJKfzcfHB3PmzEHHjh1Rq1YtxRML2Y96rlixAtHR0ZIhFnLD2dkZq1evxsaNG9G1a1fJExd2dnbitt99913JeiWFnZ0dPvzwQ1y/ft1gfXp6emLq1Km4evUqvv76azg4OEjy9Zm7Lvz9/fHpp5/C19cXNWvWVAxFUqlSJXTt2hUhISE4d+4c/Pz8JPk5cXZ2xpw5c8RJ5aC7+0P+f4qCSqXCuHHjEB4ejsDAQNSoUUOSn10vK1asUNwBkk2lUiEgIAB3797FkiVL4OvrKzl+oRuPuH///li7di1iY2PRrVs3SX42S9eFOdoUc7Gzs0NQUBAOHz6Mnj17SvZZ9ns5e/YsgoOD83QnlJ2dHaZNm4Z79+5h7ty5aN68ueQcsbOzQ/PmzfHxxx8jNDQ0x8/q5OSEX3/9FVevXsXUqVNRr149Sb1kn29z5841eZzY2dlh4cKFWLNmDRo3bixJ79mzJ06dOoWvvvoqx6E1LKGk1EU2/YnUobtzeMCAAZIyZDkNGjTAsWPHDH5fOzk5SdqonIZUcnZ2RkhICH777TfJmOvu7u6YM2cOzpw5k+M25Mx13WNpnTp1wh9//CG+v4EDB+K3334z2oYYkn2O3bhxA3PmzFGcY2q1GnXq1MGIESOwZcsWREdH5+qpEwAYMGCA5E5FX19fxfeGMZZqU8ypf//+CAsLQ8+ePSX7rHHjxli1ahX27t2reNLXmEaNGuHkyZOYM2eOZB/Z6V2/5uZ6zBhzfHdb6rwY1l1Abd2//SdMhb0n8v759Lm5uWHfvn34/fff4evrK6kb/fbF2HUUAFSrVg2hoaE4fvw4AgMDUbt2bUm+k5OT+N0THh6OjRs3Kq7boBsKccqUKXjzzTfh5eWl2GfQDUuifzybqgM5c1yDFnfmqgtLtynmqIvWrVsjLCwMY8aMkbw/d3d3fP/99zh16lSev8/MyVx1YUjv3r0xatQoSZr+uZsX5ugT4G+z4qFatWrYtm0bli9fjqZNm4r7Tq1Wo2nTppg7dy5u3ryJSZMm5Xi8ODk5YePGjQgPD8ecOXPg6+uLSpUqScrotwVr1qxR5BtiyfOiIMzd32OIIAB/bFUjJv756yHdBLzw/GFRyiUOk0VERCbJH23t0aMHgoODi6Tjl4hKtoyMDIwePRobN24EAIwePRqLFi0q1PlCiIjouR/XqPDZz887uXybCAj5PguVzTdyMBGVAPrD+qhUKmzfvl0cEomIip+w/1QY8KEaT54CtasB2xdlwtP0VDckU/S39hIRUbGWmpqKhw8fiq+7devGQAgR5cvhw4exefNmQDf+9ttvv81ACBFRERnVR4Bvk+f3Rp7+T4XF61Qomlsliaio6M+d4+XlhaZNm0ryiaj4SEoGPl+iwpOngI0amDwqi4GQfGAwhIiIjEpKSsLHH3+My5cvA7ohKLLvHCIiyovbt2/jgw8+ECdHfO+999CiRQt5MSIiKiSVnYHvJglw0Y1IsihYja2H8jZcBxGVTIIgYO/evZg1a5aYNn78eLi6ukrKEVHxkKEFpi9W48jZ59/TPdoJeL0X72DIDw6TRUREElFRUTh37hz279+PDRs2QKPRAACqVKmCrVu3omXLlvJViIhMunTpEsaMGYOIiAgAQLt27bBhwwY4O3M8FiKioiQIwMI/VfhiiRqZWYBLJeDv77LQqnGRdBMQkQVpNBocPnwY//33H9avXy9elwHAW2+9hXnz5inmOCCioif/rm7kAWyYlwn3vE+1RAyGEFFR+f3333H69Gl5cr44ODhg4sSJuZ4sk0ybN28epk+fLklr1aoVVq5ciQYNGkjSqfh68uQJvv/+ezx+/FielS/169fHuHHjOEQa5Yp+G3/u3DmcPXtWzKtfvz5CQ0Ph7u6utwYRERWVDC3w8Y9qrNysQmYWUN8d+GtuJhrWlZek/Nq9eze2bt0qT863t99+G97e3vJkIpNiY2PRoUMH3LlzR0yzs7PDzJkzMWHCBAZCLOjWrVtYtGiReKNhQfn6+mL06NHyZLJCggBs3K/CuDlqaNJ504I5MBhCREUiMDAQa9eulSfni6OjI/bt2wcfHx95FuVDdjCkRo0a6Ny5M95++220bt0aKhWHTShJDP3YKQg/Pz9s3LgR5cqVk2cRKRhr49u0aYM//viDwWsiomImQwtMnqfGyi0qOJQFln2RhX6vFklXgVUydLNRQYSEhMDf31+eTGRS9u+D2NhYtGjRAkOHDsXIkSNRoUIFeVEys/DwcHTp0gWpqanyrHwJCAjA8uXL5clkhVI0wOjP1Nh1XAWXSsBvM7LQ0ZffzwXBOUOIiEhi8uTJ0Gg0iI6OxrJly+Dr68tACBHlm5OTE3r27ImDBw9i//79DIQQERVDdrbAvMlZGD9UwC+fZaHvK+xoIbI21atXx5UrV5CUlITDhw9j/PjxDIQQFXNODs8DIK91ERgIMRM+GUJERERERERERERERFaNT4YQEREREREREREREZFVYzCEiIiIiIiIiIiIiIisGoMhRERERERERERERERk1RgMISIiIiIiIiIiIiIiq8ZgCBERERERERERERERWTUGQ4iIiIiIiIiIiIiIyKoxGEJERERERERERERERFaNwRAiIiIiIiIiIiIiIrJqDIYQEREREREREREREZFVYzCEiIiIiIiIiIiIiIisGoMhRERERERERERERERk1RgMISIiIiIiIiIiIiIiq8ZgCFEplfEsDaePbMb65Z/jv7MHIQiCvIhVu3wTCPhUjdux8hwiIiIiIioKKRpg8jw1dh9XybOIiIiICkwlFFEPaFpamjyJiApJZqYWG1bMxL//bAAAqFRq9B/1Cdp3C5AXtUoRV1QYGaTGjXvAi00FrP06C9WryEvlLCMD2LNHjV9+sUVYmAqPH///j7aqVQV4eAhYtCgD3t7SZjYtPh6HBg3C0+hoAIBru3Z4efly2Do5IenaNRweNgxpDx8CANwHDsSLP/wAqPiDkIisy9P0pwi+GIz90fsR+zQWGVkZcLBzwPzu8+Fd3VtenIiIdDIytdh78RT+OLoD/927gYSUJACAWqVClXLOcKvkgrlD/ofmtetL1ltyeglWR6wGADjaOaJe5XoY3HgwOnl2glqV9/skn/z3H44EBCA9IQEAUGfQIPjOnw8AeHj0KI6+8QayMjIAAE0//hiNJkyQrC+nSQcmfafG2h0qlHMEfpmehb6vFkl3BREREVmpvF/xEFGJl5z0CFcunhBfC0IWzp/ag2fpGkm5ovA4/j6O7lmLH4IG4cDWZfLsArsdCwTOfB4IsVEDfV8RUK2yvFTOoqJU8PUti0GDymDvXrUkEAIA8fEqnD6txt27yiCGrYMDHGrUkCcDAMpUqABbBwfxtUqtZiDEgCytFg+PHcPZTz/Fgb59xeAREZUMR24dwZD1Q/B7+O+4k3gHGVnPO8tyKzMzE+Hh4QgKCoKvry/Cw8PlRaxKQkICgoOD0adPH4wfP16eTUSlSFTMLXSaOwGBK77GkSsRYiAEALIEAXFPn+Dc7au4m2D62ig1IxUXHlzA5wc/x/+2/w9J6f+/ndyyd3GBXfny8mQAgJ2zM2wdHcXXKhsbSb4h9mWAli8IcCgLJKcCH3ynxplIXgcTERGR+TAYQlZDEAQ8ePAAO3bswOLFizFnzhx8/vnn+PzzzzFz5kwsWLAAO3bsQGJionzVUqdMWUeUqyB9FMKlhgfsythL0opC6LofsOmPObh7MxKZWZny7AJJSgYmzlUj6sbzQMjHY7Lwv6FCnmMN9+6pMGxYGVy+/P8renkJeOONTIwdm4nXXstEnToC1LlsYfMT8Hh84QK2NmuGEHf3fC+nP/xQvtkSI/HSJZx8911Er1mDZ48fy7OLhZQ7d7CzXTvJPj83Y4a8GFGpc+PxDcw9OheJ6c+/jx1sHdDFswumtp+Kj9p9BHdnd/kqCnFxcRg6dCjmz5+PaN1TdtZs5cqVGDt2LPbt24f09HR5NhEVc2kZzxCwdAZqvt9HXF6c+SZiEx/Ji5p0/3E83lrxNa4/vAfongTxdHXDIN+OGNqmM3p5vwz3KtVQxtZOvioAoLNnZ3za4VO80/odNKraSHwa5PyD8/j++PfQZmnlq+SJ2s7w/80tlQp4a6CAoMAs2KiBuMfAu3M4rC0RERGZTy676oiKv9u3b2PZsmU4efIkHjx4IOksyMzMxKNHj3Dy5En88MMP2LVrF7Tagl3sl2QOjuUxaOzncK3hAZVKjQZN2qD7wP9BlccO+ZIkQwtMX6zGgVPPP2OPdgImjRBgZysvmbOtW9ViIKRiRQEHDz5DREQ6li7NwOLFGVizJgNRUelISUmDv3+WfHXYlC2LMhUriq/tq1UT75yzdXSUPDVSoUED8W8qWRLCw5F6/74kLe7ECXEoCaLSate1XXiseR7EbOzSGCFDQzCr0yz0a9QPPer3QCWHSvJViIhKtM1nD+NQ1Fl5cp5tjzgmBkIqOZXHholf42jQUiwc8SF+eP0DLB/7CU5+vhw3521EL++X5avDq4oXenv1xhst3sCK/ivwid8nsFM/D2CcvHMSVx9dla9ikrpsWZSp/P+PWJerW1f8275qVdhVqCC+zu01rUoF/G+ogFF9ng+PFXXj+c1MScnykkRERER5x2AIWR2VSgVHR0d4eHigSZMmaNy4MSpXrgy17jb9rKwsnDhxAv/880+pmzRcXy2PJpj6fSi+X3MR7366EhUqucqLWJUdR1X4a9fzAEYjD+DbSVlwKCsvlbPkZGDTpv9/zP/zz7V46SVlwMMUla0tbPSGwpJQqXI1jECZSpVQ57XX4Pn664ql2iuviOUcqlVD3SFDFGU8X38dVV98UbJNMh9Bq0XMvn0QMqVPN6XcuoWn169L0ohKkzRtGs4/OA8AsFHbIKB5AIMfRGTVbj2KxYLd65BVwN8dyeka7Ig4Lr5+v9tQtKnXRFImr7rX7w5fN18AQPKzZFyKuyQvYpLa1lYyFJY+lY3N86ef88HOFvjs7Sw0a/B8nx0KU2HlFhUKuAuJiIiIGAwh61G+fHkMHDgQ06dPx7Rp0zBmzBgMHToUw4YNwwcffID33nsPNXR33AuCgLNnz+LRo7w9mk4lU9xj4JuVKmjSgTJ2wLQxWXCvLi+VO8nJKty8+TyoUr480K5d3gIhhjhU13szKpXkh6P+HXX6nGrVgveMGWg5d65iqf/GG2K58vXro8XMmYoyLefOhcewYZJtkvmkxccj4dw5AEAFLy+49egBANCmpiL24EFZaaLSQ/t/7N13XBP3/wfwV0JQNoILXKC4B7j3qFZx1dGKWgdarX7V1rZWXK3+6qht1dbWVlu1Wuus1UK14kZx4J6AG0FwIqggS4IZ9/uD5JpcwhIQTV/PxyOPh9x97kzuLsnl8/583m+tGlnq7JmbZUqXQZ1ydaRNiIgshkqjxre7N+H2k4eQy2TwbdgSTrb20mb5kq58hgdPHwMAnO0c0LqQgRAAUMgVaOzeWPw7ISPBaH1BGd3TyuXiAB+5tTWsbAqWjre8CzD/w+z6IRot8PMWOa7HSVsRERERFQyDIWQxXF1dUb9+fVjnkKvW1dUVAwYMgL199g+Q9PR03L17V9qMLNCmXTJcupkdwOjTSUDfN158WJlGk/2ALkVWhRecUGOYKsCw8KTCzg42FSuKf9sa/JteH8mXLiFD9/lSoW1beAwYIHYIJB4/juesXUQEmUwGK1neM+GIiF5X+y+fwc7w4wCAVl4N8F6H3tIm+abVCtBqswfhONrYoYJT0cyqK29XXroo3xT29kbpXY3uaW1txXUKOztYOzuL6/KrYzMBg7pn37fHP84OiKiLtqQgERER/ccwGEL/KS4uLihXrpz49+PH2aOrCutOzCXMHNsKAcPqY1/Qz4Bu9klc1EX8uvB/mKVbN9W/EX78YjBuXjmdZ4qujT9PRcCw+pg5thXuxFwCJPv8bHQzBAyrj89GN8OvC/+H+LtR0l2IspQZWDZvOAKG1c/xEbJ9hXSzHOmf2/xPuiIlOXsEWUpyArat/xpzPuwo7nPOhx2xY+NCKJ+lSXcBAAjZvsLkeVw8sUtcv/evn0zWGz4unQ0x2p85iUnA5r3ZH3WO9sD/BrxYnRC9xEQZnj613NoqhlTp6YhatQohPXogqEYNBFarhm21a+NAz56IWrUKqvQCJG8WBKTevIkLn3+OvR06iPvT73NPu3YIGzYMd3fskG4JZWIi9nboYFSI/GDv3mJAIf32bexs3tykQLz+cXTIEKgzMqS7LT6CgAf79kHQaCCzskKFDh3g4uMD+6pVAQCpN24gNSrn92tOnicnI2rVKhzo2RPbatcWX9/Opk0RNmwY7vz9d4FeZ2H2F3/ggNj+7OTJ0tVGki9dwo5GjXI9F4bn2LCNRqnE7aAgo2twV6tWuPTNN3lef6q0NMQfOIALn32G/V27YoePj/icg2rUwL4uXXD5229N6rrkx4scO41SiWMjR4ptz02Zgvzk+3hy/jz+qV8fgdWqIbhpU6TcuCFtYuL506c48/HHCKpRA7tatnztZyOlp6fD19cXtra24qN69erigIZnz56hbdu2RusNH7Vr18bDh7lX3xUEAWfPnoW/vz/KlSsnblupUiX4+/vj7NmzeX5vG9JoNDh16hT8/f1RtWpVo+fj5OSEWrVqYdCgQTh27Jh0U+zatcvkNcyaNUtcv2nTJpP1ho/Fixcb7a+4CIKA27dvY/Xq1Rg0aBC8vLxgb29v9Do7duyIzZs3I8PM+z4v9+7dw5w5c9CgQQOj11e1alUMGTIEu3btgkqlkm5mluH5qFSpkrgve3t7NGzYEFOmTMG1a9dyPMdjxowRt9m169/7FHMWL16c57m4ePEiypYtC1tbW4wZM0Zcnpqaiu+//x516tQR91GnTh388ssvyMzMNNqHoVfxXFy5cgXu7u5i2507dxqtz8n8+fPFbfr27Zvr64bute+JPAmfWf6o+mk/jF+7EKmZBX+NxSExNRnf7t6E52oVnGzt8dlbI+Bs6yBtlm8JqUlIz8r9eFgahRXwwSAtyuviPrvDZIi6LW1FRERElH8MhtB/irW1NWxzqtVQRB49jENG+lOsXfIxls3zx43IY8jUBQO0Wg3uxFzCym/exz8bvoFGnb8f8QBM9vlc92PoeVYmbkQew0+zhyD81F7pZsVKmZmO1ORHOH8sGIum9cWxfRuRppu+DwBpTx/jyJ51+GnOUCQ9ume07cty9IIMN3RT6tt4C2hS13xHx8tWZ8IE+N25A787d1BnwgSjdS2+/15c5961q9G6l+XhoUPY26EDIr/8EilXr0JQqwFdh+7TK1cQ+eWX2NuhA+IPHsyzQ1eVlobTH3+MEF9f3Nq4Eem3b4v7g26fGXfvIiEsDA8PHzba9nWUmZCAx2fOAADsq1aFS6NGsK1YUazRUtBUWVq1GlErV2J3u3aI/PJLPL1yBRqlUlyvfPwYCWFhODNpEmLWrzfa1pyi3l9xSY6IwIFevXD200+NrsHM+HjcWL4ch/388Ox+dhFZKXVGBk7+7384Pno0bm3ahNSoKDxPzi7YDV1Nl7ToaFxfuhT73ngDMevW5Xkdo5DHzsrGBpV8fcW/H508iYx7eX8uJhw9KgZ+XBo1goOHh7SJEUGtxqVvvsGd7dshqNXIfPgQ56dNe6EA3H9FSkoKRowYgY4dOyIwMNCoszg5ORmBgYHo2LEjhg8fjmSD6ygn9+/fx5tvvonOnTsjMDDQZOCFSqXCvXv3EBwcjNOnTxute52Eh4ejadOm+OijjxAcHIwHDx6Io9ahe51nz57F6NGj0bhxY0RERBhtn5OMjAwEBASgVq1aWLhwIW7dumW0/vHjx9i+fTv8/Pywf/9+o3Xm3Lx5E506dRLPh+E51Gq1iImJwc8//4x+/fohIaFwKYJelCAI2L17N2rVqoWZM2fizp074ro7d+4gICAA7777LlJymFX4Kp4LLy8vtG7dWvx769atUBt895uTkpJitJ+ePXvmed8efucmPv3jRzxKewqNVosdF49hwc71OQa2XhZBELBk35+Ieph9Lv/3Rn8086wrbWYRcrpvVdjbo+PmzfC7cwd9L12CS6NGRtvlV20PoHOL7PP5KBnYfui/MSiJiIiIiofVnDlz5kgXvgx53QwTFQelUolTp04hPT0dMpkMrVq1QoUXzXNkICU5EeeP7YBa9RzOLhVx8cRO3Ig8BkBAqdK2qN2oLarWaIiM1CRdEEPA3VuX4eDkimpe3tLdAQAiz4bg4d2bUFiXRs16zRG4eg6ir54BIMDeoQzq+nRAxcpeSE1OhFr9HBqNGndiItCwaRfYORhPQxe0WjxLe4oyZd1R2aOe+FA+S0fms1QAQM0GreBVt7nRdjkRn5vCGsmPH+DwrjVQPVdCYV0KnrWboGb9VhAEARmpyQAEZKQlIyUpEY1adBUL2QOA8lkaFNalc3xOlT3qoq5PB6P1ho86jdrmWvhd+Rz48lc5bt7J/tH02fsCGuczPb1SCSxdqsDGjVbYvfvfx/79cly5kv0alEoZ7t+XISTEuI3+ERUlR5MmWigKMRPlRaTfuoW7//wDALCvVg1V+/aFvFQpabMc3d+9G6cnToQqLQ0yKyu4NGqEeh99BM9Bg+Dg6QllQgKep6RAk5mJB/v2walmTaO0X4Y0SiXOfPIJ7u/eDQgCZFZWcPDwgHvXrijbuDFcGjVCqTJloH3+HJrMTDjXq4fK3bsb7UPQaKBKSYFTrVpwadQILo0awa5KFWTcvg1Bq4W1gwOqvPUWyjZpIq43fLg2aQLXpk0hf0kn4tHJk7i1aRMgCKjk6wuPt98GZDJolEo82LcPEARoVSpU7tUrz/zZ6owMXJgxA1G//grt8+eArlPd1ccH7p07w6VRI8hLlYJGqYRGqUTFDh1QrkV2IVRzimp/htdYmfr1Tc6ZIWViIu4EBUGTlZXj9ajOyEDc1q14npIC+2rVoLC3x+mJE5EZHw+ZlRWcatVCpW7dUMrZGc/i4wGtFlmPHiHryRNU6tbNpECrVqXC3R07kHH3LqxsbGBftSoqduyIcs2aia/xeXIyBLUaglqNRydPwrlePTh6eRntx1BRHLtSLi6IDwmBKjUVqtRUuPr4wLlePaM2hlRpabi2ZIl4HBpMnowyDXLPEZ+VlIRrP/xgFPxRZ2TAuV49uHib/755mZ5rnmPPzT14/Owx7Kzt0LdOXziUyn2ktFarxdOnT+Hh4YEmTZqgSZMmqF27Nm7evAmNRgOZTIa+ffuiXbt24nrDR/PmzdGxY0fYmHm/paSkYMiQIdi9ezcAwNbWFu+99x4mTZoEX19fWFlZ4YZuNs61a9dw4cIFvPXWW2b3BQCPHj1C7969Ea6rGQQA9evXR69evdCsWTM0adIECoUCmZmZUCqV6NKlC9q2bWu0j8zMTGi1WqPXAECc3eLh4YEBAwaYvE79o0OHDqhZs6bRPovDw4cPsX79eqhUKtjb26NevXro0aMHmjVrhvr16yMlJUXsvE9NTUVYWBj69OkDpxxqYQFAQkICBg4ciL///ltcZm1tjU6dOqFLly7w9vaGIAhISkqCVqvFoEGDULt2baN9GAoNDUWfPn0QGxsrLitfvjx69uyJNm3aoEaNGkhPT0dqaiqcnZ0xatQoODiYXo87duzApUvZs3Tz+j9PnjyJ0NBQADB7fiE5do0aNcKDBw8wduxYKHXB1aZNm6Jnz57QarVigCYmJgalS5dGx44dJXt7Nc+FQqGAlZUVtm3bBgB48uQJ3n77bbi45JzaKSIiAt999x00Gg0qVaqEL7/8EmXKlJE2M/L3uUM4cOWs0bKMLCX6NOkAu9Lm36cvw4noS/g6eB1UGjW8q9bElwP+B7tSNniY8gRB5w4hSzdbZEjrbnCwMS5ArlQ9xy+hQfjzdAj2XTolPkKvnUd0wj1oBS00Wg3uPHmIg1fPGbXRP6Ie3oFPtVpQ6FJ05iYmKQZH4o4AAHzcfMSC6q8KuRywswG2hcqg0QJP04C3OwuwK7nTS0RERK8xmVBCw2b0N/tEL9PNmzfx559/QqVSwcXFBe+//36uPwTz607MJaxcMMYoHZRMJke7bkPw1pAAWJfKvltXPVcicM1cnAvL7kSs4F4dE2athVMZ01y9G3+eiosndkEmk0NhXUoMNnTtNw5v9B4l7jPp0T38umAsHj3MnjP+9siZaO87TLI38/T/BwD0GPgxuvUfL21iluF2elU862PEJz+gbIXsVECCIODYvo34Z+NCCIIWDk6umDDzd7hVMd9prveiz8mcuAdAzw+tcC8BcCsL7FyqQR1PaSvz0tOBd94phbCwF59A16GDFn///Rxm+lWKVfyBAzg+ejQAoEK7dmi7ejUUulo5eUmNikLYsGHITEiAlY0Nmnz1FTz9/ADZv6PwNEolrv/yC64vXQpBo4FTzZpov3Ej7CpVMtoXADw8fBgn3n8fWpUKdpUro/Uvv8BV17EnpVWrocnMNMo3nZPkS5cQNnQonqekwMHDA28EBcGmCAKbhSYIODd1KuK2boXMygotf/wRVfv2BQBk3L2Lo+++i4y7d2Ht4ID2GzagbLNm0j38SxBwfflyXF6wAAAgs7JCjWHD0HDGDFhLLypBQMb9+1ClpOTcWV6E+zO8xjz8/NDi+++lTUSG5yqn61GZmIjDAwYg/fZtyHV1n7QqFeyrVUOzhQtRoW1b8Rq8v3s3zkyaBI1SCZsKFdDxzz/hJOn41WRlIeHIETjVqQP7KlXEei2Gnj14gLOffopHJ08CAMo2a4b269ebv/6K6tgJAsJnz0b02rUAALfOndFm5cocg2KPz57FMX9/qJ89g33Vquj4559iurWcqDMycGLMGCQez85RD93zbbdmDdw6dzZqWxLSn6dj4q6JiHoShXJ25bCq7ypUdCh4baSHDx+iY8eOuHv3Luzs7HDgwAExaJBfgiBg2rRpWLZsGQCgXbt22LRpEypKajVdunQJgwcPFjvU58+fj4CAAKM2esuXL8dkXeo4b29vbN26FR45zOZRKpVQq9VmO9+lFi9eLKbKGjZsGFavXi1t8tLdv38fERERaN26NVxdXaWrIQgCDhw4gBEjRuDp06cAgJkzZxql/DKkUqnw4YcfYsOGDQAAuVyOuXPn4sMPPzSZHaDRaHDt2jXY29ujevXqRuv0bt++jZ49e4rnrUqVKli1ahU6deoEmcF3GnTn4vz58/Dx8TF7PsaMGYNNmzYBAAIDA9G7d851HwzPVU7XysWLF9G1a1c8e/YMcrlcnMXh4+OD33//HfV0QVJBEPDDDz9g5syZAIB69eohJCQEZcuWNdrfq3ouEhMT4evrKwYUv//+e0yQzIY1NHv2bCxatAgAMHDgQKxZswaKPAYy7Io4gXG/L4DW4Cdtm5oNsWHcbNjp7pVfttTMDAxfORfnYq+hlMIaa8bMRJd62d/3F29HYcjyL5CamYEqrhWwY9IiuDkbn8/0rEwMXzEHZ25dNVpeEC1r1MfG8XPgUDr3mTUAsC96H+YengsA8Pfxx4QWOZ+jkvLgUfY9/a17gL0tsO17Ldr4lEg3BhEREb3mXryXj+g1k5iYiODgYKhUKlhZWeGNN94okkCIOQrrUug7bCr6j/hcDFoAgHUpG/Tw+wjlKlYDADx6eBtxURcNtjQlCFqonitRqrQthoxfgG5vTzDap2v5KmjWoZ/4d+yN8y89NUCNus3xv89Wi4EQ6ArjNu/YH1WqZ3cGpqcm4VG8Ll/VSxJ7X4bEpOx/16wmoPIr0Ff+ShME3Nq4EZm6Uaj1Jk0yCYRANxq+7gcfwP3NNwEAqdHRiA8xX78l5do1aHV5xKu9/XaOgRAAkCsU5juiXyOGKbLsKlUyer127u7iyHxVejoSjh4V15mTfPkyopYvB3Sd2Q2nT0eTL7807XwHAJkM9lWqmHa+Gyjq/RUXrUoFrUoF5/r10WnLFlRo187oGqzYqZMYRFImJiLt5k2DrbNZlS6NSr6+cPDwMBsIge78eM+ahVK6gq4Zd++K175UkR07mQxV+vSBwi57FHDShQtINfP89e7t2gX1s2cAAPc334R9lSrSJiYU9vaoM368+LoAoPrgwajQoYNRu5KSmpWKJ8+eAABcbV1hXyp/gdricPXqVWzcuBEAUL16dfz2228mgRAAaNSoEZYuXSrObNywYQMSExOlzQAA58+fF//96aef5hgIAQAbGxuzHe+vi8qVK6NXr15mO9+huw/o1q0bpkyZIi47f/58jgOidu/eLZ4PuVyOTZs2YcqUKSad7wBgZWWFhg0bmnS+66nVaixYsEAMhNSsWRMHDx7EG2+8YRIIge5ctGvXrkTOhz4Q4uvri3379omBEOiO4bvvvotq1bLvG+Pi4hAXZ3ov9aqeiwoVKqBfv3/vUbdt24b0HOo9PXnyBMHBwYDu+Q4fPjzPQAgAdKrbBL6NWol/u9g74vM+I0ssEAIA64/vwYW46wCAoa27oXPdptImrxRba1tYybO/K288vgG19tXL4FDBFfCpnf37JiMTuPbvZC8iIiKiAmEwhCzO8+fPcfnyZVy4cAEXLlzAiRMnsHbtWvzyyy94+vQpSpUqhf79+6Nx48bSTYuETCZHt/4T0KHHCLM/uMuUdUfNBtk5lAVBi5uXs0cl50ZhXQqD/zcfjVv3kK4CAFSqVgcyWfbbOSU5Ec+zsjvPXobybh4YMv5r2DuYpjGwtXNEObfsH/AA8PB+jNH64nYlBniuK8vi4Q44GGchyJWDA7B//3NkZiqNHidOPIeuHxNVqwqIjc0yaaN/7N//8meFFEbGvXvZNUB0tS6q9uljEgjRs7KxQRWDkbEPDx+GJivLqI1UWkwMtBaeIjH50iVk6Io6u3h7w87dXVwnUyiMakYkHD0KVdq/s8mkbgcFiUXiy7duDS9//xzPR34U9f6Kk1OtWmj322+wq1xZugoKe3vY6zoGASDdTMdgftlXqwaHGjUAANqsLGhyKNRblMfOuW5dMTXW85QUxB84IG0C6NJd6WetyK2ts6+dfP6fFTt1Qo+jR9FuzRq8uWsXmnz11UtLE5cbAQJ2XN+BZGV2Ci8fN588U2QVp23btomj5IcOHZpr4KJZs2bifUNUVBQuX74sbWLi0qVLL31wwquoTZs2Yqd2RkaG2VS5SqUSa9euFY/XiBEj8NZbb0mb5Vt0dDT+0aXyk8lkmD9/vhhQeBV17twZ69evh7NBEFPP2dkZXroUfpmZmWK6tBdREueiV69eKKVLjXj69GlcuXJF2gTQpci6fj07gFC3bl00y23mpAGH0rZYNeoz7Jq8GKtHf4awmStKtDZHxJ2bWB76N7SCAK8KlTGx60Czvwdy41DaFts/WYgHPwYbPXZNXgwn2+wAchXXCrgwb61JG/1j+ycL8zUrBABqudaCq212IO1S4iUcu3NM2qTEKawA71r/fp5euF6wY0pERESkx2AIWZzMzEzs2bMH27dvx/bt27F3717cunULWq0Wtra26Nq1K+rXr1/gHyb55VHTG+27D8tx/zKZDJ61fMS/nyTeg+q5+ZF5eu26DoFPK/OBEABwdC6H0rofRy9bj4GfwLV8zqOVK1bOOQd/cbsT/+85qOvJDqm8pEVH49mDB4CZjnxzHGvWFEefp8fGmu3Yd65XT0x79GD/fkTMmWNUy8CiCAIe7NsHQaMBAFTy9YVM0gFdtlkzMZ1Y6o0bORa1fp6SgqSL/84a8xw0yCS1VEEU9f6Kk8LODk2+/NJsIETPwTOf+e7yIFcoxFkaOSnqY2ft6Ihq/fuLfz88fFgMtBhKjoxEWnQ0oHs/uvj8+72RH6VcXODetStcGjXKcXZMcVNr1Th+5zh2Ru3EirMrMDRwKDZGboRW0KKKUxUMqD9AuslLk5GRgRMnTgC62gZdunSRNjFSpkwZo9RFOQVDDDtwlyxZgu+++86oIPt/ka2trdgZnpP4+Hhc1L3PFAoF/P398zUrICfh4eFiofQmTZqgU6dO0iavjHLlyuGnn34yGwgBAHt7e1Qyk4byRZTEufD29haP//Pnz8X6PIYEQUBwcLAYgHnnnXdMUoHlxkouRxOP2ujl0xau9sUz6zs/lKrnWLR7E5Iz0lBKYY0Zb41AJZdy0mavHHdHdwz3Hg5ruTUyVZmYdXAWRm8fjXXh67Azaieinpi/V3nZqrr9+++EJ9m1AYmIiIgKisEQ+k/JzMzE7t278e233+Ls2bNiaoKiJJPLcwyE6NnY/jsS9vnzTGi12Z2nObF1cM51n9W8GuGrVaexeNNVTPxiI0rbvHhHXUFZlVAnW36kGvQ/FeJ3/H9GyvXrYkd+VlIS7u/fj3u7d+f4SDx2TEyBJWg0gJn3U4X27VFFN6JU0GgQs349gps1Q9jw4bi3a5fZAMrrSpoiy1w9EJuKFcVZAbmlylI+eoRn9+8DAEq7usIpl2K9+VHU+ytOcmtrKPJIl1ZnwgT43bkDvzt3UCeX/PN6qtRUJIWHm1zDD/btg/LRI2lzI8Vx7Nw6dxaDYk8vXzYKtgDZgbWHoaHi+6uSr+9rmUJOqVbitwu/4eujX2N9xHrcfnobjqUcMbLxSPzW7zdUcy65kfppaWmI1gWboCt6vW3btlwfhumJVLpzIzV48GC0adMG0KU/+uKLL1ChQgUMHz4c+/fvzzEt0etOo9Hg4cOHOHDggMlxCw0NxfPnufdaxsbGiqnHqlatWugC8GfP/ltQ29vbO88i3CXJ1tY2z/Rcq1evRmZmJjIzM3OtV4JX8FzY2tpi6NCh4t///POPSZq5R48e4dChQwAAOzu7PF/jq2r7haM4cv0CAOCtxu3g27CltMkry6+BH37o8QOaV2oOALj++DpWnluJr49+jYO3smcNlzQng583mUpAd8tKREREVCAMhpDFcXZ2xtSpUzFv3jzMmzcPc+fOxbRp0zB48GBUrVoVMpkMSqUSO3fuRGhoaImksHByqWAUEKHi55Xz5BXSMayX8OjkSZwaPz7Xx6VvvhHrGeRErlCg6ddfo+bo0eIsCUGtRsLRozg1YQJ2eHsjtH9/xB848Nqn0DJMkeVcrx5szNQesCpdGu5du4p/Pz5zBmozo8Y1mZnQ6tKOWTs6wqZ8eWmTAinq/b0ONEoloteuxZ62bfFPw4YI7dvX5Bo+M2lSjrNz9Irj2NlVqoRyLbM7ybQqFe7t3AkYfBcpnzwRU2SVLlcObnnMWnidpGSlYPu17TgUewgCXv73r97Tp0/F2gVqtRqzZs3C0KFDc30cNyhKnxNXV1ds3rzZqE6CVqtFUFAQ+vXrBxcXF/Tr1w+nTp2CxgJ68u7fv48PPvgALi4uqF69Ovr06WNy3GbNmmU2HZOhzMxM8X6sSpUqsMtjxlZeUgxmWxW2M/918aqeCwBo3bq1OLvlxo0bOKMbOKAXHh6OKN1ncbt27VC3bsmluXpRt588xI/7tkArCPAo64apvYbB2ur1GYmjVCsRcisEEQ8joBVMB7cQERERWQoGQ8jiyWQyODg4oEGDBhgzZgx69OgBKysrCIKAkydPisU1Xya1KgvaV7A4oSW78eJlBf4zcqqXUFgKe3s0njMHviEh2SmGDEbAChoNki5cwPHRoxHi64vkiAijbV8bkhRZ7l27wqp0aWkrAEC5Vq1gU6ECoJsVkHbrlrQJFZIqLQ0nx49H+BdfIOPePenqEidTKFDtnXfEFHKPTp40ep5JFy8iVTdroWL79nDS1Qt43TiUcsCa/mtwYswJBA8LxsRWE2FrbYuUrBQsPrEYR+PMz4x6GZ4/f55np/CLqlixIjZv3oyjR4+iR48eYuF1vf3796Nz58548803cfv2baN1r5MLFy6gVatW+P3333OcKUMvx6t+Ljw8PNC3b1/x761bt4rvP0EQEBgYKAZg/P39zRZqf5WpNGp8u3sTbj95CLlMhk+6D4ZHWYOcTq84AQIWH1+Mf67/A5VWBR83H/za91ccGXUEJ8acwIQWec/AJCIiInpdMBhC/ykymQzNmjVDZV0uepVKhZs3b0qbFbtn6Sl4npWdKkMutxKLnxOVJMM6DB5+fmIaovw8eoSFiR38OXH08kLz775Dv0uX0G3/ftQYPhzWTv/m9k6LjsaJMWPyHKn/KjJMkQUAFz77DIHVqpl97O/SBUpdipDnKSlIPJZ7oVKtSgVNEabWKer9vWoEtRqXFyzAw9BQAIDCwQH1J09G77Nn4Xf7ttF12//aNVRo1066ixwV5bEr26wZXLy9AQAZd+/iyblzgO753wsOhqDRQGZlBfeuXU1qz7yOytqWxdBGQ/FJq09gJbeCSqvCtmvboC6hgQEVKlQQUyfZ2dnhxIkTYhqi/DwCAgKkuzQik8nQokULbNMVaQ8NDcWAAQOMAiOnT5/GO++8g0d5pGp7Fd2/fx+jR4/GkydPAAA1atTAn3/+iUePHpkcqxMnThRodkFOhb1fVGpqqnSRRXkdzoVMJsO7774r1is5evQo7upmUt6+fRsHD2anYapUqRJatGhhtO3r4FT0ZewMz5455mzngLAb4fj0jyVmHz/s+xOZz7NnGyZnpGLOttXiup9CtkKpyj2NWXG4/fQ2TtzNrqFU3aU6vnrzKzSs0BDWVtkB+1eFyuBSdHUGSude/oaIiIjILPbA0n9OqVKljH4I6gtsvkwP7vzb2VuxUg2UKv16jYB7XRgWTb8el3PNFcpm6/bvKEZNZiaEIugAMUdmZQXnunXR9Ouv0Sc8HC2XLBELsWcmJODWH39IN3nlGabIKqiEo0dNUmXZlCsnBoqUjx4h484do/UFVdT7KxCt9qWmI0yLi8P9ffsAXf2RZgsXov6kSbCtWBHIpfZSTorr2Fk7OqJix47i33e2b4dGqcSz+Hg8OX8eAOBUsybKt21rsNXrr3nl5ihTOjsIcfvpbSRlJkmbvBQ2NjYor0t59vz5c2QW08w4ALC2tkabNm2wceNGJCYmYt68eWJQ5OrVq/jnn3+km7zy9uzZgxs3bgAAqlevjt27d6Nfv3551r7IiZubmzgbIDY2Fg8fPpQ2KZDaBrV9IiMjX2qtlped/uxVPxd6devWhY+PDwAgISEBe/fuBXT1XR48eAAA6Nu3Lzw8PIy2ex2kKZ/huTp7Rk5yRhq2nT+CLacPmn0cuHIWKk32/VVGlhI7Lh4T14VePQ91HnUEi0NMUgxSs7KDhnXK1oGrrau0ySshymAinVtZQPHqli0kIiKiVxiDIfSfIwiCUcdchTxGsxc11XMlYm9kd3TJZHLUaphdaJWyWRnkV9YWskOhzr8THXA7HkjPvbzFf55jzZpiUCI5MhLP4uOlTYqcXJcuqM4HH4jLMm7fhkZXoyEnMrkcMqvsX8GCViumpyoRkhRZBWUuVVYpg0LdWpUKD/bvN6opUVBFvT9DyoSEHGvHqNLScHnRIqhe4sjsZ3fvIks3Qtq+alWU1xWzflHFeewq9+qF0uXKAbqAWvrt20i6eBHPdB2D5du1g41ufUE9T05G/IEDSL506YWvzeLgVNoJZe3KAgA0guaFA2VyuRwKfR0iQYBWW7Ac987OzmjQoAGgqxkSqptJVNzs7e0xZcoUDBs2TFx27do1ozbmWOtSqkH3fF/0uBWV87qAHQB06tSp0B3Ynp6e8NTNTkxOThaLab+o5s2bQ6YLfp46dQoxMTHSJi8st32dO3cOP/zwg3RxsXrVz4Wes7MzhgwZIv69Z88epKWlITg4GNDNHunTp4943gpCo9Xi4u0o7I44gaSMwn3fCIKAY1GR6PPDVLy58CNsO38EmgJ+vrxu1Fq1WCekvH3h62IVB0EAbhgMbKpbvWQ/A4mIiOj1xWAI/efExcWJObqtra3FH3wvy6WzB3DrenY6lAqVqqN67abSJv9pFSv/mxs/9sZ5qJ6/+GjOGlUEuGX3uSH6jgz3szMTUQ4cPD3hqCs0m3H3Lm78/PNLK2puOCslP2wqVkQpXYqbzIcPkaIbFVsSDFNkKezs8EZQkEkaMemj76VLcG3SBMghVZZV6dJwe+MN8e/YP//E/T17jNoURFHvz6Z8eXG2RHpcnBh8MKRRKhE5fz4SwsKkq4qVoNHkq/Nfo1QiatUqPDp9WrrKSFEfO0NOXl6o2L49ACDr8WM8PnUK9/fsgaDRwNrBAVX79JFuki8JR45gb8eOOD56NA727o2LM2e+tPdyfsiLIDWkvb29+P2dmZlpUpA5LzKZDN26dRP//vnnn3FOl6qsuMlkMri7u0sX56pOnTriv8PDw0s8tVZ+61Lcv38fM2fOxLMcAqZ6rq6u6NSpk/j3vHnzCnU+GjZsKM4Oefr0KaZOnWpUVL2gDGeanDt3zmzqqJiYGIwaNQpPnz6VripWr/q5MNSzZ0+xkPq5c+dw9OhRHD2aXTuoefPmaNasmWSLvKVnZWLs79+g9/cBGLPmG3T4ajzOx12XNsu33ZEnMXzlHJyPu45rD+Lw0YbFWB76t7SZkV4+bfHgx+B8PXZNXgwnW3sAQBXXCrgwb624bvsnC+HA2eJmJaUAl3VxyDKOQJO60hZERERE+VP4X6NErwm1Wo0zZ85g8+bNYrqEunXrFnoEnZSQQ0oYQRBw7eIRbF//NTQaNWQyOd7oPRqOZV5s1K+l8qjpjVKlbQAA0VfP4NDONdBKUgYIgoD4u1F4nJB7uppq7oB37exz8fAJcOR8wUcb/pdYOzrCy99fnHERu2ULzgUEiPUtzFGlpSH+4EFxJLshQa3Gk/PnkZmQkOtI+vS4OFxftkz8u1zLljkWH9crXaYMnOvVA3Sj9SO//BLpcXHSZlBnZODJuXN5zjQpDMMUWU516oizCHJTytnZqFbFo1OnTGpRVOndG8716wO6jvvz06fjzt9/m+/UFgRk3LuHp1euSNeIinJ/dlWrwk5Xeynj7l3EbdlitJ/nT5/i7KRJiN282WCrl8PW3R2lXbNTfKTfvo37u3cbXX+CRoPE48cR2r8/rn7/fb7SwRXlsTMkUyhQpU8f8T13fdkyJBw5AgBw8fGBc92C9/aoMzJwY8UKPDfo+I376y88PnXKqN3rzt7e3qi2wLx583DKzGtUqVQ4ceIE0tPTpavw5ptvip2vT58+Rf/+/fHPP//kmOZIo9Hg+vXr2LVrl3QVoAvKnDhxAklJuaf+OnXqFH799Vfx786dOxutN6d27dqoWLEiAODGjRuYPXu22dRe9+7dQ0REhHRxkfPW1bsBgJ07dyIyMtJofUZGBpYuXQpvb+98zSyQyWQYO3YsypbNHsHw9OlTDBkyBAcPHjR7PjQaDS5fvozY2FjpKkA36/fDDz8U/z506BDGjBmDODPfEwCgVCpx/Phxs9cJJDNNdu3ahcOHDxutP3/+PHr06IHo6Gij5S/Dq34uDHl4eODNN98EdLNOAgICkJCQAADo168fnHWzUwviyPWL2H/p36B2ckYavtvzxwvV3lCqnmPjib1iyisA0AoC/joTisdpLx5Mo8KLvClD1O3s92DNagKqV875vpKIiIgoNzLBXK/tS/Ayc/eS5VOpVDhy5IhYPNKQRqNBfHw80tPTjX7E1axZEwMHDhTzIhfGnZhLWLlgDJTP0gAAtnaOqFGvBer6dICtnSPSU57g9JG/8fDuTQiCFjKZHO19h6LP0KmwUpgvTrjx56m4eCK7w6XHwI/Rrf94aZN8u3LhEC6dPSBdjJhrZ5H06B4AoLJHXVTyyO5c1qtW0xtt3xxstAyS5/bepB/RqMW/o2ulQravwN6/fgLy+TpUz5VYu+RjXI/4d6S8vUMZ1KjXAja2DkhPfYK4qIvIfJaW5/8NAL8GyRCwODvu26mZgC2LtLAvxCm/eFGOrl1L4dkzoGpVAUePPoebW4l8jOYo/sABHB89GgBQoV07tF29Ggr77FGIedGq1QifNcuobofMygr2VauibPPmsNIVP025cQNpt27heXIySjk7o8Mff8ClUSODPWV3yp4YMwaJx4/DysYGNuXLo0yDBmJHteb5czw5dw4Zd++KI/md69dHx40bxdRBuUkIC8OJ998XgwgyhQIujRqhTL16ELRaJEVGIjUqCuVbtSrQMSgQQcC5qVMRt3UrAKDuxIloOG2atJVZiceO4djIkdCqVChdrhw6bt4MZ4PR3wCQFB6O46NHI+vxY3GZwsEBZZs0gX3VqoAuGJF8+TKeJyej0Wefoc6ECQZ7MFZk+xMEXFm8GNd+yn5vQ5dmrVzz5shKTkbCkSPQKJWQWVmhSq9eeHz2LDIfPszxelQmJuLwgAFIv307x+spvzRKJU5PnJidzkp3/Tp6eaFs06ZQP3uGxBMnxNcvs7KCvFQpaDIz8/x/i+zYSSgfP0bYkCEms5uafPklvEaONFqWH8rHj3HEz88k9VrTb75BDYPUTCUl/Xk6Pt79Ma4/vo5yduWwqu8qVHTI7uQvqKtXr8LX19fou7927dpo06YNrKysEBkZiQsXLqBy5co4evQo3MzMQDt37hz69OljNJrf2toa7du3R/Xq1QEAKSkpOHPmjFjwediwYVi9erXYXu/hw4fo2LEj7t69C2tra1SpUgVNmzYVO3hTUlJw9OhRo1kdvXr1wsaNG/O8FxEEAdOmTcMyg8CxtbU1evTogfLlyxvte/78+XkWeC8s6bGXy+Xo0KEDvLy8EBMTg7CwMDF1mT6IIAgCOnTogL///jvHehbbt2/HsGHDjNKe2dvbo0uXLmKNl0uXLiE8PBwqlQqBgYHo3bu3wR7+pVKpMGnSJKxZs8ZoebVq1dChQweULl0aWVlZOHnyJG7duoWqVavmeJ0kJSWhb9++RimpOnTogFq1auH8+fNiAMrOzg4DBgzAhg0bACDHc3Hx4kV07doVz549y/X/zY/X4VwY2r9/P/r37280cKhMmTI4cOCAmLquIH4+EIivgtcZLatVsSqCPvoG5RwLFlx59lwJ/5VzcTL6stFyj7Ju2D5pISo6Fb6WxsXbURiy/AukZmagimsF7Ji0CG7OumnMeSjMtrnZF70Pcw/PBQD4+/hjQou8v7teJkEApv4gx8rA7Ov3s/e1+Pz9V+vem4iIiF4fnBlCFkGj0SAmJgZXrlwxeVy/fh0pKSliIKRUqVLo1KkThg4dmmfnw4vKfJaGK+dDEbRmLjYum4LtG75B/J0bEAQtSpW2xVtDA9B3+PQcAyFF7cGdGzh7dJvJQx8IAYD7t6+brNen83qZrEvZYOD781DFM3sUNgBkpD/FpbMhOHt0G66FH0WmLuiUH93bCPDMzsiAk5EynIjg7JDcyBUKNJ4/Hw2mTIFMn49fo0F6XBxuBwbi1h9/4NYff+DJ+fN4npycvY21NeS6ke050SiVyLh7F/f37hX3cTswEOlxcRA0GsisrFC5Vy902LAhX4EQAKjYvj28Z86ElU32TCJBrUbSxYu49ccfiP3zT6RcvZqvUf+FIU2R5ZaPEd56zvXri2nJ9CmSpFwbN0anrVuNgiTq9HQkhIWJxzEhLEw8F3kpsv3JZKg9bhwqduggLkqLjkbsn3/iwb590CiVUDg4wOeLL+A9a1aeM32KkpWNDRrOmAHHGjUA3fWbGhWF2D//xN0dO8RgRumyZdHyp59Qf9IkyR7MK7JjJ2FTrhwq9+pltMy+alW4delitCy/Spcpg3KtWhkts61YEeUMZlFYivr162PVqlWws7MTl0VFRWHdunVYs2YNzp07l2ctkebNm+PQoUNGaahUKhUOHTqENWvWYM2aNQgKChIDIQDyde+gUqkQGxuLoKAgo/0YBkI++OADrF+/Pl/7k8lkmDVrFt5++21xmUqlQnBwsNl9F7d69erhm2++EQvBa7VaHDlyBGvWrMGRI0fE496sWTMcP34c7XXp4PLSv39/7Nq1S5yVAN3MBv3rXLNmDc6ePZuv1FDW1tZYsmQJZs+ebbT8zp072LRpE9asWYNNmzbhliRwaI6rqyuWLFmCMrr0jAAQFhaGNWvWiIGQGjVqYP/+/ejXr5/BlsXvdTgXhlq1aoXmzZsbLevWrZvRe7Ag2tbyFtNO6bWr1QhlHbJTORaEXSkb9PZpB7mkbknbWt5wtS/4/qhoXI8DdhzOPiflXYD+nRkIISIiohfHYAhZPCsrKzg5OaFevXp49913MWPGDLz55pti4dWiprAuBXuHf38sA0Cp0rZwr1obvQd/ilk/HsAbvUZBLs+98/i/rExZN0ycvRHvjv8aVWs0QimD/Mm2do6o1aA13pv0I+o3+TePf06quQODfLM7Ap6rgB83yZBhmlmEDMgVCtT7+GP0PnUKjT7/HC6NGkFhMHLUysYGDtWrw3PgQLRfvx49T54UUwgZsipdGrXHjUONYcPgVLs2bN3cxHRA0M3kcPDwQI3hw9Ft/360Wb4cNrrRpvkik8Fr5Eh03bMHNYYPh32VKuL+ZQoFHGvWRN2PPkLzxYtNZiIUFcMUWfYeHnD0+rfmTV5Ku7igvEGndXxoqEmqLABwqlkTXffuRee//0bVfv2MjqPMygq2bm6o0rs3Wi9fDq8RI6Sbmyiq/Vk7OqLtb7+h8bx5cPD0FPdRysUF1YcORbd9+1Bz1Cijc/6yONWsiS47d6LR55/DsWZNMbCncHBA2WbN0HLJEvQ8dqzANTmK6thJGRZSBwD3N9+EfZUqRm3yS6ZQoNFnn6Fa//6QKRSwdXNDs0WL8pW+7XXUs2dPXLlyBdOnT0cNXQBMz93dHWPGjME///wjppgyp27dujh//jx27doFPz8/lJMEZF1cXNCiRQssWLAA169fx08GM6IMOTs746uvvsLgwYNRvXp1uLi4GK2Xy+Xw8vLC9OnTcfPmTSxevBj2BfhscnZ2xoYNG/D333+jW7duRttaW1ujRYsWWLNmDcaPz30GZlGQyWTw9/fHxYsX4e/vb/RaXVxc4Ofnh0OHDuHIkSOoVauW0bZ5eeONNxAbG4vAwEB069bN5DhWrVoVw4cPR3BwMHx9fY3WSVlbW2PGjBm4f/8+FixYAG9vb6Ni9NbW1vD29sa0adOwa9euXK+T5s2b49y5cxg1apTRsa9WrRq+++47nDlz5oVqXhTW63Iu9KSF1GUyGYYPH/7C9+WNq9XCD0M/QXnHMrCSy9G3SXvMeGvECxViBwD/dj0w460RcLSxQymFNd5r3wvz3hkLa6sXe35UOIIArNshR7xuUuYgXwH1siftEREREb0QpskiKgKGabKq12mKsdNWorRN/js4qHjdSwD6f2qFG3GAlRxY8X9avNu9RD76iIhMPD5zBsffew+q9PQ803W97ooyTRYRvX4EQcC8efOwYMECQJduLLd0XVT8XuU0WeeuyPD2ZDmepgFVKwI7l2pQ48XGChAREREBnBlCRP8FVSoCU0ZqYSUHNFpg3go5bv2bIYyIqMRolEpE/forVLrCzZV79UKZesb1myyVWqtGpppT9Yj+S65du4ZVq1YBulkhH374IQMhJSzjeYZ00SshNR34YrkMT9OyBzMFjNAyEEJERESFxmAIEf0nDHhTwIg+2bNB7iYAn34nR2p23yMRUckQBESvXYv4gwcBAHaVK6POhAliWi9LZKOwgVPp7Nz7qVmpCH8YLm1CRBYqJSUFU6ZMEYu9v/322+glqZlEL5cAAWcfnBX/ruZczWh9SVGpgVk/yxF2ITvdWY92Aob24qxuIiIiKjwGQ4joP8FakT07pK4uz3DoGRlm/SyHqnjraxMRmaVRKnFjxQpc/f57CBoN5NbWaPT553Dw9JQ2tSgKuQKN3RoDALSCFuvD1+NOyh1pMyKyMPfv38eYMWNw6NAhAED16tXx9ddfG9VwoZdvd9RunLhzAgDgVNoJtcoWrK5McRAE4JctMqwPzg6E1K0OLPpUC9vS0pZEREREBceaIURFgDVDXh8Xrsvw7rTsQoxWcmDaKC2mjhRgbbkDsYnoFZBx7x6iV6+GRqmEKj0diSdOIOtxdkVYmZUVGk6fjjrjxgEvWPT3dfIg7QE+3v0xHqQ9AADYKmzRonILtKzcEnal7NCqciu42BoXaqYXs3btWpw9+++o78KwtbXFRx99BA8PD+kqIhP79u3Djh07AAAxMTEICwuDVqsFAJQpUwbBwcFo3ry5ZCsqblFPohD1JAppWWkIjQ3FtUfXoBWyz0tXr674otMXUMhL7qZYEIC/D8ow4Ss5MrOA8i7AX99q0ax+iXRZEBERkQViMISoCDAY8no5f1WGgVPleJQMdGkpYMN8LZyYrpqIilHypUsIGzoUz1NSjJYrHBzQcOpUeI0YAZmVldE6Sxb+MByfhXyGlCzj42FrbYvvu38PHzcfo+X0YsaMGYNNmzZJF78QOzs7HDhwAE2aNJGuIjKxePFizJo1S7oYNWrUwPr169GsWTPpKnoJlp9djg0RG6SL0bJKS8zrPE9MY1hSMjKB9/5Pjr0nZCjvAvw2R4vOLUqku4KIiIgsFNNkEdF/TrP6AgIXazGwm4C18xgIIaKXS6ZQwLFmTTT6/HP0On4cNUeN+k8FQgCgsVtjbB20Fe81eQ9VnavCWs5UOUSWytraGm3btkVgYCDCw8MZCHlF2FnboVHFRljYbSG+7/59iQdCAMDeNjsAMqCrwEAIERERFQvODCEiIiIiIiIiIiIiIovGmSFERERERERERERERGTRGAwhIiIiIiIiIiIiIiKLxmAIERERERERERERERFZNAZDiIiIiIiIiIiIiIjIojEYQkREREREREREREREFo3BECIiIiIiIiIiIiIismgMhhARERERERERERERkUVjMISIiIiIiIiIiIiIiCwagyFERERERERERERERGTRGAwhIiIiIiIiIiIiIiKLxmAIERERERERERERERFZNAZDiIiIiIiIiIiIiIjIojEYQkREREREREREREREFo3BECIiIiIiIiIiIiIismgMhhARERERERERERERkUVjMISIiIiIiIiIiIiIiCwagyFERERERERERERERGTRGAwhIiIiIiIiIiIiIiKLxmAIERERERERERERERFZNAZDiIiIiIiIiIiIiIjIojEYQkREREREREREREREFo3BECIiIiIiIiIiIiIismgMhhARERERERERERERkUWTCYIgSBcSERERERERERERERFZCs4MISIiIiIiIiIiIiIii8ZgCBERERERERERERERWTQGQ4iIiIiIiIiIiIiIyKIxGEJERERERERERERERBaNwRAiIiIiIiIiIiIiIrJoDIYQEREREREREREREZFFYzCEiIiIiIiIiIiIiIgsGoMhRERERERERERERERk0RgMISIiIiIiIiIiIiIii8ZgCBERERERERERERERWTQGQ4iIiIiIiIiIiIiIyKIxGEJERERERERERERERBaNwRAiIiIiIiIiIiIiIrJoDIYQEREREREREREREZFFYzCEiIiIiIiIiIiIiIgsGoMhRERERERERERERERk0WSCIAjShZYiIjJSushIQsJD6aICq1jRDW4VK6JixYrSVURERERERERERERE9AqwyGBIQkICvl38XZ7BkKLkP3w4Rgz3ly4mIiIiIiIiIiIiIqISZpFpsl52IAQANmzciP0h+6WLiYiIiIiIiIiIiIiohFlcMCQhIeGlB0L09oeESBcREREREREREREREVEJs7g0Wes3bsCGjRsBABUrVsSI4cOlTYrUw4QE8f8DgJC9+4zWExERERERERERERFRybK4YMj+kP34dvFiAICPtze+W/SttEmRioiMxJRpU8W/GQwhIiIiIiIiIiIiInq1WFyarIoV3VCxYkUAgLe3t3Q1vWKUSiVGjBgBT09PeHp6Yt26ddImREREVESOHDmC6tWro3Xr1rh79650NRER0Qs5cOCA+JvO8FGvXj1cunRJ2pyIiIioRFhcMMTH2xtTA6bgu0XfYsRwf+nqIufj7Y2N69aLj9dBcnIyZs+eLd6gtm3bFomJidJmJm7duoXPP/8czZo1E7f18fHBlClTcOvWLWnzfDl79iyOHTsGAPDy8kLv3r2lTURqtRrbt29Hw4YNxf//wIED0mYmiuN5ExFR/gmCgPDwcIwePRr169cXP4t9fX2xbt06PHv2TLrJK0EQBJw5cwYjRoxAzZo14enpiRo1asDPzw9nzpzB6za5Vq1WIzAwEIIgYODAgahSpYq0SZEIDw/HhAkTMHbsWGRkZEhXE9FrSKlUYsOGDfD19RU/w5s1a4b58+fn63dEUYmKikLTpk3F5xAQECBtYuTWrVuYMmWKyXfP33//DbVaLW2eq7CwMNSoUUPcz/Lly6VNTOi/R3r16gXPAvzueh3Z2NjA3d1dfDg7O0ubUDFRKpVYu3at+Ds5r/dFUdJoNDh//jwCAgLQtm1b8f2R3/dIcnIy1qxZg/79+xu9T3N7r2g0GuzZswf9+vUT35M1a9bE6NGjcfPmTWlzE/Hx8fi///s/o/4BX19fBAUFQalUSpsTEZGFsbhgCHQBCp+XOCukYsWK4uNVlp6ejq+//hotWrQo0AwMtVqNpUuXokuXLvjjjz/w5MkTcV1KSgoCAwPRtWtXrFu3rkAdQ2q1Glu3boVWqwUA9OnTB+XKlZM2g0ajwc6dO9GxY0dMmjQJ6enp0iZmFdfzJiKi/FMqlZg5cyb69++P0NBQo8BHVFQUZs+ejT59+iA6Otpou5L27NkzTJ06FYMGDcLRo0dRqlQpuLu7Qy6X49y5cxg0aBC+/vrrAnemlaSYmBgcOXIETk5OeOuttyCTyaRNisTJkyexZ88epKamSlcR0WsoPj4egwYNwv/93/8hKipKXP7kyROsXr0aPXr0QGRkpNE2xUGtVuPHH39EUlKSdJUJpVKJr7/+Gl26dEFgYKDJd8/kyZPx/vvvIy0tzWi7nCQnJ+O7774Tf7fkx82bN/HOO+9g0KBBuHr1qnS1xWnfvj1OnjwpPhbrUldT8dFoNNixYwfatm2LOXPm5Pt3clGJjY3FO++8gwEDBiAoKAgPHjyQNsmRWq3GypUr0aJFC8ybNw/h4eH5Ghzz6NEjjBgxAhMmTEBERAQcHR3h5uYGrVaL0NBQdO/ePdff96GhoejSpQs2bNhg1D8QFRWFgIAAjBs3Lt+fC0RE9HqyyGBIQSQkJKBbj+5ISEiQrrIYSqUSK1euRPPmzfHrr78WqONGEASsXr06z5tZrVaL+fPn4+zZs9JVOdJ3ygCAk5MTevbsabReEAScOHECvr6+mDhxYoFurorzeRMRUf6o1Wp8+eWX+OOPP6SrjMTExOCDDz4w+lFaktRqNb766isEBgbCyckJ69evx5UrV3Dy5EncuHEDCxcuhFwux6pVqxAcHCzd/JWlD1B06tQJXl5e0tVERCYyMjIwbdo0REZGwtXVFb/88guio6MRHR2N9evXw93dHUlJSfj4449x//596eZFKjg4GLt27YKNjQ3KlCkjXW1k165d+PXXX6FQKPDpp5/i4sWLiIuLw8WLFzF8+HBAlzZw48aN0k1NCIKANWvWICIiAq6urrC2tpY2MXLr1i2MHTsW3bp1w8WLF9GtWze0bt1a2ozohWk0GoSEhKBLly74+OOP8fTpU4wcORKurq7SpsUmIiIC/fr1E98X8+bNw8mTJxETE4O4uDjExcVhwoQJ0s0A3X3W//3f/+Gbb76BWq1G9+7dERQUhCtXrojbnjhxAhUqVDDaLiMjA5MnT8bx48dRrVo17N27FxERETh16hSuXr2KTz75JNff91euXMGkSZOQmZmJli1bIiQkBLGxsbh06RKmTZsGuVyOI0eOvHaDXYiIqGD+08GQhIQEDB85AgAQMG2qxQZEzp07hwULFhhN+VQoFEZtcnLv3j2sXbtW/LtatWrYsWMHYmJiEB0djR9++AG2trYAAJVKhdWrVyMrK8tgDzkzHDVqrmNGn84rJiZGXCaX5++SLc7nTURE+XPhwgVs3bpV/Ltly5Y4fPgwYmNjjTqkoBuRZ9i2JF27dg1///03AGDu3Lno2LGjOIvCysoKgwYNwocffggAWLdu3WsxgvDx48cIDg6GTCaDn59fvu8DiOi/LTQ0FGFhYbC2tsaKFSvQq1cvKBQKKBQKdOzYEStWrICTkxPi4uLw119/STcvMvfu3cMPP/wAAJg0aRLq1KkjbWKkX79+GD9+PNauXYtPPvkELi4uAAAXFxd89tlnaNWqFQDg77//znOmSUREBFavXg25XI7PP/8c5cuXlzYRCYKAtWvXIiQkBA4ODvjpp5+wYsUKVK5cWdqU6IUlJydjwYIFuH37Nnx8fLBv3z58+OGHsLGxkTYtFk+ePMHUqVORmpqKfv364ejRoxgxYgTc3d1hZWUlbW5iy5Yt2Lx5szjgZMWKFWjWrBns7e2lTY2EhYXh2LFjsLa2xnfffYe6deuK62xsbPDRRx+hd+/eUKlU2LBhg1FAQ61WY8WKFUhNTYWPjw9WrlyJWrVqQSaTwdHRERMmTMC0adMAAIGBgS9lthsREZWM/PUsW6iIyAjx3wkJCRYbEPHx8YGPjw8AwMPDA6tWrcIvv/wibWbW+fPn8fDhQwAQbzq8vb1hZWUFhUKBt99+G+PGjRPbnzlzJl8FWfWdMtAFOAYNGmTSMePq6irWENGP6jpw4AAqVapk1M6c4nreRESUP2q1Ghs2bIBKpQIAeHp64ocffoCnpydkMhlcXFwwZ84cDBs2TNxmz549SElJMdjLv/VGJk6cCB8fHzG3c82aNdG/f39s27YtX2kVCuL06dPIzMyEm5ub2dG8MpkMvr6+sLW1RUREBCIi/r2fWL58OTw9PbF3714xtYynpyd69+6N+/fvQ61WY+HChahRowbq1q2LjRs35pjKQZ/r3vB1e3p6omXLlpg4cWKB0lDpR2v6+PigadOm0tVGNBoNQkNDMXDgQLFWiv6Yd+zYEb/99ptRe2nR3IULFwK649igQQOjdZ55FNPVp8Y0rEtQv359zJgxA/Hx8dLmAIDExES0bdtW3K8+d3q7du3Efbz99tu4cuWKdNPXXlpaGrZt24Zhw4YZXSf169fH6NGjER4enuP1pWfufNeoUQM9evTIV/70xMREzJ8/H61atRL//9xqs+mvl9zywQcEBMAzh7z3+vfY4MGDkZGRgfT0dCxYsEDM/V6zZk189NFHOV4vL/uYpaWloX///vD09MSIESNyPZ7bt2+Hp6cnatWqhQsXLkhXi65evYpOnTqhRo0a+O233/J8vi9KqVSKAY4ePXqY/ezw9vZG//79Ad1sjLwCCy9CrVZj+fLluHPnDt58800MHDhQ2sSEQqHAjBkz0L59e+kq2Nvb44033gAAPHjwINfffxkZGVi8eDEyMzMxcuRIs/szJJPJMHjwYPj5+SEkJAR9+/bNV+cwZTNX46Vdu3b44Ycf8kwBZe59qf9MMPfdJWXus8zT0xNNmzbFkCFDcO/ePekmJg4fPoyGDRuibt262L9/v3R1kSlXrhz8/f0xY8YMbNmyBbVq1ZI2KVY7d+5EVFQUfHx8MGfOHDg4OEib5Ojx48dYs2YNYGbASV4OHToEQRDQuHFjNGjQQLoaCoVC/DwKCwtDXFycuM4wK8WYMWPEAKmefrCIl5cXVCoVduzYYbSeiIgsx386GOLbzdeozkdCQgL2hRTfTUtJcXR0RPfu3TFjxgzs27cP3bp1y/cMC8MfkuXLl4enp6fRegDo3LmzOArl6dOn+bpR3LVrlzjjo3379mjRooW0CaCbMfLOO+8gLCwMn3zySb5vtIrreRMRUf48fvzYqDNv1KhRJiNj4+LicOrUKfHvmzdv4s6dO+Lf+rod/fv3x86dO40CJWq1GuHh4fj0008LVAcrP65duwboBhA4OTlJVwMA3N3dUb58eQiCgOvXr0tXIyIiAlOmTMGZM2cAXWqGX3/9FatXr8by5cuh1WqhVCrx/fffmxT7FAQBq1atEnPdSwNEiYmJuHDhQq6dqoYMOzTffvttODo6SpuI0tLSMHr0aIwePRpnz541GVV5586dYst9//TpU7z33nuYOHEioqKi4OrqigoVKuDZs2f4888/0aFDB+zdu1e6mUgQBNy7dw+DBg3CnDlzjFL2XLx4Ef369cOBAweMtnndzZkzB59++imOHz9udJ08e/YMoaGh6N+/P1avXp1jZ3l8fDwGDhxocr61Wi2uX7+OgIAAHDt2TLoZoDveGzZsQNu2bbF69WqjDmV9bbbPPvsMGRkZRtsVpePHj4uzE/Rp9tRqNYKDgzFkyBCzaZte9jFzdHQUO97Pnj1r8n7XU6vV2LdvHwCgTZs2qF+/vrQJACArKwvffvstbt++Da1WiwULFuDixYvSZkXi3r174ujovn37mgxcAoDIyEixg/Hu3bvFMrjo5MmT4ijyyZMnF+nod61Wm2s6nO3btyMsLAxeXl743//+l6/fUA0aNMB3330Hd3d36SrKgUajwYoVK8zWeLl//z5+/PFHdOzYMccgYWG/u/bu3Wv2swwAkpKSEB4ejuTkZKPlUklJSfjqq6+Qnp4OpVKJL774oljeD3rvvfcexo8fX6Tvh/zQB5QB4J133jEJKuRFPzjDy8sLHTp0kK7OUUZGhhjcqFatWo6zSKpUqQJ7e3uT3/fnz59HamoqKleubLbvQaPRIDg4GLdv3wZ0923F+f1FREQlJ++7OQu3cd16o4DIho0bsX7jBqM2evtD9mP4yBGFfkhvsF6GCRMmFPpmKT093exNoL29vdF+86rtYXgDBQADBw7M8Xk1adIE33//faF+TBTV8yYiovxLSEgQOydtbGzQuHFjcZ0gCAgKCkKPHj2MUiFmZmYafUeuW7cOgYGB4t8viz5YkJSUlGMKRVtbW/G7yVzn5h9//IHw8HBs2LABmzdvhkKhwM6dO/Hjjz9iyJAh4qyJpKQkkw6aixcvYtGiRQCA4cOH4/Tp04iNjUVcXBxu3LiBQ4cOYe7cuTl2BEhdvXoVJ0+ehJubG7p06SJdbeS3337DkSNHYGtri8WLFxvl746MjMQ///yDAQMGGG3TtWtXsU1cXBymT58OAGjVqpXR9vrHtWvX0KhRI6N9qNVqzJw5E2FhYWIe8AsXLuDMmTO4fPky+vXrB7Vajc8//9yogLMhpVKJDz74AJGRkejWrRsOHz6MmJgY7N69G9WqVYNarcbSpUvN3hO8rpydnTFq1Cj8888/4rGOiYnBjh07UK1aNQDAihUrEBsbK90UaWlpmDJlCi5cuAC5XI5Jkybh3LlziIuLQ3R0NA4dOoT3338/x3u0vXv3Yvbs2VCr1ahfvz4CAwMRHR0tXiurVq3KsUO/KFy8eBEffPABUlNTMX36dFy6dAkxMTFYvnw5rK2tEZdD2qaSOGY9e/aEk5MTMjMzcfDgQaN1enFxcTh58iSgm4Uh3YeeRqPB8+fPxb/VanWRz47Tu3fvHp4+fQp7e3tUqVLFaJ1Go8HWrVsxYMAAsfNQqVTmOCPnRT158gRffvkltFotPvjggyK7pvSF0J2dnVGuXDnpakCXvnHx4sWQy+WYMmVKoX6PUO7+/PNPLFiwAAAwZMgQnDx5EnG677wffvgBDg4OSEpKwqRJk8wOYHuR7y69u3fvYs6cOVCr1ejWrRsOHTok1r2Ijo7GiRMnsGzZMqM+A3O0Wq3RPYNSqczxHuJ1du/ePdy8edPk3i6/9MHihg0bomzZstLVOVIoFLCzswPyuD8rW7YsnJ2dAQDR0dHicv0sXk9PT5OBLunp6Zg2bRrmzp0rBtLu3r1boBm4RET0+pAJOQ17+g8xlyLLf/hwjBjub9QOANZv3IAN+Si0l5PvFn0LH29v6eKX7sCBAxgzZgwAoFKlSti+fbtJgTLoblb8/f3F0XFNmzbFwoULUbNmTWi1WrE2x7p168QfFdOnT8+xWBp0xQrfe+89CIIALy8vbNmyJccfIVKJiYno37+/GLhYvXo1unbtKm1WLM87P+bvmo//2/5/0sX54lPFB7GPY5GqLPhNl7OtM1pVb4X9V19sZpN3FW9E3nuxvKgtq7dE/NN43E1+sZFP7Wu2x7Fo86NO8+Jb3xenY08jJdN41HR+8JjxmOVXYY6Zo40j7EvZ42Fqdtq+ghrScgg2n9ksXZwvhT1mQROC8E7Td6SL8y2n75lnz57hm2++wYYN5gce6D+LMzIyMHr0aJw+fRoAULt2bSxfvhw1atSATCZDRkYGrl+/jqCgINSvX9+o/khhbd++HZMmTYK1tTU2bdqEli1bSpsYPb8BAwZg8eLFgC6Fjz5N1KhRo8SRoQMGDMCjR4+MvvcCAgIQFBRk8v2zevVqzJ8/P9fv5/xSq9X49NNPERwcjBEjRmDu3Lk5pqN49uwZxo4di+PHjxu9poLSH4NWrVphzZo1+Qra6O8NFAqF2WOenJyM9957DxERESavQ3pvMHbsWEyfPt1oFLt+/wCwdu1adOrUSVxnqc6cOYNhw4ZBpVJhyZIlYuoQPf15ksvl+Pnnn9GzZ0+j9bmJj4/HkCFDEBcXh3bt2mHFihW5zjgypP9syO361r83zF2Hhu8xV1dXrF692ih9k1qtxkcffYQ9e/agXbt2WLVqldiBlpfiOmaG78NatWphy5YtJoWO//jjD3z++edwc3PDX3/9hapVqxqtN7R3715MnDgRarUavXv3xqJFi/L1Piso/Weh9Fw9e/YMX3zxhRis7t27N06ePImkpCSTz7PCEAQB33//PZYuXYqWLVvit99+g6OjY46fv/mVlpYGf39/hIeHo0+fPvjhhx9MZr2o1Wp88skn2LVrF/z8/LBgwQIoFAqjz5uCvFb9NS09lpZM/163tbXF1q1bTYLgeoafJ0OGDMGXX35pcj7Cw8MxZMgQZGZmYtKkSZg0aZK4rrDfXYcPH8Z7772X5/PMiyAIWL16Nb766isAwPjx4zFlyhST11JcDK/NFzkO+aU/Xm5ubvjuu++we/duHDx4UOxL0dcT+vjjj+Hj42N0z2F4rj7++GNUr14d69atw+XLl8UgROXKleHv74/hw4ebZIX49ttv8fPPP6NChQrYunWr2ewP5t6jht8L0mMTHR2NcePGISYmBra2tujduzcCAwMLfT0QEdGry2JmhhRm1kbAtKnS3WHDxo1mZ3CMGO4P/xfscHlVAiEFUa9ePaMcpBcuXEC3bt1QvXp1eHl5oVOnTvj999/FgEJe1Go1AgMDxSBFnz598h0IKYiift5ERFR4sbGx8PPzEwMhcrkcAQEBZtMVSKWnp+P58+fij2p7e3s0a9YMX3/9dZEGQqCb0eDp6QmVSoX58+ebjBCPj4/H119/LQZqzKlQoQJGjhwJmUwGGxsbWFtbAwBGjx6d5/eevuM2OTnZKG3Yi9DnyLa2tkb//v1zDIRAVxy+VKlSAIA7d+7g6dOn0ibFwvDeoGvXrmbrEri4uMDX1xfQdYrlNFpzyJAhJoEQAGjUqBFq1qwJQRDE1GWWztPTUyz0LB2tn5SUhL///hvQdWR369bNaH1eDh06hLi4OFhbWyMgICDfgZCiZGtrizVr1phcLwqFAt66+221Wp1juitziuuYKRQK9O3bF9B1vElr5iiVSjEFnK+vr8ksDKkePXogIiICFy9exLJly4olEAIzxwAGn+P6zsJVq1ZhwYIF8PLykjYtNH3hcmtra0yZMqVIrjNBELBp0yaEh4fnWLcQuoDT7t27UaFCBUycONFsGyoap0+fRlxcHJycnMSguFTDhg3FAXChoaFGKe4K+92lUCggk8mgVCoRGxtboM8MQzKZDGPHjkVkZCQiIyMxY8YMs6/ldac/vg8fPsTw4cPxxx9/4NGjR3Bzc0OFChWgVqtzTDmoUqmQlpYGAPjpp5/w6aefIjw8HPb29nB3d4ednR3u37+PBQsW4J133jFJddijRw/Y2toiMTERCxYsEGcgQ/fevnnzJmbOnGmS8SErK8uknpEgCAgODkafPn0QExMDb29vhISEwN/fP8eZeUREZBksJhgC3QyPwjykckpp9SIBkdcxEALdNNPvvvvOZPTai7p27ZqYr9vNzS3H6cqFVdTPm4iIXpxWq8X27dvRq1cvMSWUu7s7tm3bhtGjR5vNwW5vb280Gu/Bgwfo2bMnevXqhT/++AP37t174Q6LvLi7u4udGJGRkejcuTN8fHzEPP5t2rTBpk2bpJsZqV69utipqmdrayt20uambdu2qFChAjIzMzFo0CAEBATg+vXr0Gg00qZ52rNnD1JTU9GjR488/+/SpUuLHbZnz55Fly5dsGLFCjx+/FjatEilpqaKdVe8vb1z7DyqU6cOoOugldZR0XvzzTfNbm+Y5ufhwxebqWVJDGs79O7d2+wxy4kgCGIgsHHjxuJ5edlcXFxQqVIl6WJAlx42Li4OW7ZsKbJAQWGOGXSpX728vMQOOMPPr9u3byM8PBwymQy+vr65Bi317O3t4eLikq+2RUGr1SIkJET8HK9fvz52794t1iI09zleGIaFy8ePH5+voHl+7N27V0xDmFNB9Pj4ePzwww8QBAGfffaZ2dHnVHTCw8MB3WC2nAKBCoUCbdq0AXQj/w1TwxX2u6tBgwbw9vaGIAj4+OOP8d577+HcuXPiTIWCcnJyMknDZEkMg6TdunXD3r17cfPmTZw6dQpnzpzB+fPn0aNHDwDAokWLjGoaZWVliefFwcEBCxcuxKVLlxAREYGTJ0/i0qVLWLlyJWxtbREVFYUFCxYYnYeGDRti8uTJgO693KxZMzRt2hRt2rRBrVq10K1bN4SEhIjtc6JUKjF//nx89NFHyMzMhL+/P/78809UqVIFcrn8pX2uEhFRySjau1YLk1te0IIERF7XQIiet7e3OB3fsPitnZ0d/Pz88MMPP8DW1lZcbjgjw5AgCPjrr7+QmZkJ5HPkW2EU1fMmIqLCefjwIb7++mvx879Hjx7Ys2cPfHx8TEbr6WdQAMD7779v0oF/9epVfP7552jfvj1at26NrVu35ruQeEH06NEDYWFhePfdd2FnZ4eUlBTEx8fD2toab731FtatWyd2ztWoUUO6eaF4enpi1apVcHd3h1arFeur1KlTB1OmTMHNmzfzFQh6/PgxgoODIZPJ4Ofnl6/O2759++KLL76AXC5HUlISFixYgObNm6NVq1ZYsWJFsdTbUKvVYpHSpUuXok2bNmYfAQEBgG6WUE7BkJyULl1aHCCRW67xF5GRkYHBgwfD09Mzx0dxFm6Pj4/HqlWrMHbsWKPj9dZbb5mMjtV79OgRlEolbG1tje6R8uPZs2diQCm3Iravspd9zACgXLly6NOnD6BL52pY9+DUqVNITU2Fj48PfHx8DLYqWfoaGUqlEl9++SXGjh2LzMxMcWZI9erVAV29J3OzSApDX7i8du3aeO+994qkc/L8+fOYPn06tFotOnXqhMmTJ5vsVxAE/Prrr4iJicGbb76Z71Ror5IDBw6YfAYZPgYPHvxKFYbWzxTQF77OiT61WEpKikmgozDfXS4uLvj555/F+40jR47Az88PtWvXxqhRo3D+/PkXGoxg6SpVqoSvvvoKdevWhZWVlbi8bNmymDlzJtzc3KBSqbBjxw6j7fQ+/PBDDB482GjGl5WVFbp3745x48YBAMLCwhCnK5oOg9k3ISEh6NKlCxQKBZKSkhAfH4+yZcti6NCh2LhxI9zc3ADdwBRI7gHu3LmDQYMG4bfffoNCocDixYsxb948cVbukydPxPtVIiKyUIKF2Ld/nzBshH+hHl27+xo9wiMipP+NiXUb1ptsV9B9lISQkBDBw8ND8PDwENq0aSMkJCRIm+Tbnj17xH3VqVNHCA8PlzYRBEEQ7ty5I7Rq1Urw8PAQatasKZw/f17aJE8JCQlCmzZtxP8vJCRE2iTf8vu8iYio4MLCwgRPT0/xc9bDw0OoXr268NtvvwlqtVpsd/PmTcHHx0dsc+jQIaP9ZGZmCoGBgULnzp2N9mX4GDFihJCammq0XXF79OiR0KFDB8HDw0PYs2ePuPyXX34RPDw8hEGDBgnp6emCYPDdVbduXSEyMlJsO3nyZMHDw0P45ZdfxGWGMjMzhe3btwt9+vQxec0BAQFCRkaGdBMjO3bsEDw8PIR+/foV+PgkJCQI3377rdCyZUuj/9fLy0sIDAwUtFqtdBORuWOQG+l3e14PHx8f4ebNm2a3z+2+QH+8P/7441yff0Glp6cLgwYNMnmeho/cnteLUqlUwk8//WTyf5l7SK8x/X2g9JrMD8PXO3nyZOnqPOn/79zuP/Xnytz+9ddXbtvnpKSOmd7169eFRo0aCR4eHsKmTZsEQXI8165dK92kRBn+XvDQvf+3bNli9BkuCIJw+/ZtoXnz5oJHEV3rN27cEJo0aSJUr15d2L9/v3T1C12D586dE4/90KFDc/xMPHr0qFC9enWhUaNGwuXLl6WrjT5vpNdIbvTX9ItctwUlPW/SR34/mwsrv++Z3N7vhvKzv8J8d6nVauHgwYPC8OHDherVqxttP3ToUCExMVG6ySvF8NrM61gWxqZNmwSPPK5llUoljB8/Xjx2+vuVJ0+eCF27dhU88nj/nDlzRvDy8hI8zNwX5uXq1atC/fr1TX7f668z/aNLly7CtWvXjLYVBEHYtm1bnq+PiIhebxYzM8S3my82rlv/Qo/Fi741SYeV39kcuc0Qye8+XmeCIODEiRPi31WrVs2x4GNoaKg4klCfaqSkFOR5ExFRwVWrVs2oNoa7uzs2b96M0aNHG40gvHbtmph/ukyZMiYzBm1sbDBgwACEhobi0qVL+Pnnn01GTh85cgSHDx82Wlbcrly5grt376J8+fLF9n1mY2ODfv36YceOHbh69SqWLl0q5uUPDAzEr7/+Kt1EpFQq8ddffwEA3n777QLn2q9QoQKmTJmC06dP4+TJk5g0aRJsbGygVqsxY8YMo7QXRWn69OmIi4vL9REeHo6aNWtKN82V4WwGGxsbk9HghWFvb48tW7aYPE/Dhz7XfVEKDg4Wi8AOHz4cp0+fRmxsrPh/njlzJsc0UvpjoFQqCzzLRqFQiCNoi3qWTXErqWOm5+HhgcaNGwO6FC9KpRK3bt1CZGQkypQpg3bt2kk3KVGVK1cWR+p7eHggKCgIgwYNMvoMh26k9ePHj2Fvb/9Cs2ak7ty5g6SkJGi1WowdO9ZkZkODBg3EVG1BQUHicv3sMaljx45h1KhRSE1NRadOnbBixYocPxMvX74MrVaL1NRU9O7d2+T/btmypTh7aOHCheLy5cuXS3dVYrp27WryGWT4KMr0cUXp3r17uc5YSUxMBHQzOXLK4FCY7y4rKyt06dIFGzZsQFRUFDZs2IAmTZoAAI4fP4558+a9cOosS6KfoZOcnGzSh6Jn+D1hWLvJcIZGdHS00TaGDGutFfSYnzlzBhkZGahduzY8DVLc1atXT/x37969ERQUhLp164rL9PRp26pXr25SwJ2IiCyDxQRDXlRCQgK+Xfyd0TL/4cMLFMQwDIjob8z+C4EQ6AqTb9++Xfy7d+/eZut0pKWlYdu2bYBueuvQoUNLtDBZfp83ERG9mIoVK6Jhw4bi302bNkWzZs2M2qSlpYnF1KFLbygNhhhydHRE7969sX37dixcuNBonWHKmeKWlpaGX3/9FYIgoHXr1jl2nhYlOzs79OnTB7t27RILN588eTLHjqOrV6/i5MmTcHNzQ5cuXaSrC8Td3R2TJk3Czp074erqCpVKlWvxeL34+Ph8pZpwcHAQU1nExMTkKwVYQT1+/BhRUVGAbkDG6y4rK0tMPdKxY0fMmjULFStWzHeQRx+sFAQBJ0+elK7OVenSpcUA4OXLl3PsDMvLs2fPkJqaKl2M+/fv4/z589LFhVaSx0zPxsYGAwcOBHS1DW7evImDBw8iMzMTHTp0MOq4y0tGRgaSk5OL5f2iV6VKFTGNbKdOnUzSFkI3wGj//v0QBAG1atXK9TM8PT0da9aswU8//SR2bBe3Y8eO4YMPPhADIcuWLcsxEEIlQ39vcOvWLaOC2IbUarX4vqtTpw6cnZ2lTUy86HcXdJ35HTp0QGBgIMaOHQvo0qxJi3Cbk5qaavaz7VVWkPemp6cnypQpg8zMTJMC53qGKVDd3NzEwIi9vb0YlLhz506O9zApKSlQKpWwsbExqb+Wm/v37+P3338HAHTp0sXoOmnatCmsra0hk8kwaNAglClTxmDLbI8fP0ZYWBgAoEWLFuLzJiIiy/KfD4Z8u/g7RERGin/7eHtjxHB/ozb5YRgQsfRASFZWFm7cuIE5c+Zg8ODB4s1ehQoV0L9/f2lzAMDhw4fFURY+Pj4lMvLtRZ43ERG9mNKlS+Odd94R/961axemT58u5vm+e/cuJk+ejDNnzohtBg4cKAbKMzIy8Omnn2Lp0qW4ceOG0Q/m9PR0xBnkkIak1khxevbsGb744gscP34cTk5OGD9+fL5qcRQVGxubPEdeC4KA7du3Q6VSFWl9LldXV5QtW1a62IQ+sBEfH487d+5IV5uws7ODr68vAGD//v2INLgvKwqCIGDnzp149OgRPD090apVK2mT145arRYLCLu4uKB06dJG6zUaDQ4dOpRjsfhKlSqhdevWAIANGzYgIiJC2iRXb775JqytrfHo0SMsX768QCN3y5cvDxsbG6SkpJh0pKWlpWHatGkm7++iUNLHTK9Nmzbw8vJCZmYmDh8+jMOHDxeorg90s0p8fHzQpEkTfP755wU6/gXh6OiI7t27A7oaHubem5GRkeIAo9xmoWVkZGDChAmYN28evv/+ewwZMiTHOiN5zWy4cuWK+D4eMGCAuFw/60fPMBDSq1evfAVCJkyYYPL/GT4MZw8ZzmSbMGGCdFeUT82aNYOTkxMePXqEv/76y2yA78KFC9i7dy8A4J133jF5/+Ymv99d5lhZWYnfaXkRBAGrVq2Ct7c3vL29sWLFCrOv5VVTkPcmdEFSfWA0ODjY7OdPVFQUTp06Bejez4ZB586dO0MmkyE8PBxXrlwx2CqbWq1GcHAwBEFA3bp1812X7dGjR/j0008RFxcHLy8vDB482Gh9nTp10LRpUwi6ukD6WjV6giAgMDAQMTExcHJyei3rBRERUf78p4Mh3y5ebBII+W7Rt0ZtCmLEcH9sXLf+lQuEJCYmom3btkZTvMeMGSOuf/DgAVq2bCmua9u2rdGIkOXLlxttW6dOHXTv3h1r164Vb37kcjnmzp1rdkSbYaoO5PFDSSogIMDo/zacmg4AY8aMMVpvWKC0sM+biIgKp0uXLujQoYP4d1BQEJo3bw5PT0906NABISEh4rohQ4aY/PB88OABFi9ejO7du6NBgwbi53mjRo2MUpI4OTkV62h/tVqN2NhY/Pzzz2jfvj22bdsGuVyOhQsXokGDBtLmhRYUFIRt27bh/v37RimIMjIyEBQUhC1btgC6TlVzqU7u3buH/fv3w9raGv3798/3yPfU1FQsX74cx44dw5MnT8SCsYIgICEhAd9//z1u3rwJa2vrXAMKDRo0EAunzpo1C1evXs2z+Kyvry+8vLyQmpqKd999F5s3bzYqeJuamoojR45g4sSJOHr0qNG2huLi4ow6ZtRqNdasWYPvvsueBTx27FixKPTrzM7OTkzveejQIRw5cgQajQZqtRrnzp3DO++8IxaKNkehUGDMmDFwcnJCamoqhg0bhi1btoidQxqNBrdv38aXX36JY8eOSTeHt7c3/Pz8AACbN2/GhAkTcP36dfE8Z2RkICQkBHPnzjUZ+atPTSoIAhYsWIDY2FgIgoDr169j8ODBOH78eL6v2YIo6WOmV65cOfFz8ccff0RERARq1qyJRo0aSZua9ezZM2zYsEG8zv/880+x07E49O/fX3xvjh8/HkePHoVarYZarcbRo0cxfvx4pKamol27dkYBcKlbt27h3Llz4t8xMTFmO0KLimEgpGPHjpg6dSoyMzORmJho8nj8+LHZDt0XlZWVZfJ/6GfJaTQaPHnyRFxu+Fn7X1W7dm0MGDAAALB06VL83//9nzhwIisrC0FBQRg5ciRUKhU6dOhgMtuxsN9dhw8fxh9//IHY2Fijz6usrCwcOXIES5cuBXRBm9wyCTx58sRotuuKFSsQExNj1KYopaamGl1jhq9deq3nNlOloO9NGxsb+Pv7Qy6XY9euXVi6dCmUSqW4/vr165g0aRIyMzPRrl07vPHGG0bbN2/eHO3bt4dKpcKUKVNw/fp1cZ1SqcTPP/+MLVu2QC6XY9y4cbn2G+gHO86dOxcdOnTAmTNn4OTkhO+//97ku97e3h5jxoyBXC7H8ePHMXnyZMTFxUEQBKSlpWH58uVYtGgRAOCDDz5A7dq1jbYnIiLLIRNeh+EKxSQhIQEB06YiISEBFStWxMZ166VNLEJiYiL69+9vFETITaVKlbB9+3YxH+jy5ctN0pEY8vDwwKJFi8zeXEI3kmfw4MFQqVRwc3PDX3/9le/6HAEBAQgKCpIuztHq1avFvNyFfd5ERFR48fHxGDdunNkRxXq9evXCwoULjX7wZmRkYPTo0XmmtFAoFFi2bBl69OghXVUouX2H5Pb9od+uVatWWLNmDezt7cXv4eTkZGzdulXs9NR/x02fPt1oVHF+vvvMHTO9JUuWYMmSJejYsSN+/fXXfKelzM/9glwux+zZszFixIgcO6wFQcDKlSuxYMEC6SoAgK2trdFx0Lt69Sref//9XEekAsDatWuNOlfMPe8KFSpALpcjMTFR7NyeMWMGxo4da1Lv4HUVEREBf3//HDu5mjZtCisrK5w9e9bkGtMLDQ3Fhx9+mGs6M8N7K0NpaWmYPn06du/eLV0lMnwfGNq0aRNmzpxptEzPz88P7u7uWLp0KQYMGGAy2l//HpPer+ZHSR8zPcN7YwCYNGkSJk2aJG1mVlZWFsaPH49Dhw4BullxW7ZsQdOmTaVNi0xkZCTee++9HFME1a5dG7///nuus9bu3r2LgQMHijNvCvO8Db8fzF0jyOfnqF5On0nmGH7e5HSNHDhwwGjgWW5e5Dp+FeX3Oxs5HO/8fJ60a9cOS5YsMUmbZO47QCq3767cvu/1vL29sXLlSpMOdkNJSUkYPHgwbt68CejSQxXkd29BFeQaz+l9ghd8b6rVaixbtgxLliwBdMe3QoUKyMzMFGsqNW3aFD///LPZYxYdHY3Ro0eLs0ednZ1ha2srfmcrFArMnj0bw4cPNzlfub1uHx8fLFmyJMfZPIIgYPXq1fjqq6+kq0TDhg3D3Llz8z1Tj4iIXj//6ZkhFStWxGJdSqupAVOkqykHcrkcVapUwYABAxAUFITQ0FCzHUKQpOqAbuRnUaXrKKiCPG8iIioa7u7u2Lp1KxYvXoy6detCLs++9VAoFOjYsSPWrFmDpUuXmnTq29vbY8mSJZg5cyYaN25slLdZLpejbt26mDlzJs6ePVvkgRAp/ffH0KFDsX379mL//mjZsiUaN25sMgLVzs4u12MGXb7r4OBgQJJ2LD9sbGzQo0cP1KhRwyRPdsWKFTF06FAcOHAAI0eONOmcMCSTyTBu3Dhs3boVLVq0yHeHQv369RESEoKZM2caXSvQBaD0HcCdOnUy2s6Q/vUmJibi4cOHcHFxwdChQxEaGorx48dbTCAEuk6foKAgdOnSRTzGcrkczZs3x5o1a/DXX3+hWrVq0s2MdOnSRZxx4+HhIS5XKBRo3LgxfvzxR7Rv395oGz1HR0csXboUa9asQceOHY2uGf318s0335gEQgBg6NChWL58uVH6kxo1amDZsmVYuHBhvuoBvIiSPmZ69evXF2ezubq6olevXtImOSpdujSmTp0KDw8PyOVyfPLJJ2ZreRQlb29vcRaIYbqhypUrY86cOdixY0eugRDoZgQtWLAArq6usLGxwezZs8Xi1ESGnyfNmzcXP//lcjl8fHzwyy+/YN26dSaBEBTBd1e9evXQrl07k4CU4Xt669atZjv1Dbm6umLmzJlwcHCAjY0Npk2bVmK/ewviRd6bCoUCn3zyCbZu3YqOHTtCLpfj4cOHSEtLE89XbsesZs2a2L17Nz755BNUrlwZKSkp4ne2v78/Dh06BH9/f7Pny5BCoUCNGjXE+4Pt27fnGAiB7v5k7NixCAkJMfs9sHXrVsyfPz/f9y1ERPR6+k/PDNHTzwyhohcXF4dBgwYhMTERTk5O+Ouvv1CnTh1pMyIiIioCwcHB+Oijj9C4cWNs2LDBbMDE0hiOCs5rRD7RqyA5ORnvvfceIiIiMGrUKHzxxRd5dvoREREREVHh/adnhugxEFJ8tm/fjkRd/ZFOnTrBy8tL2oSIiIiKgGGNroLU5yKil0etVmPRokWIiIhAtWrV8P777zMQQkRERET0klhcMCQhIQFTpk3FlGlT8W0OeTGLkuH/N2XaVOnq/zTDVB0ymQx+fn6cckpERFRMrl69ipMnT8LNzc2kwCwRlSxBEBAXF4cPP/wQmzdvhlwux2efffZapNEhIiIiIrIUFpcmKyIyUgxKvIyi6AkJCRg+coT498Z16znThIiIiOglYZosepVdunQJgwYNMiq4rlAosHDhQrzzzjucFUJERERE9BJZ3MyQksZACBERERERSZUtWxb+/v4ICwvDgAEDGAghIiIiInrJLG5miHSmxsv0MmaiEBERERERERERERFRwVjczJCKFSuW2OwM327dpIuIiIiIiIiIiIiIiKiEWVwwBACmBkwpkYDIiOH+0kVERERERERERERERFTCLC5Nll5CQgL2hexHZGSkuKxiRTejNkVpakCAdBEREREREREREREREb0CLDYYQkREREREREREREREBEtNk0VERERERERERERERKTHYAgREREREREREREREVk0BkOIiIiIiIiIiIiIiMiiMRhCREREREREREREREQWjcEQIiIiIiIiIiIiIiKyaAyGEBERERERERERERGRRWMwhIiIiIiIiIiIiIiILJpMEARBupAsR0ZGBkaPHo3Tp09LV+XI1tYWW7duRaNGjaSrSoxSqcRvv/2Gf/75B5999hk6d+4sbVKsoqOj4efnh6dPnwIAPvzwQ0ydOlXajOiFxcfH45dffsHu3bvx5MkTAEDt2rUxbtw49O7dGzY2NtJNCm358uVYuHChdLGR3D4PBEFAREQEfvrpJxw9ehRqtRoAULZsWfTq1Qv/+9//ULVqVelmIo1Gg/3792PFihW4dOkStFot7Ozs0KtXL3zwwQeoUaOGdBMjJXHMiIiIiIiIiIjo9cSZIfRaSE1NxaZNmxAVFQWNRiNdXezOnDkjBkIAICwsDCkpKUZtiF5UaGgounTpgg0bNoid+gAQFRWFgIAAjBs3DmlpaUbblDS1Wo1Zs2ahf//+CA0NFQMhAPDkyRNs2LABnTt3xt69e42200tLS8NHH32ECRMmICIiAlqtFgDw7NkzBAYGwtfXN8dt8ZoeMyIiIiIiIiIiKjkMhlg4e3t7bNmyBXFxcUaP6dOnAwAqVaqEM2fOGK27du2a2VHg/1VqtRphYWEAAC8vL8hkMly9ehVRUVHSpkQFduXKFUyaNAmZmZlo2bIlQkJCEBsbi0uXLmHatGmQy+U4cuQIvv76a6OAQ1Fq1aoVrly5YvI5kdvnwZYtW7Bp0ybY2trim2++waVLlxAXF4fo6Gjs3LkT9evXh1qtxpw5c3D37l2jbdVqNRYsWIDdu3dDoVBg7ty5uHr1KmJiYrB7925x22nTpiEiIsJoW7wix4yIiIiIiIiIiF4vDIYQ5eHBgwc4d+4cFAoFJk+ejBo1akCtVuP48ePSpkQFolarsWLFCqSmpsLHxwcrV65ErVq1IJPJ4OjoiAkTJmDatGkAgMDAQERGRkp3USIyMjKwY8cOAMDo0aMxZMgQODo6AgAUCgUaNmyIhQsXwtbWFg8fPkRMTIzR9pGRkdi6dSsA4Ntvv8XIkSNhZ2cHKysr1K9fH6tWrYKnpydSU1OxevVqo4DG63rMiIiIiIiIiIioZDEYQvkmCALOnDkDPz8/1KhRA56enqhZsyZGjx6NmzdvSpubuHXrFqZMmQIfHx94enqKj5YtW2LixIlITU0V22ZkZGDw4MFGbR48eAAAGDNmjNH2+kdAQIDB/1Z0Lly4gEePHqF69epo3bo12rVrBwA4fPhwvtLwKJVKBAUFoUePHkbHbeDAgQgNDc0z7Ze549aqVSvMnz8fiYmJ0uZYvnw5PD09MXjwYGRkZEhXGx3b5cuX57nu5s2bGD16NGrWrAlPT080a9YMK1euhFKpNNoWumvk3r17+OGHH9CzZ09xm7yes1RBjtndu3fRunVreHp64osvvkBuZZC+/fZbeHp6onXr1iazFQwdPnwYDRs2RN26dbF//37p6iITExODI0eOALrr2sXFxWi9TCaDn58fvLy8oFKpxABEScvIyBCPn4ODg3Q1AMDZ2VlcZxjMEAQB27dvh0qlQuPGjdG1a1eDrbJVrlwZo0aNAnQp6eLi4sR1r+sxIyIiIiIiIiKiksVgCOWLUqnEzJkzMWjQIJw7dw6Ojo5wc3ODVqtFaGgounXrhlWrVpntiBYEAatWrUKXLl0QGBhoUmsjMTERFy5cMNu5XtLUajX27dsHAGjXrh3Kli2LDh06ALpUPXkFga5evYru3bsjICAA169fF+siqNVqnD17Fh9++CGuXr0q3QwwSCVk7rglJCRg9erVeRa/Lgy1Wo2lS5eiW7duRjUhnjx5gm+++QZz5841SUH06NEjDBo0CD/++COuXbtmtF7/nHv06JHraP2CHjN3d3e0aNECAHDw4EEkJCSI6wylpKSI6c58fX1RpUoVaRMAQFJSEr766iukp6dDqVTiiy++yDVwUhjnz59HamoqKleuLL4GQxqNBsHBwbh9+zagu+bMBbhettKlS6NcuXIAgJMnT5p97+MZYNUAABUeSURBVMbGxuLx48dQKBRwdnYWlycnJ+PkyZMAgO7du4szSgzdu3cP//zzDwDg6dOniI6OFte9rseMiIiIiIiIiIhKFoMhlCdBEPDzzz/jjz/+gJOTE9avX4/w8HCcOnUKV69exSeffAIA+Oabb3Ds2DHp5rh48SIWLVoEABg+fDhOnz6N2NhYxMXF4caNGzh06BDmzp0Le3t7cRtprZMzZ86gUqVKAIDVq1eb1DWIi4vD4sWLxe2Lij5FlkwmQ+fOnQEAjRo1QuXKlaFSqXD06FHpJqL79+/jgw8+wO3bt03qKty4cQN79uzBwIEDoVAopJtCEASsXr0aK1asAACxEHVMTAxiY2Nx/vx5fPfdd+IxKQ6rV6/G4sWL4eHhgfXr1yM6OhpXr17Fe++9B+SQgkgul6NWrVr48ssvcejQIURHR4uv9+uvv4ZcLkdSUhKWLVuGrKwso23xgsdMoVDAz88PMpkM9+/fx9mzZ432qXfp0iVcunQJMpkMvr6+kMlk0iYAAK1Wa/TclEql2edaFPT1MDw9PeHk5GS0Lj09HdOmTTMKOt29e9doBlVJcXZ2RpcuXQAAR48exeLFi40CX3FxcZg9ezYEQUCbNm1Qv359cV1CQoI4y6tevXricuiu+7CwMPTt2xcXLlwQlxum2XpdjxkREREREREREZUsBkMoT1FRUVi3bh0AYO7cuejYsaPYkWxjY4OPPvoIvXv3hlarxapVq0xGiV+4cAEqlQqVKlXCxx9/jIoVK4rbly5dGtWrV0e3bt2MgiGvCn2KrEqVKqFOnToAgHLlyqFp06aAblS8uVHnarUaP/30E+Li4uDk5IQ///zTqK5C6dKlUa9ePcybN8+kQxgALl++jB9//BEAMGTIEKxatQp169aFlZUVZDIZypYtCz8/v2JLDQbdTIoOHTrgn3/+QceOHaFQKGBnZ4fRo0ejfPnyUKlURh3W0B2bdevWwd/fH9WrVxeDFqVLl8aQIUPw4YcfAroAmXQGR2GOWdOmTeHj4wMA+Pvvv80GLw4cOABBEODj4yO2Nads2bLw9/cX/3733Xfh6elp1KYoqNVqsZPezc0NdnZ24rro6Gj069cPQUFBsLW1hZ+fH6A7J48fPxbbFZXTp0+jQYMGYkqztm3b4vPPP8fNmzfNzvYCgPfffx+dOnUCAKxatQoDBgzAjRs3EBYWhnfeeQdxcXGoVq0aZs+ebfTeTk9PR1ZWFmxtbVG2bFlxuVqtxrJly+Dv74+kpCS0b98etWvXBnSp4vRtXpVjRkRERERERERErxcGQyhPe/bsQWpqKry9vcXR4IYUCgX69OkDALh27ZpJTQh9h2VycjLu3LljtO5VZpgiq02bNqhYsSKge72+vr6ArhC0vqPWUFxcnLjt6NGjc+18NycoKAiZmZlwc3PDBx98YHb2SHFr2bIlfvnlF5QpU8ZoedmyZVGjRg0AgEqlMlqXG5lMJh6H9PR0k3RphTlmjo6O6N69O6BLoxRnUGMCAB4/fiymyHr77bfNpmbSk8lkGDt2LCIjIxEZGYkZM2YUy/HPyspCUlKS0TJBEBAcHIw+ffogJiYG3t7eCAkJgb+/P2xsbIzaFqcHDx7gjz/+QLdu3TBr1iyTdGjQHfOVK1fif//7H6CbsdG9e3cxmNG9e3cEBQWhZs2aRtulpKSY7O/Ro0eYMGECFi9eDLlcji+++AJr1641CXq9yseMiIiIiIiIiIhebQyGUK6ysrLEtDS1atUyyv1vqHLlyrC1tUVycrLJiP+2bduiQoUKyMzMxKBBg8RaEHkVDi9p+hRZ0NU2MEyr5OPjg/LlyyMzM9NsarDo6Gg8ffoUNjY2Ynqt/MrIyMCVK1cAAK1atcqxtkVxq1q1qtmggWEKswkTJkhXv7DCHDMA6NKlC5ycnJCamorQ0FCjdVeuXMGtW7dQpkwZtGvXzmhdTpycnEzSMBUnpVKJ+fPn46OPPkJmZib8/f3x559/okqVKpDL5Tmm9SqMCRMmmKSbu3LlClatWiWmttq0aRN+//136aaALjBYuXJls0XUo6OjzQYKpSIiItC3b1+EhITA3d0dmzdvxujRo6FQKPIMQpXEMSMiIiIiIiIiotcTgyGUK7VajWfPngEA/vnnH7Rp08bsY+TIkcjMzIRarTYZ8e/p6YlVq1bB3d0dWq0WQUFB6NGjB+rUqYMpU6bkmoqnJOlTZLm5uaFu3bpG6ypVqoTmzZsDAA4fPmySKis2NhYA4OrqCnd3d6N1ecnIyMD9+/cBAHXr1n3tOnQ1Gg3Cw8PxzTffoH///kbXSW5pvQpzzADAy8tLTNu0b98+pKWlAbqZAwcPHoQgCOjQoUOxpLx6EaVLl4arqysA4M6dOxg0aBB+++03KBQKLF68GPPmzRNnVT158gSZmZmSPRQPe3t7dOvWDVu2bEHLli0BAFu3bjWZkfH06VOMGjUKs2fPhlKpxPTp03Hu3DksXLgQDg4OiImJwZAhQ7Bu3Tqj97ezszMUCgUEQcCqVavw9ttvIz4+Hu3atcOOHTvQqlUrAMCzZ8/w8OFDg//x1T1mRERERERERET06mMwhPJNrVYjPj7e7EPfUSqTycympvHx8cGhQ4fw448/wtvbG9DtLzAwEN26dcPUqVPFoMurwDBFVt26daFQKJCYmCg+kpKS0LBhQyCXVFn/RY8ePcKIESPQv39/rFy5EuHh4UbXiTRQVpQMC6lHRESIM5oSEhJw8OBByGQy+Pn55Tnb4GXR12ABgLNnzyIyMhJeXl7YuXMnBgwYYBQEe/r0KQDAxcVFTNdW3BwdHdG/f38AwL1798QAHXTvj5kzZyIsLAyenp44cOAAJkyYgHLlymHw4ME4duwYevToAa1Wi7lz5xrNnrKxsYG1tTWUSiV27NgBrVaLTz/9FL/99hvKly8vtlOpVGJAS59q61U/ZkRERERERERE9OpiMITybcCAASYpdaSP2NhYtG/fXropoOsE7devH3bs2IGrV69i6dKl8PLyAgAEBgbi119/lW5SYuLj43Hx4kVAN/OjTZs2aNmypdHj22+/BQBkZmaaFBLXpxN79uyZWPA5vxQKhVhwWppy7FWmVqsxZ84cHD9+HLa2tli8eDGuXLlidH2sXr1aupmoMMdMr0GDBqhRowYEQcD+/fshCAIuXbqE+/fvo2bNmmjUqJF0kxJlWBOjd+/eCAoKMpmFBADh4eEAgOrVq5tNSVVc9LMwpK5duyamIgsICDCZbVOmTBnMnz8fXl5e0Gq12Llzp7jO3d1dDHo4ODjgt99+w8cff2wSRH306JFYY8jwOL3qx4yIiIiIiIiIiF5NDIZQruzt7cWOznv37pmkg3pRdnZ26NOnD3bt2oVu3boBAE6ePJmv/cdJimMXh/DwcJMUPbk5ePAglEql+HetWrWgUCjw9OlTXL582ahtXpycnMSR8BcuXHjh2RRJSUnIysqSLkZ0dDSuXbsmXVxocXFxOH78OABgxowZGDBggBjUyY/CHDO9cuXKoU+fPoDunDx48AA7duwAdB3nOXXum5OamvrCQZn8atq0KaytrSGTyTBo0CCTYvWQFH9v0aKFODPCnMTERPz0009Ys2YN0tPTpasLRBAEnDhxAgBQpUoVVK5cWVyXkJCAzMxM2NjYoFq1agZb/cvW1hblypUDdNeG/r1dpkwZ+Pj4ALrX365dO7Op4I4fP46nT5/Czc1NDJqiGI4ZERERERERERH9NzAYQnnq1asXZDIZzp49i6NHj0pXF4qNjY1RJ2tO7O3txXYRERFQq9XSJkVGrVZj//79AIDOnTvjxo0bJjNg9I/p06cDuuDJ7du3xX3UrVtXTKO1ZMkSoxRDeVEoFOjVqxegS8G1efPmAtVUqV69OqDrsH706JHRuvv37+OTTz4plk7+zMxMMfhiLi1Reno6goODpYtFhTlmhnr27AknJyc8ePAABw8exNmzZ+Hk5ISePXtKm5qlr2Xh7e0Nb29vrFixokDHvyDq1KmDpk2bQhAE/Prrr2JaKD1BEBAYGIiYmJg8X0N8fDyGDBmC77//HvPmzcOECRPyFVzMSWRkJLZv3w4A6NGjB1xcXMR1+lRjSqVSDJhIPXr0SKwD4+npKQbGFAoFevfuDZlMhmPHjuHQoUOSLbOvU33Rdl9fX1SpUkVcV5THjIiIiIiIiIiI/jsYDKE8NW/eHO3bt4dWq8WHH36IJUuWICEhQewgzsjIwPnz5/H5559j48aN0s0RFBSEbdu24f79+0YzFTIyMhAUFIQtW7YAANq0aZPjTAJ7e3u0a9cOALBr1y6znaBFJT4+HmfPngUAdOvWDaVLl5Y2EbVv3x62trZITU3F+fPnxeWOjo4YN24c5HI54uLiMHToUOzdu1d8/Wq1GteuXcMXX3xhdpbGG2+8Ib7eBQsWYNasWbh37554zJOTkxEYGIjFixdLtsyur1CmTBmkpqZi0aJFePLkCTQaDcLCwuDn54e4uDizI/ELq3z58uLMizVr1uDu3bsAgLS0NGzZsgWtW7fGP//8I9nqX4U9Znqenp5o1qwZBEHAggUL8PDhQzRr1swklVNOnjx5gg0bNoh/r1ixAjExMUZtioq9vT3GjBkDuVyO48ePY/LkyYiLi4MgCEhLS8Py5cuxaNEiAMAHH3yA2rVrS3chunLlitHzPHfuXIFr2QiCgISEBPz4448YMGAAUlNT0a5dO/zvf/8zumbq1KkjHs9vv/0Wv/zyC5KTkwHdeTp37hw++OADJCYmQi6X46233hK3BYAOHTqInymTJ09GUFAQsrKyoNFocPXqVYwdOxZxcXHw9PTEuHHjjP7vojxmRERERERERET03yETimvIM73Sli9fjoULF6JSpUrYvn07KlSoIG1iJD4+HuPGjUNkZKR0lZFZs2ZhzJgxRssCAgIQFBRktEyqV69eWLhwIRwdHaWrRPfv38ewYcNyTJM1YMAAs8GBggoODsZHH30EJycn/PXXX6hTp460iSgtLQ3+/v4IDw9H586dsWLFCjF4IggC1q9fj7lz50Kr1Uo3BXSphLZu3Wq2lkV+jrm51ywIAubNmyeOrJcKCAjAjRs3sHPnTkyfPh0TJkwQ12VkZGD06NE4ffq02X3nRhAErFy5EgsWLJCuEvXt2xfHjh1DZmam2ddd2GOmpz+HekuXLhXTZ+UlKSkJgwcPxs2bNwEAbm5u+Ouvv1C1alVp0yIhCAJWr16Nr776SrpKNGzYMMydOzfX4u8XLlzA4MGDoVKpgHw+77zem71798ZXX31lNhXViRMnMHHiRCQlJUlXieRyOWbPno0RI0aYBODu37+PUaNGISoqymi5nqurK9auXQtvb2/pqiI7ZkRERERERERE9N/BmSGUL+7u7ti6dSt+/PFHNG7c2KiDsWLFihg6dCi2b9+OUaNGGW0HAC1btkTjxo1N6jXY2dmhY8eOWLNmDZYuXZprIAQAKleujJ07d2L8+PFm0zAVBcMUWfXq1TNKz2OOo6OjOIPj4sWL4mwIAJDJZBg5ciQOHDiAoUOHGj1n/Wv/+eefUb9+fXG5odyOuYeHByZOnCim6TIkk8kwc+ZMzJ071+j/bNKkCbZu3YqJEyfmOAOnMGQyGcaOHYtly5YZjca3s7ODn58fQkNDMWvWLJNC2YYKe8z02rRpI9aZqF27Ntq2bSttkiNXV1fMnDkTDg4OsLGxwbRp0/K8DgpDf9xCQkLQpUsX8TzL5XI0b94cW7duxfz58/Ps1G/SpAlmz54NGxsbuLq6YsGCBbkGQnKifz+HhIRg2bJlZgMhANC2bVscPHgQM2bMgIeHh9E6/fV5/PhxjBw50iQQAt37eceOHZgzZ45RqryyZcti/PjxOHr0qNlACIrwmBERERERERER0X8HZ4YQkcWJi4vDoEGDkJiYiK+++grDhg2TNiHdzCZbW1sGDYiIiIiIiIiIyOJxZggRWZS0tDTMnDkTiYmJaNmyJfr27SttQjqOjo4MhBARERERERER0X8CgyFEZBH0xbeHDx+O48ePw8nJCTNnzswz/RoRERERERERERFZPqbJIqLX2oEDBzBmzBijZa6urli2bFmBaoUQERERERERERGR5eLMECKyGJUrV8Ynn3yCo0ePMhBCREREREREREREIs4MISIiIiIiIiIiIiIii8aZIUREREREREREREREZNEYDCEiIiIiIiIiIiIiIovGYAgREREREREREREREVk0BkOIiIiIiIiIiIiIiMiiMRhCREREREREREREREQWjcEQIiIiIiIiIiIiIiKyaAyGEBERERERERERERGRRWMwhIiIiIiIiIiIiIiILBqDIUREREREREREREREZNEYDCEiIiIiIiIiIiIiIovGYAgREREREREREREREVk0BkOIiIiIiIiIiIiIiMiiMRhCREREREREREREREQWjcEQIiIiIiIiIiIiIiKyaAyGEBERERERERERERGRRWMwhIiIiIiIiIiIiIiILBqDIUREREREREREREREZNEYDCEiIiIiIiIiIiIiIovGYAgREREREREREREREVk0BkOIiIiIiIiIiIiIiMiiMRhCREREREREREREREQWjcEQIiIiIiIiIiIiIiKyaAyGEBERERERERERERGRRWMwhIiIiIiIiIiIiIiILBqDIUREREREREREREREZNEYDCEiIiIiIiIiIiIiIovGYAgREREREREREREREVk0BkOIiIiIiIiIiIiIiMiiMRhCREREREREREREREQWjcEQIiIiIiIiIiIiIiKyaAyGEBERERERERERERGRRWMwhIiIiIiIiIiIiIiILBqDIUREREREREREREREZNEYDCEiIiIiIiIiIiIiIovGYAgREREREREREREREVk0BkOIiIiIiIiIiIiIiMiiMRhCREREREREREREREQWjcEQIiIiIiIiIiIiIiKyaAyGEBERERERERERERGRRWMwhIiIiIiIiIiIiIiILBqDIURERPT/7duhDQAxEANBff8NH7vw4OjBaga6hZUBAAAA0sQQAAAAAAAgTQwBAAAAAADSxBAAAAAAACBNDAEAAAAAANLEEAAAAAAAIO3b3b3HP8zMPQEAAAAAADznGQIAAAAAAKSJIQAAAAAAQJoYAgAAAAAApIkhAAAAAABAmhgCAAAAAACkiSEAAAAAAECaGAIAAAAAAKSJIQAAAAAAQNoBXJ3Shop8MssAAAAASUVORK5CYII=)\n",
        "\n",
        "\n"
      ],
      "metadata": {
        "id": "2WkJnKA2t2xQ"
      }
    },
    {
      "cell_type": "code",
      "source": [
        "test_labels=test_ds.labels\n",
        "test_loss, test_accuracy = model.evaluate(test_pca,test_labels)\n",
        "print(f\"Test Accuracy: {test_accuracy:.4f}\")"
      ],
      "metadata": {
        "id": "cnVyNdNht1RO",
        "colab": {
          "base_uri": "https://localhost:8080/"
        },
        "outputId": "aaf70931-4327-47b6-d0f0-2b8af0a89467"
      },
      "execution_count": null,
      "outputs": [
        {
          "output_type": "stream",
          "name": "stdout",
          "text": [
            "\u001b[1m19/19\u001b[0m \u001b[32m━━━━━━━━━━━━━━━━━━━━\u001b[0m\u001b[37m\u001b[0m \u001b[1m0s\u001b[0m 3ms/step - accuracy: 0.4106 - loss: 4.5349 \n",
            "Test Accuracy: 0.6017\n"
          ]
        }
      ]
    },
    {
      "cell_type": "markdown",
      "source": [
        "#plot\n",
        "train accuracy vs val accuracy"
      ],
      "metadata": {
        "id": "qSqMnRq6EzZn"
      }
    },
    {
      "cell_type": "code",
      "source": [
        "epochs=range(1,len(history.history['accuracy'])+1)"
      ],
      "metadata": {
        "id": "bLTKwt4_7aED"
      },
      "execution_count": null,
      "outputs": []
    },
    {
      "cell_type": "code",
      "execution_count": null,
      "metadata": {
        "id": "-Qen0qmMvlPP",
        "colab": {
          "base_uri": "https://localhost:8080/",
          "height": 472
        },
        "outputId": "7aa3c50a-0be1-48aa-d594-c157df052c63"
      },
      "outputs": [
        {
          "output_type": "display_data",
          "data": {
            "text/plain": [
              "<Figure size 640x480 with 1 Axes>"
            ],
            "image/png": "[encoded data removed]"
          },
          "metadata": {}
        }
      ],
      "source": [
        "plt.plot(epochs,history.history['accuracy'], label='train accuracy')\n",
        "plt.plot(epochs,history.history['val_accuracy'], label='val accuracy')\n",
        "plt.title('GoogLeNet (InceptionV3) Transfer Learning')\n",
        "plt.xlabel('Epoch')\n",
        "plt.ylabel('Accuracy')\n",
        "plt.legend()\n",
        "plt.grid(True)\n",
        "plt.show()\n"
      ]
    },
    {
      "cell_type": "code",
      "source": [],
      "metadata": {
        "id": "lGCHSZFy5wC6"
      },
      "execution_count": null,
      "outputs": []
    }
  ],
  "metadata": {
    "accelerator": "TPU",
    "colab": {
      "gpuType": "V28",
      "provenance": [],
      "machine_shape": "hm",
      "authorship_tag": "ABX9TyPjJLSgj0gk9BSqqmOmPWe9",
      "include_colab_link": true
    },
    "kernelspec": {
      "display_name": "Python 3",
      "name": "python3"
    },
    "language_info": {
      "name": "python"
    }
  },
  "nbformat": 4,
  "nbformat_minor": 0
}