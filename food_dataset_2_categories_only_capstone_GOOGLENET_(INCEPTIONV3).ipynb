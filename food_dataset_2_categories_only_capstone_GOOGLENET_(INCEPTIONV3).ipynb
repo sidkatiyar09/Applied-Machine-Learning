{
  "cells": [
    {
      "cell_type": "markdown",
      "metadata": {
        "id": "view-in-github",
        "colab_type": "text"
      },
      "source": [
        "<a href=\"https://colab.research.google.com/github/sidkatiyar09/Applied-Machine-Learning/blob/main/food_dataset_2_categories_only_capstone_GOOGLENET_(INCEPTIONV3).ipynb\" target=\"_parent\"><img src=\"https://colab.research.google.com/assets/colab-badge.svg\" alt=\"Open In Colab\"/></a>"
      ]
    },
    {
      "cell_type": "code",
      "execution_count": 28,
      "metadata": {
        "colab": {
          "base_uri": "https://localhost:8080/"
        },
        "id": "YSR8As2rv9Hv",
        "outputId": "465b8390-74e6-4e42-f11c-eb5e52a880d7"
      },
      "outputs": [
        {
          "output_type": "stream",
          "name": "stdout",
          "text": [
            "Drive already mounted at /content/drive; to attempt to forcibly remount, call drive.mount(\"/content/drive\", force_remount=True).\n"
          ]
        }
      ],
      "source": [
        "from google.colab import drive\n",
        "drive.mount('/content/drive')"
      ]
    },
    {
      "cell_type": "code",
      "source": [
        "# !pip install tensorflow\n",
        "# !pip install keras.image.ImageDataGenerator"
      ],
      "metadata": {
        "colab": {
          "base_uri": "https://localhost:8080/"
        },
        "id": "0MT-fzVoZfpy",
        "outputId": "235880ed-4280-4e66-a51d-96299835a006"
      },
      "execution_count": 18,
      "outputs": [
        {
          "output_type": "stream",
          "name": "stdout",
          "text": [
            "\u001b[31mERROR: Could not find a version that satisfies the requirement keras.image.ImageDataGenerator (from versions: none)\u001b[0m\u001b[31m\n",
            "\u001b[0m\u001b[31mERROR: No matching distribution found for keras.image.ImageDataGenerator\u001b[0m\u001b[31m\n",
            "\u001b[0m"
          ]
        }
      ]
    },
    {
      "cell_type": "code",
      "source": [
        "# GOOGLENET (INCEPTIONV3) TRAINING ON 1 MILLION IMAGES (TRANSFER LEARNING)\n",
        "\n",
        "# ============================\n",
        "# SETUP\n",
        "# ============================\n",
        "\n",
        "# !pip install tensorflow opencv-python -q\n",
        "\n",
        "import tensorflow as tf\n",
        "from tensorflow.keras.applications import InceptionV3\n",
        "from tensorflow.keras.layers import GlobalAveragePooling2D, Dense\n",
        "from tensorflow.keras.models import Model\n",
        "from tensorflow.keras.preprocessing import image_dataset_from_directory\n",
        "import matplotlib.pyplot as plt\n",
        "from keras import layers\n",
        "\n",
        "# ============================\n",
        "# DATASET CONFIGURATION\n",
        "# ============================\n",
        "\n",
        "# Adjust path to your root image folder\n",
        "DATA_DIR = \"/content/drive/MyDrive/Capstone project 2/food_subset_shared_final\"\n",
        "BATCH_SIZE = 64\n",
        "IMG_SIZE = (299, 299)  # Required input size for InceptionV3\n",
        "\n",
        "train_ds = image_dataset_from_directory(\n",
        "    DATA_DIR + \"/train\",\n",
        "    shuffle=True,\n",
        "    batch_size=BATCH_SIZE,\n",
        "    image_size=IMG_SIZE,\n",
        "    validation_split=None  # Assuming already pre-split\n",
        ")\n",
        "\n",
        "\n"
      ],
      "metadata": {
        "colab": {
          "base_uri": "https://localhost:8080/"
        },
        "id": "9UgQYzj8Vvag",
        "outputId": "a724c249-e021-4ac3-f73c-778c60ea5bd8"
      },
      "execution_count": 43,
      "outputs": [
        {
          "output_type": "stream",
          "name": "stdout",
          "text": [
            "Found 600 files belonging to 2 classes.\n"
          ]
        }
      ]
    },
    {
      "cell_type": "code",
      "source": [
        "\n",
        "class_names = train_ds.class_names\n",
        "class_names"
      ],
      "metadata": {
        "colab": {
          "base_uri": "https://localhost:8080/"
        },
        "id": "NYnVXpVpWLbu",
        "outputId": "3b7bcdc4-514e-4f91-ec1e-1ced5ce66c56"
      },
      "execution_count": 29,
      "outputs": [
        {
          "output_type": "execute_result",
          "data": {
            "text/plain": [
              "['dessert', 'main_course']"
            ]
          },
          "metadata": {},
          "execution_count": 29
        }
      ]
    },
    {
      "cell_type": "code",
      "source": [
        "\n",
        "num_classes = len(class_names)\n",
        "num_classes"
      ],
      "metadata": {
        "colab": {
          "base_uri": "https://localhost:8080/"
        },
        "id": "MAzPnBucWOVP",
        "outputId": "a0ec51a0-02d1-4e72-9717-bef5463f2b3f"
      },
      "execution_count": 30,
      "outputs": [
        {
          "output_type": "execute_result",
          "data": {
            "text/plain": [
              "2"
            ]
          },
          "metadata": {},
          "execution_count": 30
        }
      ]
    },
    {
      "cell_type": "code",
      "source": [
        "val_ds = image_dataset_from_directory(\n",
        "    DATA_DIR + \"/val\",\n",
        "    shuffle=False,\n",
        "    batch_size=BATCH_SIZE,\n",
        "    image_size=IMG_SIZE\n",
        ")\n",
        "\n"
      ],
      "metadata": {
        "colab": {
          "base_uri": "https://localhost:8080/"
        },
        "id": "B2frcrdwV-Uy",
        "outputId": "b1cbbab7-d9fb-41b9-c89d-99af3162a985"
      },
      "execution_count": 44,
      "outputs": [
        {
          "output_type": "stream",
          "name": "stdout",
          "text": [
            "Found 600 files belonging to 2 classes.\n"
          ]
        }
      ]
    },
    {
      "cell_type": "code",
      "source": [
        "\n",
        "\n",
        "test_ds = image_dataset_from_directory(\n",
        "    DATA_DIR + \"/test\",\n",
        "    shuffle=False,\n",
        "    batch_size=BATCH_SIZE,\n",
        "    image_size=IMG_SIZE\n",
        ")\n"
      ],
      "metadata": {
        "colab": {
          "base_uri": "https://localhost:8080/"
        },
        "id": "M7ytJQyOV7bU",
        "outputId": "b9f80fdc-6437-47b7-f209-1d4aba7488d3"
      },
      "execution_count": 45,
      "outputs": [
        {
          "output_type": "stream",
          "name": "stdout",
          "text": [
            "Found 600 files belonging to 2 classes.\n"
          ]
        }
      ]
    },
    {
      "cell_type": "code",
      "source": [
        "from keras.utils import image_dataset_from_directory\n",
        "from tensorflow.keras.preprocessing.image import ImageDataGenerator\n",
        "from tensorflow import keras\n",
        "data_augment= keras.Sequential(\n",
        "    [\n",
        "        layers.RandomFlip('horizontal'),\n",
        "        layers.RandomRotation(0.1),\n",
        "        layers.RandomZoom(0.3),\n",
        "        layers.RandomFlip('vertical')\n",
        "    ]\n",
        ")"
      ],
      "metadata": {
        "id": "p8k7tF8Vgsvd"
      },
      "execution_count": 46,
      "outputs": []
    },
    {
      "cell_type": "code",
      "source": [
        "from keras.applications.inception_v3 import InceptionV3\n"
      ],
      "metadata": {
        "id": "YMW3rJy1pbKX"
      },
      "execution_count": 34,
      "outputs": []
    },
    {
      "cell_type": "markdown",
      "source": [
        "<!-- # GOOGLENET (INCEPTIONV3) TRAINING ON 1 MILLION IMAGES (TRANSFER LEARNING)\n",
        "\n",
        "# ============================\n",
        "# SETUP\n",
        "# ============================\n",
        "\n",
        "# !pip install tensorflow opencv-python -q\n",
        "\n",
        "# import tensorflow as tf\n",
        "# from tensorflow.keras.applications import InceptionV3\n",
        "# from tensorflow.keras.layers import GlobalAveragePooling2D, Dense\n",
        "# from tensorflow.keras.models import Model\n",
        "# from tensorflow.keras.preprocessing import image_dataset_from_directory\n",
        "# import matplotlib.pyplot as plt\n",
        "\n",
        "# # ============================\n",
        "# # DATASET CONFIGURATION\n",
        "# # ============================\n",
        "\n",
        "# # Adjust path to your root image folder\n",
        "# DATA_DIR = \"/content/drive/MyDrive/Capstone project 2/food_subset_shared_final\"\n",
        "# BATCH_SIZE = 64\n",
        "# IMG_SIZE = (299, 299)  # Required input size for InceptionV3\n",
        "\n",
        "# train_ds = image_dataset_from_directory(\n",
        "#     DATA_DIR + \"/train\",\n",
        "#     shuffle=True,\n",
        "#     batch_size=BATCH_SIZE,\n",
        "#     image_size=IMG_SIZE,\n",
        "#     validation_split=None  # Assuming already pre-split\n",
        "# )\n",
        "\n",
        "# val_ds = image_dataset_from_directory(\n",
        "#     DATA_DIR + \"/val\",\n",
        "#     shuffle=False,\n",
        "#     batch_size=BATCH_SIZE,\n",
        "#     image_size=IMG_SIZE\n",
        "# )\n",
        "\n",
        "# test_ds = image_dataset_from_directory(\n",
        "#     DATA_DIR + \"/test\",\n",
        "#     shuffle=False,\n",
        "#     batch_size=BATCH_SIZE,\n",
        "#     image_size=IMG_SIZE\n",
        "# )\n",
        "\n",
        "# class_names = train_ds.class_names\n",
        "# num_classes = len(class_names) -->"
      ],
      "metadata": {
        "id": "1c8jWZB5pyuv"
      }
    },
    {
      "cell_type": "markdown",
      "source": [
        "# GOOGLENET (INCEPTIONV3) TRAINING ON 1 MILLION IMAGES (TRANSFER LEARNING)\n",
        "\n",
        "============================\n",
        "SETUP\n",
        "============================\n",
        "\n",
        "!pip install tensorflow opencv-python -q\n",
        "\n",
        "import tensorflow as tf\n",
        "from tensorflow.keras.applications import InceptionV3\n",
        "from tensorflow.keras.layers import GlobalAveragePooling2D, Dense\n",
        "from tensorflow.keras.models import Model\n",
        "from tensorflow.keras.preprocessing import image_dataset_from_directory\n",
        "import matplotlib.pyplot as plt\n",
        "\n",
        "# ============================\n",
        "# DATASET CONFIGURATION\n",
        "# ============================\n",
        "\n",
        "# Adjust path to your root image folder\n",
        "DATA_DIR = \"/content/drive/MyDrive/Capstone project 2/food_subset_shared_final\"\n",
        "BATCH_SIZE = 64\n",
        "IMG_SIZE = (299, 299)  # Required input size for InceptionV3\n",
        "\n",
        "train_ds = image_dataset_from_directory(\n",
        "    DATA_DIR + \"/train\",\n",
        "    shuffle=True,\n",
        "    batch_size=BATCH_SIZE,\n",
        "    image_size=IMG_SIZE,\n",
        "    validation_split=None  # Assuming already pre-split\n",
        ")\n",
        "\n",
        "val_ds = image_dataset_from_directory(\n",
        "    DATA_DIR + \"/val\",\n",
        "    shuffle=False,\n",
        "    batch_size=BATCH_SIZE,\n",
        "    image_size=IMG_SIZE\n",
        ")\n",
        "\n",
        "test_ds = image_dataset_from_directory(\n",
        "    DATA_DIR + \"/test\",\n",
        "    shuffle=False,\n",
        "    batch_size=BATCH_SIZE,\n",
        "    image_size=IMG_SIZE\n",
        ")\n",
        "\n",
        "class_names = train_ds.class_names\n",
        "num_classes = len(class_names)\n",
        "\n",
        "============================\n",
        "INCEPTIONV3 (GOOGLENET) TRANSFER LEARNING MODEL\n",
        "============================\n",
        "#don;t use the following since image_from_dataset scales images\n",
        " xtrain=image.img_to_array(train_ds)\n",
        " xtrain=np.expand_dims(xtrain,axis=0)\n",
        " x=preprocess_input(xtrain)\n",
        " xval=preprocess_input(np.arraxy(val_ds))/255.0\n",
        " xtest=preprocess_input(np.array(test_ds))/255.0\n"
      ],
      "metadata": {
        "id": "6o54JdABp7_m"
      }
    },
    {
      "cell_type": "markdown",
      "source": [
        "# scaling\n"
      ],
      "metadata": {
        "id": "tlfTX_-VqBJe"
      }
    },
    {
      "cell_type": "code",
      "source": [
        "from keras.applications.inception_v3 import preprocess_input\n",
        "from keras.preprocessing import image\n",
        "import numpy as np\n",
        "\n",
        "rescaling=keras.Sequential([\n",
        "    layers.Rescaling(1/255.0)\n",
        "])\n",
        "# xtrain=train_ds.map(lambda x,y :(x,y)) when both image and label needed\n",
        "# xtrain=xtrain.map(lambda x,y :(rescaling(x,(y))))\n",
        "xtrain=train_ds.map(lambda x,y: x)\n",
        "xtrain=xtrain.map(lambda x,y:rescaling(x))\n"
      ],
      "metadata": {
        "id": "P-S4PRprqDu2"
      },
      "execution_count": 68,
      "outputs": []
    },
    {
      "cell_type": "code",
      "source": [
        "# xtest = test_ds.map(lambda x, y: (rescaling(x), y))  # ✅ Works\n",
        "\n",
        "xval=val_ds.map(lambda x,y:x)\n",
        "xval=val_ds.map(lambda x,y:rescaling(x))"
      ],
      "metadata": {
        "id": "8QSFcE9i2KGQ"
      },
      "execution_count": 69,
      "outputs": []
    },
    {
      "cell_type": "code",
      "source": [
        "# xtest =test_ds.map(lambda x,y:x,y)\n",
        "xtest=test_ds.map(lambda x,y:(rescaling(x),y))"
      ],
      "metadata": {
        "id": "zrBcMygk03tY"
      },
      "execution_count": 70,
      "outputs": []
    },
    {
      "cell_type": "markdown",
      "source": [
        "# base model inceptionv3"
      ],
      "metadata": {
        "id": "o7NoXzrv2wWo"
      }
    },
    {
      "cell_type": "code",
      "source": [
        "\n",
        "base_model = InceptionV3(include_top=False, weights=\"imagenet\", input_shape=(299, 299, 3))\n",
        "base_model.trainable = False"
      ],
      "metadata": {
        "id": "kqPG1Ijkpw3Z"
      },
      "execution_count": 71,
      "outputs": []
    },
    {
      "cell_type": "markdown",
      "source": [
        "# using predict method fro faster processing"
      ],
      "metadata": {
        "id": "vrff50516Pc-"
      }
    },
    {
      "cell_type": "code",
      "source": [
        "train_pred=base_model.predict(xtrain)\n",
        "val_pred=base_model.predict(xval)\n",
        "test_pred=base_model.predict(xtest)\n"
      ],
      "metadata": {
        "colab": {
          "base_uri": "https://localhost:8080/"
        },
        "id": "xZOGS20i2zHr",
        "outputId": "5b7a54a6-4307-4210-c486-cefeb3ad5c34"
      },
      "execution_count": 73,
      "outputs": [
        {
          "output_type": "stream",
          "name": "stdout",
          "text": [
            "\u001b[1m10/10\u001b[0m \u001b[32m━━━━━━━━━━━━━━━━━━━━\u001b[0m\u001b[37m\u001b[0m \u001b[1m92s\u001b[0m 9s/step\n",
            "\u001b[1m10/10\u001b[0m \u001b[32m━━━━━━━━━━━━━━━━━━━━\u001b[0m\u001b[37m\u001b[0m \u001b[1m91s\u001b[0m 9s/step\n",
            "\u001b[1m10/10\u001b[0m \u001b[32m━━━━━━━━━━━━━━━━━━━━\u001b[0m\u001b[37m\u001b[0m \u001b[1m90s\u001b[0m 9s/step\n"
          ]
        }
      ]
    },
    {
      "cell_type": "markdown",
      "source": [
        "#binary classifier"
      ],
      "metadata": {
        "id": "HpjRZsSv-tZY"
      }
    },
    {
      "cell_type": "code",
      "source": [
        "x = GlobalAveragePooling2D()(base_model.output)\n",
        "# x=layers.Flatten()(x)\n",
        "x = Dense(256, activation='relu')(x)\n",
        "# output = Dense(num_classes, activation='sigmoid')(x)\n",
        "output = Dense(1, activation='sigmoid')(x)\n",
        "\n",
        "model = Model(inputs=base_model.input, outputs=output)\n",
        "\n",
        "model.compile(optimizer='adam', loss='binary_crossentropy', metrics=['accuracy'])"
      ],
      "metadata": {
        "id": "J-Y0Sdx7A9Xy"
      },
      "execution_count": null,
      "outputs": []
    },
    {
      "cell_type": "markdown",
      "source": [
        "#saving model via callback modelcheckpoint"
      ],
      "metadata": {
        "id": "pBhTrIvME7Bn"
      }
    },
    {
      "cell_type": "code",
      "source": [
        "from keras.callbacks import ModelCheckpoint\n",
        "\n",
        "callback1=ModelCheckpoint(\n",
        "    filepath='/content/drive/MyDrive/Capstone project 2/capInception1.h5',\n",
        "    monitor='val_accuracy',\n",
        "    save_best_only=True,\n",
        "    save_weights_only=False,\n",
        "    mode='max' ,#mode='auto' chooses max for when monitor=val_accuracy monitoring only accuracy,\n",
        "               #when monitor = loss we or it chooses mode= min\n",
        "    save_freq='epoch',\n",
        "    verbose=1\n",
        ")\n",
        "\n"
      ],
      "metadata": {
        "id": "IO5eE5k7BB-S"
      },
      "execution_count": 85,
      "outputs": []
    },
    {
      "cell_type": "markdown",
      "source": [
        "#training"
      ],
      "metadata": {
        "id": "sipVclL4FCAv"
      }
    },
    {
      "cell_type": "code",
      "source": [
        "# ============================\n",
        "# TRAINING\n",
        "# ============================\n",
        "\n",
        "EPOCHS = 10\n",
        "history = model.fit(xtrain, validation_data=xval, epochs=EPOCHS,callbacks=[callback1])"
      ],
      "metadata": {
        "colab": {
          "base_uri": "https://localhost:8080/"
        },
        "id": "dqLJa2vt5P9-",
        "outputId": "e04d208d-2b33-4a92-85ef-e0ea023687bd"
      },
      "execution_count": 75,
      "outputs": [
        {
          "output_type": "stream",
          "name": "stdout",
          "text": [
            "Epoch 1/10\n",
            "\u001b[1m10/10\u001b[0m \u001b[32m━━━━━━━━━━━━━━━━━━━━\u001b[0m\u001b[37m\u001b[0m \u001b[1m196s\u001b[0m 20s/step - accuracy: 0.6330 - loss: 0.9786 - val_accuracy: 0.7917 - val_loss: 0.3931\n",
            "Epoch 2/10\n",
            "\u001b[1m10/10\u001b[0m \u001b[32m━━━━━━━━━━━━━━━━━━━━\u001b[0m\u001b[37m\u001b[0m \u001b[1m183s\u001b[0m 19s/step - accuracy: 0.8574 - loss: 0.3030 - val_accuracy: 0.9317 - val_loss: 0.1912\n",
            "Epoch 3/10\n",
            "\u001b[1m10/10\u001b[0m \u001b[32m━━━━━━━━━━━━━━━━━━━━\u001b[0m\u001b[37m\u001b[0m \u001b[1m182s\u001b[0m 19s/step - accuracy: 0.9473 - loss: 0.1437 - val_accuracy: 0.9283 - val_loss: 0.1964\n",
            "Epoch 4/10\n",
            "\u001b[1m10/10\u001b[0m \u001b[32m━━━━━━━━━━━━━━━━━━━━\u001b[0m\u001b[37m\u001b[0m \u001b[1m184s\u001b[0m 19s/step - accuracy: 0.9480 - loss: 0.1339 - val_accuracy: 0.9250 - val_loss: 0.2013\n",
            "Epoch 5/10\n",
            "\u001b[1m10/10\u001b[0m \u001b[32m━━━━━━━━━━━━━━━━━━━━\u001b[0m\u001b[37m\u001b[0m \u001b[1m184s\u001b[0m 19s/step - accuracy: 0.9728 - loss: 0.0838 - val_accuracy: 0.9450 - val_loss: 0.1614\n",
            "Epoch 6/10\n",
            "\u001b[1m10/10\u001b[0m \u001b[32m━━━━━━━━━━━━━━━━━━━━\u001b[0m\u001b[37m\u001b[0m \u001b[1m182s\u001b[0m 19s/step - accuracy: 0.9813 - loss: 0.0701 - val_accuracy: 0.9483 - val_loss: 0.1574\n",
            "Epoch 7/10\n",
            "\u001b[1m10/10\u001b[0m \u001b[32m━━━━━━━━━━━━━━━━━━━━\u001b[0m\u001b[37m\u001b[0m \u001b[1m182s\u001b[0m 19s/step - accuracy: 0.9847 - loss: 0.0539 - val_accuracy: 0.9500 - val_loss: 0.1579\n",
            "Epoch 8/10\n",
            "\u001b[1m10/10\u001b[0m \u001b[32m━━━━━━━━━━━━━━━━━━━━\u001b[0m\u001b[37m\u001b[0m \u001b[1m181s\u001b[0m 19s/step - accuracy: 0.9828 - loss: 0.0552 - val_accuracy: 0.9483 - val_loss: 0.1618\n",
            "Epoch 9/10\n",
            "\u001b[1m10/10\u001b[0m \u001b[32m━━━━━━━━━━━━━━━━━━━━\u001b[0m\u001b[37m\u001b[0m \u001b[1m182s\u001b[0m 19s/step - accuracy: 0.9859 - loss: 0.0437 - val_accuracy: 0.9517 - val_loss: 0.1622\n",
            "Epoch 10/10\n",
            "\u001b[1m10/10\u001b[0m \u001b[32m━━━━━━━━━━━━━━━━━━━━\u001b[0m\u001b[37m\u001b[0m \u001b[1m182s\u001b[0m 19s/step - accuracy: 0.9966 - loss: 0.0292 - val_accuracy: 0.9400 - val_loss: 0.1645\n"
          ]
        }
      ]
    },
    {
      "cell_type": "markdown",
      "source": [
        "#saving the trained model"
      ],
      "metadata": {
        "id": "tEe-unMq59IX"
      }
    },
    {
      "cell_type": "code",
      "source": [
        "# keras.model.save\n",
        "# saved a trial  model.save('cap.h5')\n",
        "model.save('/content/drive/MyDrive/Capstone project 2/capInception1.h5')"
      ],
      "metadata": {
        "colab": {
          "base_uri": "https://localhost:8080/"
        },
        "id": "7CLfH9at5Q7-",
        "outputId": "33e594c9-d90c-4b44-83e9-187ade8afa10"
      },
      "execution_count": 79,
      "outputs": [
        {
          "output_type": "stream",
          "name": "stderr",
          "text": [
            "WARNING:absl:You are saving your model as an HDF5 file via `model.save()` or `keras.saving.save_model(model)`. This file format is considered legacy. We recommend using instead the native Keras format, e.g. `model.save('my_model.keras')` or `keras.saving.save_model(model, 'my_model.keras')`. \n"
          ]
        }
      ]
    },
    {
      "cell_type": "markdown",
      "source": [
        "# evaluate"
      ],
      "metadata": {
        "id": "MfsGBp-w6CMd"
      }
    },
    {
      "cell_type": "code",
      "source": [
        "# ============================\n",
        "# EVALUATE ON TEST SET\n",
        "# ============================\n",
        "\n",
        "test_loss, test_accuracy = model.evaluate(xtest)\n",
        "print(f\"Test Accuracy: {test_accuracy:.4f}\")"
      ],
      "metadata": {
        "id": "Z0cZAgOmExaX"
      },
      "execution_count": null,
      "outputs": []
    },
    {
      "cell_type": "markdown",
      "source": [
        "#plot"
      ],
      "metadata": {
        "id": "qSqMnRq6EzZn"
      }
    },
    {
      "cell_type": "code",
      "execution_count": 78,
      "metadata": {
        "colab": {
          "base_uri": "https://localhost:8080/",
          "height": 508
        },
        "id": "-Qen0qmMvlPP",
        "outputId": "d335b6f5-e231-4485-ba79-ab9da0e08a2c"
      },
      "outputs": [
        {
          "output_type": "stream",
          "name": "stdout",
          "text": [
            "\u001b[1m10/10\u001b[0m \u001b[32m━━━━━━━━━━━━━━━━━━━━\u001b[0m\u001b[37m\u001b[0m \u001b[1m94s\u001b[0m 9s/step - accuracy: 0.9383 - loss: 0.1767\n",
            "Test Accuracy: 0.9417\n"
          ]
        },
        {
          "output_type": "display_data",
          "data": {
            "text/plain": [
              "<Figure size 640x480 with 1 Axes>"
            ],
            "image/png": "[encoded data removed]"
          },
          "metadata": {}
        }
      ],
      "source": [
        "# ============================\n",
        "# PLOT RESULTS\n",
        "# ============================\n",
        "\n",
        "plt.plot(history.history['accuracy'], label='train accuracy')\n",
        "plt.plot(history.history['val_accuracy'], label='val accuracy')\n",
        "plt.title('GoogLeNet (InceptionV3) Transfer Learning')\n",
        "plt.xlabel('Epoch')\n",
        "plt.ylabel('Accuracy')\n",
        "plt.legend()\n",
        "plt.grid(True)\n",
        "plt.show()\n"
      ]
    },
    {
      "cell_type": "code",
      "source": [],
      "metadata": {
        "colab": {
          "base_uri": "https://localhost:8080/"
        },
        "id": "lGCHSZFy5wC6",
        "outputId": "a5fc9526-4833-4e22-ce18-2ee2b2686753"
      },
      "execution_count": 74,
      "outputs": [
        {
          "output_type": "stream",
          "name": "stderr",
          "text": [
            "WARNING:absl:You are saving your model as an HDF5 file via `model.save()` or `keras.saving.save_model(model)`. This file format is considered legacy. We recommend using instead the native Keras format, e.g. `model.save('my_model.keras')` or `keras.saving.save_model(model, 'my_model.keras')`. \n"
          ]
        }
      ]
    }
  ],
  "metadata": {
    "accelerator": "TPU",
    "colab": {
      "gpuType": "V28",
      "provenance": [],
      "authorship_tag": "ABX9TyO+PQpj18FuS53FurJ3nTsK",
      "include_colab_link": true
    },
    "kernelspec": {
      "display_name": "Python 3",
      "name": "python3"
    },
    "language_info": {
      "name": "python"
    }
  },
  "nbformat": 4,
  "nbformat_minor": 0
}